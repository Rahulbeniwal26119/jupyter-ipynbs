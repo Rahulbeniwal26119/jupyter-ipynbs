{
 "cells": [
  {
   "cell_type": "code",
   "execution_count": 14,
   "metadata": {},
   "outputs": [
    {
     "name": "stdout",
     "output_type": "stream",
     "text": [
      "2021-01-01 06:42:12+00:00\n"
     ]
    }
   ],
   "source": [
    "import arrow\n",
    "\n",
    "import dateutil.tz as dtz\n",
    "import pytz\n",
    "import datetime\n",
    "\n",
    "from collections import defaultdict\n",
    "result = defaultdict(list)\n",
    "for name in pytz.all_timezones:\n",
    "    timezone = dtz.gettz(name)\n",
    "    now = datetime.datetime.now(timezone)\n",
    "    offset = now.strftime(\"%z\")\n",
    "    result[offset].append(name)\n",
    "\n",
    "tz= result.get(\"+0530\")[0]\n",
    "\n",
    "# print(result)\n",
    "res = arrow.get(datetime.datetime.strptime(\"2021-01-01 12:12:12\", \"%Y-%m-%d %H:%M:%S\"), tz).to(\"utc\").datetime\n",
    "print(res)"
   ]
  },
  {
   "attachments": {},
   "cell_type": "markdown",
   "metadata": {},
   "source": []
  },
  {
   "cell_type": "code",
   "execution_count": null,
   "metadata": {},
   "outputs": [],
   "source": []
  }
 ],
 "metadata": {
  "kernelspec": {
   "display_name": "Python 3",
   "language": "python",
   "name": "python3"
  },
  "language_info": {
   "codemirror_mode": {
    "name": "ipython",
    "version": 3
   },
   "file_extension": ".py",
   "mimetype": "text/x-python",
   "name": "python",
   "nbconvert_exporter": "python",
   "pygments_lexer": "ipython3",
   "version": "3.11.1"
  },
  "orig_nbformat": 4,
  "vscode": {
   "interpreter": {
    "hash": "930379a8b39fc407f21aba7d78a18ad6c0dff7af07878b7bb9289a4858cd86cf"
   }
  }
 },
 "nbformat": 4,
 "nbformat_minor": 2
}
