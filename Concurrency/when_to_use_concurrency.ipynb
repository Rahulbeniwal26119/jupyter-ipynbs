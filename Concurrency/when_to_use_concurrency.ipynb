{
 "cells": [
  {
   "cell_type": "code",
   "execution_count": 1,
   "metadata": {},
   "outputs": [],
   "source": [
    "ALIVE = '*'\n",
    "EMPTY = '_'\n",
    "\n",
    "class Grid:\n",
    "    def __init__(self, height, width):\n",
    "        self.height = height \n",
    "        self.width = width \n",
    "        self.rows = []\n",
    "        \n",
    "        for _ in range(self.height):\n",
    "            self.rows.append([EMPTY] * self.width)\n",
    "\n",
    "    def get(self, y, x):\n",
    "        return self.rows[y % self.height][x % self.width]\n",
    "    \n",
    "    def set(self, y, x, state):\n",
    "        self.rows[y % self.height][x % self.width] = state \n",
    "    \n",
    "    def __str__(self):\n",
    "        for i in range(self.height):\n",
    "            for j in range(self.width):\n",
    "                print(self.rows[i][j], end='')\n",
    "            print()\n",
    "        return '' \n",
    "\n",
    "def count_neighbour(y, x, get):\n",
    "    n_  = get(y -1 , x)\n",
    "    ne = get(y-1, x + 1)\n",
    "    e_ = get(y, x + 1)\n",
    "    se = get(y + 1, x + 1)\n",
    "    s_ = get(y + 1, x)\n",
    "    sw = get(y + 1, x - 1)\n",
    "    w_ = get(y, x-1)\n",
    "    nw = get(y-1, x - 1)\n",
    "    neighbour_states = [n_ ,ne, s_, se, s_, sw, w_, nw] \n",
    "    count = 0 \n",
    "    for state in neighbour_states:\n",
    "        if state == ALIVE:\n",
    "            count += 1\n",
    "    return count \n",
    "\n",
    "def game_logic(state, neighbour):\n",
    "    if state == ALIVE:\n",
    "        if neighbour < 2:\n",
    "            return EMPTY\n",
    "        elif neighbour > 3:\n",
    "            return EMPTY\n",
    "    else:\n",
    "        if neighbour == 3:\n",
    "            return ALIVE \n",
    "    return state\n",
    "\n",
    "def step_cell(y, x, get, set):\n",
    "    state = get(y, x)\n",
    "    neighbours = count_neighbour(y, x, get)\n",
    "    next_state = game_logic(state, neighbours)\n",
    "    set(y, x, next_state)\n",
    "    \n",
    "def simulate(grid):\n",
    "    next_grid = Grid(grid.height, grid.width)\n",
    "    for y in range(grid.height):\n",
    "        for x in range(grid.width):\n",
    "            step_cell(y, x, grid.get, next_grid.set)\n",
    "    return next_grid "
   ]
  },
  {
   "cell_type": "code",
   "execution_count": 2,
   "metadata": {},
   "outputs": [
    {
     "name": "stdout",
     "output_type": "stream",
     "text": [
      "___*_____\n",
      "____*____\n",
      "__***____\n",
      "_________\n",
      "_________\n",
      "\n"
     ]
    }
   ],
   "source": [
    "grid = Grid(5, 9)\n",
    "grid.set(0, 3, ALIVE)\n",
    "grid.set(1, 4, ALIVE)\n",
    "grid.set(2, 2, ALIVE)\n",
    "grid.set(2, 3, ALIVE)\n",
    "grid.set(2, 4, ALIVE)\n",
    "print(grid)\n"
   ]
  },
  {
   "cell_type": "code",
   "execution_count": 3,
   "metadata": {},
   "outputs": [
    {
     "name": "stdout",
     "output_type": "stream",
     "text": [
      "___*_____\n",
      "____*____\n",
      "__***____\n",
      "_________\n",
      "_________\n",
      "\n",
      "____*____\n",
      "_________\n",
      "___**____\n",
      "___*_____\n",
      "_________\n",
      "\n",
      "_________\n",
      "_________\n",
      "___**____\n",
      "___**____\n",
      "____*____\n",
      "\n",
      "_________\n",
      "___**____\n",
      "___*_____\n",
      "___*_*___\n",
      "____*____\n",
      "\n",
      "_________\n",
      "___**____\n",
      "_____*___\n",
      "___*_____\n",
      "____*____\n",
      "\n"
     ]
    }
   ],
   "source": [
    "for i in range(5):\n",
    "    print(grid)\n",
    "    grid = simulate(grid)"
   ]
  },
  {
   "cell_type": "code",
   "execution_count": 4,
   "metadata": {},
   "outputs": [],
   "source": [
    "from threading import Lock \n",
    "\n",
    "\n",
    "class LockingGrid(Grid):\n",
    "    def __init__(self, height, width):\n",
    "        super().__init__(height, width)\n",
    "        self.lock = Lock()\n",
    "    \n",
    "    def __str__(self):\n",
    "        with self.lock:\n",
    "            return super().__str__()\n",
    "    \n",
    "    def get(self, y, x):\n",
    "        with self.lock:\n",
    "            return super().get(y, x)\n",
    "    \n",
    "    def set(self, y, x, state):\n",
    "        with self.lock:\n",
    "            return super().set(y, x, state)\n",
    "\n"
   ]
  },
  {
   "cell_type": "code",
   "execution_count": 5,
   "metadata": {},
   "outputs": [
    {
     "name": "stdout",
     "output_type": "stream",
     "text": [
      "___*_____\n",
      "____*____\n",
      "__***____\n",
      "_________\n",
      "_________\n",
      "\n"
     ]
    }
   ],
   "source": [
    "from threading import Thread\n",
    "\n",
    "\n",
    "def simulate_threaded(grid):\n",
    "    next_grid = LockingGrid(grid.height, grid.weight)\n",
    "    threads = []\n",
    "    \n",
    "    for y in range(grid.height):\n",
    "        for x in range(grid.width):\n",
    "            args = (y, x, grid.get, grid.set)\n",
    "            thread = Thread(target=step_cell, args=args)\n",
    "            thread.start() # Fan Out Process \n",
    "            threads.append(thread)\n",
    "    \n",
    "    for thread in threads:\n",
    "        thread.join() # Fan in \n",
    "    \n",
    "    return next_grid\n",
    "        \n",
    "grid = LockingGrid(5, 9)\n",
    "grid.set(0, 3, ALIVE)\n",
    "grid.set(1, 4, ALIVE)\n",
    "grid.set(2, 2, ALIVE)\n",
    "grid.set(2, 3, ALIVE)\n",
    "grid.set(2, 4, ALIVE)\n",
    "print(grid)\n"
   ]
  },
  {
   "cell_type": "code",
   "execution_count": 6,
   "metadata": {},
   "outputs": [
    {
     "name": "stdout",
     "output_type": "stream",
     "text": [
      "___*_____\n",
      "____*____\n",
      "__***____\n",
      "_________\n",
      "_________\n",
      "\n",
      "____*____\n",
      "_________\n",
      "___**____\n",
      "___*_____\n",
      "_________\n",
      "\n",
      "_________\n",
      "_________\n",
      "___**____\n",
      "___**____\n",
      "____*____\n",
      "\n",
      "_________\n",
      "___**____\n",
      "___*_____\n",
      "___*_*___\n",
      "____*____\n",
      "\n",
      "_________\n",
      "___**____\n",
      "_____*___\n",
      "___*_____\n",
      "____*____\n",
      "\n"
     ]
    }
   ],
   "source": [
    "for i in range(5):\n",
    "    print(grid)\n",
    "    grid = simulate(grid)"
   ]
  },
  {
   "cell_type": "code",
   "execution_count": null,
   "metadata": {},
   "outputs": [],
   "source": []
  },
  {
   "cell_type": "code",
   "execution_count": 7,
   "metadata": {},
   "outputs": [
    {
     "ename": "NameError",
     "evalue": "name 'count' is not defined",
     "output_type": "error",
     "traceback": [
      "\u001b[0;31m---------------------------------------------------------------------------\u001b[0m",
      "\u001b[0;31mNameError\u001b[0m                                 Traceback (most recent call last)",
      "\u001b[1;32m/home/rahulbeniwal/personal/jupyter-ipynbs/Concurrency/when_to_use_concurrency.ipynb Cell 8\u001b[0m in \u001b[0;36m<cell line: 1>\u001b[0;34m()\u001b[0m\n\u001b[0;32m----> <a href='vscode-notebook-cell:/home/rahulbeniwal/personal/jupyter-ipynbs/Concurrency/when_to_use_concurrency.ipynb#X10sZmlsZQ%3D%3D?line=0'>1</a>\u001b[0m count\n",
      "\u001b[0;31mNameError\u001b[0m: name 'count' is not defined"
     ]
    }
   ],
   "source": []
  }
 ],
 "metadata": {
  "kernelspec": {
   "display_name": "Python 3.10.6 64-bit",
   "language": "python",
   "name": "python3"
  },
  "language_info": {
   "codemirror_mode": {
    "name": "ipython",
    "version": 3
   },
   "file_extension": ".py",
   "mimetype": "text/x-python",
   "name": "python",
   "nbconvert_exporter": "python",
   "pygments_lexer": "ipython3",
   "version": "3.10.6"
  },
  "orig_nbformat": 4,
  "vscode": {
   "interpreter": {
    "hash": "916dbcbb3f70747c44a77c7bcd40155683ae19c65e1c03b4aa3499c5328201f1"
   }
  }
 },
 "nbformat": 4,
 "nbformat_minor": 2
}
