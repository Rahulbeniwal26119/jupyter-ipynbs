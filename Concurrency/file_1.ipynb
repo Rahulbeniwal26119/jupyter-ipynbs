{
 "cells": [
  {
   "cell_type": "code",
   "execution_count": null,
   "metadata": {},
   "outputs": [],
   "source": [
    "import subprocess\n",
    "\n",
    "result = subprocess.run(\n",
    "    ['echo', '-e', 'Hello from child']\n",
    ")\n",
    "\n",
    "result.check_returncode()\n",
    "print(result.stdout)"
   ]
  },
  {
   "cell_type": "markdown",
   "metadata": {},
   "source": []
  },
  {
   "cell_type": "code",
   "execution_count": null,
   "metadata": {},
   "outputs": [],
   "source": [
    "result.check_returncode()"
   ]
  },
  {
   "cell_type": "code",
   "execution_count": null,
   "metadata": {},
   "outputs": [],
   "source": [
    "print(result.stdout)"
   ]
  },
  {
   "cell_type": "code",
   "execution_count": null,
   "metadata": {},
   "outputs": [],
   "source": [
    "proc = subprocess.Popen(['sleep', '10'])\n",
    "while proc.poll() is None:\n",
    "    pass \n"
   ]
  },
  {
   "cell_type": "code",
   "execution_count": null,
   "metadata": {},
   "outputs": [],
   "source": [
    "import time \n",
    "\n",
    "start = time.time()\n",
    "sleep_procs = []\n",
    "\n",
    "for _ in range(10):\n",
    "    proc = subprocess.Popen(['sleep', '1'])\n",
    "    sleep_procs.append(proc)\n",
    "\n",
    "    "
   ]
  },
  {
   "cell_type": "code",
   "execution_count": null,
   "metadata": {},
   "outputs": [],
   "source": [
    "for proc in sleep_procs:\n",
    "    proc.communicate()\n",
    "end = time.time()\n",
    "\n",
    "print(end - start)"
   ]
  },
  {
   "cell_type": "code",
   "execution_count": null,
   "metadata": {},
   "outputs": [],
   "source": [
    "import os \n",
    "def run_encryt(data):\n",
    "    env = os.environ.copy()\n",
    "    env['password'] = 'zf7ShyBhZOraQDdE/FiZpm/m/8f9X+M1'\n",
    "    proc = subprocess.Popen(\n",
    "        ['openssl', 'enc', '-des3', '-pass', 'env:password'],\n",
    "        env=env,\n",
    "        stdin=subprocess.PIPE,\n",
    "        stdout=subprocess.PIPE,\n",
    "    )\n",
    "    proc.stdin.write(data)\n",
    "    return proc "
   ]
  },
  {
   "cell_type": "code",
   "execution_count": null,
   "metadata": {},
   "outputs": [],
   "source": [
    "procs = []\n",
    "for _ in range(3):\n",
    "    data = os.urandom(10)\n",
    "    proc = run_encryt(data)\n",
    "    procs.append(proc)\n"
   ]
  },
  {
   "cell_type": "code",
   "execution_count": null,
   "metadata": {},
   "outputs": [],
   "source": [
    "for proc in procs:\n",
    "    out, _ = proc.communicate()\n",
    "    print(out[:])\n",
    "# print(help(proc.communicate))"
   ]
  },
  {
   "cell_type": "code",
   "execution_count": null,
   "metadata": {},
   "outputs": [],
   "source": [
    "def run_hash(input_stdin):\n",
    "    return subprocess.Popen(\n",
    "        ['openssl', 'dgst', '-sha256', '-binary'],\n",
    "        stdin=input_stdin,\n",
    "        stdout=subprocess.PIPE\n",
    "    )"
   ]
  },
  {
   "cell_type": "code",
   "execution_count": null,
   "metadata": {},
   "outputs": [],
   "source": [
    "encr_procs = []\n",
    "hash_procs = []\n",
    "\n",
    "for _ in range(3):\n",
    "    data = os.urandom(100)\n",
    "    \n",
    "    encrypt_proc = run_encryt(data)\n",
    "    encr_procs.append(encrypt_proc)\n",
    "    \n",
    "    hash_proc = run_hash(encrypt_proc.stdout)\n",
    "    hash_procs.append(hash_proc)\n",
    "    \n",
    "    encrypt_proc.stdout.close()\n",
    "    encrypt_proc.stdout = None\n",
    "    \n",
    "for proc in encr_procs:\n",
    "    out, _ = proc.communicate()\n",
    "    # print(out)\n",
    "    assert proc.returncode == 0\n",
    "    \n",
    "for proc in hash_procs:\n",
    "    out, _ = proc.communicate()\n",
    "    print(out)\n",
    "    assert proc.returncode == 0"
   ]
  },
  {
   "cell_type": "code",
   "execution_count": null,
   "metadata": {},
   "outputs": [],
   "source": [
    "proc =subprocess.Popen(['sleep', '10'])\n",
    "\n",
    "try:\n",
    "    proc.communicate(timeout=0.1)\n",
    "except subprocess.TimeoutExpired:\n",
    "    proc.terminate()\n",
    "    proc.wait()\n",
    "\n",
    "print('Exit status', proc.poll())\n"
   ]
  },
  {
   "cell_type": "code",
   "execution_count": null,
   "metadata": {},
   "outputs": [],
   "source": [
    "subprocess.run(\n",
    "    ['echo', '-n', 'Hello from the child'],\n",
    "    capture_output = True, \n",
    "    encoding='utf-8'\n",
    ").stdout\n"
   ]
  },
  {
   "cell_type": "code",
   "execution_count": null,
   "metadata": {},
   "outputs": [],
   "source": [
    "def factorize(numbers):\n",
    "    for i in range(1, numbers + 1):\n",
    "        if numbers % i == 0:\n",
    "            yield i\n"
   ]
  },
  {
   "cell_type": "code",
   "execution_count": null,
   "metadata": {},
   "outputs": [],
   "source": [
    "numbers = [2139079, 1214759, 1516637, 1852285]\n",
    "start = time.time()\n",
    "\n",
    "for number in numbers:\n",
    "    list(factorize(number))\n",
    "    \n",
    "end = time.time()\n",
    "\n",
    "delta = end - start\n",
    "print(f\"Took {delta:.3f} seconds\")"
   ]
  },
  {
   "cell_type": "code",
   "execution_count": null,
   "metadata": {},
   "outputs": [],
   "source": [
    "from threading import Thread\n",
    "\n",
    "class FactorizeThread(Thread):\n",
    "    def __init__(self, number):\n",
    "        super().__init__()\n",
    "        self.number = number \n",
    "\n",
    "    def run(self):\n",
    "        self.factors = list(factorize(self.number))\n",
    "        "
   ]
  },
  {
   "cell_type": "code",
   "execution_count": null,
   "metadata": {},
   "outputs": [],
   "source": [
    "start = time.time()\n",
    "\n",
    "threads = []\n",
    "for number in numbers:\n",
    "    thread = FactorizeThread(number)\n",
    "    thread.start()\n",
    "    threads.append(thread)\n",
    "\n",
    "for thread in threads:\n",
    "    thread.join()\n",
    "    \n",
    "end = time.time()\n",
    "delta = end - start\n",
    "print(f\"Took {delta:.3f} seconds\")"
   ]
  },
  {
   "cell_type": "code",
   "execution_count": null,
   "metadata": {},
   "outputs": [],
   "source": [
    "import socket, select \n",
    "\n",
    "def slow_systemcall():\n",
    "    print(\"sleeping\")\n",
    "    select.select([socket.socket()], [],[], 1)\n",
    "\n",
    "start = time.time()\n",
    "\n",
    "for _ in range(5):\n",
    "    slow_systemcall()\n",
    "\n",
    "end = time.time()\n",
    "print(f\"Took {end - start:.3f} seconds\")\n",
    "\n",
    "# this method will keep GIL to block the main execution thread"
   ]
  },
  {
   "cell_type": "code",
   "execution_count": null,
   "metadata": {},
   "outputs": [],
   "source": [
    "start = time.time()\n",
    "threads = []\n",
    "for _ in range(5):\n",
    "    thread = Thread(target=slow_systemcall)\n",
    "    thread.start()\n",
    "    threads.append(thread)\n",
    "\n",
    "\n",
    "def compute_helicopter_location(index):\n",
    "    return index * 0.5\n",
    "\n",
    "for i in range(5):\n",
    "    compute_helicopter_location(i)\n",
    "\n",
    "for thread in threads:\n",
    "    thread.join()\n",
    "\n",
    "end = time.time()\n",
    "print(f\"Took {end - start:.3f} seconds\")"
   ]
  },
  {
   "cell_type": "markdown",
   "metadata": {},
   "source": [
    "##### all systemcalls will run in parallel with main thread\n",
    "    Python threads can’t run in parallel on multiple CPU cores because of the global interpreter lock (GIL)"
   ]
  },
  {
   "cell_type": "code",
   "execution_count": null,
   "metadata": {},
   "outputs": [],
   "source": [
    "class Counter:\n",
    "    def __init__(self):\n",
    "        self.count = 0\n",
    "\n",
    "    def increments(self, offset):\n",
    "        self.count += offset"
   ]
  },
  {
   "cell_type": "code",
   "execution_count": null,
   "metadata": {},
   "outputs": [],
   "source": [
    "def worker(sensor_index, how_many, counter):\n",
    "    for _ in range(how_many):\n",
    "        counter.increments(1)"
   ]
  },
  {
   "cell_type": "code",
   "execution_count": null,
   "metadata": {},
   "outputs": [],
   "source": [
    "from threading import Thread  \n",
    "\n",
    "how_many = 10 ** 5 \n",
    "counter = Counter()\n",
    "\n",
    "threads = []\n",
    "for i in range(5):\n",
    "    thread = Thread(target=worker,\n",
    "                    args=(i, how_many, counter))\n",
    "    threads.append(thread)\n",
    "    thread.start()\n",
    "\n",
    "for thread in threads:\n",
    "    thread.join()\n",
    "    \n",
    "expected = 10 ** 5 * 5\n",
    "found = counter.count \n",
    "print(f\"Counter should be {expected}, found {found}\")"
   ]
  },
  {
   "cell_type": "code",
   "execution_count": null,
   "metadata": {},
   "outputs": [],
   "source": [
    "from threading import Thread\n",
    "import socket \n",
    "\n",
    "def run_server(host=\"localhost\", port=33333):\n",
    "    sock = socket.socket()\n",
    "    sock.setsockopt(socket.SOL_SOCKET, socket.SO_REUSEADDR, 1)\n",
    "    sock.bind((host, port))\n",
    "    sock.listen()\n",
    "    \n",
    "    while True:\n",
    "        client_sock, addr = sock.accept()\n",
    "        print(\"Connection from \", addr)\n",
    "        Thread(target=handle_client, args=(client_sock,)).start()\n",
    "\n",
    "\n",
    "def handle_client(sock):\n",
    "    print(sock)\n",
    "    while True:\n",
    "        received_data = sock.recv(4096)\n",
    "        if not received_data:\n",
    "            break\n",
    "        sock.sendall(received_data)\n",
    "        \n",
    "    print(\"Client disconnected:\", sock.getpeername())\n",
    "    sock.close()\n",
    "    \n",
    "def compute():\n",
    "    n = 0\n",
    "    while True:\n",
    "        n+=1\n",
    "        n-=1\n",
    "\n",
    "Thread(target=compute).start()\n",
    "run_server()"
   ]
  },
  {
   "cell_type": "code",
   "execution_count": null,
   "metadata": {},
   "outputs": [],
   "source": [
    "# python is single threaded so performance will down to 300 times \n",
    "\n",
    "from multiprocessing import Process\n",
    "\n",
    "# Process(target=compute).start()\n",
    "run_server(port=8081)"
   ]
  },
  {
   "cell_type": "code",
   "execution_count": null,
   "metadata": {},
   "outputs": [],
   "source": []
  },
  {
   "cell_type": "code",
   "execution_count": null,
   "metadata": {},
   "outputs": [],
   "source": [
    "# sys.setswitchinterval(1)\n",
    "from threading import Thread "
   ]
  },
  {
   "cell_type": "code",
   "execution_count": null,
   "metadata": {},
   "outputs": [],
   "source": [
    "Thread(target=lambda : print(\"Hello\")).start().join()\n",
    "while True:\n",
    "    print(\"Hello\")"
   ]
  },
  {
   "cell_type": "code",
   "execution_count": null,
   "metadata": {},
   "outputs": [],
   "source": []
  }
 ],
 "metadata": {
  "kernelspec": {
   "display_name": "Python 3.10.6 64-bit",
   "language": "python",
   "name": "python3"
  },
  "language_info": {
   "codemirror_mode": {
    "name": "ipython",
    "version": 3
   },
   "file_extension": ".py",
   "mimetype": "text/x-python",
   "name": "python",
   "nbconvert_exporter": "python",
   "pygments_lexer": "ipython3",
   "version": "3.10.6"
  },
  "orig_nbformat": 4,
  "vscode": {
   "interpreter": {
    "hash": "916dbcbb3f70747c44a77c7bcd40155683ae19c65e1c03b4aa3499c5328201f1"
   }
  }
 },
 "nbformat": 4,
 "nbformat_minor": 2
}
