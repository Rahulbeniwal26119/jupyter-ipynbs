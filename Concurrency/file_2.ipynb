{
 "cells": [
  {
   "cell_type": "code",
   "execution_count": null,
   "metadata": {},
   "outputs": [],
   "source": [
    "from threading import Thread\n",
    "target = lambda: print('Hello World')\n",
    "th = Thread(target=target)\n",
    "help(th.join)"
   ]
  },
  {
   "cell_type": "code",
   "execution_count": null,
   "metadata": {},
   "outputs": [],
   "source": [
    "# counter.count += 1\n",
    "# value = getattr(counter, 'count')\n",
    "# result = value + 1\n",
    "# setattr(counter, 'count', result)\n",
    "\n",
    "def fn(): pass \n",
    "fn.value = 100"
   ]
  },
  {
   "cell_type": "code",
   "execution_count": null,
   "metadata": {},
   "outputs": [],
   "source": [
    "fn.value "
   ]
  },
  {
   "cell_type": "code",
   "execution_count": null,
   "metadata": {},
   "outputs": [],
   "source": [
    "setattr(fn, 'value', 1000)\n",
    "fn.value "
   ]
  },
  {
   "cell_type": "code",
   "execution_count": null,
   "metadata": {},
   "outputs": [],
   "source": [
    "def worker(how_many, count):\n",
    "    for _ in range(how_many):\n",
    "        count.count += 1"
   ]
  },
  {
   "cell_type": "code",
   "execution_count": null,
   "metadata": {},
   "outputs": [],
   "source": [
    "from threading import Lock, Thread\n",
    "from multiprocessing import Process\n",
    "\n",
    "class LockingCounter:\n",
    "    def __init__(self):\n",
    "        self.lock = Lock()\n",
    "        self.count = 0\n",
    "    \n",
    "    def increment(self, offset):\n",
    "        with self.lock:\n",
    "            self.count += offset\n",
    "\n",
    "counter = LockingCounter()\n",
    "threads = []\n",
    "for i in range(50000):\n",
    "    thread = Process(target=counter.increment, args=(1,))\n",
    "    threads.append(thread)\n",
    "    thread.start()\n"
   ]
  },
  {
   "cell_type": "code",
   "execution_count": 28,
   "metadata": {},
   "outputs": [],
   "source": [
    "from time import sleep\n",
    "\n",
    "\n",
    "def download(item):\n",
    "    sleep(1/2)\n",
    "    print(\"download\", item)\n",
    "    # return item\n",
    "\n",
    "def resize(item):\n",
    "    sleep(1/2)\n",
    "    print(\"resize\", item)\n",
    "    # return item\n",
    "\n",
    "def upload(item):\n",
    "    sleep(1/2)\n",
    "    print(\"upload\", item)\n",
    "    # return item  "
   ]
  },
  {
   "cell_type": "code",
   "execution_count": 29,
   "metadata": {},
   "outputs": [],
   "source": [
    "# THREAD SAFE producer - consumer queue \n",
    "from collections import deque \n",
    "from threading import Thread, Lock\n",
    "\n",
    "class MyQueue:\n",
    "    def __init__(self):\n",
    "        self.items = deque()\n",
    "        self.lock = Lock()\n",
    "\n",
    "    def put(self, item):\n",
    "        with self.lock:\n",
    "            self.items.append(item)\n",
    "    \n",
    "    def get(self):\n",
    "        with self.lock:\n",
    "            return self.items.popleft()"
   ]
  },
  {
   "cell_type": "code",
   "execution_count": 46,
   "metadata": {},
   "outputs": [],
   "source": [
    "from threading import Thread \n",
    "import time \n",
    "\n",
    "\n",
    "class Worker(Thread):\n",
    "    def __init__(self, func, in_queue, out_queue):\n",
    "        super().__init__()\n",
    "        self.func = func\n",
    "        self.in_queue = in_queue\n",
    "        self.out_queue = out_queue \n",
    "        self.polled_count = 0\n",
    "        self.work_done = 0 \n",
    "        \n",
    "    def run(self):\n",
    "        while True and self.polled_count < 2000:\n",
    "            self.polled_count += 1\n",
    "            try:\n",
    "                item = self.in_queue.get()\n",
    "            except IndexError:\n",
    "                time.sleep(0.01) # no work to do \n",
    "            else:\n",
    "                result = self.func(item)\n",
    "                self.out_queue.put(result)\n",
    "                self.work_done += 1\n",
    "                "
   ]
  },
  {
   "cell_type": "code",
   "execution_count": 47,
   "metadata": {},
   "outputs": [],
   "source": [
    "download_queue = MyQueue()\n",
    "resize_queue = MyQueue()\n",
    "upload_queue = MyQueue()\n",
    "\n",
    "done_queue = MyQueue()\n",
    "\n",
    "threads = [\n",
    "    Worker(download, download_queue, resize_queue),\n",
    "    Worker(resize, resize_queue, upload_queue),\n",
    "    Worker(upload, upload_queue, done_queue)\n",
    "]\n",
    "\n"
   ]
  },
  {
   "cell_type": "code",
   "execution_count": 50,
   "metadata": {},
   "outputs": [
    {
     "name": "stdout",
     "output_type": "stream",
     "text": [
      ".deque([])\n",
      "deque([])\n",
      "deque([None, None, None, None, None, None, None, None, None, None])\n",
      "[2000, 2000, 2000]\n"
     ]
    }
   ],
   "source": [
    "# for thread in threads:\n",
    "#     print(thread)\n",
    "#     thread.start()\n",
    "    \n",
    "# for _ in range(10):\n",
    "#     download_queue.put(object())\n",
    "\n",
    "print(\".\", end='')\n",
    "print(resize_queue.items)\n",
    "print(upload_queue.items)\n",
    "print(done_queue.items)\n",
    "\n",
    "print([t.polled_count for t in threads])"
   ]
  },
  {
   "cell_type": "code",
   "execution_count": null,
   "metadata": {},
   "outputs": [],
   "source": []
  },
  {
   "cell_type": "code",
   "execution_count": null,
   "metadata": {},
   "outputs": [],
   "source": []
  }
 ],
 "metadata": {
  "kernelspec": {
   "display_name": "Python 3.10.6 64-bit",
   "language": "python",
   "name": "python3"
  },
  "language_info": {
   "codemirror_mode": {
    "name": "ipython",
    "version": 3
   },
   "file_extension": ".py",
   "mimetype": "text/x-python",
   "name": "python",
   "nbconvert_exporter": "python",
   "pygments_lexer": "ipython3",
   "version": "3.10.6"
  },
  "orig_nbformat": 4,
  "vscode": {
   "interpreter": {
    "hash": "916dbcbb3f70747c44a77c7bcd40155683ae19c65e1c03b4aa3499c5328201f1"
   }
  }
 },
 "nbformat": 4,
 "nbformat_minor": 2
}
