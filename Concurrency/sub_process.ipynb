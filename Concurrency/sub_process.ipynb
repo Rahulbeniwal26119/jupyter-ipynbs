{
 "cells": [
  {
   "cell_type": "code",
   "execution_count": 2,
   "metadata": {},
   "outputs": [
    {
     "data": {
      "text/plain": [
       "'Hello from the child!\\n'"
      ]
     },
     "execution_count": 2,
     "metadata": {},
     "output_type": "execute_result"
    }
   ],
   "source": [
    "import subprocess\n",
    "\n",
    "result = subprocess.run(\n",
    "    ['echo', 'Hello from the child!'],\n",
    "    capture_output=True,\n",
    "    encoding='utf-8'\n",
    ")\n",
    "result.check_returncode()\n",
    "result.stdout"
   ]
  },
  {
   "cell_type": "code",
   "execution_count": 8,
   "metadata": {},
   "outputs": [],
   "source": [
    "import sys\n",
    "sys.set_int_max_str_digits(10000)"
   ]
  },
  {
   "cell_type": "code",
   "execution_count": 12,
   "metadata": {},
   "outputs": [
    {
     "name": "stdout",
     "output_type": "stream",
     "text": [
      "working...\n",
      "Done\n",
      "working...\n",
      "Done\n"
     ]
    }
   ],
   "source": [
    "proc = subprocess.Popen(['sleep', '2'])\n",
    "while proc.poll() is None:\n",
    "    print(\"working...\")\n",
    "    from time import sleep\n",
    "    sleep(1)\n",
    "    print(\"Done\")"
   ]
  },
  {
   "cell_type": "code",
   "execution_count": 4,
   "metadata": {},
   "outputs": [],
   "source": [
    "import time, subprocess\n",
    "sleep_procs = []\n",
    "\n",
    "start = time.time()\n",
    "for _ in range(20):\n",
    "    proc = subprocess.Popen(['sleep', '2'])\n",
    "    sleep_procs.append(proc)\n",
    "for proc in sleep_procs:\n",
    "    proc.communicate()"
   ]
  },
  {
   "cell_type": "code",
   "execution_count": 6,
   "metadata": {},
   "outputs": [
    {
     "name": "stdout",
     "output_type": "stream",
     "text": [
      "b'Salted__\\xee\\x82\\x13gE\\x17\\xd6\\xc9\\xaf~\\xde\\x98N\\xe6\\x8f\\xcf\\xd9 \\xa1\\xec\\x8d:\\xca\\x18' None\n",
      "b'Salted__.?\\x92\\xbc\\x14\\xfa\\x1bAMV\\xa7v\\xee\\x1d\\x94\\xbc\\xd7\\xc3\\x9c\\x17\\xa2\\x1f\\x1a\\xf9' None\n",
      "b'Salted__\\xacOqF\\xaa\\xdc\\xffs\\x0e\\xca\\xf0\\x13\\x07\\xd6\\xa8j\\xea\\x7f\\xd8\\xaf\\x91c\\x9f\\x8e' None\n"
     ]
    },
    {
     "name": "stderr",
     "output_type": "stream",
     "text": [
      "*** WARNING : deprecated key derivation used.\n",
      "Using -iter or -pbkdf2 would be better.\n",
      "*** WARNING : deprecated key derivation used.\n",
      "Using -iter or -pbkdf2 would be better.\n",
      "*** WARNING : deprecated key derivation used.\n",
      "Using -iter or -pbkdf2 would be better.\n"
     ]
    }
   ],
   "source": [
    "import os, subprocess\n",
    "\n",
    "def run_encrypt(data):\n",
    "    env = os.environ.copy()\n",
    "    env['password'] = '123456'\n",
    "    proc = subprocess.Popen(['openssl', 'enc', '-des3','-pass', 'env:password'],\n",
    "                            env=env,\n",
    "                            stdin=subprocess.PIPE,\n",
    "                            stdout=subprocess.PIPE)\n",
    "    proc.stdin.write(data)\n",
    "    proc.stdin.flush()\n",
    "    return proc\n",
    "\n",
    "procs = []\n",
    "\n",
    "for _ in range(3):\n",
    "    data = os.urandom(10)\n",
    "    proc = run_encrypt(data)\n",
    "    procs.append(proc)\n",
    "\n",
    "for proc in procs:\n",
    "    out, inp = proc.communicate()\n",
    "    print(out, inp)"
   ]
  },
  {
   "cell_type": "code",
   "execution_count": 29,
   "metadata": {},
   "outputs": [
    {
     "name": "stderr",
     "output_type": "stream",
     "text": [
      "*** WARNING : deprecated key derivation used.\n",
      "Using -iter or -pbkdf2 would be better.\n"
     ]
    },
    {
     "name": "stdout",
     "output_type": "stream",
     "text": [
      "encrypt_procs [<Popen: returncode: None args: ['openssl', 'enc', '-des3', '-pass', 'env:pas...>]\n"
     ]
    },
    {
     "ename": "KeyboardInterrupt",
     "evalue": "",
     "output_type": "error",
     "traceback": [
      "\u001b[0;31m---------------------------------------------------------------------------\u001b[0m",
      "\u001b[0;31mKeyboardInterrupt\u001b[0m                         Traceback (most recent call last)",
      "Cell \u001b[0;32mIn[29], line 43\u001b[0m\n\u001b[1;32m     41\u001b[0m \u001b[39mprint\u001b[39m(\u001b[39m\"\u001b[39m\u001b[39mencrypt_procs\u001b[39m\u001b[39m\"\u001b[39m, encrypt_procs)\n\u001b[1;32m     42\u001b[0m \u001b[39mfor\u001b[39;00m proc \u001b[39min\u001b[39;00m encrypt_procs:\n\u001b[0;32m---> 43\u001b[0m     proc\u001b[39m.\u001b[39;49mwait()\n\u001b[1;32m     44\u001b[0m     \u001b[39m# proc.wait()\u001b[39;00m\n\u001b[1;32m     45\u001b[0m     \u001b[39massert\u001b[39;00m proc\u001b[39m.\u001b[39mreturncode \u001b[39m==\u001b[39m \u001b[39m0\u001b[39m\n",
      "File \u001b[0;32m~/.pyenv/versions/3.11.1/lib/python3.11/subprocess.py:1262\u001b[0m, in \u001b[0;36mPopen.wait\u001b[0;34m(self, timeout)\u001b[0m\n\u001b[1;32m   1260\u001b[0m     endtime \u001b[39m=\u001b[39m _time() \u001b[39m+\u001b[39m timeout\n\u001b[1;32m   1261\u001b[0m \u001b[39mtry\u001b[39;00m:\n\u001b[0;32m-> 1262\u001b[0m     \u001b[39mreturn\u001b[39;00m \u001b[39mself\u001b[39;49m\u001b[39m.\u001b[39;49m_wait(timeout\u001b[39m=\u001b[39;49mtimeout)\n\u001b[1;32m   1263\u001b[0m \u001b[39mexcept\u001b[39;00m \u001b[39mKeyboardInterrupt\u001b[39;00m:\n\u001b[1;32m   1264\u001b[0m     \u001b[39m# https://bugs.python.org/issue25942\u001b[39;00m\n\u001b[1;32m   1265\u001b[0m     \u001b[39m# The first keyboard interrupt waits briefly for the child to\u001b[39;00m\n\u001b[1;32m   1266\u001b[0m     \u001b[39m# exit under the common assumption that it also received the ^C\u001b[39;00m\n\u001b[1;32m   1267\u001b[0m     \u001b[39m# generated SIGINT and will exit rapidly.\u001b[39;00m\n\u001b[1;32m   1268\u001b[0m     \u001b[39mif\u001b[39;00m timeout \u001b[39mis\u001b[39;00m \u001b[39mnot\u001b[39;00m \u001b[39mNone\u001b[39;00m:\n",
      "File \u001b[0;32m~/.pyenv/versions/3.11.1/lib/python3.11/subprocess.py:1997\u001b[0m, in \u001b[0;36mPopen._wait\u001b[0;34m(self, timeout)\u001b[0m\n\u001b[1;32m   1995\u001b[0m \u001b[39mif\u001b[39;00m \u001b[39mself\u001b[39m\u001b[39m.\u001b[39mreturncode \u001b[39mis\u001b[39;00m \u001b[39mnot\u001b[39;00m \u001b[39mNone\u001b[39;00m:\n\u001b[1;32m   1996\u001b[0m     \u001b[39mbreak\u001b[39;00m  \u001b[39m# Another thread waited.\u001b[39;00m\n\u001b[0;32m-> 1997\u001b[0m (pid, sts) \u001b[39m=\u001b[39m \u001b[39mself\u001b[39;49m\u001b[39m.\u001b[39;49m_try_wait(\u001b[39m0\u001b[39;49m)\n\u001b[1;32m   1998\u001b[0m \u001b[39m# Check the pid and loop as waitpid has been known to\u001b[39;00m\n\u001b[1;32m   1999\u001b[0m \u001b[39m# return 0 even without WNOHANG in odd situations.\u001b[39;00m\n\u001b[1;32m   2000\u001b[0m \u001b[39m# http://bugs.python.org/issue14396.\u001b[39;00m\n\u001b[1;32m   2001\u001b[0m \u001b[39mif\u001b[39;00m pid \u001b[39m==\u001b[39m \u001b[39mself\u001b[39m\u001b[39m.\u001b[39mpid:\n",
      "File \u001b[0;32m~/.pyenv/versions/3.11.1/lib/python3.11/subprocess.py:1955\u001b[0m, in \u001b[0;36mPopen._try_wait\u001b[0;34m(self, wait_flags)\u001b[0m\n\u001b[1;32m   1953\u001b[0m \u001b[39m\u001b[39m\u001b[39m\"\"\"All callers to this function MUST hold self._waitpid_lock.\"\"\"\u001b[39;00m\n\u001b[1;32m   1954\u001b[0m \u001b[39mtry\u001b[39;00m:\n\u001b[0;32m-> 1955\u001b[0m     (pid, sts) \u001b[39m=\u001b[39m os\u001b[39m.\u001b[39mwaitpid(\u001b[39mself\u001b[39m\u001b[39m.\u001b[39mpid, wait_flags)\n\u001b[1;32m   1956\u001b[0m \u001b[39mexcept\u001b[39;00m \u001b[39mChildProcessError\u001b[39;00m:\n\u001b[1;32m   1957\u001b[0m     \u001b[39m# This happens if SIGCLD is set to be ignored or waiting\u001b[39;00m\n\u001b[1;32m   1958\u001b[0m     \u001b[39m# for child processes has otherwise been disabled for our\u001b[39;00m\n\u001b[1;32m   1959\u001b[0m     \u001b[39m# process.  This child is dead, we can't get the status.\u001b[39;00m\n\u001b[1;32m   1960\u001b[0m     pid \u001b[39m=\u001b[39m \u001b[39mself\u001b[39m\u001b[39m.\u001b[39mpid\n",
      "\u001b[0;31mKeyboardInterrupt\u001b[0m: "
     ]
    }
   ],
   "source": [
    "import os, subprocess\n",
    "\n",
    "\n",
    "def run_encrypt(data):\n",
    "    env = os.environ.copy()\n",
    "    env[\"password\"] = \"123456\"\n",
    "    proc = subprocess.Popen(\n",
    "        [\"openssl\", \"enc\", \"-des3\", \"-pass\", \"env:password\"],\n",
    "        env=env,\n",
    "        stdin=subprocess.PIPE,\n",
    "        stdout=subprocess.PIPE,\n",
    "    )\n",
    "    proc.stdin.write(data)\n",
    "    proc.stdin.flush()\n",
    "    return proc\n",
    "\n",
    "\n",
    "def run_hash(input_stdin):\n",
    "    return subprocess.Popen(\n",
    "        [\"openssl\", \"dgst\", \"-sha256\"],\n",
    "        stdin=input_stdin,\n",
    "        stdout=subprocess.PIPE,\n",
    "    )\n",
    "\n",
    "\n",
    "encrypt_procs = []\n",
    "hash_procs = []\n",
    "\n",
    "for _ in range(1):\n",
    "    data = os.urandom(10)\n",
    "    \n",
    "    encrypt_proc = run_encrypt(data)\n",
    "    encrypt_procs.append(encrypt_proc)\n",
    "\n",
    "    hash_proc = run_hash(encrypt_proc.stdout)\n",
    "    hash_procs.append(hash_proc)\n",
    "\n",
    "    encrypt_proc.stdout.close()\n",
    "    encrypt_proc.stdout = None\n",
    "\n",
    "print(\"encrypt_procs\", encrypt_procs)\n",
    "for proc in encrypt_procs:\n",
    "    proc.wait()\n",
    "    # proc.wait()\n",
    "    assert proc.returncode == 0\n",
    "\n",
    "for proc in hash_procs:\n",
    "    out, _ = proc.communicate(timeout=0.1)\n",
    "    print(out.decode(\"latin-1\"))\n",
    "    assert proc.returncode == 0\n"
   ]
  },
  {
   "cell_type": "code",
   "execution_count": null,
   "metadata": {},
   "outputs": [],
   "source": []
  }
 ],
 "metadata": {
  "kernelspec": {
   "display_name": "Python 3",
   "language": "python",
   "name": "python3"
  },
  "language_info": {
   "codemirror_mode": {
    "name": "ipython",
    "version": 3
   },
   "file_extension": ".py",
   "mimetype": "text/x-python",
   "name": "python",
   "nbconvert_exporter": "python",
   "pygments_lexer": "ipython3",
   "version": "3.11.1"
  },
  "orig_nbformat": 4
 },
 "nbformat": 4,
 "nbformat_minor": 2
}
