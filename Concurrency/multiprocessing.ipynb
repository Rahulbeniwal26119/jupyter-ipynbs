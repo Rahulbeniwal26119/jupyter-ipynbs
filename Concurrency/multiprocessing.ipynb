{
 "cells": [
  {
   "cell_type": "code",
   "execution_count": 11,
   "metadata": {
    "collapsed": true
   },
   "outputs": [
    {
     "name": "stdout",
     "output_type": "stream",
     "text": [
      "[1, 1, 5, 1, 32, 1, 14, 9, 1, 9, 1, 1, 5, 1, 32, 1, 14, 9, 1, 9]\n",
      "Took 0.345 seconds\n"
     ]
    }
   ],
   "source": [
    "def gcd(pair):\n",
    "    a, b = pair\n",
    "    low = min(a, b)\n",
    "    for i in range(low, 0, -1):\n",
    "        if a % i == 0 and b % i == 0:\n",
    "            return i\n",
    "\n",
    "import time\n",
    "from concurrent.futures import ThreadPoolExecutor, ProcessPoolExecutor\n",
    "\n",
    "NUMBERS = [\n",
    "(1963309, 2265973), (2030677, 3814172),\n",
    "(1551645, 2229620), (2039045, 2020802),\n",
    "(1823712, 1924928), (2293129, 1020491),\n",
    "(1281238, 2273782), (3823812, 4237281),\n",
    "(3812741, 4729139), (1292391, 2123811),\n",
    "(1963309, 2265973), (2030677, 3814172),\n",
    "(1551645, 2229620), (2039045, 2020802),\n",
    "(1823712, 1924928), (2293129, 1020491),\n",
    "(1281238, 2273782), (3823812, 4237281),\n",
    "(3812741, 4729139), (1292391, 2123811),\n",
    "]\n",
    "\n",
    "def main():\n",
    "    start = time.time()\n",
    "    threads = []\n",
    "    end = time.time()\n",
    "    pool = ProcessPoolExecutor()\n",
    "    result = list(pool.map(gcd, NUMBERS))\n",
    "    print(result)\n",
    "    # for num in NUMBERS:\n",
    "    #     thread = Thread(target=gcd, args=(num,))\n",
    "    #     thread.start()\n",
    "    #     threads.append(thread)\n",
    "    # for thread in threads:\n",
    "    #     thread.join()\n",
    "    # end = time.time()\n",
    "    # result = list(map(gcd, NUMBERS))\n",
    "    print(f\"Took {time.time() - start:.3f} seconds\")\n",
    "main()"
   ]
  },
  {
   "cell_type": "code",
   "execution_count": 16,
   "outputs": [
    {
     "name": "stdout",
     "output_type": "stream",
     "text": [
      "6.734135389328003\n"
     ]
    }
   ],
   "source": [
    "import multiprocessing\n",
    "\n",
    "def square(x):\n",
    "    return x * x\n",
    "\n",
    "import time\n",
    "s = time.time()\n",
    "# for i in range(100000000):\n",
    "#     square(i)\n",
    "with multiprocessing.Pool(processes=4) as pool:\n",
    "    data = pool.map(square, range(100000000))\n",
    "    print(data)\n",
    "print(time.time() - s)\n"
   ],
   "metadata": {
    "collapsed": false
   }
  },
  {
   "cell_type": "code",
   "execution_count": null,
   "outputs": [],
   "source": [],
   "metadata": {
    "collapsed": false
   }
  }
 ],
 "metadata": {
  "kernelspec": {
   "display_name": "Python 3",
   "language": "python",
   "name": "python3"
  },
  "language_info": {
   "codemirror_mode": {
    "name": "ipython",
    "version": 2
   },
   "file_extension": ".py",
   "mimetype": "text/x-python",
   "name": "python",
   "nbconvert_exporter": "python",
   "pygments_lexer": "ipython2",
   "version": "2.7.6"
  }
 },
 "nbformat": 4,
 "nbformat_minor": 0
}
