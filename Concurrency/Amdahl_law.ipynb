{
 "cells": [
  {
   "cell_type": "code",
   "execution_count": 2,
   "metadata": {},
   "outputs": [],
   "source": [
    "from files.file import is_prime"
   ]
  },
  {
   "cell_type": "code",
   "execution_count": 10,
   "metadata": {},
   "outputs": [],
   "source": [
    "import concurrent.futures\n",
    "from timeit import default_timer as timer \n",
    "\n",
    "def concurrent_solve(n_workers):\n",
    "    print('Number of workers : %i' % n_workers)\n",
    "\n",
    "    start = timer()\n",
    "    result = [] \n",
    "\n",
    "    with concurrent.futures.ProcessPoolExecutor(max_workers=n_workers) as executors:\n",
    "        futures = [ executors.submit(is_prime, i) for i in input]\n",
    "\n",
    "        completed_futures = concurrent.futures.as_completed(futures)\n",
    "\n",
    "        sub_start = timer()\n",
    "\n",
    "        for i,future in enumerate(completed_futures):\n",
    "            if future.result():\n",
    "                result.append(i)\n",
    "        \n",
    "        sub_duration = timer() - sub_start\n",
    "    \n",
    "    duration = timer() - start\n",
    "    print(\"result\", result)\n",
    "    print('Sub took: %.4f' % sub_duration)\n",
    "    print('Took: %.4f' % duration)"
   ]
  },
  {
   "cell_type": "code",
   "execution_count": 11,
   "metadata": {},
   "outputs": [
    {
     "name": "stdout",
     "output_type": "stream",
     "text": [
      "Number of workers : 1\n",
      "result [37, 51, 99, 129, 183, 259, 267, 273, 279, 283, 313, 343, 391, 411, 433, 453, 591, 609, 643, 649, 657, 687, 691, 717, 729, 751, 759, 777, 853, 883, 943, 957, 987, 993]\n",
      "Sub took: 7.1178\n",
      "Took: 7.2304\n",
      "____________________\n",
      "Number of workers : 2\n",
      "result [50, 72, 128, 182, 258, 266, 272, 278, 282, 297, 342, 390, 410, 432, 452, 530, 608, 642, 648, 656, 686, 690, 716, 728, 750, 758, 768, 852, 882, 942, 956, 966, 992, 999]\n",
      "Sub took: 3.5378\n",
      "Took: 3.6302\n",
      "____________________\n",
      "Number of workers : 3\n",
      "result [97, 127, 181, 239, 265, 271, 272, 281, 311, 341, 389, 409, 431, 451, 529, 539, 641, 647, 655, 685, 689, 715, 727, 749, 757, 767, 851, 881, 941, 955, 965, 971, 998, 999]\n",
      "Sub took: 2.4575\n",
      "Took: 2.5297\n",
      "____________________\n",
      "Number of workers : 4\n",
      "result [126, 180, 238, 256, 270, 276, 280, 310, 340, 388, 408, 430, 450, 528, 588, 606, 640, 654, 684, 688, 714, 726, 748, 756, 774, 850, 880, 940, 954, 964, 970, 997, 998, 999]\n",
      "Sub took: 2.2719\n",
      "Took: 2.3646\n",
      "____________________\n",
      "Number of workers : 5\n",
      "result [125, 255, 263, 269, 275, 279, 293, 309, 339, 387, 429, 449, 527, 537, 587, 593, 653, 683, 687, 694, 725, 747, 755, 765, 849, 879, 939, 953, 963, 969, 989, 996, 998, 999]\n",
      "Sub took: 2.2140\n",
      "Took: 2.3002\n",
      "____________________\n",
      "Number of workers : 6\n",
      "result [178, 254, 262, 274, 278, 286, 308, 386, 406, 428, 434, 448, 536, 586, 632, 646, 682, 686, 712, 724, 746, 754, 764, 848, 878, 938, 952, 962, 968, 984, 995, 996, 997, 999]\n",
      "Sub took: 2.0707\n",
      "Took: 2.1531\n",
      "____________________\n",
      "Number of workers : 7\n",
      "result [261, 267, 273, 277, 291, 337, 385, 405, 427, 433, 525, 535, 585, 591, 630, 651, 685, 711, 723, 745, 753, 763, 771, 877, 937, 951, 961, 967, 987, 994, 995, 997, 998, 999]\n",
      "Sub took: 2.0229\n",
      "Took: 2.1719\n",
      "____________________\n",
      "Number of workers : 8\n",
      "result [266, 272, 276, 290, 306, 336, 386, 426, 432, 446, 534, 582, 590, 636, 680, 684, 710, 722, 744, 752, 762, 770, 876, 936, 950, 960, 966, 986, 993, 995, 996, 997, 998, 999]\n",
      "Sub took: 1.9558\n",
      "Took: 2.0506\n",
      "____________________\n"
     ]
    }
   ],
   "source": [
    "input =  [i for i in range(10**13, 10 ** 13 + 1000)]\n",
    "for n_workers in range(1, multiprocessing.cpu_count() + 1):\n",
    "    concurrent_solve(n_workers)\n",
    "    print('_' * 20)\n"
   ]
  },
  {
   "cell_type": "code",
   "execution_count": 9,
   "metadata": {},
   "outputs": [
    {
     "data": {
      "text/plain": [
       "<bound method BaseContext.Array of <multiprocessing.context.DefaultContext object at 0x7fc5a83ae2f0>>"
      ]
     },
     "execution_count": 9,
     "metadata": {},
     "output_type": "execute_result"
    }
   ],
   "source": [
    "import multiprocessing\n",
    "multiprocessing.cpu_count"
   ]
  },
  {
   "cell_type": "code",
   "execution_count": null,
   "metadata": {},
   "outputs": [],
   "source": []
  }
 ],
 "metadata": {
  "interpreter": {
   "hash": "14d1a336a5d0a9f27c6e9ae878bd2adc48d29b1972f98f3643b654eb834e99e6"
  },
  "kernelspec": {
   "display_name": "Python 3.10.4 ('venv': venv)",
   "language": "python",
   "name": "python3"
  },
  "language_info": {
   "codemirror_mode": {
    "name": "ipython",
    "version": 3
   },
   "file_extension": ".py",
   "mimetype": "text/x-python",
   "name": "python",
   "nbconvert_exporter": "python",
   "pygments_lexer": "ipython3",
   "version": "3.10.4"
  },
  "orig_nbformat": 4
 },
 "nbformat": 4,
 "nbformat_minor": 2
}
