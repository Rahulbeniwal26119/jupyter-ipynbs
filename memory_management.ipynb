{
 "cells": [
  {
   "cell_type": "markdown",
   "metadata": {
    "collapsed": false
   },
   "source": [
    "import os\n",
    "\n",
    "class MyObject:\n",
    "    def __init__(self):\n",
    "        self.data = os.urandom(100)\n",
    "\n",
    "def get_data():\n",
    "    values = []\n",
    "    for _ in range(100):\n",
    "        obj = MyObject()\n",
    "        values.append(obj)\n",
    "    return values\n",
    "\n",
    "def run():\n",
    "    deep_values = []\n",
    "    for _ in range(100):\n",
    "        deep_values.append(get_data())\n",
    "    return deep_values"
   ]
  },
  {
   "cell_type": "code",
   "execution_count": null,
   "metadata": {
    "collapsed": false
   },
   "outputs": [],
   "source": []
  },
  {
   "cell_type": "code",
   "execution_count": 5,
   "metadata": {
    "collapsed": false
   },
   "outputs": [
    {
     "name": "stdout",
     "output_type": "stream",
     "text": [
      "102152\n",
      "<built-in method match of re.Pattern object at 0x561f21e7ac60>\n",
      "(<built-in method match of re.Pattern object at 0x561f21e7ac60>, Token.Name.Function.Magic, None)\n",
      "[(<built-in method match of re.Pattern object at 0x561f21f5f110>, Token.Name.Variable.Magic, None)]\n",
      "112265\n"
     ]
    }
   ],
   "source": [
    "import gc\n",
    "\n",
    "found_objects = gc.get_objects()\n",
    "print(len(found_objects))\n",
    "\n",
    "for object in found_objects[:3]:\n",
    "    print(repr(object)[:100])\n",
    "\n",
    "hold_reference = run()\n",
    "\n",
    "found_objects = gc.get_objects()\n",
    "\n",
    "print(len(found_objects))\n"
   ]
  },
  {
   "cell_type": "code",
   "execution_count": 9,
   "metadata": {
    "collapsed": false
   },
   "outputs": [
    {
     "name": "stdout",
     "output_type": "stream",
     "text": [
      "biggest offender is :\n",
      "  File \"/tmp/ipykernel_38684/993756281.py\", line 5\n",
      "    self.data = os.urandom(100)\n"
     ]
    }
   ],
   "source": [
    "import tracemalloc\n",
    "tracemalloc.start(10)\n",
    "\n",
    "time1 = tracemalloc.take_snapshot()\n",
    "\n",
    "x = run()\n",
    "\n",
    "time2 = tracemalloc.take_snapshot()\n",
    "\n",
    "stats = time2.compare_to(time1, 'lineno')\n",
    "top = stats[0]\n",
    "\n",
    "print(\"biggest offender is :\")\n",
    "print(\"\\n\".join(top.traceback.format()))\n",
    "# for stat in stats[:10]:\n",
    "#    print(stat)"
   ]
  },
  {
   "cell_type": "code",
   "execution_count": null,
   "metadata": {
    "collapsed": false
   },
   "outputs": [],
   "source": []
  }
 ],
 "metadata": {
  "kernelspec": {
   "display_name": "Python 3",
   "language": "python",
   "name": "python3"
  },
  "language_info": {
   "codemirror_mode": {
    "name": "ipython",
    "version": 2
   },
   "file_extension": ".py",
   "mimetype": "text/x-python",
   "name": "python",
   "nbconvert_exporter": "python",
   "pygments_lexer": "ipython2",
   "version": "2.7.6"
  }
 },
 "nbformat": 4,
 "nbformat_minor": 0
}
