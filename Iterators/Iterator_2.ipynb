{
 "cells": [
  {
   "cell_type": "code",
   "execution_count": null,
   "metadata": {},
   "outputs": [],
   "source": [
    "from collections import deque\n",
    "\n",
    "class linehistory:\n",
    "    def __init__(self, lines, histlen=3):\n",
    "        self.lines = lines \n",
    "        self.history = deque(maxlen=histlen)\n",
    "        \n",
    "    def __iter__(self):\n",
    "        for lineno, line in enumerate(self.lines):\n",
    "            self.history.append((lineno, line))\n",
    "            yield line \n",
    "    \n",
    "    def clear(self):\n",
    "        self.history.clear()\n",
    "        "
   ]
  },
  {
   "cell_type": "code",
   "execution_count": null,
   "metadata": {},
   "outputs": [],
   "source": [
    "with open('./Iteration_1.ipynb') as f:\n",
    "    lines = linehistory(f)\n",
    "    for line in lines:\n",
    "        if 'python' in line:\n",
    "            for lineno, hline in lines.history:\n",
    "                print(f'{lineno}:{hline}')"
   ]
  },
  {
   "cell_type": "code",
   "execution_count": null,
   "metadata": {},
   "outputs": [],
   "source": [
    "f = open('./Iteration_1.ipynb')\n",
    "lines = linehistory(f)\n",
    "it = iter(lines)\n",
    "next(it)"
   ]
  },
  {
   "cell_type": "code",
   "execution_count": 79,
   "metadata": {},
   "outputs": [
    {
     "name": "stdout",
     "output_type": "stream",
     "text": [
      "10\n",
      "11\n",
      "12\n",
      "13\n",
      "14\n",
      "15\n",
      "16\n",
      "17\n",
      "18\n",
      "19\n"
     ]
    }
   ],
   "source": [
    "from itertools import islice \n",
    "\n",
    "def count(n):\n",
    "    while True:\n",
    "        yield n \n",
    "        n += 1\n",
    "\n",
    "c = count(0)\n",
    "for i in islice(c, 10, 20):\n",
    "    print(i)"
   ]
  },
  {
   "cell_type": "code",
   "execution_count": 80,
   "metadata": {},
   "outputs": [
    {
     "name": "stdout",
     "output_type": "stream",
     "text": [
      "root:x:0:0:root:/root:/bin/bash\n",
      "daemon:x:1:1:daemon:/usr/sbin:/usr/sbin/nologin\n",
      "bin:x:2:2:bin:/bin:/usr/sbin/nologin\n",
      "sys:x:3:3:sys:/dev:/usr/sbin/nologin\n",
      "sync:x:4:65534:sync:/bin:/bin/sync\n",
      "games:x:5:60:games:/usr/games:/usr/sbin/nologin\n",
      "man:x:6:12:man:/var/cache/man:/usr/sbin/nologin\n",
      "lp:x:7:7:lp:/var/spool/lpd:/usr/sbin/nologin\n",
      "mail:x:8:8:mail:/var/mail:/usr/sbin/nologin\n",
      "news:x:9:9:news:/var/spool/news:/usr/sbin/nologin\n",
      "uucp:x:10:10:uucp:/var/spool/uucp:/usr/sbin/nologin\n",
      "proxy:x:13:13:proxy:/bin:/usr/sbin/nologin\n",
      "www-data:x:33:33:www-data:/var/www:/usr/sbin/nologin\n",
      "backup:x:34:34:backup:/var/backups:/usr/sbin/nologin\n",
      "list:x:38:38:Mailing List Manager:/var/list:/usr/sbin/nologin\n",
      "irc:x:39:39:ircd:/run/ircd:/usr/sbin/nologin\n",
      "gnats:x:41:41:Gnats Bug-Reporting System (admin):/var/lib/gnats:/usr/sbin/nologin\n",
      "nobody:x:65534:65534:nobody:/nonexistent:/usr/sbin/nologin\n",
      "systemd-network:x:100:102:systemd Network Management,,,:/run/systemd:/usr/sbin/nologin\n",
      "systemd-resolve:x:101:103:systemd Resolver,,,:/run/systemd:/usr/sbin/nologin\n",
      "messagebus:x:102:105::/nonexistent:/usr/sbin/nologin\n",
      "systemd-timesync:x:103:106:systemd Time Synchronization,,,:/run/systemd:/usr/sbin/nologin\n",
      "syslog:x:104:111::/home/syslog:/usr/sbin/nologin\n",
      "_apt:x:105:65534::/nonexistent:/usr/sbin/nologin\n",
      "geoclue:x:106:112::/var/lib/geoclue:/usr/sbin/nologin\n",
      "colord:x:107:114:colord colour management daemon,,,:/var/lib/colord:/usr/sbin/nologin\n",
      "gnome-initial-setup:x:108:65534::/run/gnome-initial-setup/:/bin/false\n",
      "speech-dispatcher:x:109:29:Speech Dispatcher,,,:/run/speech-dispatcher:/bin/false\n",
      "nm-openvpn:x:110:116:NetworkManager OpenVPN,,,:/var/lib/openvpn/chroot:/usr/sbin/nologin\n",
      "gdm:x:111:117:Gnome Display Manager:/var/lib/gdm3:/bin/false\n",
      "avahi-autoipd:x:112:118:Avahi autoip daemon,,,:/var/lib/avahi-autoipd:/usr/sbin/nologin\n",
      "avahi:x:113:119:Avahi mDNS daemon,,,:/run/avahi-daemon:/usr/sbin/nologin\n",
      "tss:x:114:123:TPM software stack,,,:/var/lib/tpm:/bin/false\n",
      "fwupd-refresh:x:115:124:fwupd-refresh user,,,:/run/systemd:/usr/sbin/nologin\n",
      "tcpdump:x:116:125::/nonexistent:/usr/sbin/nologin\n",
      "rtkit:x:117:126:RealtimeKit,,,:/proc:/usr/sbin/nologin\n",
      "whoopsie:x:118:127::/nonexistent:/bin/false\n",
      "usbmux:x:119:46:usbmux daemon,,,:/var/lib/usbmux:/usr/sbin/nologin\n",
      "uuidd:x:120:128::/run/uuidd:/usr/sbin/nologin\n",
      "cups-pk-helper:x:121:121:user for cups-pk-helper service,,,:/home/cups-pk-helper:/usr/sbin/nologin\n",
      "saned:x:122:129::/var/lib/saned:/usr/sbin/nologin\n",
      "_flatpak:x:123:131:Flatpak system-wide installation helper,,,:/nonexistent:/usr/sbin/nologin\n",
      "dnsmasq:x:124:65534:dnsmasq,,,:/var/lib/misc:/usr/sbin/nologin\n",
      "lendenclub:x:1000:1000:LenDenClub:/home/lendenclub:/bin/bash\n",
      "rahulbeniwal:x:1001:1001:Rahul Beniwal,,,:/home/rahulbeniwal:/bin/bash\n",
      "postgres:x:125:132:PostgreSQL administrator,,,:/var/lib/postgresql:/bin/bash\n",
      "redis:x:126:133::/var/lib/redis:/usr/sbin/nologin\n"
     ]
    }
   ],
   "source": [
    "with open('/etc/passwd') as f:\n",
    "    for line in f:\n",
    "        print(line, end='')"
   ]
  },
  {
   "cell_type": "code",
   "execution_count": 83,
   "metadata": {},
   "outputs": [
    {
     "name": "stdout",
     "output_type": "stream",
     "text": [
      "Kuldeep\n",
      "Rahul\n"
     ]
    }
   ],
   "source": [
    "from itertools import dropwhile \n",
    "with open('./test_file.txt') as f:\n",
    "    for line in dropwhile(lambda line : line.startswith('Rahul'), f):\n",
    "        print(line, end='')"
   ]
  },
  {
   "cell_type": "code",
   "execution_count": 89,
   "metadata": {},
   "outputs": [
    {
     "name": "stdout",
     "output_type": "stream",
     "text": [
      "Kuldeep\n"
     ]
    }
   ],
   "source": [
    "with open('./test_file.txt') as lines:\n",
    "    lines = (line for line in lines if not line.startswith('Rahul'))\n",
    "    for line in lines:\n",
    "        print(line, end='')"
   ]
  },
  {
   "cell_type": "code",
   "execution_count": 85,
   "metadata": {},
   "outputs": [
    {
     "name": "stdout",
     "output_type": "stream",
     "text": [
      "1\n",
      "4\n",
      "10\n",
      "15\n"
     ]
    }
   ],
   "source": [
    "from itertools import islice\n",
    "items = ['a', 'b', 'c', 1,4,10,15]\n",
    "for x in islice(items, 3, None):\n",
    "    print(x)"
   ]
  },
  {
   "cell_type": "code",
   "execution_count": 94,
   "metadata": {},
   "outputs": [
    {
     "name": "stdout",
     "output_type": "stream",
     "text": [
      "('a', 'b', 'c')\n",
      "('a', 'c', 'b')\n",
      "('b', 'a', 'c')\n",
      "('b', 'c', 'a')\n",
      "('c', 'a', 'b')\n",
      "('c', 'b', 'a')\n",
      "('a', 'b')\n",
      "('a', 'c')\n",
      "('b', 'a')\n",
      "('b', 'c')\n",
      "('c', 'a')\n",
      "('c', 'b')\n"
     ]
    }
   ],
   "source": [
    "items = ['a', 'b', 'c']\n",
    "from itertools import permutations\n",
    "c = permutations(items)\n",
    "for p in permutations(items):\n",
    "    print(p)\n",
    "for p in permutations(items, 2):\n",
    "    print(p)"
   ]
  },
  {
   "cell_type": "code",
   "execution_count": 102,
   "metadata": {},
   "outputs": [
    {
     "name": "stdout",
     "output_type": "stream",
     "text": [
      "(1, 1)\n",
      "(1, 2)\n",
      "(1, 3)\n",
      "(2, 2)\n",
      "(2, 3)\n",
      "(3, 3)\n"
     ]
    }
   ],
   "source": [
    "from itertools import islice, permutations, \\\n",
    "    combinations, dropwhile, combinations_with_replacement\n",
    "for c in combinations_with_replacement([1,2, 3], 2):\n",
    "    print(c)"
   ]
  },
  {
   "cell_type": "code",
   "execution_count": null,
   "metadata": {},
   "outputs": [],
   "source": []
  }
 ],
 "metadata": {
  "interpreter": {
   "hash": "916dbcbb3f70747c44a77c7bcd40155683ae19c65e1c03b4aa3499c5328201f1"
  },
  "kernelspec": {
   "display_name": "Python 3.10.4 64-bit",
   "language": "python",
   "name": "python3"
  },
  "language_info": {
   "codemirror_mode": {
    "name": "ipython",
    "version": 3
   },
   "file_extension": ".py",
   "mimetype": "text/x-python",
   "name": "python",
   "nbconvert_exporter": "python",
   "pygments_lexer": "ipython3",
   "version": "3.10.4"
  },
  "orig_nbformat": 4,
  "vscode": {
   "interpreter": {
    "hash": "916dbcbb3f70747c44a77c7bcd40155683ae19c65e1c03b4aa3499c5328201f1"
   }
  }
 },
 "nbformat": 4,
 "nbformat_minor": 2
}
