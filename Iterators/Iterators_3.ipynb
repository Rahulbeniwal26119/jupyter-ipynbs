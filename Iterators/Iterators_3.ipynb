{
 "cells": [
  {
   "cell_type": "code",
   "execution_count": null,
   "metadata": {},
   "outputs": [],
   "source": [
    "import os \n",
    "import fnmatch \n",
    "import gzip \n",
    "import bz2\n",
    "import re "
   ]
  },
  {
   "cell_type": "code",
   "execution_count": null,
   "metadata": {},
   "outputs": [],
   "source": [
    "def gen_find(filepat, top):\n",
    "    for path, dirlist, filelist in os.walk(top):\n",
    "        for name in fnmatch.filter(filelist, filepat):\n",
    "            yield os.path.join(path, name)"
   ]
  },
  {
   "cell_type": "code",
   "execution_count": null,
   "metadata": {},
   "outputs": [],
   "source": [
    "def gen_opener(filenames):\n",
    "    for filename in filenames:\n",
    "        if filename.endswith('.gz'):\n",
    "            f = gzip.open(filename,mode='rt')\n",
    "        elif filename.endswith('.bz2'):\n",
    "            f = bz2.open(filename, mode='rt')\n",
    "        else:\n",
    "            f = open(filename, 'rt')\n",
    "        yield f \n",
    "        f.close()"
   ]
  },
  {
   "cell_type": "code",
   "execution_count": null,
   "metadata": {},
   "outputs": [],
   "source": [
    "def gen_concate(iterators):\n",
    "    for it in iterators:\n",
    "        yield from it "
   ]
  },
  {
   "cell_type": "code",
   "execution_count": null,
   "metadata": {},
   "outputs": [],
   "source": [
    "def gen_grep(pattern, lines):\n",
    "    pat = re.compile(pattern)\n",
    "    for line in lines:\n",
    "        if pat.search(line):\n",
    "            yield line "
   ]
  },
  {
   "cell_type": "code",
   "execution_count": null,
   "metadata": {},
   "outputs": [],
   "source": [
    "lognames = gen_find('*.ipynb', '..')\n",
    "files = gen_opener(lognames)\n",
    "lines = gen_concate(files)\n",
    "pylines = gen_grep('(?i)python', lines)\n",
    "\n",
    "for line in pylines:\n",
    "    print(line)"
   ]
  },
  {
   "cell_type": "code",
   "execution_count": 9,
   "metadata": {},
   "outputs": [],
   "source": [
    "from collections.abc import Iterable \n",
    "def flatten(items, ignore_type=(str, bytes)):\n",
    "    for x in items:\n",
    "        if isinstance(x, Iterable) and not isinstance(x, ignore_type):\n",
    "            yield from flatten(x)\n",
    "            # for i in flatten(x):\n",
    "                # yield i -> Instead of yield from \n",
    "        else:\n",
    "            yield x "
   ]
  },
  {
   "cell_type": "code",
   "execution_count": 10,
   "metadata": {},
   "outputs": [
    {
     "name": "stdout",
     "output_type": "stream",
     "text": [
      "1\n",
      "2\n",
      "3\n",
      "4\n",
      "5\n",
      "6\n",
      "7\n",
      "['rahul', 'kuldeep', 'samay', 'ABC']\n"
     ]
    }
   ],
   "source": [
    "items = [1,2,3,[4,5,[6,7]]]\n",
    "for x in flatten(items):\n",
    "    print(x)\n",
    "items = ['rahul', ['kuldeep'], ['samay', ['ABC']]]\n",
    "x = flatten(items)\n",
    "print(list(x))"
   ]
  },
  {
   "cell_type": "code",
   "execution_count": 11,
   "metadata": {},
   "outputs": [
    {
     "name": "stdout",
     "output_type": "stream",
     "text": [
      "1\n",
      "4\n",
      "5\n",
      "7\n",
      "10\n",
      "11\n",
      "12\n"
     ]
    }
   ],
   "source": [
    "# Iterating in merge sorted order \n",
    "import heapq \n",
    "a = [1,4,5,7]\n",
    "b = [10, 11, 12]\n",
    "\n",
    "for c in heapq.merge(a,b):\n",
    "    print(c)"
   ]
  },
  {
   "cell_type": "code",
   "execution_count": 12,
   "metadata": {},
   "outputs": [],
   "source": [
    "with open('../README.md', 'rt') as file1, \\\n",
    "     open('../demo.html', 'rt') as file2, \\\n",
    "    open(\"merged_file\", \"wt\") as outf:\n",
    "        for line in heapq.merge(file1, file2):\n",
    "            outf.write(line)"
   ]
  },
  {
   "cell_type": "code",
   "execution_count": 13,
   "metadata": {},
   "outputs": [],
   "source": [
    "CHUNKSIZE = 8192\n",
    "def process_data(s):\n",
    "    pass \n",
    "\n",
    "def reader(s):\n",
    "    while True:\n",
    "        data = s.recv(CHUNKSIZE)\n",
    "        if data == b'':\n",
    "            break\n",
    "        process_data(data)\n",
    "\n",
    "def reader(s):\n",
    "    for data in iter(lambda : s.recv(CHUNKSIZE), b''):\n",
    "        process_data(data)"
   ]
  },
  {
   "cell_type": "code",
   "execution_count": 15,
   "metadata": {},
   "outputs": [
    {
     "name": "stdout",
     "output_type": "stream",
     "text": [
      "# jupyter-ipynbs\n",
      "Collection of ipynbs to learn and revise python \n"
     ]
    }
   ],
   "source": [
    "import sys \n",
    "f = open('../README.md')\n",
    "for chunk in iter(lambda : f.read(10), ''):\n",
    "    sys.stdout.write(chunk)"
   ]
  },
  {
   "cell_type": "code",
   "execution_count": 16,
   "metadata": {},
   "outputs": [],
   "source": [
    "# Iter \n",
    "#   -- Params \n",
    "#      --> callable -> zero argument lambda mostly\n",
    "#      --> sentinel -> terminating value "
   ]
  },
  {
   "cell_type": "code",
   "execution_count": null,
   "metadata": {},
   "outputs": [],
   "source": []
  }
 ],
 "metadata": {
  "kernelspec": {
   "display_name": "Python 3.8.13 64-bit",
   "language": "python",
   "name": "python3"
  },
  "language_info": {
   "codemirror_mode": {
    "name": "ipython",
    "version": 3
   },
   "file_extension": ".py",
   "mimetype": "text/x-python",
   "name": "python",
   "nbconvert_exporter": "python",
   "pygments_lexer": "ipython3",
   "version": "3.8.16 (default, Dec  7 2022, 01:12:06) \n[GCC 11.3.0]"
  },
  "orig_nbformat": 4,
  "vscode": {
   "interpreter": {
    "hash": "df0893f56f349688326838aaeea0de204df53a132722cbd565e54b24a8fec5f6"
   }
  }
 },
 "nbformat": 4,
 "nbformat_minor": 2
}
