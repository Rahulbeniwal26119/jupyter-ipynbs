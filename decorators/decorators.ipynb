{
 "cells": [
  {
   "cell_type": "code",
   "execution_count": 1,
   "metadata": {},
   "outputs": [],
   "source": [
    "import time\n",
    "from time import sleep"
   ]
  },
  {
   "cell_type": "code",
   "execution_count": 2,
   "metadata": {},
   "outputs": [],
   "source": [
    "def log_time(func):\n",
    "    def wrapper(*args):\n",
    "        now = time.time()\n",
    "        response = func(*args)\n",
    "        print(time.time() - now)\n",
    "        return response\n",
    "    return wrapper"
   ]
  },
  {
   "cell_type": "code",
   "execution_count": 3,
   "metadata": {},
   "outputs": [],
   "source": [
    "def add_cache(func):\n",
    "    cache = {}\n",
    "    def wrapper(*args):\n",
    "        nonlocal cache\n",
    "        print(cache, args)\n",
    "        if cache.get(args):\n",
    "            return cache[args]\n",
    "        response = func(*args)\n",
    "        cache[args] = response\n",
    "        return response\n",
    "    return wrapper"
   ]
  },
  {
   "cell_type": "code",
   "execution_count": 4,
   "metadata": {},
   "outputs": [],
   "source": [
    "def limit_invoke_with_time(time_in_sec):\n",
    "    def limit_invoke(func):\n",
    "        last_invoked = None\n",
    "        def wrapper(*args):\n",
    "            nonlocal last_invoked\n",
    "            if last_invoked and last_invoked > time.time() - time_in_sec:\n",
    "                raise Exception(\"execute too soon\")\n",
    "            response = func(*args)\n",
    "            last_invoked = time.time()\n",
    "            return response\n",
    "        return wrapper\n",
    "    return limit_invoke"
   ]
  },
  {
   "cell_type": "code",
   "execution_count": 5,
   "metadata": {},
   "outputs": [
    {
     "name": "stdout",
     "output_type": "stream",
     "text": [
      "{} (10000000000, 25000)\n",
      "1.0023093223571777\n"
     ]
    },
    {
     "data": {
      "text/plain": [
       "(10000000000, 25000)"
      ]
     },
     "execution_count": 5,
     "metadata": {},
     "output_type": "execute_result"
    }
   ],
   "source": [
    "@log_time\n",
    "@limit_invoke_with_time(5)\n",
    "@add_cache\n",
    "def print_time(a, b):\n",
    "    sleep(1)\n",
    "    return 10 ** 10, 25000\n",
    "    \n",
    "print_time(10 ** 10, 25000)"
   ]
  },
  {
   "cell_type": "code",
   "execution_count": 7,
   "metadata": {},
   "outputs": [
    {
     "name": "stdout",
     "output_type": "stream",
     "text": [
      "{(10000000000, 25000): (10000000000, 25000)} (10000000000, 25000)\n",
      "7.43865966796875e-05\n"
     ]
    },
    {
     "data": {
      "text/plain": [
       "(10000000000, 25000)"
      ]
     },
     "execution_count": 7,
     "metadata": {},
     "output_type": "execute_result"
    }
   ],
   "source": [
    "print_time(10 ** 10, 25000)\n"
   ]
  },
  {
   "cell_type": "code",
   "execution_count": null,
   "metadata": {},
   "outputs": [],
   "source": []
  }
 ],
 "metadata": {
  "kernelspec": {
   "display_name": "Python 3",
   "language": "python",
   "name": "python3"
  },
  "language_info": {
   "codemirror_mode": {
    "name": "ipython",
    "version": 3
   },
   "file_extension": ".py",
   "mimetype": "text/x-python",
   "name": "python",
   "nbconvert_exporter": "python",
   "pygments_lexer": "ipython3",
   "version": "3.9.13"
  },
  "orig_nbformat": 4,
  "vscode": {
   "interpreter": {
    "hash": "71aed80d8da296467ecafcd01b6fea26437ab497a56920bfa55af747e8f7e6c4"
   }
  }
 },
 "nbformat": 4,
 "nbformat_minor": 2
}
