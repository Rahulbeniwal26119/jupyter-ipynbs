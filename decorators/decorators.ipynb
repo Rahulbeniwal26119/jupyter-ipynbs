{
 "cells": [
  {
   "cell_type": "code",
   "execution_count": 3,
   "metadata": {},
   "outputs": [],
   "source": [
    "import time\n",
    "from time import sleep"
   ]
  },
  {
   "cell_type": "code",
   "execution_count": 2,
   "metadata": {},
   "outputs": [],
   "source": [
    "def log_time(func):\n",
    "    def wrapper(*args):\n",
    "        now = time.time()\n",
    "        response = func(*args)\n",
    "        print(func.__name__, \"took\", time.time() - now)\n",
    "        return response\n",
    "    return wrapper"
   ]
  },
  {
   "cell_type": "code",
   "execution_count": 3,
   "metadata": {},
   "outputs": [],
   "source": [
    "def add_cache(func):\n",
    "    cache = {}\n",
    "    def wrapper(*args):\n",
    "        nonlocal cache\n",
    "        if cache.get(args):\n",
    "            return cache[args]\n",
    "        response = func(*args)\n",
    "        cache[args] = response\n",
    "        return response\n",
    "    return wrapper"
   ]
  },
  {
   "cell_type": "code",
   "execution_count": 4,
   "metadata": {},
   "outputs": [],
   "source": [
    "def limit_invoke_with_time(time_in_sec):\n",
    "    def limit_invoke(func):\n",
    "        last_invoked = None\n",
    "        def wrapper(*args):\n",
    "            nonlocal last_invoked\n",
    "            if last_invoked and last_invoked > time.time() - time_in_sec:\n",
    "                raise Exception(\"execute too soon\")\n",
    "            response = func(*args)\n",
    "            last_invoked = time.time()\n",
    "            return response\n",
    "        return wrapper\n",
    "    return limit_invoke"
   ]
  },
  {
   "cell_type": "code",
   "execution_count": 5,
   "metadata": {},
   "outputs": [
    {
     "name": "stdout",
     "output_type": "stream",
     "text": [
      "{} (10000000000, 25000)\n",
      "1.0023093223571777\n"
     ]
    },
    {
     "data": {
      "text/plain": [
       "(10000000000, 25000)"
      ]
     },
     "execution_count": 5,
     "metadata": {},
     "output_type": "execute_result"
    }
   ],
   "source": [
    "@log_time\n",
    "@limit_invoke_with_time(5)\n",
    "@add_cache\n",
    "def print_time(a, b):\n",
    "    sleep(1)\n",
    "    return 10 ** 10, 25000\n",
    "    \n",
    "print_time(10 ** 10, 25000)"
   ]
  },
  {
   "cell_type": "code",
   "execution_count": 7,
   "metadata": {},
   "outputs": [
    {
     "name": "stdout",
     "output_type": "stream",
     "text": [
      "{(10000000000, 25000): (10000000000, 25000)} (10000000000, 25000)\n",
      "7.43865966796875e-05\n"
     ]
    },
    {
     "data": {
      "text/plain": [
       "(10000000000, 25000)"
      ]
     },
     "execution_count": 7,
     "metadata": {},
     "output_type": "execute_result"
    }
   ],
   "source": [
    "print_time(10 ** 10, 25000)\n"
   ]
  },
  {
   "cell_type": "code",
   "execution_count": 6,
   "metadata": {},
   "outputs": [
    {
     "name": "stdout",
     "output_type": "stream",
     "text": [
      "Executing fn\n"
     ]
    },
    {
     "data": {
      "text/plain": [
       "3"
      ]
     },
     "execution_count": 6,
     "metadata": {},
     "output_type": "execute_result"
    }
   ],
   "source": [
    "def decorate(fn):\n",
    "    def wrapper(*args, **kwargs):\n",
    "        print(\"Executing\", fn.__name__)\n",
    "        return fn(*args, **kwargs)\n",
    "    return wrapper\n"
   ]
  },
  {
   "cell_type": "code",
   "execution_count": null,
   "metadata": {},
   "outputs": [],
   "source": []
  },
  {
   "cell_type": "code",
   "execution_count": 7,
   "metadata": {},
   "outputs": [
    {
     "name": "stdout",
     "output_type": "stream",
     "text": [
      "Executing fn\n"
     ]
    },
    {
     "data": {
      "text/plain": [
       "3"
      ]
     },
     "execution_count": 7,
     "metadata": {},
     "output_type": "execute_result"
    }
   ],
   "source": [
    "def fn(a, b):\n",
    "    return a + b\n",
    "\n",
    "\n",
    "fn = decorate(fn)\n",
    "fn(1, 2)"
   ]
  },
  {
   "cell_type": "code",
   "execution_count": 8,
   "metadata": {},
   "outputs": [
    {
     "name": "stdout",
     "output_type": "stream",
     "text": [
      "Executing fn\n"
     ]
    },
    {
     "data": {
      "text/plain": [
       "3"
      ]
     },
     "execution_count": 8,
     "metadata": {},
     "output_type": "execute_result"
    }
   ],
   "source": [
    "@decorate\n",
    "def fn(a, b):\n",
    "    return a + b"
   ]
  },
  {
   "cell_type": "code",
   "execution_count": 9,
   "metadata": {},
   "outputs": [
    {
     "name": "stdout",
     "output_type": "stream",
     "text": [
      "Executing get_square\n"
     ]
    },
    {
     "data": {
      "text/plain": [
       "100"
      ]
     },
     "execution_count": 9,
     "metadata": {},
     "output_type": "execute_result"
    }
   ],
   "source": [
    "class decorate:\n",
    "    def __init__(self, function):\n",
    "        self.function = function\n",
    "    def __call__(self, *args, **kwargs):\n",
    "        print(\"Executing\", self.function.__name__)\n",
    "        result = self.function(*args, **kwargs)\n",
    "        return result\n",
    "\n",
    "\n",
    "@decorate\n",
    "def get_square(n):\n",
    "    return n ** 2\n",
    "\n",
    "get_square(10)"
   ]
  },
  {
   "cell_type": "code",
   "execution_count": 7,
   "metadata": {},
   "outputs": [],
   "source": [
    "@log_time\n",
    "def do_nothing():\n",
    "    for i in range(1000000):\n",
    "        i ** 10\n"
   ]
  },
  {
   "cell_type": "code",
   "execution_count": 8,
   "metadata": {},
   "outputs": [
    {
     "name": "stdout",
     "output_type": "stream",
     "text": [
      "do_nothing took 0.1369309425354004\n"
     ]
    }
   ],
   "source": [
    "do_nothing()"
   ]
  },
  {
   "cell_type": "code",
   "execution_count": 9,
   "metadata": {},
   "outputs": [
    {
     "ename": "NameError",
     "evalue": "name 'add_cache' is not defined",
     "output_type": "error",
     "traceback": [
      "\u001b[0;31m---------------------------------------------------------------------------\u001b[0m",
      "\u001b[0;31mNameError\u001b[0m                                 Traceback (most recent call last)",
      "Cell \u001b[0;32mIn[9], line 2\u001b[0m\n\u001b[1;32m      1\u001b[0m \u001b[39m@log_time\u001b[39m\n\u001b[0;32m----> 2\u001b[0m \u001b[39m@add_cache\u001b[39m\n\u001b[1;32m      3\u001b[0m \u001b[39mdef\u001b[39;00m \u001b[39mfn\u001b[39m(a, b):\n\u001b[1;32m      4\u001b[0m     \u001b[39mreturn\u001b[39;00m a \u001b[39m*\u001b[39m\u001b[39m*\u001b[39m b\n",
      "\u001b[0;31mNameError\u001b[0m: name 'add_cache' is not defined"
     ]
    }
   ],
   "source": [
    "@log_time\n",
    "@add_cache\n",
    "def fn(a, b):\n",
    "    return a ** b\n"
   ]
  },
  {
   "cell_type": "code",
   "execution_count": 12,
   "metadata": {},
   "outputs": [],
   "source": [
    "def add_cache(func):\n",
    "    cache = {}\n",
    "    def wrapper(*args):\n",
    "        nonlocal cache\n",
    "        if cache.get(args):\n",
    "            return cache[args]\n",
    "        response = func(*args)\n",
    "        cache[args] = response\n",
    "        return response\n",
    "    return wrapper\n",
    "\n",
    "@log_time\n",
    "@add_cache\n",
    "def calculate_pow(a, b):\n",
    "    return a ** b"
   ]
  },
  {
   "cell_type": "code",
   "execution_count": 37,
   "metadata": {},
   "outputs": [
    {
     "name": "stdout",
     "output_type": "stream",
     "text": [
      "wrapper took 5.046227931976318\n"
     ]
    }
   ],
   "source": [
    "def calculate_pow(a, b):\n",
    "    return a ** b\n",
    "calculate_pow = add_cache(calculate_pow)\n",
    "calculate_pow = log_time(calculate_pow)\n",
    "result = calculate_pow(10, 10000)"
   ]
  },
  {
   "cell_type": "code",
   "execution_count": 38,
   "metadata": {},
   "outputs": [
    {
     "name": "stdout",
     "output_type": "stream",
     "text": [
      "wrapper took 2.384185791015625e-06\n"
     ]
    }
   ],
   "source": [
    "result = calculate_pow(10, 10000000)\n"
   ]
  }
 ],
 "metadata": {
  "kernelspec": {
   "display_name": "Python 3",
   "language": "python",
   "name": "python3"
  },
  "language_info": {
   "codemirror_mode": {
    "name": "ipython",
    "version": 3
   },
   "file_extension": ".py",
   "mimetype": "text/x-python",
   "name": "python",
   "nbconvert_exporter": "python",
   "pygments_lexer": "ipython3",
   "version": "3.11.1"
  },
  "orig_nbformat": 4,
  "vscode": {
   "interpreter": {
    "hash": "930379a8b39fc407f21aba7d78a18ad6c0dff7af07878b7bb9289a4858cd86cf"
   }
  }
 },
 "nbformat": 4,
 "nbformat_minor": 2
}
