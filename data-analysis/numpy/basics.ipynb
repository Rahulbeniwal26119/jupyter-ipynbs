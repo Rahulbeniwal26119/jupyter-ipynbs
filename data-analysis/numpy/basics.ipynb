{
 "cells": [
  {
   "cell_type": "code",
   "execution_count": 1,
   "metadata": {},
   "outputs": [],
   "source": [
    "import numpy as np"
   ]
  },
  {
   "cell_type": "code",
   "execution_count": 2,
   "metadata": {},
   "outputs": [
    {
     "data": {
      "text/plain": [
       "array([20.1, 21.3, 23.5, 25.6, 27.8, 29.9, 31.1, 33.2, 35.4, 37.5])"
      ]
     },
     "execution_count": 2,
     "metadata": {},
     "output_type": "execute_result"
    }
   ],
   "source": [
    "# converting list to numpy 1d array\n",
    "\n",
    "celcius_tempreture = [20.1, 21.3, 23.5, 25.6, 27.8, 29.9, 31.1, 33.2, 35.4, 37.5]\n",
    "\n",
    "c = np.array(celcius_tempreture)\n",
    "\n",
    "c"
   ]
  },
  {
   "cell_type": "code",
   "execution_count": 3,
   "metadata": {},
   "outputs": [],
   "source": [
    "fr = c * 9 / 5  + 32"
   ]
  },
  {
   "cell_type": "code",
   "execution_count": 4,
   "metadata": {},
   "outputs": [
    {
     "data": {
      "image/png": "[encoded data removed]",
      "text/plain": [
       "<Figure size 640x480 with 1 Axes>"
      ]
     },
     "metadata": {},
     "output_type": "display_data"
    }
   ],
   "source": [
    "import matplotlib.pyplot as plt\n",
    "\n",
    "plt.plot(fr, 'r--')\n",
    "plt.show()"
   ]
  },
  {
   "cell_type": "code",
   "execution_count": 5,
   "metadata": {},
   "outputs": [
    {
     "name": "stdout",
     "output_type": "stream",
     "text": [
      "Size without the size of the elements:  96\n",
      "Size of all the elements:  228\n",
      "Total size of list, including elements:  324\n"
     ]
    }
   ],
   "source": [
    "# Getting size taken by list\n",
    "\n",
    "from sys import getsizeof as sizeof\n",
    "\n",
    "lst = [24, 12, 57, 80, 100 ** 100]\n",
    "\n",
    "size_of_list_object = sizeof(lst)\n",
    "\n",
    "size_of_elements = sum(map(sizeof, lst))\n",
    "\n",
    "total_list_size = size_of_list_object + size_of_elements\n",
    "\n",
    "print(\"Size without the size of the elements: \", size_of_list_object)\n",
    "print(\"Size of all the elements: \", size_of_elements)\n",
    "print(\"Total size of list, including elements: \", total_list_size)"
   ]
  },
  {
   "cell_type": "code",
   "execution_count": 6,
   "metadata": {},
   "outputs": [
    {
     "name": "stdout",
     "output_type": "stream",
     "text": [
      "Empty array size:  112\n",
      "1-element array size:  120\n",
      "2-element array size:  128\n"
     ]
    }
   ],
   "source": [
    "a = np.array([], np.int64)\n",
    "b = np.array([1,], np.int64)\n",
    "c = np.array([1, 2], np.int64)\n",
    "print(\"Empty array size: \", sizeof(a))\n",
    "print(\"1-element array size: \", sizeof(b))\n",
    "print(\"2-element array size: \", sizeof(c))"
   ]
  },
  {
   "cell_type": "code",
   "execution_count": 7,
   "metadata": {},
   "outputs": [
    {
     "name": "stdout",
     "output_type": "stream",
     "text": [
      "152\n"
     ]
    }
   ],
   "source": [
    "a = np.array([24, 12, 57, 80, 100 ** 100])\n",
    "print(sizeof(a))"
   ]
  },
  {
   "cell_type": "code",
   "execution_count": 8,
   "metadata": {},
   "outputs": [
    {
     "data": {
      "text/plain": [
       "(0.0001804828643798828, 0.00031256675720214844)"
      ]
     },
     "execution_count": 8,
     "metadata": {},
     "output_type": "execute_result"
    }
   ],
   "source": [
    "import time\n",
    "\n",
    "size_of_vec = 1000\n",
    "\n",
    "def pure_python_version():\n",
    "    t1 = time.time()\n",
    "    X = range(size_of_vec)\n",
    "    Y = range(size_of_vec)\n",
    "\n",
    "    Z = [X[i] + Y[i] for i in range(len(X))]\n",
    "    return time.time() - t1\n",
    "\n",
    "def numpy_version():\n",
    "    t1 = time.time()\n",
    "    x = np.arange(size_of_vec)\n",
    "    y = np.arange(size_of_vec)\n",
    "    z = x + y\n",
    "    return time.time() - t1\n",
    "\n",
    "pure_python_version(), numpy_version() "
   ]
  },
  {
   "cell_type": "code",
   "execution_count": 9,
   "metadata": {},
   "outputs": [
    {
     "name": "stdout",
     "output_type": "stream",
     "text": [
      "Numpy is in this example  0.0123364619998938 0.0007374700003310863 16.72808655857914  faster!\n",
      "Numpy is in this example  0.007980568999755633 0.00024998499975481536 31.924191481820724  faster!\n",
      "Numpy is in this example  0.007259483999860095 0.00049669299960442 14.615635826640897  faster!\n"
     ]
    }
   ],
   "source": [
    "import numpy as np\n",
    "from timeit import Timer\n",
    "from sys import getsizeof as sizeof\n",
    "size_of_vec = 1000\n",
    "\n",
    "X_LIST = range(size_of_vec)\n",
    "Y_LIST = range(size_of_vec)\n",
    "\n",
    "X = np.arange(size_of_vec)\n",
    "Y = np.arange(size_of_vec)\n",
    "\n",
    "def pure_python():\n",
    "    Z = [X_LIST[i] + Y_LIST[i] for i in range(len(X_LIST))]\n",
    "\n",
    "def numpy_version():\n",
    "    Z = X + Y\n",
    "\n",
    "timer_obj_1 = Timer(\"pure_python()\", \"from __main__ import pure_python\")\n",
    "timer_obj_2 = Timer(\"numpy_version()\", \"from __main__ import numpy_version\")\n",
    "\n",
    "for i in range(3):\n",
    "    t1 = timer_obj_1.timeit(100)\n",
    "    t2 = timer_obj_2.timeit(100)\n",
    "\n",
    "    # print(\"Python version takes: \", t1)\n",
    "    # print(\"Numpy version takes: \", t2)\n",
    "    print(\"Numpy is in this example \", t1, t2, t1/t2, \" faster!\")"
   ]
  },
  {
   "cell_type": "code",
   "execution_count": 10,
   "metadata": {},
   "outputs": [
    {
     "name": "stdout",
     "output_type": "stream",
     "text": [
      "[0.012184572000023763, 0.011992189000011422, 0.012237678000019514]\n",
      "[0.00042515200038906187, 0.000160760000198934, 0.00013811200005875435]\n"
     ]
    }
   ],
   "source": [
    "print(timer_obj_1.repeat(3, 100))\n",
    "print(timer_obj_2.repeat(3, 100))\n"
   ]
  },
  {
   "cell_type": "code",
   "execution_count": 11,
   "metadata": {},
   "outputs": [
    {
     "name": "stdout",
     "output_type": "stream",
     "text": [
      "[1.  1.3 1.6 1.9 2.2 2.5 2.8 3.1 3.4 3.7 4.  4.3 4.6 4.9 5.2 5.5 5.8 6.1\n",
      " 6.4 6.7 7.  7.3 7.6 7.9 8.2 8.5 8.8 9.1 9.4 9.7]\n"
     ]
    }
   ],
   "source": [
    "a = np.arange(1, 10, 0.3)\n",
    "print(a)"
   ]
  },
  {
   "cell_type": "code",
   "execution_count": 12,
   "metadata": {},
   "outputs": [
    {
     "name": "stdout",
     "output_type": "stream",
     "text": [
      "[1.         3.33333333 5.66666667] [1.         3.33333333 5.66666667]\n"
     ]
    }
   ],
   "source": [
    "a = np.linspace(1, 8, 3, endpoint=True) # consider [1, 8]\n",
    "b = np.linspace(1, 8, 3, endpoint=False) # consider [1, 8)\n",
    "c = np.linspace(1, 8, 4, endpoint=True)[:3]\n",
    "\n",
    "print(b, c)"
   ]
  },
  {
   "cell_type": "code",
   "execution_count": 13,
   "metadata": {},
   "outputs": [
    {
     "name": "stdout",
     "output_type": "stream",
     "text": [
      "42 <class 'numpy.ndarray'> 0\n"
     ]
    }
   ],
   "source": [
    "# 0D Array\n",
    "\n",
    "x = np.array(42)\n",
    "print(x, type(x), x.ndim)"
   ]
  },
  {
   "cell_type": "code",
   "execution_count": 14,
   "metadata": {},
   "outputs": [
    {
     "name": "stdout",
     "output_type": "stream",
     "text": [
      "['1' '2' 'a'] [1 2 3] <U21 int64 1 1\n"
     ]
    }
   ],
   "source": [
    "F = np.array([1, 2, 'a'])\n",
    "V = np.array([1, 2, 3])\n",
    "\n",
    "print(F, V, F.dtype, V.dtype, np.ndim(F), np.ndim(V))"
   ]
  },
  {
   "cell_type": "code",
   "execution_count": 15,
   "metadata": {},
   "outputs": [],
   "source": [
    "x = np.array(\n",
    "    [[67, 63, 87], [77, 69, 59], [85, 87, 99], [79, 72, 71], [63, 89, 93], [68, 92, 78]]\n",
    ")"
   ]
  },
  {
   "cell_type": "code",
   "execution_count": 16,
   "metadata": {},
   "outputs": [],
   "source": [
    "x.shape = (9, 2)"
   ]
  },
  {
   "cell_type": "code",
   "execution_count": 17,
   "metadata": {},
   "outputs": [
    {
     "name": "stdout",
     "output_type": "stream",
     "text": [
      "113\n"
     ]
    }
   ],
   "source": [
    "import numpy as np\n",
    "\n",
    "\n",
    "B = np.array(\n",
    "    [\n",
    "        [[111, 112, 113], [121, 122, 123]],\n",
    "        [[211, 212, 213], [221, 222, 223]],\n",
    "        [[311, 312, 313], [321, 322, 323]],\n",
    "        [[411, 412, 413], [421, 422, 423]],\n",
    "    ]\n",
    ")\n",
    "\n",
    "print(B[:3][:2][:1][0][:1][0][2])"
   ]
  },
  {
   "cell_type": "code",
   "execution_count": 18,
   "metadata": {},
   "outputs": [
    {
     "data": {
      "text/plain": [
       "array([[ 0,  3,  6],\n",
       "       [14, 17, 20]])"
      ]
     },
     "execution_count": 18,
     "metadata": {},
     "output_type": "execute_result"
    }
   ],
   "source": [
    "X = np.arange(28).reshape(4, 7)\n",
    "X[::2, ::3]"
   ]
  },
  {
   "cell_type": "code",
   "execution_count": 19,
   "metadata": {},
   "outputs": [
    {
     "name": "stdout",
     "output_type": "stream",
     "text": [
      "[[[46 14]\n",
      "  [45 14]]\n",
      "\n",
      " [[47 13]\n",
      "  [48 15]]]\n"
     ]
    }
   ],
   "source": [
    "A = np.array(\n",
    "    [\n",
    "        [[45, 12, 4], [45, 13, 5], [46, 12, 6]],\n",
    "        [[46, 14, 4], [45, 14, 5], [46, 11, 5]],\n",
    "        [[47, 13, 2], [48, 15, 5], [52, 15, 1]],\n",
    "    ]\n",
    ")\n",
    "\n",
    "print(A[1:, :2, :2])"
   ]
  },
  {
   "cell_type": "code",
   "execution_count": 20,
   "metadata": {},
   "outputs": [
    {
     "name": "stdout",
     "output_type": "stream",
     "text": [
      "[0 1 2 3 4 5 6 7 8 9]\n",
      "[ 0  1 22 23  4  5  6  7  8  9]\n",
      "True\n"
     ]
    }
   ],
   "source": [
    "A = np.arange(10)\n",
    "print(A)\n",
    "\n",
    "S = A[2:6]\n",
    "S[0] = 22\n",
    "S[1] = 23\n",
    "\n",
    "print(A)\n",
    "print(np.may_share_memory(S, A))"
   ]
  },
  {
   "cell_type": "code",
   "execution_count": 21,
   "metadata": {},
   "outputs": [
    {
     "data": {
      "text/plain": [
       "True"
      ]
     },
     "execution_count": 21,
     "metadata": {},
     "output_type": "execute_result"
    }
   ],
   "source": [
    "A = np.arange(12)\n",
    "B = A.reshape(3, 4)\n",
    "\n",
    "A[0] = 42\n",
    "\n",
    "np.may_share_memory(A, B)"
   ]
  },
  {
   "cell_type": "code",
   "execution_count": 22,
   "metadata": {},
   "outputs": [
    {
     "name": "stdout",
     "output_type": "stream",
     "text": [
      "[0, 1, 2, 3, 4, 5, 6, 7, 8, 9]\n",
      "[0, 1, 2, 3, 4, 5, 6, 7, 8, 9]\n"
     ]
    }
   ],
   "source": [
    "lst = list(range(10))\n",
    "\n",
    "lst2 = lst[2:6]\n",
    "\n",
    "lst2[0] = 22\n",
    "print(lst)\n",
    "print(lst)"
   ]
  },
  {
   "cell_type": "code",
   "execution_count": 23,
   "metadata": {},
   "outputs": [
    {
     "name": "stdout",
     "output_type": "stream",
     "text": [
      "[[1 1 1]\n",
      " [1 1 1]]\n"
     ]
    }
   ],
   "source": [
    "##### Creating Arrays with ones, zeros an empty\n",
    "\n",
    "E = np.ones((2, 3), dtype=int)\n",
    "print(E)"
   ]
  },
  {
   "cell_type": "code",
   "execution_count": 24,
   "metadata": {},
   "outputs": [
    {
     "name": "stdout",
     "output_type": "stream",
     "text": [
      "[[0 0 0]\n",
      " [0 0 0]]\n"
     ]
    }
   ],
   "source": [
    "E = np.zeros((2, 3), dtype=int)\n",
    "print(E)"
   ]
  },
  {
   "cell_type": "code",
   "execution_count": 25,
   "metadata": {},
   "outputs": [
    {
     "name": "stdout",
     "output_type": "stream",
     "text": [
      "[[1 1 1]\n",
      " [1 1 1]]\n"
     ]
    }
   ],
   "source": [
    "E = np.empty((2, 3), dtype=int)\n",
    "print(E)"
   ]
  },
  {
   "cell_type": "code",
   "execution_count": 26,
   "metadata": {},
   "outputs": [
    {
     "name": "stdout",
     "output_type": "stream",
     "text": [
      "[[1 1 1]\n",
      " [1 1 1]]\n"
     ]
    }
   ],
   "source": [
    "x = np.array([[2, 5, 18], [14, 4, 6]])\n",
    "e = np.ones_like(x)\n",
    "print(e)"
   ]
  },
  {
   "cell_type": "code",
   "execution_count": 28,
   "metadata": {},
   "outputs": [
    {
     "name": "stdout",
     "output_type": "stream",
     "text": [
      "[[0 0 0]\n",
      " [0 0 0]]\n"
     ]
    }
   ],
   "source": [
    "x = np.array([[2, 5, 18], [14, 4, 6]])\n",
    "e = np.zeros_like(x)\n",
    "print(e)"
   ]
  },
  {
   "cell_type": "code",
   "execution_count": 35,
   "metadata": {},
   "outputs": [
    {
     "data": {
      "text/plain": [
       "array([[0., 0., 0., 0.],\n",
       "       [0., 0., 0., 0.]])"
      ]
     },
     "execution_count": 35,
     "metadata": {},
     "output_type": "execute_result"
    }
   ],
   "source": [
    "np.zeros((2, 4))"
   ]
  },
  {
   "cell_type": "markdown",
   "metadata": {},
   "source": [
    "### Copying Arrays"
   ]
  },
  {
   "cell_type": "code",
   "execution_count": 40,
   "metadata": {},
   "outputs": [
    {
     "data": {
      "text/plain": [
       "  C_CONTIGUOUS : True\n",
       "  F_CONTIGUOUS : True\n",
       "  OWNDATA : True\n",
       "  WRITEABLE : True\n",
       "  ALIGNED : True\n",
       "  WRITEBACKIFCOPY : False"
      ]
     },
     "execution_count": 40,
     "metadata": {},
     "output_type": "execute_result"
    },
    {
     "name": "stdout",
     "output_type": "stream",
     "text": [
      "\u001b[0;31mDocstring:\u001b[0m\n",
      "a.copy(order='C')\n",
      "\n",
      "Return a copy of the array.\n",
      "\n",
      "Parameters\n",
      "----------\n",
      "order : {'C', 'F', 'A', 'K'}, optional\n",
      "    Controls the memory layout of the copy. 'C' means C-order,\n",
      "    'F' means F-order, 'A' means 'F' if `a` is Fortran contiguous,\n",
      "    'C' otherwise. 'K' means match the layout of `a` as closely\n",
      "    as possible. (Note that this function and :func:`numpy.copy` are very\n",
      "    similar but have different default values for their order=\n",
      "    arguments, and this function always passes sub-classes through.)\n",
      "\n",
      "See also\n",
      "--------\n",
      "numpy.copy : Similar function with different default behavior\n",
      "numpy.copyto\n",
      "\n",
      "Notes\n",
      "-----\n",
      "This function is the preferred method for creating an array copy.  The\n",
      "function :func:`numpy.copy` is similar, but it defaults to using order 'K',\n",
      "and will not pass sub-classes through by default.\n",
      "\n",
      "Examples\n",
      "--------\n",
      ">>> x = np.array([[1,2,3],[4,5,6]], order='F')\n",
      "\n",
      ">>> y = x.copy()\n",
      "\n",
      ">>> x.fill(0)\n",
      "\n",
      ">>> x\n",
      "array([[0, 0, 0],\n",
      "       [0, 0, 0]])\n",
      "\n",
      ">>> y\n",
      "array([[1, 2, 3],\n",
      "       [4, 5, 6]])\n",
      "\n",
      ">>> y.flags['C_CONTIGUOUS']\n",
      "True\n",
      "\u001b[0;31mType:\u001b[0m      method_descriptor"
     ]
    }
   ],
   "source": [
    "import numpy as np\n",
    "\n",
    "np.ndarray.copy?\n",
    "# x = np.arange(6)\n",
    "# y = x.copy(order='A')\n",
    "\n",
    "x.flags"
   ]
  },
  {
   "cell_type": "code",
   "execution_count": null,
   "metadata": {},
   "outputs": [],
   "source": []
  }
 ],
 "metadata": {
  "kernelspec": {
   "display_name": "base",
   "language": "python",
   "name": "python3"
  },
  "language_info": {
   "codemirror_mode": {
    "name": "ipython",
    "version": 3
   },
   "file_extension": ".py",
   "mimetype": "text/x-python",
   "name": "python",
   "nbconvert_exporter": "python",
   "pygments_lexer": "ipython3",
   "version": "3.11.5"
  }
 },
 "nbformat": 4,
 "nbformat_minor": 2
}
