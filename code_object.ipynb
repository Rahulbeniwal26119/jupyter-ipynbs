{
 "cells": [
  {
   "cell_type": "markdown",
   "metadata": {},
   "source": [
    "- Python is not only  a interpreted language but also a compiled language.\n",
    "- Either no language is interpreted or compiled. It total depend on the usage of the language.\n",
    "- Like C++ is compiled but interpreted like cling allow to run C++ in interactive mode.\n",
    "- So Python is compiled but interpreted. \n",
    "- When python code is evaluated then it is converted to bytecode and then executed."
   ]
  },
  {
   "cell_type": "code",
   "execution_count": 4,
   "metadata": {},
   "outputs": [
    {
     "name": "stdout",
     "output_type": "stream",
     "text": [
      "<code object <module> at 0x7f4f97d25630, file \"<string>\", line 1>\n"
     ]
    }
   ],
   "source": [
    "code_str = \"\"\"\n",
    "print('Hello World')\n",
    "\"\"\"\n",
    "\n",
    "code_obj = compile(code_str, '<string>', 'single')\n",
    "# compile returns a code object \n",
    "# '<string>' is the name of the file in which the code is written here <string> means iteractive shell\n",
    "# 'exec' is the mode in which the code is executed other choices are 'eval' and 'single'\n",
    " \n",
    "\n",
    "# compiled code is not executed immediately but stored in a code object  \n",
    "print(code_obj)"
   ]
  },
  {
   "cell_type": "code",
   "execution_count": 12,
   "metadata": {},
   "outputs": [
    {
     "name": "stdout",
     "output_type": "stream",
     "text": [
      "Error during compilation :  there are more than one statement in the code\n"
     ]
    }
   ],
   "source": [
    "# single -> executes only the first statement \n",
    "code_str = \"\"\"\n",
    "print('Hello World')\n",
    "print('Hello World Again')\n",
    "\"\"\"\n",
    "try:\n",
    "    code_obj = compile(code_str, '<string>', 'single')\n",
    "    exec(code_obj)\n",
    "except Exception as e:\n",
    "    print(\"Error during compilation :  there are more than one statement in the code\")"
   ]
  },
  {
   "cell_type": "code",
   "execution_count": 13,
   "metadata": {},
   "outputs": [
    {
     "name": "stdout",
     "output_type": "stream",
     "text": [
      "Hello World\n",
      "Hello World Again\n"
     ]
    }
   ],
   "source": [
    "# exec -> executes all the  statements \n",
    "code_str = \"\"\"\n",
    "print('Hello World')\n",
    "print('Hello World Again')\n",
    "\"\"\"\n",
    "try:\n",
    "    code_obj = compile(code_str, '<string>', 'exec')\n",
    "    exec(code_obj)\n",
    "except Exception as e:\n",
    "    print(\"Error during compilation\")"
   ]
  },
  {
   "cell_type": "code",
   "execution_count": 20,
   "metadata": {},
   "outputs": [
    {
     "name": "stdout",
     "output_type": "stream",
     "text": [
      "60\n"
     ]
    }
   ],
   "source": [
    "# eval -> evaluate the simple expression \n",
    "code_str = \"\"\"\n",
    "print(2 * 3 * 10)\n",
    "\"\"\"\n",
    "try:\n",
    "    code_obj = compile(code_str, '<string>', 'eval')\n",
    "    exec(code_obj)\n",
    "except Exception as e:\n",
    "    print(\"Error during compilation\")"
   ]
  },
  {
   "cell_type": "code",
   "execution_count": 24,
   "metadata": {},
   "outputs": [
    {
     "name": "stdout",
     "output_type": "stream",
     "text": [
      "<string>\n",
      "<module>\n"
     ]
    }
   ],
   "source": [
    "print(code_obj.co_filename)\n",
    "print(code_obj.co_name) # code_obj is a module level code"
   ]
  },
  {
   "cell_type": "code",
   "execution_count": 42,
   "metadata": {},
   "outputs": [
    {
     "name": "stdout",
     "output_type": "stream",
     "text": [
      "<code object foo at 0x7f4fb813a760, file \"/tmp/ipykernel_23711/244912296.py\", line 1>\n",
      "('x', 'y')\n",
      "b't\\x00d\\x01\\x83\\x01\\x01\\x00t\\x00|\\x00|\\x01\\x83\\x02\\x01\\x00d\\x00S\\x00'\n",
      "2\n",
      "('self', 'a', 'b')\n"
     ]
    }
   ],
   "source": [
    "def foo(x,y):\n",
    "    print(5)\n",
    "    print(x,y)\n",
    "\n",
    "class _C:\n",
    "\n",
    "    def _m(self, a, b):\n",
    "        print(self)\n",
    "\n",
    "# compile(fn) is  equivalent to fn.__code__\n",
    "print(foo.__code__)\n",
    "print(foo.__code__.co_varnames)\n",
    "print(foo.__code__.co_code) # show the byte code \n",
    "print(foo.__code__.co_argcount)\n",
    "print(_C._m.__code__.co_varnames)"
   ]
  },
  {
   "cell_type": "code",
   "execution_count": 51,
   "metadata": {},
   "outputs": [
    {
     "name": "stdout",
     "output_type": "stream",
     "text": [
      "(None, 5)\n",
      "1\n"
     ]
    }
   ],
   "source": [
    "print(foo.__code__.co_consts) # returns the constants \n",
    "print(foo.__code__.co_firstlineno) # returns the names"
   ]
  },
  {
   "cell_type": "code",
   "execution_count": 49,
   "metadata": {},
   "outputs": [
    {
     "name": "stdout",
     "output_type": "stream",
     "text": [
      "  2           0 LOAD_GLOBAL              0 (print)\n",
      "              2 LOAD_CONST               1 (5)\n",
      "              4 CALL_FUNCTION            1\n",
      "              6 POP_TOP\n",
      "\n",
      "  3           8 LOAD_GLOBAL              0 (print)\n",
      "             10 LOAD_FAST                0 (x)\n",
      "             12 LOAD_FAST                1 (y)\n",
      "             14 CALL_FUNCTION            2\n",
      "             16 POP_TOP\n",
      "             18 LOAD_CONST               0 (None)\n",
      "             20 RETURN_VALUE\n",
      "None\n"
     ]
    }
   ],
   "source": [
    "# disassemble the code object\n",
    "# Cpython VM implment bytecode evaluation by function class \n",
    "# so even module has a return values \n",
    "import dis \n",
    "print(dis.dis(foo.__code__))"
   ]
  },
  {
   "cell_type": "code",
   "execution_count": 58,
   "metadata": {},
   "outputs": [
    {
     "name": "stdout",
     "output_type": "stream",
     "text": [
      "b'd\\x00Z\\x00d\\x01Z\\x01e\\x02e\\x00e\\x01\\x17\\x00\\x83\\x01\\x01\\x00d\\x02S\\x00'\n",
      "b'\\x00\\x01\\x04\\x01\\x04\\x01'\n",
      "  2           0 LOAD_CONST               0 (1)\n",
      "              2 STORE_NAME               0 (x)\n",
      "\n",
      "  3           4 LOAD_CONST               1 (2)\n",
      "              6 STORE_NAME               1 (y)\n",
      "\n",
      "  4           8 LOAD_NAME                2 (print)\n",
      "             10 LOAD_NAME                0 (x)\n",
      "             12 LOAD_NAME                1 (y)\n",
      "             14 BINARY_ADD\n",
      "             16 CALL_FUNCTION            1\n",
      "             18 POP_TOP\n",
      "             20 LOAD_CONST               2 (None)\n",
      "             22 RETURN_VALUE\n",
      "None\n"
     ]
    }
   ],
   "source": [
    "code_str  = \"\"\"\n",
    "x=1\n",
    "y=2\n",
    "print(x+y)\n",
    "\"\"\"\n",
    "code = compile(code_str, 'test_file_file.py', 'exec')\n",
    "print(code.co_code)\n",
    "print(code.co_lnotab) # line number table\n",
    "print(dis.dis(code))"
   ]
  },
  {
   "cell_type": "code",
   "execution_count": null,
   "metadata": {},
   "outputs": [],
   "source": []
  }
 ],
 "metadata": {
  "interpreter": {
   "hash": "916dbcbb3f70747c44a77c7bcd40155683ae19c65e1c03b4aa3499c5328201f1"
  },
  "kernelspec": {
   "display_name": "Python 3.10.4 64-bit",
   "language": "python",
   "name": "python3"
  },
  "language_info": {
   "codemirror_mode": {
    "name": "ipython",
    "version": 3
   },
   "file_extension": ".py",
   "mimetype": "text/x-python",
   "name": "python",
   "nbconvert_exporter": "python",
   "pygments_lexer": "ipython3",
   "version": "3.10.4"
  },
  "orig_nbformat": 4
 },
 "nbformat": 4,
 "nbformat_minor": 2
}
