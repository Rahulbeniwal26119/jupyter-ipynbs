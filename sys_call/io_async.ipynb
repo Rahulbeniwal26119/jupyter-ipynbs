{
 "cells": [
  {
   "cell_type": "code",
   "execution_count": 13,
   "metadata": {
    "collapsed": true
   },
   "outputs": [
    {
     "ename": "OSError",
     "evalue": "[Errno 98] Address already in use",
     "output_type": "error",
     "traceback": [
      "\u001B[0;31m---------------------------------------------------------------------------\u001B[0m",
      "\u001B[0;31mOSError\u001B[0m                                   Traceback (most recent call last)",
      "Cell \u001B[0;32mIn[13], line 6\u001B[0m\n\u001B[1;32m      4\u001B[0m server_socket \u001B[38;5;241m=\u001B[39m socket\u001B[38;5;241m.\u001B[39msocket(socket\u001B[38;5;241m.\u001B[39mAF_INET, socket\u001B[38;5;241m.\u001B[39mSOCK_STREAM)\n\u001B[1;32m      5\u001B[0m server_socket\u001B[38;5;241m.\u001B[39msetsockopt(socket\u001B[38;5;241m.\u001B[39mSOL_SOCKET, socket\u001B[38;5;241m.\u001B[39mSO_REUSEADDR, \u001B[38;5;241m1\u001B[39m)\n\u001B[0;32m----> 6\u001B[0m \u001B[43mserver_socket\u001B[49m\u001B[38;5;241;43m.\u001B[39;49m\u001B[43mbind\u001B[49m\u001B[43m(\u001B[49m\u001B[43m(\u001B[49m\u001B[38;5;124;43m'\u001B[39;49m\u001B[38;5;124;43mlocalhost\u001B[39;49m\u001B[38;5;124;43m'\u001B[39;49m\u001B[43m,\u001B[49m\u001B[43m \u001B[49m\u001B[38;5;241;43m8000\u001B[39;49m\u001B[43m)\u001B[49m\u001B[43m)\u001B[49m\n\u001B[1;32m      7\u001B[0m server_socket\u001B[38;5;241m.\u001B[39mlisten()\n\u001B[1;32m      9\u001B[0m read_list \u001B[38;5;241m=\u001B[39m [server_socket]\n",
      "\u001B[0;31mOSError\u001B[0m: [Errno 98] Address already in use"
     ]
    }
   ],
   "source": [
    "import select\n",
    "import socket\n",
    "\n",
    "server_socket = socket.socket(socket.AF_INET, socket.SOCK_STREAM)\n",
    "server_socket.setsockopt(socket.SOL_SOCKET, socket.SO_REUSEADDR, 1)\n",
    "server_socket.bind(('localhost', 8000))\n",
    "server_socket.listen()\n",
    "\n",
    "read_list = [server_socket]\n",
    "\n",
    "try:\n",
    "    while True:\n",
    "        read_to_read, _, _ = select.select(read_list, [], [])\n",
    "        for sock in read_to_read:\n",
    "\n",
    "            if sock == server_socket:\n",
    "                client_sock, addr = server_socket.accept()\n",
    "                print(\"Accepted\")\n",
    "                read_list.append(client_sock)\n",
    "\n",
    "            else:\n",
    "                data = sock.recv(1000)\n",
    "                if not data:\n",
    "                    read_list.remove(sock)\n",
    "                    sock.close()\n",
    "                    continue\n",
    "                print(f\"Recieved Data: {data.decode()}\")\n",
    "except Exception as e:\n",
    "    print(\"e\")\n",
    "    server_socket.close()\n"
   ]
  },
  {
   "cell_type": "code",
   "execution_count": 1,
   "outputs": [
    {
     "ename": "NameError",
     "evalue": "name 'server_socket' is not defined",
     "output_type": "error",
     "traceback": [
      "\u001B[0;31m---------------------------------------------------------------------------\u001B[0m",
      "\u001B[0;31mNameError\u001B[0m                                 Traceback (most recent call last)",
      "Cell \u001B[0;32mIn[1], line 1\u001B[0m\n\u001B[0;32m----> 1\u001B[0m \u001B[43mserver_socket\u001B[49m\u001B[38;5;241m.\u001B[39mfileno()\n",
      "\u001B[0;31mNameError\u001B[0m: name 'server_socket' is not defined"
     ]
    }
   ],
   "source": [
    "server_socket.fileno()"
   ],
   "metadata": {
    "collapsed": false
   }
  },
  {
   "cell_type": "code",
   "execution_count": null,
   "outputs": [],
   "source": [],
   "metadata": {
    "collapsed": false
   }
  }
 ],
 "metadata": {
  "kernelspec": {
   "display_name": "Python 3",
   "language": "python",
   "name": "python3"
  },
  "language_info": {
   "codemirror_mode": {
    "name": "ipython",
    "version": 2
   },
   "file_extension": ".py",
   "mimetype": "text/x-python",
   "name": "python",
   "nbconvert_exporter": "python",
   "pygments_lexer": "ipython2",
   "version": "2.7.6"
  }
 },
 "nbformat": 4,
 "nbformat_minor": 0
}
