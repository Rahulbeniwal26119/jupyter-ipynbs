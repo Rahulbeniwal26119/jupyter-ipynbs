{
 "cells": [
  {
   "cell_type": "code",
   "execution_count": 2,
   "metadata": {},
   "outputs": [],
   "source": [
    "from collections import UserDict"
   ]
  },
  {
   "cell_type": "code",
   "execution_count": 23,
   "metadata": {},
   "outputs": [],
   "source": [
    "class UpperCaseDict(dict):\n",
    "    def __setitem__(self, key, value):\n",
    "        key = key.upper()\n",
    "        super().__setitem__(key, value)\n",
    "    \n",
    "    def __init__(self, mapping=None, /, **kwargs):\n",
    "        if mapping is not None:\n",
    "            mapping = {\n",
    "                str(key).upper(): value\n",
    "                for key, value in mapping.items()\n",
    "            }\n",
    "        else:\n",
    "            mapping = {}\n",
    "        mapping.update(\n",
    "            {\n",
    "                str(key).upper(): value\n",
    "                for key, value in kwargs.items()\n",
    "            }\n",
    "        )\n",
    "        super().__init__(mapping)"
   ]
  },
  {
   "cell_type": "code",
   "execution_count": 24,
   "metadata": {},
   "outputs": [],
   "source": [
    "numbers = UpperCaseDict(\n",
    "    {\n",
    "        \"one\": 1, \n",
    "        \"two\": 2,\n",
    "        \"three\": 3\n",
    "    },\n",
    "    four=4\n",
    ")\n",
    "numbers[\"oNe\"] = 1\n",
    "numbers[\"tWo\"] = 2"
   ]
  },
  {
   "cell_type": "code",
   "execution_count": 25,
   "metadata": {},
   "outputs": [
    {
     "data": {
      "text/plain": [
       "{'ONE': 1, 'TWO': 2, 'THREE': 3, 'FOUR': 4}"
      ]
     },
     "execution_count": 25,
     "metadata": {},
     "output_type": "execute_result"
    }
   ],
   "source": [
    "numbers"
   ]
  },
  {
   "cell_type": "code",
   "execution_count": 1,
   "metadata": {},
   "outputs": [],
   "source": [
    "from collections import UserDict\n",
    "\n",
    "class UpperCaseDict(UserDict):\n",
    "    def __setitem__(self, key, value):\n",
    "        key = key.upper()\n",
    "        super().__setitem__(key, value)"
   ]
  },
  {
   "cell_type": "code",
   "execution_count": 37,
   "metadata": {},
   "outputs": [
    {
     "data": {
      "text/plain": [
       "5"
      ]
     },
     "execution_count": 37,
     "metadata": {},
     "output_type": "execute_result"
    }
   ],
   "source": [
    "number = UpperCaseDict({\n",
    "    \"a\": \"beniwal\"\n",
    "})\n",
    "\n",
    "number[\"b\"] = \"test_name\"\n",
    "number[\"c\"] = \"test_name_2\"\n",
    "number.update({\n",
    "    \"c\": \"test_name_4\"\n",
    "})\n",
    "number.setdefault(\"c\", \"cc\")\n",
    "number.setdefault(\"five\", 5)"
   ]
  },
  {
   "cell_type": "code",
   "execution_count": 38,
   "metadata": {},
   "outputs": [
    {
     "data": {
      "text/plain": [
       "{'A': 'beniwal', 'B': 'test_name', 'C': 'cc', 'FIVE': 5}"
      ]
     },
     "execution_count": 38,
     "metadata": {},
     "output_type": "execute_result"
    }
   ],
   "source": [
    "number"
   ]
  },
  {
   "cell_type": "code",
   "execution_count": 32,
   "metadata": {},
   "outputs": [
    {
     "data": {
      "text/plain": [
       "{'A': 'beniwal', 'B': 'test_name', 'C': 'test_name_4', 'FIVE': 5}"
      ]
     },
     "execution_count": 32,
     "metadata": {},
     "output_type": "execute_result"
    }
   ],
   "source": [
    "number"
   ]
  },
  {
   "cell_type": "code",
   "execution_count": 39,
   "metadata": {},
   "outputs": [
    {
     "data": {
      "text/plain": [
       "{'A': 'beniwal', 'B': 'test_name', 'C': 'cc', 'FIVE': 5}"
      ]
     },
     "execution_count": 39,
     "metadata": {},
     "output_type": "execute_result"
    }
   ],
   "source": [
    "number.data"
   ]
  },
  {
   "cell_type": "code",
   "execution_count": 40,
   "metadata": {},
   "outputs": [],
   "source": [
    "UK_TO_US = {\"colour\": \"color\", \"flavour\": \"flavor\", \"behaviour\": \"behavior\"}\n",
    "\n",
    "class EnglishSpelledDict(UserDict):\n",
    "    def __getitem__(self, key):\n",
    "        try:\n",
    "            return self.data[key]\n",
    "        except KeyError:\n",
    "            pass\n",
    "        try:\n",
    "            return self.data[UK_TO_US[key]]\n",
    "        except KeyError:\n",
    "            pass \n",
    "        raise KeyError(key)\n",
    "\n",
    "\n",
    "    def __setitem__(self, key, value):\n",
    "        try:\n",
    "            key = UK_TO_US[key]\n",
    "        except KeyError:\n",
    "            pass\n",
    "        self.data[key] = value \n",
    "        "
   ]
  },
  {
   "cell_type": "code",
   "execution_count": 44,
   "metadata": {},
   "outputs": [
    {
     "data": {
      "text/plain": [
       "'vanilla'"
      ]
     },
     "execution_count": 44,
     "metadata": {},
     "output_type": "execute_result"
    }
   ],
   "source": [
    "likes = EnglishSpelledDict({\"color\": \"blue\", \"flavour\": \"vanilla\"})\n",
    "likes['flavor']"
   ]
  },
  {
   "cell_type": "code",
   "execution_count": 47,
   "metadata": {},
   "outputs": [],
   "source": [
    "class EngilishSpelledDict(dict):\n",
    "    def __getitem__(self, key):\n",
    "        try:\n",
    "            return super().__getitem__(key)\n",
    "        except KeyError:\n",
    "            pass\n",
    "        try:\n",
    "            return super().__getitem__(UK_TO_US[key])\n",
    "        except KeyError:\n",
    "            pass\n",
    "        raise KeyError(key)\n",
    "    \n",
    "    def __setitem__(self, __key, __value) -> None:\n",
    "        return super().__setitem__(__key, __value)"
   ]
  },
  {
   "cell_type": "code",
   "execution_count": 6,
   "metadata": {},
   "outputs": [],
   "source": [
    "class ValueDict(dict):\n",
    "    def key_of(self, value):\n",
    "        for k, v in self.items():\n",
    "            if v== value:\n",
    "                yield k \n",
    "        # raise ValueError(f\"{value} is not in the dictionary\")\n",
    "    "
   ]
  },
  {
   "cell_type": "code",
   "execution_count": 7,
   "metadata": {},
   "outputs": [],
   "source": [
    "inventory = ValueDict()\n",
    "inventory[\"apple\"] = 2\n",
    "inventory[\"banana\"] = 2\n",
    "inventory.update({\n",
    "    \"orange\": 10\n",
    "})"
   ]
  },
  {
   "cell_type": "code",
   "execution_count": 8,
   "metadata": {},
   "outputs": [],
   "source": [
    "it = inventory.key_of(2)"
   ]
  },
  {
   "cell_type": "code",
   "execution_count": 9,
   "metadata": {},
   "outputs": [
    {
     "data": {
      "text/plain": [
       "['apple', 'banana']"
      ]
     },
     "execution_count": 9,
     "metadata": {},
     "output_type": "execute_result"
    }
   ],
   "source": [
    "list(it)"
   ]
  },
  {
   "cell_type": "code",
   "execution_count": 3,
   "metadata": {},
   "outputs": [],
   "source": [
    "class ExtendedDict(UserDict):\n",
    "    def apply(self, action):\n",
    "        for key, value in self.items():\n",
    "            self.data[key] = action(value)\n",
    "\n",
    "    def remove(self, key):\n",
    "        if key in self.data:\n",
    "            val = self.data[key]\n",
    "            del self.data[key]\n",
    "            return val \n",
    "\n",
    "    def is_empty(self):\n",
    "        return len(self.data) == 0 \n",
    "    \n",
    "\n",
    "class ExtentedDict_dict(dict):\n",
    "    def apply(self, action):\n",
    "        for key, value in self.items():\n",
    "            self[key] = action(value)\n",
    "        \n",
    "    def remove(self, key):\n",
    "        del self[key]\n",
    "    \n",
    "    def is_empty(self):\n",
    "        return len(self) == 0"
   ]
  },
  {
   "cell_type": "code",
   "execution_count": 4,
   "metadata": {},
   "outputs": [],
   "source": [
    "import timeit\n",
    "\n",
    "init_data = dict(zip(range(1000), range(1000)))"
   ]
  },
  {
   "cell_type": "code",
   "execution_count": 15,
   "metadata": {},
   "outputs": [],
   "source": [
    "t1 = min(timeit.repeat(\n",
    "    stmt=\"ExtentedDict_dict(init_data)\",\n",
    "    number=1000,\n",
    "    repeat=5,\n",
    "    globals=globals()\n",
    "))\n",
    "t2 = min(timeit.repeat(\n",
    "    stmt=\"ExtendedDict(init_data)\",\n",
    "    number=1000,\n",
    "    repeat=5,\n",
    "    globals=globals()\n",
    "))"
   ]
  },
  {
   "cell_type": "code",
   "execution_count": 17,
   "metadata": {},
   "outputs": [
    {
     "data": {
      "text/plain": [
       "17.11169823352225"
      ]
     },
     "execution_count": 17,
     "metadata": {},
     "output_type": "execute_result"
    }
   ],
   "source": [
    "t2 / t1 "
   ]
  },
  {
   "attachments": {},
   "cell_type": "markdown",
   "metadata": {},
   "source": [
    "##### UserDict based custom dict are easy to build but have performance issue comparision to native dict because dict is implemented in pure c code but UserDict is pure python implementation"
   ]
  }
 ],
 "metadata": {
  "kernelspec": {
   "display_name": "Python 3",
   "language": "python",
   "name": "python3"
  },
  "language_info": {
   "codemirror_mode": {
    "name": "ipython",
    "version": 3
   },
   "file_extension": ".py",
   "mimetype": "text/x-python",
   "name": "python",
   "nbconvert_exporter": "python",
   "pygments_lexer": "ipython3",
   "version": "3.11.1"
  },
  "orig_nbformat": 4,
  "vscode": {
   "interpreter": {
    "hash": "ead1b95f633dc9c51826328e1846203f51a198c6fb5f2884a80417ba131d4e82"
   }
  }
 },
 "nbformat": 4,
 "nbformat_minor": 2
}
