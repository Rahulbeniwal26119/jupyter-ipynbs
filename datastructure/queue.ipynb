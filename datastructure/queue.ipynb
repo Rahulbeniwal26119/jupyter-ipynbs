{
 "cells": [
  {
   "cell_type": "code",
   "execution_count": null,
   "metadata": {},
   "outputs": [],
   "source": [
    "import queue \n",
    "from dataclasses import dataclass, field \n",
    "from typing import Any \n",
    "\n",
    "# for stoping comparision of value elements \n",
    "# for same priority use dataclass \n",
    "\n",
    "@dataclass(order=True)\n",
    "class PrioritizedItem:\n",
    "    priority : int \n",
    "    item : Any = field(compare=False)\n",
    "\n",
    "# if comparision with item is off then \n",
    "# it will follow FIFO strategy for same priority \n",
    "\n",
    "q = queue.PriorityQueue(maxsize=5)\n",
    "q.put(PrioritizedItem(3, 10))\n",
    "q.put(PrioritizedItem(3, 11))\n",
    "q.put(PrioritizedItem(2, 8))\n",
    "print(q.get())\n",
    "print(q.get())\n",
    "\n",
    "q2 = queue.PriorityQueue(maxsize=5)\n",
    "q2.put((3,10))\n",
    "q2.put((3,11))\n",
    "q2.put((2,8))\n",
    "print(q2.get())\n",
    "print(q2.get())"
   ]
  },
  {
   "cell_type": "code",
   "execution_count": null,
   "metadata": {},
   "outputs": [],
   "source": [
    "import threading \n",
    "\n",
    "q = queue.Queue() # queue is thread safe\n",
    "\n",
    "def worker():\n",
    "    while True:\n",
    "        item = q.get()\n",
    "        print(f'Working on {item}')\n",
    "        print(f'Done with {item}')\n",
    "        q.task_done()\n",
    "\n",
    "threading.Thread(target=worker, daemon=True).start()\n",
    "\n",
    "for item in range(30):\n",
    "    q.put(item)\n",
    "\n",
    "print('ALL TASK REQUESTS SENT')\n",
    "\n",
    "# block untill all task are done \n",
    "q.join()\n",
    "print('ALL TASKS ARE DONE')"
   ]
  }
 ],
 "metadata": {
  "interpreter": {
   "hash": "916dbcbb3f70747c44a77c7bcd40155683ae19c65e1c03b4aa3499c5328201f1"
  },
  "kernelspec": {
   "display_name": "Python 3.10.4 64-bit",
   "language": "python",
   "name": "python3"
  },
  "language_info": {
   "codemirror_mode": {
    "name": "ipython",
    "version": 3
   },
   "file_extension": ".py",
   "mimetype": "text/x-python",
   "name": "python",
   "nbconvert_exporter": "python",
   "pygments_lexer": "ipython3",
   "version": "3.10.4"
  },
  "orig_nbformat": 4
 },
 "nbformat": 4,
 "nbformat_minor": 2
}
