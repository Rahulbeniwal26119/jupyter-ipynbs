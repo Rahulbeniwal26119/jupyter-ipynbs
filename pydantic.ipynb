{
 "cells": [
  {
   "cell_type": "code",
   "execution_count": 3,
   "metadata": {},
   "outputs": [],
   "source": [
    "from typing import List, Optional\n",
    "from pydantic import BaseModel\n",
    "from datetime import datetime"
   ]
  },
  {
   "cell_type": "code",
   "execution_count": 4,
   "metadata": {},
   "outputs": [],
   "source": [
    "class User(BaseModel):\n",
    "    id: int \n",
    "    name = 'Rahul Beniwal'\n",
    "    signup_ts: Optional[datetime] = None\n",
    "    friends: List[int] = []"
   ]
  },
  {
   "cell_type": "code",
   "execution_count": 14,
   "metadata": {},
   "outputs": [],
   "source": [
    "from pydantic import ValidationError\n",
    "\n",
    "external_data = {\n",
    "    'id': 1,\n",
    "    'signup_ts': '2019-06-01 12:22',\n",
    "    'friends': [1, 2, '3']\n",
    "}\n",
    "try:\n",
    "    user = User(**external_data)\n",
    "except ValidationError as e:\n",
    "    print(e.json())"
   ]
  },
  {
   "cell_type": "code",
   "execution_count": 1,
   "metadata": {},
   "outputs": [],
   "source": [
    "from pydantic import * "
   ]
  },
  {
   "cell_type": "code",
   "execution_count": 2,
   "metadata": {},
   "outputs": [],
   "source": [
    "class ForbidExtra(BaseModel):\n",
    "    class Config:\n",
    "        extra = Extra.forbid"
   ]
  },
  {
   "cell_type": "markdown",
   "metadata": {},
   "source": []
  },
  {
   "cell_type": "code",
   "execution_count": 3,
   "metadata": {},
   "outputs": [],
   "source": [
    "class A(ForbidExtra):\n",
    "    file: FilePath = \"~/.vimrc\"\n",
    "    string: constr(to_lower=True, strip_whitespace=1, \n",
    "                   min_length=3, max_length=10) = \"437432834283832\"\n",
    "    itemlist: conlist(item_type=int, min_items=1, \n",
    "                      unique_items=True, max_items=10) = [1,2,3]"
   ]
  },
  {
   "cell_type": "code",
   "execution_count": 4,
   "metadata": {},
   "outputs": [
    {
     "name": "stdout",
     "output_type": "stream",
     "text": [
      "[{'loc': ('new',), 'msg': 'extra fields not permitted', 'type': 'value_error.extra'}]\n"
     ]
    }
   ],
   "source": [
    "try:\n",
    "    c = A(string=\"        abc              \", \n",
    "          itemlist=[1,2,3,4,5,6,7,8,9,10],\n",
    "          new=\"No NEW\")\n",
    "except ValidationError as e:\n",
    "    print(e.errors())"
   ]
  },
  {
   "cell_type": "code",
   "execution_count": 21,
   "metadata": {},
   "outputs": [
    {
     "data": {
      "text/plain": [
       "['a']"
      ]
     },
     "execution_count": 21,
     "metadata": {},
     "output_type": "execute_result"
    }
   ],
   "source": []
  },
  {
   "cell_type": "code",
   "execution_count": null,
   "metadata": {},
   "outputs": [],
   "source": []
  }
 ],
 "metadata": {
  "kernelspec": {
   "display_name": "Python 3",
   "language": "python",
   "name": "python3"
  },
  "language_info": {
   "codemirror_mode": {
    "name": "ipython",
    "version": 3
   },
   "file_extension": ".py",
   "mimetype": "text/x-python",
   "name": "python",
   "nbconvert_exporter": "python",
   "pygments_lexer": "ipython3",
   "version": "3.11.1"
  },
  "orig_nbformat": 4,
  "vscode": {
   "interpreter": {
    "hash": "930379a8b39fc407f21aba7d78a18ad6c0dff7af07878b7bb9289a4858cd86cf"
   }
  }
 },
 "nbformat": 4,
 "nbformat_minor": 2
}
