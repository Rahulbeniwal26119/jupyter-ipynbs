{
 "cells": [
  {
   "cell_type": "code",
   "execution_count": 1,
   "metadata": {
    "collapsed": true
   },
   "outputs": [],
   "source": [
    "import sys"
   ]
  },
  {
   "cell_type": "code",
   "execution_count": 5,
   "metadata": {
    "collapsed": false
   },
   "outputs": [
    {
     "data": {
      "text/plain": [
       "1"
      ]
     },
     "execution_count": 5,
     "metadata": {},
     "output_type": "execute_result"
    }
   ],
   "source": [
    "class BetterCountMissing:\n",
    "    def __init__(self):\n",
    "        self.count = 0\n",
    "\n",
    "    def __call__(self):\n",
    "        self.count += 1\n",
    "        return 0\n",
    "\n",
    "from collections import defaultdict\n",
    "current = {'green': 12, 'blue': 3}\n",
    "counter = BetterCountMissing()\n",
    "d = defaultdict(counter, current)\n",
    "d['red']\n",
    "counter.count\n"
   ]
  },
  {
   "cell_type": "code",
   "execution_count": 8,
   "metadata": {
    "collapsed": false
   },
   "outputs": [],
   "source": [
    "class GenericInputData:\n",
    "    def read(self):\n",
    "        raise NotImplementedError\n",
    "\n",
    "    @classmethod\n",
    "    def generate_inputs(cls, config):\n",
    "        raise NotImplementedError\n",
    "\n",
    "\n",
    "class PathInputData(GenericInputData):\n",
    "    def __init__(self, path):\n",
    "        super().__init__()\n",
    "        self.path = path\n",
    "\n",
    "    def read(self):\n",
    "        with open(self.path) as f:\n",
    "            return f.read()\n",
    "\n",
    "    @classmethod\n",
    "    def generate_inputs(cls, config):\n",
    "        data_dir = config[\"data_dir\"]\n",
    "        for name in os.listdir(data_dir):\n",
    "            yield cls(os.path.join(data_dir, name))\n",
    "\n"
   ]
  },
  {
   "cell_type": "code",
   "execution_count": 9,
   "metadata": {
    "collapsed": false
   },
   "outputs": [],
   "source": [
    "class GenericWorker:\n",
    "    def __init__(self, input_data):\n",
    "        self.input_data = input_data\n",
    "        self.result = None\n",
    "\n",
    "    def map(self):\n",
    "        raise NotImplementedError\n",
    "\n",
    "    def reduce(self, other):\n",
    "        raise NotImplementedError\n",
    "\n",
    "    @classmethod\n",
    "    def create_workers(cls, input_class, config):\n",
    "        workers = []\n",
    "        for input_data in input_class.generate_inputs(config):\n",
    "            workers.append(cls(input_data))\n",
    "        return workers\n",
    "\n",
    "\n",
    "\n",
    "class LineCounterWorker(GenericWorker):\n",
    "    def map(self):\n",
    "        data= self.input_data.read()\n",
    "        self.result = data.count(\"\\n\")\n",
    "\n",
    "    def reduce(self, other):\n",
    "        self.result += other.result\n"
   ]
  },
  {
   "cell_type": "code",
   "execution_count": 10,
   "metadata": {
    "collapsed": false
   },
   "outputs": [],
   "source": [
    "import os\n",
    "\n",
    "def generate_inputs(data_dir):\n",
    "    for name in os.listdir(data_dir):\n",
    "        yield PathInputData(os.path.join(data_dir, name))\n",
    "\"\"\n",
    "def create_workers(input_list):\n",
    "    workers = []\n",
    "    for input_data in input_list:\n",
    "        workers.append(LineCounterWorker(input_data))\n",
    "    return workers\n"
   ]
  },
  {
   "cell_type": "code",
   "execution_count": 11,
   "metadata": {
    "collapsed": false
   },
   "outputs": [],
   "source": [
    "from threading import Thread\n",
    "\n",
    "\n",
    "def execute(workers):\n",
    "    threads = [Thread(target=w.map) for w in workers]\n",
    "    for thread in threads:\n",
    "        thread.start()\n",
    "        thread.join()\n",
    "\n",
    "    # for thread in threads:\n",
    "    #    thread.join()\n",
    "\n",
    "    first, *rest = workers\n",
    "    for worker in rest:\n",
    "        first.reduce(worker)\n",
    "    return first.result\n",
    "\n",
    "def mapreduce(worker_class:GenericWorker, input_class, config):\n",
    "    workers = worker_class.create_workers(input_class, config)\n",
    "    return execute(workers)\n",
    "    # inputs = generate_inputs(data_dir)\n",
    "    # workers = create_workers(inputs)\n",
    "    # return execute(workers)\n"
   ]
  },
  {
   "cell_type": "code",
   "execution_count": 12,
   "metadata": {
    "collapsed": false
   },
   "outputs": [],
   "source": [
    "# import os, random\n",
    "#\n",
    "# def write_test_files(tmpdir):\n",
    "#     os.makedirs(tmpdir)\n",
    "#\n",
    "#     for i in range(100000):\n",
    "#         with open(os.path.join(tmpdir, str(i)), \"w\") as f:\n",
    "#             f.write(\"\\n\" * random.randint(0, 1000))\n",
    "#\n",
    "tmpdir = \"test_inputs\"\n",
    "# write_test_files(tmpdir)"
   ]
  },
  {
   "cell_type": "code",
   "execution_count": 13,
   "metadata": {
    "collapsed": false
   },
   "outputs": [
    {
     "name": "stdout",
     "output_type": "stream",
     "text": [
      "14.526331186294556\n"
     ]
    }
   ],
   "source": [
    "import time\n",
    "config = {'data_dir': tmpdir}\n",
    "t = time.time()\n",
    "mapreduce(LineCounterWorker, PathInputData, config)\n",
    "print(time.time() - t)"
   ]
  },
  {
   "cell_type": "code",
   "execution_count": 77,
   "metadata": {
    "collapsed": false
   },
   "outputs": [
    {
     "name": "stdout",
     "output_type": "stream",
     "text": [
      "100\n",
      "MRO ->  [<class '__main__.OneWay'>, <class '__main__.PlusFive'>, <class '__main__.TimeSeven'>, <class '__main__.BaseClass'>, <class 'object'>]\n"
     ]
    }
   ],
   "source": [
    "class BaseClass:\n",
    "    def __init__(self, value):\n",
    "        self.value = value\n",
    "\n",
    "class TimeSeven(BaseClass):\n",
    "    def __init__(self, value):\n",
    "        super().__init__(value)\n",
    "        self.value *= 7\n",
    "\n",
    "\n",
    "class PlusFive(BaseClass):\n",
    "    def __init__(self, value):\n",
    "        super().__init__(value)\n",
    "        self.value += 5\n",
    "\n",
    "class OneWay(PlusFive, TimeSeven):\n",
    "    def __init__(self, value):\n",
    "        super(TimeSeven, self).__init__(value)\n",
    "\n",
    "print(OneWay(100).value)\n",
    "print(\"MRO -> \", OneWay.mro())\n",
    "\n",
    "# class PlusFive(BaseClass):\n",
    "#     def __init__(self, value):\n",
    "#         BaseClass.__init__(self, value)\n",
    "#         self.value += 5\n",
    "#\n",
    "#\n",
    "# class OneWay(TimeSeven, PlusFive):\n",
    "#     def __init__(self, value):\n",
    "#         super(TimeSeven, self).__init__(value)\n"
   ]
  },
  {
   "cell_type": "code",
   "execution_count": 73,
   "metadata": {
    "collapsed": false
   },
   "outputs": [
    {
     "name": "stdout",
     "output_type": "stream",
     "text": [
      "735\n",
      "MRO ->  [<class '__main__.OneWay'>, <class '__main__.TimeSeven'>, <class '__main__.PlusFive'>, <class '__main__.BaseClass'>, <class 'object'>]\n"
     ]
    }
   ],
   "source": [
    "print(OneWay(100).value)\n",
    "print(\"MRO -> \", OneWay.mro())"
   ]
  },
  {
   "cell_type": "code",
   "execution_count": 78,
   "metadata": {
    "collapsed": false
   },
   "outputs": [
    {
     "data": {
      "text/plain": [
       "[__main__.TimeSeven, __main__.BaseClass, object]"
      ]
     },
     "execution_count": 78,
     "metadata": {},
     "output_type": "execute_result"
    }
   ],
   "source": [
    "TimeSeven.mro()"
   ]
  },
  {
   "cell_type": "code",
   "execution_count": 98,
   "metadata": {
    "collapsed": false
   },
   "outputs": [],
   "source": [
    "class ToDictMixin:\n",
    "    def to_dict(self):\n",
    "        return self._traverse_dict(self.__dict__)\n",
    "\n",
    "    def _traverse_dict(self, instance_dict):\n",
    "        output = {}\n",
    "        for key, value in instance_dict.items():\n",
    "            output[key] = self._traverse(value)\n",
    "        return output\n",
    "\n",
    "    def _traverse(self, value):\n",
    "        if isinstance(value, ToDictMixin):\n",
    "            return value.to_dict()\n",
    "        elif isinstance(value, dict):\n",
    "            return self._traverse_dict(value)\n",
    "        elif isinstance(value, list):\n",
    "            return [self._traverse(i) for i in value]\n",
    "        # elif hasattr(value, \"__dict__\"):\n",
    "        #     return self._traverse_dict(value.__dict__)\n",
    "        else:\n",
    "            return value\n",
    "\n"
   ]
  },
  {
   "cell_type": "code",
   "execution_count": 99,
   "metadata": {
    "collapsed": false
   },
   "outputs": [],
   "source": [
    "class BinaryTree(ToDictMixin):\n",
    "    def __init__(self, value, left=None, right=None):\n",
    "        self.l = [{'a' : 'b'}, {'a' : 'b'}]\n",
    "        self.value = value\n",
    "        self.left = left\n",
    "        self.right = right\n",
    "\n",
    "tree = BinaryTree(10, left=BinaryTree(7, right=BinaryTree(9)), right=BinaryTree(13, left=BinaryTree(11)))"
   ]
  },
  {
   "cell_type": "code",
   "execution_count": 100,
   "metadata": {
    "collapsed": false
   },
   "outputs": [
    {
     "name": "stdout",
     "output_type": "stream",
     "text": [
      "{'l': [{'a': 'b'}, {'a': 'b'}], 'value': 10, 'left': {'l': [{'a': 'b'}, {'a': 'b'}], 'value': 7, 'left': None, 'right': {'l': [{'a': 'b'}, {'a': 'b'}], 'value': 9, 'left': None, 'right': None}}, 'right': {'l': [{'a': 'b'}, {'a': 'b'}], 'value': 13, 'left': {'l': [{'a': 'b'}, {'a': 'b'}], 'value': 11, 'left': None, 'right': None}, 'right': None}}\n"
     ]
    }
   ],
   "source": [
    "print(tree.to_dict())"
   ]
  },
  {
   "cell_type": "code",
   "execution_count": 101,
   "metadata": {
    "collapsed": false
   },
   "outputs": [],
   "source": []
  },
  {
   "cell_type": "code",
   "execution_count": null,
   "metadata": {
    "collapsed": false
   },
   "outputs": [],
   "source": []
  }
 ],
 "metadata": {
  "kernelspec": {
   "display_name": "Python 3",
   "language": "python",
   "name": "python3"
  },
  "language_info": {
   "codemirror_mode": {
    "name": "ipython",
    "version": 2
   },
   "file_extension": ".py",
   "mimetype": "text/x-python",
   "name": "python",
   "nbconvert_exporter": "python",
   "pygments_lexer": "ipython2",
   "version": "2.7.6"
  }
 },
 "nbformat": 4,
 "nbformat_minor": 0
}
