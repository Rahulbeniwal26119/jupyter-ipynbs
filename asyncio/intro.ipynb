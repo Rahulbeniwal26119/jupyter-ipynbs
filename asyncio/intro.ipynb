{
 "cells": [
  {
   "cell_type": "markdown",
   "metadata": {},
   "source": [
    "### Goal of Async IO is\n",
    "#### 1. Maximize the usage of single thread\n",
    "####    By Handling the io operations asynchronously and\n",
    "####    By Enabling concurrent code using coroutines."
   ]
  },
  {
   "cell_type": "code",
   "execution_count": null,
   "metadata": {},
   "outputs": [],
   "source": [
    "import time\n",
    "import threading\n",
    "import asyncore\n",
    "\n",
    "\n",
    "class Mayhem(threading.Thread):\n",
    "    def __init__(self, map):\n",
    "        super().__init__()\n",
    "        self.map = map\n",
    "\n",
    "    def run(self):\n",
    "        for key, value in self.map.items():\n",
    "            time.sleep(value)"
   ]
  },
  {
   "cell_type": "code",
   "execution_count": null,
   "metadata": {},
   "outputs": [],
   "source": [
    "# concurrency Exception will be raised by worker thread\n",
    "\n",
    "d = {\"k1\": 1, \"k2\": 2, \"k3\": 3}\n",
    "m = Mayhem(d)\n",
    "m.start()\n",
    "\n",
    "d[\"k4\"] = 4"
   ]
  },
  {
   "cell_type": "code",
   "execution_count": null,
   "metadata": {},
   "outputs": [],
   "source": [
    "import asyncio\n",
    "\n",
    "loop = asyncio.get_event_loop()"
   ]
  },
  {
   "cell_type": "code",
   "execution_count": null,
   "metadata": {},
   "outputs": [],
   "source": [
    "import datetime\n",
    "\n",
    "\n",
    "def print_now():\n",
    "    print(datetime.datetime.now())\n",
    "\n",
    "\n",
    "loop.call_soon(print_now)\n",
    "loop.call_soon(print_now)"
   ]
  },
  {
   "cell_type": "code",
   "execution_count": null,
   "metadata": {},
   "outputs": [],
   "source": [
    "import threading\n",
    "import asyncio\n",
    "import datetime\n",
    "\n",
    "\n",
    "# Asyncion does not support startig event loop inside already running thread\n",
    "def start_loop():\n",
    "    def hog():\n",
    "        sum = 0\n",
    "        for i in range(10_000):\n",
    "            for j in range(10_000):\n",
    "                sum += i * j\n",
    "        print(sum)\n",
    "\n",
    "    new_loop = asyncio.new_event_loop()\n",
    "    new_loop.set_debug(True)\n",
    "\n",
    "    def trampolin(name=\"\"):\n",
    "        print(name, end=\"\")\n",
    "        print_now()\n",
    "        # THESE CALLS WILL MAINTAIN THE ORDER OF SCHEDULING\n",
    "        new_loop.call_later(1, trampolin)\n",
    "\n",
    "    new_loop.call_soon(trampolin)\n",
    "    new_loop.call_later(15, hog)\n",
    "    new_loop.call_later(20, new_loop.stop)\n",
    "    # EVENT Loop can be stop and rereun many time\n",
    "    # remember putting long time taking function can block the event loop\n",
    "    new_loop.run_forever()\n",
    "\n",
    "\n",
    "thread = threading.Thread(target=start_loop)\n",
    "thread.start()\n",
    "thread.join()"
   ]
  },
  {
   "cell_type": "code",
   "execution_count": null,
   "metadata": {},
   "outputs": [],
   "source": [
    "# UVLoop -> wrapper over libuv wrapper crated by yuri selivanov but originally created by nodejs"
   ]
  },
  {
   "cell_type": "markdown",
   "metadata": {},
   "source": [
    "# USING COROUTINES"
   ]
  },
  {
   "cell_type": "code",
   "execution_count": null,
   "metadata": {},
   "outputs": [],
   "source": [
    "import datetime\n",
    "import asyncio\n",
    "import threading\n",
    "\n",
    "\n",
    "def print_now():\n",
    "    print(datetime.datetime.now())\n",
    "\n",
    "\n",
    "async def keep_printing(name):\n",
    "    while True:\n",
    "        print(name, end=\"\")\n",
    "        print_now()\n",
    "        await asyncio.sleep(0.5)\n",
    "\n",
    "\n",
    "def run_coroutine_in_thread(coro):\n",
    "    loop = asyncio.new_event_loop()\n",
    "    asyncio.set_event_loop(loop)\n",
    "    # raise TimeoutError after 10 sec\n",
    "    # asyncio.wait_for(coro, 10)\n",
    "    loop.run_until_complete(asyncio.wait_for(coro, 10))\n",
    "\n",
    "\n",
    "thread = threading.Thread(target=run_coroutine_in_thread, args=(keep_printing(\"A\"),))\n",
    "thread.start()\n",
    "print(\"Hello\")"
   ]
  },
  {
   "cell_type": "code",
   "execution_count": 22,
   "metadata": {},
   "outputs": [
    {
     "name": "stdout",
     "output_type": "stream",
     "text": [
      "default\n",
      "False\n",
      "<class 'NoneType'> <class 'function'>\n"
     ]
    }
   ],
   "source": [
    "import inspect\n",
    "\n",
    "\n",
    "async def async_printer(name=\"default\"):\n",
    "    print(name)\n",
    "    try:\n",
    "        await asyncio.sleep(1)\n",
    "    except asyncio.CancelledError:\n",
    "        print(\"Cancelled\")\n",
    "\n",
    "coroutine = await async_printer()\n",
    "\n",
    "print(inspect.isawaitable(coroutine))\n",
    "print(type(coroutine), type(async_printer))"
   ]
  },
  {
   "cell_type": "code",
   "execution_count": 23,
   "metadata": {},
   "outputs": [
    {
     "data": {
      "text/plain": [
       "<Task pending name='Task-41' coro=<async_main_cooperative_task() running at /tmp/ipykernel_53953/1573941382.py:10>>"
      ]
     },
     "execution_count": 23,
     "metadata": {},
     "output_type": "execute_result"
    },
    {
     "name": "stdout",
     "output_type": "stream",
     "text": [
      "First\n",
      "Second\n"
     ]
    }
   ],
   "source": [
    "import asyncio\n",
    "\n",
    "\n",
    "async def async_main():\n",
    "    await async_printer(\"First\")\n",
    "    await async_printer(\"Second\")\n",
    "    # WILL RUN THE TASKS ONE AFTER ANOTHER\n",
    "\n",
    "\n",
    "async def async_main_cooperative_task():\n",
    "    await asyncio.gather(\n",
    "        async_printer(\"First\"),\n",
    "        async_printer(\"Second\"),\n",
    "        # WILL RUN THE TASKS IN CONTEXT SWITCH MANNER\n",
    "    )\n",
    "\n",
    "\n",
    "# run in main thread\n",
    "loop = asyncio.get_event_loop()\n",
    "# schedule the coroutine to run in event loop\n",
    "loop.create_task(async_main_cooperative_task())"
   ]
  },
  {
   "cell_type": "code",
   "execution_count": null,
   "metadata": {},
   "outputs": [],
   "source": []
  }
 ],
 "metadata": {
  "kernelspec": {
   "display_name": "base",
   "language": "python",
   "name": "python3"
  },
  "language_info": {
   "codemirror_mode": {
    "name": "ipython",
    "version": 3
   },
   "file_extension": ".py",
   "mimetype": "text/x-python",
   "name": "python",
   "nbconvert_exporter": "python",
   "pygments_lexer": "ipython3",
   "version": "3.11.5"
  }
 },
 "nbformat": 4,
 "nbformat_minor": 2
}
