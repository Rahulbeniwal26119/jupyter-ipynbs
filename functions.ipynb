{
 "cells": [
  {
   "cell_type": "code",
   "execution_count": null,
   "metadata": {},
   "outputs": [],
   "source": [
    "def safe_division(number, divisor, /, ndigits=10, *, ignore_overflow=False, ignore_zero_division=False):\n",
    "    try:\n",
    "        return round(number / divisor, ndigits)\n",
    "    except OverflowError:\n",
    "        if ignore_overflow:\n",
    "            return 0\n",
    "        raise\n",
    "    except ZeroDivisionError:\n",
    "        if ignore_zero_division:\n",
    "            return float('inf')\n",
    "        raise"
   ]
  },
  {
   "cell_type": "code",
   "execution_count": null,
   "metadata": {},
   "outputs": [],
   "source": [
    "safe_division(10, 11)"
   ]
  },
  {
   "cell_type": "code",
   "execution_count": null,
   "metadata": {},
   "outputs": [],
   "source": [
    "from functools import wraps\n",
    "\n",
    "def trace(func):\n",
    "    @wraps(func)\n",
    "    def wrapper(*args, **kwargs):\n",
    "        result = func(*args, **kwargs)\n",
    "        print(f'{func.__name__}({args!r}, {kwargs!r}) '\n",
    "        f'-> {result!r}')\n",
    "        return result\n",
    "    return wrapper\n",
    "\n",
    "@trace\n",
    "def fib(n):\n",
    "    if n == 0 or n == 1:\n",
    "        return 1\n",
    "    else:\n",
    "        return fib(n-1) + fib(n-2)\n",
    "\n",
    "fib(3)"
   ]
  },
  {
   "cell_type": "code",
   "execution_count": null,
   "metadata": {},
   "outputs": [],
   "source": [
    "import pickle\n",
    "pickle.dumps(fib)\n",
    "print(fib.__name__)\n",
    "print(fib.__module__)\n",
    "print(fib.__annotations__)\n",
    "\n",
    "help(\"while\")"
   ]
  },
  {
   "cell_type": "code",
   "execution_count": null,
   "metadata": {},
   "outputs": [],
   "source": [
    "import math\n",
    "class SimpleContainer:\n",
    "    def __init__(self, *range):\n",
    "        if not range:\n",
    "            raise Exception(\"At length one argument must be provided.\")\n",
    "        if len(range) == 1:\n",
    "            self._start = 0\n",
    "            self._end = range[0]\n",
    "            self._step = 1\n",
    "        elif len(range) == 2:\n",
    "            self._start, self._end = range\n",
    "            self._step = 1\n",
    "        elif len(range) == 3:\n",
    "            self._start, self._end, self._step = range\n",
    "        else:\n",
    "            raise ValueError(\"Atmost 3 arguments are expected.\")\n",
    "\n",
    "        # calculate length on the basis of start, end and step\n",
    "        self.length = math.ceil((self._end - self._start) / self._step)\n",
    "\n",
    "    def __next__(self):\n",
    "        if self.start >= self.end:\n",
    "            raise StopIteration\n",
    "        else:\n",
    "            self.start += self.step\n",
    "            return self.start - self.step\n",
    "\n",
    "    def __iter__(self):\n",
    "        # reset the start values \n",
    "        self.start = self._start\n",
    "        self.end = self._end\n",
    "        self.step = self._step\n",
    "        \n",
    "        return self\n",
    "\n",
    "    def __len__(self):\n",
    "        return self.length\n",
    "    \n",
    "    def __list__(self):\n",
    "        for i in self:\n",
    "            yield i\n"
   ]
  },
  {
   "cell_type": "code",
   "execution_count": null,
   "metadata": {},
   "outputs": [],
   "source": [
    "l = SimpleContainer(5, 15, 3)\n",
    "for i in l:\n",
    "    print(i, end=\" \")\n",
    "print()\n",
    "print(\"length -> \", len(l))\n"
   ]
  },
  {
   "cell_type": "code",
   "execution_count": null,
   "metadata": {},
   "outputs": [],
   "source": [
    "import itertools"
   ]
  },
  {
   "cell_type": "code",
   "execution_count": null,
   "metadata": {},
   "outputs": [],
   "source": [
    "res = list(itertools.repeat(SimpleContainer(5, 15, 3), 3))\n",
    "for r in res:\n",
    "    for a in r:\n",
    "        print(a)"
   ]
  },
  {
   "cell_type": "code",
   "execution_count": null,
   "metadata": {},
   "outputs": [],
   "source": [
    "it = itertools.cycle(SimpleContainer(1, 5))\n",
    "for _ in range(10):\n",
    "    print(next(it), end=\" \")"
   ]
  },
  {
   "cell_type": "code",
   "execution_count": null,
   "metadata": {},
   "outputs": [],
   "source": [
    "combined_iter = itertools.zip_longest(SimpleContainer(1, 5), \n",
    "                                      SimpleContainer(3, 30, 6))\n",
    "for elements in combined_iter:\n",
    "    print(elements, end=\" \")\n"
   ]
  },
  {
   "cell_type": "code",
   "execution_count": null,
   "metadata": {},
   "outputs": [],
   "source": [
    "values = [1,2,3,5,5,6]\n",
    "starting_3 = itertools.islice(values, 3)\n",
    "odds = itertools.islice(values,1, None, 2)\n",
    "evens = itertools.islice(values, 0, None, 2)\n",
    "print(list(starting_3))\n",
    "print(list(odds))\n",
    "print(list(evens))\n"
   ]
  },
  {
   "cell_type": "code",
   "execution_count": null,
   "metadata": {},
   "outputs": [],
   "source": [
    "items = [1, 2, 3, 4, 0, -1, -2, 10]\n",
    "less_than_3 = lambda x: x < 3\n",
    "it = filter(less_than_3, items)\n",
    "it2 = itertools.filterfalse(less_than_3, items)\n",
    "\n",
    "print(list(it))\n",
    "print(list(it2))"
   ]
  },
  {
   "cell_type": "code",
   "execution_count": null,
   "metadata": {},
   "outputs": [],
   "source": [
    "items = SimpleContainer(1, 20, 4)\n",
    "sum_reduce = lambda x, y: (x + y) % 20\n",
    "result = itertools.product(items, sum_reduce)\n",
    "print(list(result))"
   ]
  },
  {
   "cell_type": "code",
   "execution_count": null,
   "metadata": {},
   "outputs": [],
   "source": [
    "items = SimpleContainer(1, 3)\n",
    "alpha = [\"a\", \"b\", \"c\", \"d\"]\n",
    "single = itertools.product(items, repeat=2)\n",
    "print(list(single))\n",
    "multiple = itertools.product(items, alpha)\n",
    "print(list(multiple))\n"
   ]
  },
  {
   "cell_type": "code",
   "execution_count": null,
   "metadata": {},
   "outputs": [],
   "source": [
    "it = itertools.permutations([1,2,3], 2)\n",
    "print(list(it))"
   ]
  },
  {
   "cell_type": "code",
   "execution_count": null,
   "metadata": {},
   "outputs": [],
   "source": [
    "it = itertools.combinations_with_replacement([1,2,3], 2)\n",
    "print(list(it))"
   ]
  },
  {
   "cell_type": "code",
   "execution_count": null,
   "metadata": {},
   "outputs": [],
   "source": [
    "from collections import defaultdict"
   ]
  },
  {
   "cell_type": "code",
   "execution_count": null,
   "metadata": {},
   "outputs": [],
   "source": [
    "class SimpleGradeBook:\n",
    "    def __init__(self):\n",
    "        self._grades = defaultdict(lambda: defaultdict(int))\n",
    "\n",
    "    #  def add_student(self, name):\n",
    "    #      self._grades[name] = []\n",
    "    def report_grade(self, name, subject, score):\n",
    "        self._grades[name][subject] = score\n",
    "\n",
    "    def average_grade(self, name):\n",
    "        print(self._grades)\n",
    "        print(self._grades[name][\"Beniwal\"])\n",
    "        grades = self._grades[name]\n",
    "        marks = 0\n",
    "        for subject, grade in grades.items():\n",
    "            marks += grade\n",
    "        return marks / len(grades.keys())\n",
    "\n",
    "\n",
    "book = SimpleGradeBook()\n",
    "# book.add_student('Isaac Newton')\n",
    "book.report_grade(\"Isaac Newton\", \"English\", 90)\n",
    "book.report_grade(\"Isaac Newton\", \"English\", 95)\n",
    "book.report_grade(\"Isaac Newton\", \"English\", 85)\n",
    "book.average_grade(\"Isaac Newton\")\n"
   ]
  },
  {
   "cell_type": "code",
   "execution_count": null,
   "metadata": {},
   "outputs": [],
   "source": [
    "from collections import namedtuple\n",
    "\n",
    "Grade = namedtuple(\"Grade\", (\"score\", \"weight\"))\n",
    "\n",
    "class Subject:\n",
    "    def __init__(self):\n",
    "        self._grades = []\n",
    "\n",
    "    def report_grade(self, score, weight):\n",
    "        self._grades.append(Grade(score, weight))\n",
    "    \n",
    "    def average_grade(self):\n",
    "        total, total_weight = 0, 0\n",
    "        for grade in self._grades:\n",
    "            total += grade.score * grade.weight\n",
    "            total_weight += grade.weight\n",
    "        return total / total_weight\n",
    "\n",
    "class Student:\n",
    "    def __init__(self):\n",
    "        self._subjects = defaultdict(Subject)\n",
    "    \n",
    "    def get_subjects(self, name):\n",
    "        return self._subjects[name]\n",
    "\n",
    "    def average_grade(self):\n",
    "        total, count = 0, 0 \n",
    "        for subject in self._subjects.values():\n",
    "            total += subject.average_grade()\n",
    "            count += 1\n",
    "        return total / count\n",
    "    \n",
    "class GradeBook:\n",
    "    def __init__(self) -> None:\n",
    "        self._students = defaultdict(Student)\n",
    "    \n",
    "    def get_student(self, name):\n",
    "        return self._students[name]\n",
    "\n"
   ]
  },
  {
   "cell_type": "code",
   "execution_count": null,
   "metadata": {},
   "outputs": [],
   "source": [
    "book = GradeBook()\n",
    "albert  = book.get_student(\"Albert Einstein\")\n",
    "math = albert.get_subjects(\"Math\")\n",
    "english = albert.get_subjects(\"English\")\n",
    "math.report_grade(80, 0.10)\n",
    "english.report_grade(90, 0.02)\n",
    "albert.average_grade()"
   ]
  },
  {
   "cell_type": "code",
   "execution_count": null,
   "metadata": {},
   "outputs": [],
   "source": [
    "from functools import reduce\n",
    "\n",
    "\n",
    "class C:\n",
    "    _oncreate = []\n",
    "\n",
    "    def __new__(cls):\n",
    "        res = reduce(\n",
    "            lambda x, y: y(x), \n",
    "            cls._oncreate,\n",
    "            super().__new__(cls)\n",
    "        )\n",
    "        c = lambda z : z \n",
    "        res = c(res)\n",
    "        print(\"res\", res)\n",
    "        return res\n",
    "    \n",
    "    @classmethod\n",
    "    def oncreate(cls, func):\n",
    "        print(\"Oncreate func\", func)\n",
    "        cls._oncreate.append(func)\n",
    "        return func\n"
   ]
  },
  {
   "cell_type": "code",
   "execution_count": null,
   "metadata": {},
   "outputs": [],
   "source": [
    "@C.oncreate\n",
    "def spew(obj):\n",
    "    print(\"Called\", obj)\n",
    "    obj.spew = 'c'\n",
    "    return obj\n",
    "\n",
    "@C.oncreate\n",
    "def view(obj):\n",
    "    print(\"Called\", obj)\n",
    "    obj.view = 'view'\n",
    "    return obj"
   ]
  },
  {
   "cell_type": "code",
   "execution_count": null,
   "metadata": {},
   "outputs": [],
   "source": [
    "\n",
    "d = C()\n",
    "d.view\n",
    "# e = C()\n",
    "# f = C()\n",
    "# spew(c)\n",
    "# print(c._oncreate)\n",
    "# print(C._oncreate)\n",
    "# spew(d)\n",
    "# print(c._oncreate)\n",
    "# print(C._oncreate)"
   ]
  },
  {
   "cell_type": "code",
   "execution_count": null,
   "metadata": {},
   "outputs": [],
   "source": [
    "d(lambda x : x )"
   ]
  },
  {
   "cell_type": "code",
   "execution_count": 93,
   "metadata": {},
   "outputs": [],
   "source": [
    "class delegate:\n",
    "    def __init__(self, func):\n",
    "        self.callbacks = []\n",
    "        self.basefunc = func\n",
    "        print(\"Here Here\")\n",
    "\n",
    "    def __iadd__(self, func):\n",
    "        if callable(func):\n",
    "            print(\"Here Here\")\n",
    "            # self.__isub__(func)\n",
    "            self.callbacks.append(func)\n",
    "        return self\n",
    "\n",
    "    def callback(self, func):\n",
    "        if callable(func):\n",
    "            print(\"callable called\")\n",
    "            # self.__isub__(func)\n",
    "            self.callbacks.append(func)\n",
    "        return func\n",
    "\n",
    "    # def __isub__(self, func):\n",
    "    #     try:\n",
    "    #         print(\"isub\", func)\n",
    "    #         self.callbacks.remove(func)\n",
    "    #     except ValueError:\n",
    "    #         pass\n",
    "    #     return self\n",
    "\n",
    "    def __call__(self, *args, **kwargs):\n",
    "        result = self.basefunc(*args, **kwargs)\n",
    "        for func in self.callbacks:\n",
    "            newresult = func(result)\n",
    "            result = result if newresult is None else newresult\n",
    "        print(\"result\", result)\n",
    "        return result\n"
   ]
  },
  {
   "cell_type": "code",
   "execution_count": 94,
   "metadata": {},
   "outputs": [
    {
     "name": "stdout",
     "output_type": "stream",
     "text": [
      "Here Here\n",
      "Here Here\n",
      "Here Here\n",
      "Here Here\n",
      "callable called\n",
      "Number is 24\n",
      "result 24\n",
      "24\n"
     ]
    }
   ],
   "source": [
    "@delegate\n",
    "def intfactory(num):\n",
    "    return int(num)\n",
    "\n",
    "\n",
    "\n",
    "def increment(num):\n",
    "    return num + 1\n",
    "\n",
    "intfactory += increment\n",
    "intfactory += lambda x : x * 2 \n",
    "intfactory += lambda x : x * 3\n",
    "@intfactory.callback\n",
    "def notify(num):\n",
    "    print(\"Number is\", num)\n",
    "\n",
    "print(intfactory(3))\n"
   ]
  },
  {
   "cell_type": "code",
   "execution_count": 70,
   "metadata": {},
   "outputs": [],
   "source": [
    "class a:\n",
    "    def __init__(self, func):\n",
    "        self.func = func\n",
    "    \n",
    "    def __call__(self, *args, **kwargs):\n",
    "        print(\"Called\")\n",
    "        return self.func(*args, **kwargs)"
   ]
  },
  {
   "cell_type": "code",
   "execution_count": 71,
   "metadata": {},
   "outputs": [],
   "source": [
    "@a\n",
    "def fn():\n",
    "    print(\"fn\")"
   ]
  }
 ],
 "metadata": {
  "kernelspec": {
   "display_name": "3.11_env",
   "language": "python",
   "name": "python3"
  },
  "language_info": {
   "codemirror_mode": {
    "name": "ipython",
    "version": 3
   },
   "file_extension": ".py",
   "mimetype": "text/x-python",
   "name": "python",
   "nbconvert_exporter": "python",
   "pygments_lexer": "ipython3",
   "version": "3.11.1"
  },
  "orig_nbformat": 4,
  "vscode": {
   "interpreter": {
    "hash": "da22f329dba1387394a1bf4797fec65d1b24919acbbaec873787caf1e80b0b0f"
   }
  }
 },
 "nbformat": 4,
 "nbformat_minor": 2
}
