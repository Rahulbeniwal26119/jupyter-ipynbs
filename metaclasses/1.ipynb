{
 "cells": [
  {
   "cell_type": "code",
   "execution_count": null,
   "metadata": {},
   "outputs": [],
   "source": []
  },
  {
   "cell_type": "code",
   "execution_count": 8,
   "metadata": {},
   "outputs": [],
   "source": [
    "class Resistor:\n",
    "    def __init__(self, ohms):\n",
    "        self._ohms = ohms\n",
    "        self.voltage = 0\n",
    "        self.current = 0\n",
    "\n",
    "class VoltageResistance(Resistor):\n",
    "    def __init__(self, ohms):\n",
    "        super().__init__(ohms)\n",
    "        self._voltage = 0\n",
    "    \n",
    "    @property\n",
    "    def ohms(self):\n",
    "        return self._ohms\n",
    "    \n",
    "    @ohms.setter\n",
    "    def ohms(self, ohms):\n",
    "        if ohms <= 0:\n",
    "            raise ValueError(f'{ohms} ohms must be > 0')\n",
    "        self._ohms = ohms\n",
    "        # call setter for resistance and current\n",
    "        self.voltage = self.current / self._ohms\n",
    "    \n",
    "    @property\n",
    "    def voltage(self):\n",
    "        return self._voltage\n",
    "    \n",
    "    @voltage.setter\n",
    "    def voltage(self, voltage):\n",
    "        self._voltage = voltage\n",
    "        self.current = self._voltage / self._ohms"
   ]
  },
  {
   "cell_type": "code",
   "execution_count": 9,
   "metadata": {},
   "outputs": [
    {
     "name": "stdout",
     "output_type": "stream",
     "text": [
      "100\n",
      "0.1\n",
      "0.01\n",
      "0.001\n"
     ]
    }
   ],
   "source": [
    "r2 = VoltageResistance(1E3)\n",
    "r2.voltage = 100\n",
    "print(r2.voltage)\n",
    "print(r2.current)\n",
    "r2.ohms = 10\n",
    "print(r2.voltage)\n",
    "print(r2.current)"
   ]
  },
  {
   "cell_type": "code",
   "execution_count": 10,
   "metadata": {},
   "outputs": [],
   "source": [
    "from datetime import datetime, timedelta\n",
    "class Bucket:\n",
    "    def __init__(self, period) -> None:\n",
    "            self.period_delta = timedelta(seconds=period)\n",
    "            self.reset_time = datetime.now()\n",
    "            self.quota = 0\n",
    "    def __repr__(self) -> str:\n",
    "          return f'Bucket(quota={self.quota})'\n",
    "    "
   ]
  },
  {
   "cell_type": "code",
   "execution_count": 11,
   "metadata": {},
   "outputs": [],
   "source": [
    "def fill(bucket, amount):\n",
    "    now = datetime.now()\n",
    "    if (now - bucket.reset_time) > bucket.period_delta:\n",
    "        bucket.quota = 0 \n",
    "        bucket.reset_time = now\n",
    "    bucket.quota += amount\n",
    "\n",
    "def deduct(bucket, amount):\n",
    "    now = datetime.now()\n",
    "    if (now - bucket.reset_time) > bucket.period_delta:\n",
    "        return False\n",
    "    if bucket.quota - amount < 0:\n",
    "        return False\n",
    "    bucket.quota -= amount\n",
    "    return True"
   ]
  },
  {
   "cell_type": "code",
   "execution_count": 12,
   "metadata": {},
   "outputs": [
    {
     "name": "stdout",
     "output_type": "stream",
     "text": [
      "Bucket(quota=100)\n"
     ]
    }
   ],
   "source": [
    "bucket = Bucket(60)\n",
    "fill(bucket, 100)\n",
    "print(bucket)"
   ]
  },
  {
   "cell_type": "code",
   "execution_count": 13,
   "metadata": {},
   "outputs": [
    {
     "data": {
      "text/plain": [
       "True"
      ]
     },
     "execution_count": 13,
     "metadata": {},
     "output_type": "execute_result"
    }
   ],
   "source": [
    "deduct(bucket, 99)"
   ]
  },
  {
   "cell_type": "code",
   "execution_count": 14,
   "metadata": {},
   "outputs": [],
   "source": [
    "class NewBucket:\n",
    "    def __init__(self, period):\n",
    "        self.period_delta = timedelta(seconds=period)\n",
    "        self.reset_time = datetime.now()\n",
    "        self.max_quota = 0\n",
    "        self.quota_consumed = 0\n",
    "    \n",
    "    def __repr__(self):\n",
    "        return (f'NewBucket(max_quota={self.max_quota}', f'quota_consumed={self.quota_consumed}')\n",
    "    \n",
    "    @property\n",
    "    def quota(self):\n",
    "        return self.max_quota - self.quota_consumed\n",
    "    \n",
    "    @quota.setter\n",
    "    def quota(self, amount):\n",
    "        delta = self.max_quota - amount\n",
    "        if amount == 0:\n",
    "            self.quota_consumed = 0\n",
    "            self.max_quota = 0 \n",
    "        elif delta < 0:\n",
    "            assert self.quota_consumed == 0\n",
    "            self.max_quota = amount\n",
    "        else:\n",
    "            assert self.max_quota >= self.quota_consumed\n",
    "            self.quota_consumed += delta\n",
    "    "
   ]
  },
  {
   "cell_type": "code",
   "execution_count": 15,
   "metadata": {},
   "outputs": [],
   "source": [
    "class HomeWork:\n",
    "    def __init__(self):\n",
    "        self.__grade = 0\n",
    "    \n",
    "    @property\n",
    "    def grade(self):\n",
    "        return self.__grade\n",
    "\n",
    "    @grade.setter\n",
    "    def grade(self, value):\n",
    "        if not (0 <= value <= 100):\n",
    "            raise ValueError('grade must be between 0 and 100')\n",
    "        self.__grade = value\n",
    "\n",
    "\n",
    "class Exam:\n",
    "    def __init__(self):\n",
    "        self._writing_grade = 0\n",
    "        self._math_grade = 0\n",
    "        self.new = 10\n",
    "    \n",
    "    @staticmethod\n",
    "    def _check_grade(value):\n",
    "        if not (0 <= value <= 100):\n",
    "            raise ValueError('grade must be between 0 and 100')\n",
    "    \n",
    "    @property\n",
    "    def writing_grade(self):\n",
    "        return self._writing_grade\n",
    "    \n",
    "    @writing_grade.setter\n",
    "    def writing_grade(self, value):\n",
    "        self._check_grade(value)\n",
    "        self._writing_grade = value\n",
    "    \n",
    "    @property\n",
    "    def math_grade(self):\n",
    "        return self._math_grade\n",
    "    \n",
    "    @math_grade.setter\n",
    "    def math_grade(self, value):\n",
    "        self._check_grade(value)\n",
    "        self._math_grade = value"
   ]
  },
  {
   "cell_type": "code",
   "execution_count": 16,
   "metadata": {},
   "outputs": [
    {
     "data": {
      "text/plain": [
       "mappingproxy({'__module__': '__main__',\n",
       "              '__init__': <function __main__.Exam.__init__(self)>,\n",
       "              '_check_grade': <staticmethod(<function Exam._check_grade at 0x7f3b34090040>)>,\n",
       "              'writing_grade': <property at 0x7f3b1eb69cb0>,\n",
       "              'math_grade': <property at 0x7f3b1eb69d50>,\n",
       "              '__dict__': <attribute '__dict__' of 'Exam' objects>,\n",
       "              '__weakref__': <attribute '__weakref__' of 'Exam' objects>,\n",
       "              '__doc__': None})"
      ]
     },
     "execution_count": 16,
     "metadata": {},
     "output_type": "execute_result"
    }
   ],
   "source": [
    "Exam.__dict__"
   ]
  },
  {
   "cell_type": "code",
   "execution_count": 17,
   "metadata": {},
   "outputs": [
    {
     "data": {
      "text/plain": [
       "{'_writing_grade': 0, '_math_grade': 0, 'new': 10}"
      ]
     },
     "execution_count": 17,
     "metadata": {},
     "output_type": "execute_result"
    }
   ],
   "source": [
    "c = Exam()\n",
    "c.__dict__"
   ]
  },
  {
   "cell_type": "code",
   "execution_count": 18,
   "metadata": {},
   "outputs": [],
   "source": [
    "class Grade:\n",
    "    def __get__(self, instance, instance_type):\n",
    "        ...\n",
    "    \n",
    "    def __set__(self, instance, value):\n",
    "        ..."
   ]
  },
  {
   "cell_type": "code",
   "execution_count": 19,
   "metadata": {},
   "outputs": [],
   "source": [
    "Exam.__dict__['writing_grade'].__set__(c, 40)\n",
    "# Exam.__dict__['writing_grade'].__get__(c, Exam)"
   ]
  },
  {
   "cell_type": "code",
   "execution_count": 20,
   "metadata": {},
   "outputs": [],
   "source": [
    "from weakref import WeakKeyDictionary\n",
    "\n",
    "\n",
    "class Grade:\n",
    "    def __init__(self):\n",
    "        self._values = WeakKeyDictionary()\n",
    "    \n",
    "    def __get__(self, instance, klass):\n",
    "        # print(instance, klass)\n",
    "        if instance is None:\n",
    "            # this happens when we call Exam.writing_grade\n",
    "            return self\n",
    "        return self._values.get(instance, 0)\n",
    "\n",
    "    def __set__(self, instance, value):\n",
    "        if not (0 <= value <= 100):\n",
    "            raise ValueError('grade must be between 0 and 100')\n",
    "        self._values[instance] = value"
   ]
  },
  {
   "cell_type": "code",
   "execution_count": 21,
   "metadata": {},
   "outputs": [],
   "source": [
    "class Exam:\n",
    "    math_grade = Grade()\n",
    "    writing_grade = Grade()\n",
    "    science_grade = Grade()\n",
    "    "
   ]
  },
  {
   "cell_type": "code",
   "execution_count": 22,
   "metadata": {},
   "outputs": [
    {
     "name": "stdout",
     "output_type": "stream",
     "text": [
      "First 40, Second 55\n",
      "Writing 50, Science 60\n"
     ]
    },
    {
     "data": {
      "text/plain": [
       "40"
      ]
     },
     "execution_count": 22,
     "metadata": {},
     "output_type": "execute_result"
    }
   ],
   "source": [
    "first_exam = Exam()\n",
    "first_exam.writing_grade = 40\n",
    "first_exam.science_grade = 50\n",
    "# print(f'Writing {first_exam.writing_grade}, Science {first_exam.science_grade}')\n",
    "\n",
    "second_exam = Exam()\n",
    "second_exam.writing_grade = 55\n",
    "second_exam.science_grade = 60\n",
    "print(f'First {first_exam.writing_grade}, Second {second_exam.writing_grade}')\n",
    "print(f'Writing {first_exam.science_grade}, Science {second_exam.science_grade}')\n",
    "\n",
    "Exam.__dict__['writing_grade'].__get__(first_exam, Exam)"
   ]
  },
  {
   "cell_type": "code",
   "execution_count": 23,
   "metadata": {},
   "outputs": [
    {
     "data": {
      "text/plain": [
       "{<__main__.Exam at 0x7f3b1eb55e50>: 50, <__main__.Exam at 0x7f3b34086c50>: 60}"
      ]
     },
     "execution_count": 23,
     "metadata": {},
     "output_type": "execute_result"
    }
   ],
   "source": [
    "dict(Exam.science_grade._values)"
   ]
  },
  {
   "cell_type": "code",
   "execution_count": 24,
   "metadata": {},
   "outputs": [
    {
     "name": "stdout",
     "output_type": "stream",
     "text": [
      "{MyClass(Object 1): 'Value for Object 1'}\n",
      "{}\n"
     ]
    }
   ],
   "source": [
    "import weakref\n",
    "\n",
    "class MyClass:\n",
    "    def __init__(self, name):\n",
    "        self.name = name\n",
    "\n",
    "    def __repr__(self):\n",
    "        return f\"MyClass({self.name})\"\n",
    "\n",
    "obj1 = MyClass(\"Object 1\")\n",
    "obj2 = MyClass(\"Object 2\")\n",
    "\n",
    "d = weakref.WeakKeyDictionary()\n",
    "d[obj1] = \"Value for Object 1\"\n",
    "\n",
    "print(dict(d))\n",
    "# Output: {MyClass(Object 1): 'Value for Object 1'}\n",
    "\n",
    "del obj1\n",
    "\n",
    "print(dict(d))\n",
    "# Output: {}\n"
   ]
  },
  {
   "cell_type": "code",
   "execution_count": 25,
   "metadata": {},
   "outputs": [],
   "source": [
    "class LazyRecord:\n",
    "    def __init__(self):\n",
    "        self.exists = 5\n",
    "    \n",
    "    def __getattr__(self, name):\n",
    "        print(\"Inside __getattr__\")\n",
    "        value = f'Value for {name}'\n",
    "        setattr(self, name, value)\n",
    "        return value\n",
    "\n",
    "    def __getattribute__(self, __name: str):\n",
    "        print(\"Inside __getattribute__\")\n",
    "        return super().__getattribute__(__name)"
   ]
  },
  {
   "cell_type": "code",
   "execution_count": 26,
   "metadata": {},
   "outputs": [
    {
     "name": "stdout",
     "output_type": "stream",
     "text": [
      "Inside __getattribute__\n",
      "Inside __getattr__\n",
      "Value for foo\n",
      "Inside __getattribute__\n",
      "Inside __getattr__\n",
      "Value for foo\n"
     ]
    }
   ],
   "source": [
    "c = LazyRecord()\n",
    "d = LazyRecord()\n",
    "print(c.foo)\n",
    "print(d.foo)\n",
    "setattr(c, 'bew', 'bew')"
   ]
  },
  {
   "cell_type": "code",
   "execution_count": 27,
   "metadata": {},
   "outputs": [
    {
     "name": "stdout",
     "output_type": "stream",
     "text": [
      "Inside __getattribute__\n",
      "Before: {'exists': 5}\n",
      "Inside __getattribute__\n",
      "Inside __getattr__\n",
      "foo:    Value for foo\n",
      "Inside __getattribute__\n",
      "After:  {'exists': 5, 'foo': 'Value for foo'}\n"
     ]
    }
   ],
   "source": [
    "class LoggingLazyRecord(LazyRecord):\n",
    "    # def __getattr__(self, name):\n",
    "    #     print(f\"** Called __getattr__({name}!r), populting instance dictionary\")\n",
    "    #     # result = super().__getattr__(name)\n",
    "    #     result = f\"Value for {name}\"\n",
    "    #     print(f\"** Returning {result!r}\")\n",
    "    #     return result\n",
    "    pass\n",
    "\n",
    "data = LoggingLazyRecord()\n",
    "print('Before:', data.__dict__)\n",
    "print('foo:   ', data.foo)\n",
    "print('After: ', data.__dict__)"
   ]
  },
  {
   "cell_type": "code",
   "execution_count": 28,
   "metadata": {},
   "outputs": [],
   "source": [
    "class BrokenDictonary:\n",
    "    def __init__(self, data) -> None:\n",
    "        self._data = data\n",
    "    \n",
    "    def __getattribute__(self, __name: str):\n",
    "        # print(\"Here Here\")\n",
    "        print(self._data)\n",
    "        return self._data[__name]"
   ]
  },
  {
   "cell_type": "code",
   "execution_count": null,
   "metadata": {},
   "outputs": [],
   "source": []
  },
  {
   "cell_type": "code",
   "execution_count": 29,
   "metadata": {},
   "outputs": [
    {
     "ename": "RecursionError",
     "evalue": "maximum recursion depth exceeded",
     "output_type": "error",
     "traceback": [
      "\u001b[0;31m---------------------------------------------------------------------------\u001b[0m",
      "\u001b[0;31mRecursionError\u001b[0m                            Traceback (most recent call last)",
      "Cell \u001b[0;32mIn[29], line 2\u001b[0m\n\u001b[1;32m      1\u001b[0m data \u001b[39m=\u001b[39m BrokenDictonary({\u001b[39m'\u001b[39m\u001b[39ma\u001b[39m\u001b[39m'\u001b[39m : \u001b[39m3\u001b[39m})\n\u001b[0;32m----> 2\u001b[0m data\u001b[39m.\u001b[39;49ma\n",
      "Cell \u001b[0;32mIn[28], line 7\u001b[0m, in \u001b[0;36mBrokenDictonary.__getattribute__\u001b[0;34m(self, _BrokenDictonary__name)\u001b[0m\n\u001b[1;32m      5\u001b[0m \u001b[39mdef\u001b[39;00m \u001b[39m__getattribute__\u001b[39m(\u001b[39mself\u001b[39m, __name: \u001b[39mstr\u001b[39m):\n\u001b[1;32m      6\u001b[0m     \u001b[39m# print(\"Here Here\")\u001b[39;00m\n\u001b[0;32m----> 7\u001b[0m     \u001b[39mprint\u001b[39m(\u001b[39mself\u001b[39;49m\u001b[39m.\u001b[39;49m_data)\n\u001b[1;32m      8\u001b[0m     \u001b[39mreturn\u001b[39;00m \u001b[39mself\u001b[39m\u001b[39m.\u001b[39m_data[__name]\n",
      "Cell \u001b[0;32mIn[28], line 7\u001b[0m, in \u001b[0;36mBrokenDictonary.__getattribute__\u001b[0;34m(self, _BrokenDictonary__name)\u001b[0m\n\u001b[1;32m      5\u001b[0m \u001b[39mdef\u001b[39;00m \u001b[39m__getattribute__\u001b[39m(\u001b[39mself\u001b[39m, __name: \u001b[39mstr\u001b[39m):\n\u001b[1;32m      6\u001b[0m     \u001b[39m# print(\"Here Here\")\u001b[39;00m\n\u001b[0;32m----> 7\u001b[0m     \u001b[39mprint\u001b[39m(\u001b[39mself\u001b[39;49m\u001b[39m.\u001b[39;49m_data)\n\u001b[1;32m      8\u001b[0m     \u001b[39mreturn\u001b[39;00m \u001b[39mself\u001b[39m\u001b[39m.\u001b[39m_data[__name]\n",
      "    \u001b[0;31m[... skipping similar frames: BrokenDictonary.__getattribute__ at line 7 (2971 times)]\u001b[0m\n",
      "Cell \u001b[0;32mIn[28], line 7\u001b[0m, in \u001b[0;36mBrokenDictonary.__getattribute__\u001b[0;34m(self, _BrokenDictonary__name)\u001b[0m\n\u001b[1;32m      5\u001b[0m \u001b[39mdef\u001b[39;00m \u001b[39m__getattribute__\u001b[39m(\u001b[39mself\u001b[39m, __name: \u001b[39mstr\u001b[39m):\n\u001b[1;32m      6\u001b[0m     \u001b[39m# print(\"Here Here\")\u001b[39;00m\n\u001b[0;32m----> 7\u001b[0m     \u001b[39mprint\u001b[39m(\u001b[39mself\u001b[39;49m\u001b[39m.\u001b[39;49m_data)\n\u001b[1;32m      8\u001b[0m     \u001b[39mreturn\u001b[39;00m \u001b[39mself\u001b[39m\u001b[39m.\u001b[39m_data[__name]\n",
      "\u001b[0;31mRecursionError\u001b[0m: maximum recursion depth exceeded"
     ]
    }
   ],
   "source": [
    "data = BrokenDictonary({'a' : 3})\n",
    "data.a"
   ]
  },
  {
   "cell_type": "code",
   "execution_count": null,
   "metadata": {},
   "outputs": [],
   "source": [
    "import pprint\n",
    "from functools import partial\n",
    "print = partial(pprint.pprint, width=60, indent=2)\n",
    "\n",
    "class LoggingSavingRecord:\n",
    "    def __setattr__(self, name, value):\n",
    "        print(f\"** Called __setattr__({name!r}, {value!r})\")\n",
    "        super().__setattr__(name, value)\n",
    "\n",
    "\n",
    "data = LoggingSavingRecord()\n",
    "print(data.__dict__)\n",
    "data.foo = 5\n",
    "l = {'a' : {'a' : { 'a' : 3}}}\n",
    "print(data.__dict__)\n",
    "data.foo = 7\n",
    "print(data.__dict__)\n"
   ]
  },
  {
   "cell_type": "code",
   "execution_count": null,
   "metadata": {},
   "outputs": [],
   "source": [
    "from typing import Any\n",
    "\n",
    "\n",
    "class DictionaryRecord:\n",
    "    def __init__(self):\n",
    "        print(\"__init__ called\")\n",
    "        self._data = {}\n",
    "    \n",
    "    def __getattribute__(self, __name: str) -> Any:\n",
    "        print(\"__getattribute__ called\")\n",
    "        data_dict = super().__getattribute__('_data')\n",
    "        return data_dict[__name]\n",
    "\n",
    "    # def __setattr__(self, name: str, value: Any) -> None:\n",
    "    #     print(f\"__setattr__ called {name}, {value}\")\n",
    "    #     if name != '_data':\n",
    "    #         self._data[name] = value\n",
    "    #     else:\n",
    "    #         super().__setattr__(name, value)\n",
    "\n",
    "\n",
    "data = DictionaryRecord()\n",
    "data.foo = 10\n",
    "print(data.__dict__)\n",
    "print(data.foo)\n"
   ]
  },
  {
   "cell_type": "code",
   "execution_count": null,
   "metadata": {},
   "outputs": [
    {
     "name": "stdout",
     "output_type": "stream",
     "text": [
      "( <class '__main__.Meta'>,\n",
      "  'MyClass',\n",
      "  (),\n",
      "  { '__module__': '__main__',\n",
      "    '__qualname__': 'MyClass',\n",
      "    'foo': <function MyClass.foo at 0x7f3241307060>,\n",
      "    'stuff': 123})\n",
      "( <class '__main__.Meta'>,\n",
      "  'MySubclass',\n",
      "  (<class '__main__.MyClass'>,),\n",
      "  { '__module__': '__main__',\n",
      "    '__qualname__': 'MySubclass',\n",
      "    'bar': <function MySubclass.bar at 0x7f32410cd120>,\n",
      "    'other': 456})\n"
     ]
    }
   ],
   "source": [
    "class Meta(type):\n",
    "    def __new__(cls, applied_klass, applied_klass_bases, klass__dict__):\n",
    "        print((cls, applied_klass, applied_klass_bases, klass__dict__))\n",
    "        return type.__new__(cls, applied_klass, applied_klass_bases, klass__dict__)\n",
    "\n",
    "\n",
    "class MyClass(metaclass=Meta):\n",
    "    stuff = 123\n",
    "\n",
    "    def foo(self):\n",
    "        pass\n",
    "\n",
    "class MySubclass(MyClass):\n",
    "    other = 456\n",
    "\n",
    "    def bar(self):\n",
    "        pass\n",
    "    "
   ]
  },
  {
   "cell_type": "code",
   "execution_count": null,
   "metadata": {},
   "outputs": [],
   "source": [
    "class ValidatePolygon(type):\n",
    "    def __new__(meta, name, bases, class_dict):\n",
    "        if (\n",
    "            not class_dict.get(\"is_root\") \n",
    "            and bases \n",
    "            and class_dict.get(\"sides\", 0) < 3\n",
    "        ):\n",
    "            raise ValueError(\"Polygons need at least 3 sides\")\n",
    "        return type.__new__(meta, name, bases, class_dict)\n",
    "\n",
    "\n",
    "class ValidateFilledPolygon(ValidatePolygon):\n",
    "    def __new__(meta, name, bases, class_dict):\n",
    "        if (\n",
    "            not class_dict.get(\"is_root\")\n",
    "            and bases\n",
    "            and class_dict.get(\"color\") not in (\"red\", \"green\", \"blue\")\n",
    "        ):\n",
    "            raise ValueError(\"Fill color must be supported.\")\n",
    "        return type.__new__(meta, name, bases, class_dict)\n",
    "\n",
    "\n",
    "class Polygon(metaclass=ValidateFilledPolygon):\n",
    "    sides = None\n",
    "    colors = None\n",
    "\n",
    "    @classmethod\n",
    "    def interior_angles(cls):\n",
    "        return (cls.sides - 2) * 180\n",
    "\n",
    "\n",
    "class FilledPolygon(Polygon, metaclass=ValidateFilledPolygon):\n",
    "    is_root = True\n",
    "    color = None\n",
    "\n",
    "\n",
    "class Triangle(FilledPolygon):\n",
    "    sides = 3\n",
    "    color = \"red\"\n",
    "\n",
    "\n",
    "assert Triangle.interior_angles() == 180\n"
   ]
  },
  {
   "cell_type": "code",
   "execution_count": null,
   "metadata": {},
   "outputs": [
    {
     "name": "stdout",
     "output_type": "stream",
     "text": [
      "<class '__main__.Hexagon'>\n"
     ]
    },
    {
     "ename": "ValueError",
     "evalue": "Polygons need at least 3 sides",
     "output_type": "error",
     "traceback": [
      "\u001b[0;31m---------------------------------------------------------------------------\u001b[0m",
      "\u001b[0;31mValueError\u001b[0m                                Traceback (most recent call last)",
      "Cell \u001b[0;32mIn[7], line 8\u001b[0m\n\u001b[1;32m      5\u001b[0m         \u001b[39mif\u001b[39;00m drived_cls\u001b[39m.\u001b[39msides \u001b[39m<\u001b[39m \u001b[39m3\u001b[39m:\n\u001b[1;32m      6\u001b[0m             \u001b[39mraise\u001b[39;00m \u001b[39mValueError\u001b[39;00m(\u001b[39m'\u001b[39m\u001b[39mPolygons need at least 3 sides\u001b[39m\u001b[39m'\u001b[39m)\n\u001b[0;32m----> 8\u001b[0m \u001b[39mclass\u001b[39;49;00m \u001b[39mHexagon\u001b[39;49;00m(Polygon, BetterPolygonClass):\n\u001b[1;32m      9\u001b[0m     sides \u001b[39m=\u001b[39;49m \u001b[39m2\u001b[39;49m\n\u001b[1;32m     10\u001b[0m     color\u001b[39m=\u001b[39;49m \u001b[39m\"\u001b[39;49m\u001b[39mred\u001b[39;49m\u001b[39m\"\u001b[39;49m\n",
      "Cell \u001b[0;32mIn[4], line 20\u001b[0m, in \u001b[0;36mValidateFilledPolygon.__new__\u001b[0;34m(meta, name, bases, class_dict)\u001b[0m\n\u001b[1;32m     14\u001b[0m \u001b[39mif\u001b[39;00m (\n\u001b[1;32m     15\u001b[0m     \u001b[39mnot\u001b[39;00m class_dict\u001b[39m.\u001b[39mget(\u001b[39m\"\u001b[39m\u001b[39mis_root\u001b[39m\u001b[39m\"\u001b[39m)\n\u001b[1;32m     16\u001b[0m     \u001b[39mand\u001b[39;00m bases\n\u001b[1;32m     17\u001b[0m     \u001b[39mand\u001b[39;00m class_dict\u001b[39m.\u001b[39mget(\u001b[39m\"\u001b[39m\u001b[39mcolor\u001b[39m\u001b[39m\"\u001b[39m) \u001b[39mnot\u001b[39;00m \u001b[39min\u001b[39;00m (\u001b[39m\"\u001b[39m\u001b[39mred\u001b[39m\u001b[39m\"\u001b[39m, \u001b[39m\"\u001b[39m\u001b[39mgreen\u001b[39m\u001b[39m\"\u001b[39m, \u001b[39m\"\u001b[39m\u001b[39mblue\u001b[39m\u001b[39m\"\u001b[39m)\n\u001b[1;32m     18\u001b[0m ):\n\u001b[1;32m     19\u001b[0m     \u001b[39mraise\u001b[39;00m \u001b[39mValueError\u001b[39;00m(\u001b[39m\"\u001b[39m\u001b[39mFill color must be supported.\u001b[39m\u001b[39m\"\u001b[39m)\n\u001b[0;32m---> 20\u001b[0m \u001b[39mreturn\u001b[39;00m \u001b[39mtype\u001b[39;49m\u001b[39m.\u001b[39;49m\u001b[39m__new__\u001b[39;49m(meta, name, bases, class_dict)\n",
      "Cell \u001b[0;32mIn[7], line 6\u001b[0m, in \u001b[0;36mBetterPolygonClass.__init_subclass__\u001b[0;34m(drived_cls)\u001b[0m\n\u001b[1;32m      4\u001b[0m \u001b[39mprint\u001b[39m(drived_cls)\n\u001b[1;32m      5\u001b[0m \u001b[39mif\u001b[39;00m drived_cls\u001b[39m.\u001b[39msides \u001b[39m<\u001b[39m \u001b[39m3\u001b[39m:\n\u001b[0;32m----> 6\u001b[0m     \u001b[39mraise\u001b[39;00m \u001b[39mValueError\u001b[39;00m(\u001b[39m'\u001b[39m\u001b[39mPolygons need at least 3 sides\u001b[39m\u001b[39m'\u001b[39m)\n",
      "\u001b[0;31mValueError\u001b[0m: Polygons need at least 3 sides"
     ]
    }
   ],
   "source": [
    "class BetterPolygonClass:\n",
    "    def __init_subclass__(drived_cls):\n",
    "        super.__init_subclass__()\n",
    "        print(drived_cls)\n",
    "        if drived_cls.sides < 3:\n",
    "            raise ValueError('Polygons need at least 3 sides')\n",
    "\n",
    "class Hexagon(Polygon, BetterPolygonClass):\n",
    "    sides = 2\n",
    "    color= \"red\""
   ]
  },
  {
   "cell_type": "code",
   "execution_count": null,
   "metadata": {},
   "outputs": [
    {
     "name": "stdout",
     "output_type": "stream",
     "text": [
      "Top.__init_subclass__ called\n",
      "Top.__init_subclass__ called\n",
      "Bottom __init_subclass__ called\n",
      "Top.__init_subclass__ called\n"
     ]
    }
   ],
   "source": [
    "class Top:\n",
    "    def __init_subclass__(cls) -> None:\n",
    "        super().__init_subclass__()\n",
    "        print(\"Top.__init_subclass__ called\")\n",
    "\n",
    "class Left(Top):\n",
    "    def __init_subclass__(cls) -> None:\n",
    "        return super().__init_subclass__()\n",
    "        print(\"Left.__init_subclass__ called\")\n",
    "\n",
    "\n",
    "class Right(Top):\n",
    "    def __init_subclass__(cls) -> None:\n",
    "        return super().__init_subclass__()\n",
    "        print(\"Right.__init_subclass__ called\")\n",
    "\n",
    "class Bottom(Left, Right):\n",
    "    def __init_subclass__(cls) -> None:\n",
    "        return super().__init_subclass__()\n",
    "    print(\"Bottom __init_subclass__ called\")"
   ]
  },
  {
   "cell_type": "code",
   "execution_count": null,
   "metadata": {},
   "outputs": [],
   "source": [
    "import json\n",
    "\n",
    "class Serializable:\n",
    "    def __init__(self, *args):\n",
    "        self.args = args\n",
    "    def serialize(self):\n",
    "        return json.dumps({\"args\": self.args})\n"
   ]
  },
  {
   "cell_type": "code",
   "execution_count": null,
   "metadata": {},
   "outputs": [],
   "source": []
  },
  {
   "cell_type": "code",
   "execution_count": null,
   "metadata": {},
   "outputs": [],
   "source": [
    "class Point2D(Serializable):\n",
    "    def __init__(self, x, y):\n",
    "        super().__init__(x, y)\n",
    "        self.x = x\n",
    "        self.y = y\n",
    "\n",
    "c = Point2D(5, 3)\n",
    "c.serialize()\n",
    "\n",
    "class Deserializable:\n",
    "    @classmethod\n",
    "    def deserialize(cls, json_data):\n",
    "        params = json.loads(json_data)\n",
    "        return cls(*params[\"args\"])"
   ]
  },
  {
   "cell_type": "code",
   "execution_count": 32,
   "metadata": {},
   "outputs": [],
   "source": [
    "import json \n",
    "\n",
    "class BetterSerializable:\n",
    "    def __init__(self, *args):\n",
    "        self.args = args\n",
    "    \n",
    "    def serialize(self):\n",
    "        return json.dumps({\n",
    "            \"class\": self.__class__.__name__,\n",
    "            \"args\": self.args\n",
    "        })\n",
    "\n",
    "\n",
    "registry = {}\n",
    "\n",
    "def register_class(target_class):\n",
    "    registry[target_class.__name__] = target_class\n",
    "\n",
    "def deserialize(data):\n",
    "    params = json.loads(data)\n",
    "    name = params[\"class\"]\n",
    "    target_class = registry[name]\n",
    "    return target_class(*params[\"args\"])\n",
    "\n",
    "class EvenBetterPoint2d(BetterSerializable):\n",
    "    def __init__(self, x, y):\n",
    "        super().__init__(x, y)\n",
    "        self.x = x\n",
    "        self.y = y\n",
    "\n",
    "    "
   ]
  },
  {
   "cell_type": "code",
   "execution_count": 33,
   "metadata": {},
   "outputs": [],
   "source": [
    "from dataclasses import dataclass"
   ]
  },
  {
   "cell_type": "code",
   "execution_count": 50,
   "metadata": {},
   "outputs": [
    {
     "name": "stdout",
     "output_type": "stream",
     "text": [
      "(<class '__main__.Meta'>, 'RegisteredSerializable', (<class '__main__.BetterSerializable'>,), {'__module__': '__main__', '__qualname__': 'RegisteredSerializable'})\n",
      "(<class '__main__.Meta'>, 'Vector3D', (<class '__main__.RegisteredSerializable'>,), {'__module__': '__main__', '__qualname__': 'Vector3D', '__annotations__': {'x': <class 'float'>, 'y': <class 'float'>, 'z': <class 'float'>}, '__post_init__': <function Vector3D.__post_init__ at 0x7f3b1e956660>, '__classcell__': <cell at 0x7f3b1ef541c0: empty>})\n"
     ]
    }
   ],
   "source": [
    "class Meta(type):\n",
    "    def __new__(meta, name, bases, class_dict):\n",
    "        print((meta, name, bases, class_dict))\n",
    "        cls = type.__new__(meta, name, bases, class_dict)\n",
    "        register_class(cls)\n",
    "        return cls\n",
    "\n",
    "class RegisteredSerializable(BetterSerializable, metaclass=Meta):\n",
    "    pass\n",
    "\n",
    "\n",
    "@dataclass\n",
    "class Vector3D(RegisteredSerializable):\n",
    "    x: float\n",
    "    y: float\n",
    "    z: float\n",
    "\n",
    "    def __post_init__(self):\n",
    "        super().__init__(self.x, self.y, self.z)\n"
   ]
  },
  {
   "cell_type": "code",
   "execution_count": 51,
   "metadata": {},
   "outputs": [
    {
     "name": "stdout",
     "output_type": "stream",
     "text": [
      "Before: Vector3D(x=10, y=-7, z=3.14)\n",
      "{\"class\": \"Vector3D\", \"args\": [10, -7, 3.14]}\n"
     ]
    }
   ],
   "source": [
    "before = Vector3D(10, -7, 3.14)\n",
    "print(\"Before:\", before)\n",
    "data = before.serialize()\n",
    "print(data)"
   ]
  },
  {
   "cell_type": "code",
   "execution_count": null,
   "metadata": {},
   "outputs": [],
   "source": []
  }
 ],
 "metadata": {
  "kernelspec": {
   "display_name": "Python 3",
   "language": "python",
   "name": "python3"
  },
  "language_info": {
   "codemirror_mode": {
    "name": "ipython",
    "version": 3
   },
   "file_extension": ".py",
   "mimetype": "text/x-python",
   "name": "python",
   "nbconvert_exporter": "python",
   "pygments_lexer": "ipython3",
   "version": "3.11.1"
  },
  "orig_nbformat": 4
 },
 "nbformat": 4,
 "nbformat_minor": 2
}
