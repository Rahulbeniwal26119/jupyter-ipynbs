{
 "cells": [
  {
   "cell_type": "code",
   "execution_count": 48,
   "metadata": {},
   "outputs": [],
   "source": [
    "class Meta(type):\n",
    "    def __new__(meta, name, bases, class_dict):\n",
    "        print(meta, name, bases, class_dict)\n",
    "        for key, value in class_dict.items():\n",
    "            if isinstance(value, Field):\n",
    "                value.name = key\n",
    "                value.internal_name = '_' + key\n",
    "        cls = type.__new__(meta, name, bases, class_dict)\n",
    "        return cls \n",
    "\n",
    "class Field:\n",
    "    def __init__(self):\n",
    "        self.name = None\n",
    "        self.internal_name = None\n",
    "    \n",
    "    def __set_name__(self, owner, name):\n",
    "        print(f\"self={self}, owner={owner}, name={name}\")\n",
    "        # called before __set__\n",
    "        self.name = name\n",
    "        self.internal_name = '_' + name\n",
    "\n",
    "    def __get__(self, instance, instance_type):\n",
    "        print(\"instance=\",instance, \"instance_type=\",instance_type.__name__)\n",
    "        print(\"values\", instance.__dict__)\n",
    "        if instance is None:\n",
    "            return self\n",
    "        return getattr(instance, self.internal_name, '')\n",
    "    \n",
    "    def __set__(self, instance, value):\n",
    "        print(self, \"instance=\",instance, \"value=\",value)\n",
    "        setattr(instance, self.internal_name, value)\n"
   ]
  },
  {
   "cell_type": "code",
   "execution_count": 37,
   "metadata": {},
   "outputs": [
    {
     "name": "stdout",
     "output_type": "stream",
     "text": [
      "<class '__main__.Meta'> DatabaseRow () {'__module__': '__main__', '__qualname__': 'DatabaseRow'}\n"
     ]
    }
   ],
   "source": [
    "class DatabaseRow(metaclass=Meta):\n",
    "    pass "
   ]
  },
  {
   "cell_type": "code",
   "execution_count": 38,
   "metadata": {},
   "outputs": [
    {
     "name": "stdout",
     "output_type": "stream",
     "text": [
      "<class '__main__.Meta'> Customer (<class '__main__.DatabaseRow'>,) {'__module__': '__main__', '__qualname__': 'Customer', 'first_name': <__main__.Field object at 0x7f27cf759210>, 'last_name': <__main__.Field object at 0x7f27cf75a9b0>, 'prefix': <__main__.Field object at 0x7f27cf758a00>, 'suffix': <__main__.Field object at 0x7f27cf758ca0>}\n",
      "instance= <__main__.Customer object at 0x7f27cf75a890> instance_type= Customer\n",
      "values {}\n",
      ", {}\n",
      "<__main__.Field object at 0x7f27cf759210> instance= <__main__.Customer object at 0x7f27cf75a890> value= Euclid\n",
      "<__main__.Field object at 0x7f27cf75a9b0> instance= <__main__.Customer object at 0x7f27cf75a890> value= Beniwal\n",
      "instance= <__main__.Customer object at 0x7f27cf75a890> instance_type= Customer\n",
      "values {'_first_name': 'Euclid', '_last_name': 'Beniwal'}\n",
      "After Euclid, {'_first_name': 'Euclid', '_last_name': 'Beniwal'}\n"
     ]
    }
   ],
   "source": [
    "class Customer(DatabaseRow):\n",
    "    first_name = Field()\n",
    "    last_name = Field()\n",
    "    prefix = Field()\n",
    "    suffix = Field()\n",
    "\n",
    "cust = Customer()\n",
    "print(f'{cust.first_name}, {cust.__dict__}')\n",
    "cust.first_name = 'Euclid'\n",
    "cust.last_name = 'Beniwal'\n",
    "print(f'After {cust.first_name}, {cust.__dict__}')"
   ]
  },
  {
   "cell_type": "code",
   "execution_count": 39,
   "metadata": {},
   "outputs": [
    {
     "name": "stdout",
     "output_type": "stream",
     "text": [
      "instance= <__main__.Customer object at 0x7f27cf75a890> instance_type= Customer\n",
      "values {'_first_name': 'Euclid', '_last_name': 'Beniwal'}\n"
     ]
    },
    {
     "data": {
      "text/plain": [
       "'Euclid'"
      ]
     },
     "execution_count": 39,
     "metadata": {},
     "output_type": "execute_result"
    }
   ],
   "source": [
    "cust.first_name"
   ]
  },
  {
   "cell_type": "code",
   "execution_count": 50,
   "metadata": {},
   "outputs": [
    {
     "name": "stdout",
     "output_type": "stream",
     "text": [
      "self=<__main__.Field object at 0x7f27cf75a6e0>, owner=<class '__main__.BrokenCustomer'>, name=first_name\n",
      "<__main__.Field object at 0x7f27cf75a6e0> instance= <__main__.BrokenCustomer object at 0x7f27e834a200> value= Rahul\n"
     ]
    }
   ],
   "source": [
    "class BrokenCustomer:\n",
    "    first_name = Field()\n",
    "b = BrokenCustomer()\n",
    "b.first_name = \"Rahul\""
   ]
  },
  {
   "cell_type": "code",
   "execution_count": 53,
   "metadata": {},
   "outputs": [
    {
     "data": {
      "text/plain": [
       "{'_first_name': 'Rahul'}"
      ]
     },
     "execution_count": 53,
     "metadata": {},
     "output_type": "execute_result"
    }
   ],
   "source": [
    "b.__dict__"
   ]
  },
  {
   "cell_type": "code",
   "execution_count": 78,
   "metadata": {},
   "outputs": [],
   "source": [
    "from functools import wraps \n",
    "\n",
    "def trace_func(func):\n",
    "    # if hasattr(func, 'tracing'):\n",
    "    #     return func \n",
    "\n",
    "    @wraps(func)\n",
    "    def wrapper(*args, **kwargs):\n",
    "        result = None\n",
    "        try:\n",
    "            result = func(*args, **kwargs)\n",
    "            return result\n",
    "        except Exception as e:\n",
    "            result = e \n",
    "            raise \n",
    "        finally:\n",
    "            print(f'{func.__name__}({args}, {kwargs}) -> {result}')\n",
    "    wrapper.tracing = True \n",
    "    return wrapper "
   ]
  },
  {
   "cell_type": "code",
   "execution_count": 81,
   "metadata": {},
   "outputs": [],
   "source": [
    "# Problem is that for logging we have to define all methods again \n",
    "# Boiler Plate Code \n",
    "class TraceDict(dict):\n",
    "    @trace_func\n",
    "    def __init__(self, *args, **kwargs):\n",
    "        super().__init__(*args, **kwargs)\n",
    "\n",
    "    @trace_func\n",
    "    def __setitem__(self, *args, **kwargs):\n",
    "        return super().__setitem__(*args, **kwargs)\n",
    "    \n",
    "    @trace_func\n",
    "    def __getitem__(self, *args, **kwargs):\n",
    "        return super().__getitem__(*args, **kwargs)"
   ]
  },
  {
   "cell_type": "code",
   "execution_count": 86,
   "metadata": {},
   "outputs": [],
   "source": [
    "import types \n",
    "trace_type = (\n",
    "    types.MethodType, \n",
    "    types.FunctionType,\n",
    "    types.BuiltinFunctionType,\n",
    "    types.BuiltinMethodType,\n",
    "    types.MethodDescriptorType,\n",
    "    types.ClassMethodDescriptorType\n",
    "\n",
    ")\n",
    "\n",
    "class TraceMeta(type):\n",
    "    def __new__(meta, name, bases, class_dict):\n",
    "        klass = super().__new__(meta, name, bases, class_dict)\n",
    "\n",
    "        for key in dir(klass):\n",
    "            value = getattr(klass, key)\n",
    "            if isinstance(value, trace_type):\n",
    "                wrapped = trace_func(value)\n",
    "                setattr(klass, key, wrapped)\n",
    "        return klass "
   ]
  },
  {
   "cell_type": "code",
   "execution_count": 92,
   "metadata": {},
   "outputs": [],
   "source": [
    "def trace(klass):\n",
    "    for key in dir(klass):\n",
    "        value = getattr(klass, key)\n",
    "        if isinstance(value, trace_type):\n",
    "            wrapped = trace_func(value)\n",
    "            setattr(klass, key, wrapped)\n",
    "    return klass"
   ]
  },
  {
   "cell_type": "code",
   "execution_count": 98,
   "metadata": {},
   "outputs": [
    {
     "name": "stdout",
     "output_type": "stream",
     "text": [
      "__format__(({}, ''), {}) -> {}\n",
      "__new__((<class '__main__.SimpleTraceDict'>, [('HI', 1)]), {}) -> {}\n",
      "__getitem__(({'HI': 1, 1: 2}, 'hi'), {}) -> 'hi'\n"
     ]
    },
    {
     "ename": "KeyError",
     "evalue": "'hi'",
     "output_type": "error",
     "traceback": [
      "\u001b[0;31m---------------------------------------------------------------------------\u001b[0m",
      "\u001b[0;31mKeyError\u001b[0m                                  Traceback (most recent call last)",
      "\u001b[1;32m/home/rahulbeniwal/personal/jupyter-ipynbs/commons/metaclasses/last.ipynb Cell 11\u001b[0m in \u001b[0;36m<cell line: 7>\u001b[0;34m()\u001b[0m\n\u001b[1;32m      <a href='vscode-notebook-cell:/home/rahulbeniwal/personal/jupyter-ipynbs/commons/metaclasses/last.ipynb#X33sZmlsZQ%3D%3D?line=4'>5</a>\u001b[0m trace_dict \u001b[39m=\u001b[39m SimpleTraceDict([(\u001b[39m'\u001b[39m\u001b[39mHI\u001b[39m\u001b[39m'\u001b[39m, \u001b[39m1\u001b[39m)])\n\u001b[1;32m      <a href='vscode-notebook-cell:/home/rahulbeniwal/personal/jupyter-ipynbs/commons/metaclasses/last.ipynb#X33sZmlsZQ%3D%3D?line=5'>6</a>\u001b[0m trace_dict[\u001b[39m1\u001b[39m] \u001b[39m=\u001b[39m \u001b[39m2\u001b[39m \n\u001b[0;32m----> <a href='vscode-notebook-cell:/home/rahulbeniwal/personal/jupyter-ipynbs/commons/metaclasses/last.ipynb#X33sZmlsZQ%3D%3D?line=6'>7</a>\u001b[0m trace_dict[\u001b[39m'\u001b[39;49m\u001b[39mhi\u001b[39;49m\u001b[39m'\u001b[39;49m]\n",
      "\u001b[1;32m/home/rahulbeniwal/personal/jupyter-ipynbs/commons/metaclasses/last.ipynb Cell 11\u001b[0m in \u001b[0;36mtrace_func.<locals>.wrapper\u001b[0;34m(*args, **kwargs)\u001b[0m\n\u001b[1;32m      <a href='vscode-notebook-cell:/home/rahulbeniwal/personal/jupyter-ipynbs/commons/metaclasses/last.ipynb#X33sZmlsZQ%3D%3D?line=8'>9</a>\u001b[0m result \u001b[39m=\u001b[39m \u001b[39mNone\u001b[39;00m\n\u001b[1;32m     <a href='vscode-notebook-cell:/home/rahulbeniwal/personal/jupyter-ipynbs/commons/metaclasses/last.ipynb#X33sZmlsZQ%3D%3D?line=9'>10</a>\u001b[0m \u001b[39mtry\u001b[39;00m:\n\u001b[0;32m---> <a href='vscode-notebook-cell:/home/rahulbeniwal/personal/jupyter-ipynbs/commons/metaclasses/last.ipynb#X33sZmlsZQ%3D%3D?line=10'>11</a>\u001b[0m     result \u001b[39m=\u001b[39m func(\u001b[39m*\u001b[39;49margs, \u001b[39m*\u001b[39;49m\u001b[39m*\u001b[39;49mkwargs)\n\u001b[1;32m     <a href='vscode-notebook-cell:/home/rahulbeniwal/personal/jupyter-ipynbs/commons/metaclasses/last.ipynb#X33sZmlsZQ%3D%3D?line=11'>12</a>\u001b[0m     \u001b[39mreturn\u001b[39;00m result\n\u001b[1;32m     <a href='vscode-notebook-cell:/home/rahulbeniwal/personal/jupyter-ipynbs/commons/metaclasses/last.ipynb#X33sZmlsZQ%3D%3D?line=12'>13</a>\u001b[0m \u001b[39mexcept\u001b[39;00m \u001b[39mException\u001b[39;00m \u001b[39mas\u001b[39;00m e:\n",
      "\u001b[0;31mKeyError\u001b[0m: 'hi'"
     ]
    }
   ],
   "source": [
    "@trace\n",
    "class SimpleTraceDict(dict):\n",
    "    pass \n",
    "\n",
    "trace_dict = SimpleTraceDict([('HI', 1)])\n",
    "trace_dict[1] = 2 \n",
    "trace_dict['hi']"
   ]
  },
  {
   "cell_type": "code",
   "execution_count": 97,
   "metadata": {},
   "outputs": [],
   "source": [
    "class TraceDict(dict, metaclass=TraceMeta):\n",
    "    pass"
   ]
  },
  {
   "cell_type": "code",
   "execution_count": 88,
   "metadata": {},
   "outputs": [
    {
     "name": "stdout",
     "output_type": "stream",
     "text": [
      "__format__(({}, ''), {}) -> {}\n",
      "__new__((<class '__main__.TraceDict'>, {'a': 'b'}), {}) -> {}\n",
      "__getitem__(({'a': 'b', 'rahul': 'Beniwal'}, 'hi'), {}) -> 'hi'\n"
     ]
    },
    {
     "ename": "KeyError",
     "evalue": "'hi'",
     "output_type": "error",
     "traceback": [
      "\u001b[0;31m---------------------------------------------------------------------------\u001b[0m",
      "\u001b[0;31mKeyError\u001b[0m                                  Traceback (most recent call last)",
      "\u001b[1;32m/home/rahulbeniwal/personal/jupyter-ipynbs/commons/metaclasses/last.ipynb Cell 11\u001b[0m in \u001b[0;36m<cell line: 3>\u001b[0;34m()\u001b[0m\n\u001b[1;32m      <a href='vscode-notebook-cell:/home/rahulbeniwal/personal/jupyter-ipynbs/commons/metaclasses/last.ipynb#X25sZmlsZQ%3D%3D?line=0'>1</a>\u001b[0m trace_dict \u001b[39m=\u001b[39m TraceDict({\u001b[39m'\u001b[39m\u001b[39ma\u001b[39m\u001b[39m'\u001b[39m: \u001b[39m'\u001b[39m\u001b[39mb\u001b[39m\u001b[39m'\u001b[39m})\n\u001b[1;32m      <a href='vscode-notebook-cell:/home/rahulbeniwal/personal/jupyter-ipynbs/commons/metaclasses/last.ipynb#X25sZmlsZQ%3D%3D?line=1'>2</a>\u001b[0m trace_dict[\u001b[39m'\u001b[39m\u001b[39mrahul\u001b[39m\u001b[39m'\u001b[39m] \u001b[39m=\u001b[39m \u001b[39m'\u001b[39m\u001b[39mBeniwal\u001b[39m\u001b[39m'\u001b[39m\n\u001b[0;32m----> <a href='vscode-notebook-cell:/home/rahulbeniwal/personal/jupyter-ipynbs/commons/metaclasses/last.ipynb#X25sZmlsZQ%3D%3D?line=2'>3</a>\u001b[0m trace_dict[\u001b[39m'\u001b[39;49m\u001b[39mhi\u001b[39;49m\u001b[39m'\u001b[39;49m]\n",
      "\u001b[1;32m/home/rahulbeniwal/personal/jupyter-ipynbs/commons/metaclasses/last.ipynb Cell 11\u001b[0m in \u001b[0;36mtrace_func.<locals>.wrapper\u001b[0;34m(*args, **kwargs)\u001b[0m\n\u001b[1;32m      <a href='vscode-notebook-cell:/home/rahulbeniwal/personal/jupyter-ipynbs/commons/metaclasses/last.ipynb#X25sZmlsZQ%3D%3D?line=8'>9</a>\u001b[0m result \u001b[39m=\u001b[39m \u001b[39mNone\u001b[39;00m\n\u001b[1;32m     <a href='vscode-notebook-cell:/home/rahulbeniwal/personal/jupyter-ipynbs/commons/metaclasses/last.ipynb#X25sZmlsZQ%3D%3D?line=9'>10</a>\u001b[0m \u001b[39mtry\u001b[39;00m:\n\u001b[0;32m---> <a href='vscode-notebook-cell:/home/rahulbeniwal/personal/jupyter-ipynbs/commons/metaclasses/last.ipynb#X25sZmlsZQ%3D%3D?line=10'>11</a>\u001b[0m     result \u001b[39m=\u001b[39m func(\u001b[39m*\u001b[39;49margs, \u001b[39m*\u001b[39;49m\u001b[39m*\u001b[39;49mkwargs)\n\u001b[1;32m     <a href='vscode-notebook-cell:/home/rahulbeniwal/personal/jupyter-ipynbs/commons/metaclasses/last.ipynb#X25sZmlsZQ%3D%3D?line=11'>12</a>\u001b[0m     \u001b[39mreturn\u001b[39;00m result\n\u001b[1;32m     <a href='vscode-notebook-cell:/home/rahulbeniwal/personal/jupyter-ipynbs/commons/metaclasses/last.ipynb#X25sZmlsZQ%3D%3D?line=12'>13</a>\u001b[0m \u001b[39mexcept\u001b[39;00m \u001b[39mException\u001b[39;00m \u001b[39mas\u001b[39;00m e:\n",
      "\u001b[0;31mKeyError\u001b[0m: 'hi'"
     ]
    }
   ],
   "source": [
    "trace_dict = TraceDict({'a': 'b'})\n",
    "trace_dict['rahul'] = 'Beniwal'\n",
    "trace_dict['hi']"
   ]
  },
  {
   "cell_type": "code",
   "execution_count": 89,
   "metadata": {},
   "outputs": [
    {
     "ename": "TypeError",
     "evalue": "metaclass conflict: the metaclass of a derived class must be a (non-strict) subclass of the metaclasses of all its bases",
     "output_type": "error",
     "traceback": [
      "\u001b[0;31m---------------------------------------------------------------------------\u001b[0m",
      "\u001b[0;31mTypeError\u001b[0m                                 Traceback (most recent call last)",
      "\u001b[1;32m/home/rahulbeniwal/personal/jupyter-ipynbs/commons/metaclasses/last.ipynb Cell 12\u001b[0m in \u001b[0;36m<cell line: 7>\u001b[0;34m()\u001b[0m\n\u001b[1;32m      <a href='vscode-notebook-cell:/home/rahulbeniwal/personal/jupyter-ipynbs/commons/metaclasses/last.ipynb#X26sZmlsZQ%3D%3D?line=3'>4</a>\u001b[0m \u001b[39mclass\u001b[39;00m \u001b[39mSimpleDict\u001b[39;00m(\u001b[39mdict\u001b[39m, metaclass\u001b[39m=\u001b[39mOtherMeta):\n\u001b[1;32m      <a href='vscode-notebook-cell:/home/rahulbeniwal/personal/jupyter-ipynbs/commons/metaclasses/last.ipynb#X26sZmlsZQ%3D%3D?line=4'>5</a>\u001b[0m     \u001b[39mpass\u001b[39;00m \n\u001b[0;32m----> <a href='vscode-notebook-cell:/home/rahulbeniwal/personal/jupyter-ipynbs/commons/metaclasses/last.ipynb#X26sZmlsZQ%3D%3D?line=6'>7</a>\u001b[0m \u001b[39mclass\u001b[39;00m \u001b[39mTraceDict\u001b[39;00m(SimpleDict, metaclass\u001b[39m=\u001b[39mTraceMeta):\n\u001b[1;32m      <a href='vscode-notebook-cell:/home/rahulbeniwal/personal/jupyter-ipynbs/commons/metaclasses/last.ipynb#X26sZmlsZQ%3D%3D?line=7'>8</a>\u001b[0m     \u001b[39mpass\u001b[39;00m\n",
      "\u001b[0;31mTypeError\u001b[0m: metaclass conflict: the metaclass of a derived class must be a (non-strict) subclass of the metaclasses of all its bases"
     ]
    }
   ],
   "source": [
    "class OtherMeta(type):\n",
    "    pass\n",
    "\n",
    "class SimpleDict(dict, metaclass=OtherMeta):\n",
    "    pass \n",
    "\n",
    "class TraceDict(SimpleDict, metaclass=TraceMeta):\n",
    "    pass "
   ]
  },
  {
   "cell_type": "code",
   "execution_count": 90,
   "metadata": {},
   "outputs": [
    {
     "name": "stdout",
     "output_type": "stream",
     "text": [
      "__init_subclass__((), {}) -> None\n"
     ]
    }
   ],
   "source": [
    "class OtherMeta(TraceMeta):\n",
    "    pass \n",
    "\n",
    "class SimpleDict(dict, metaclass=OtherMeta):\n",
    "    pass\n",
    "\n",
    "class TraceDict(SimpleDict, metaclass=TraceMeta):\n",
    "    pass "
   ]
  },
  {
   "cell_type": "code",
   "execution_count": 91,
   "metadata": {},
   "outputs": [
    {
     "name": "stdout",
     "output_type": "stream",
     "text": [
      "<class '__main__.Myclass'>\n",
      "Hello\n"
     ]
    }
   ],
   "source": [
    "def my_class_decorator(klass):\n",
    "    klass.extra_param = 'Hello'\n",
    "    return klass \n",
    "\n",
    "@my_class_decorator\n",
    "class Myclass:\n",
    "    pass\n",
    "\n",
    "print(Myclass)\n",
    "print(Myclass.extra_param)"
   ]
  },
  {
   "cell_type": "code",
   "execution_count": 80,
   "metadata": {},
   "outputs": [
    {
     "name": "stdout",
     "output_type": "stream",
     "text": [
      "Help on function __init__ in module __main__:\n",
      "\n",
      "__init__(self, *args, **kwargs)\n",
      "    Initialize self.  See help(type(self)) for accurate signature.\n",
      "\n"
     ]
    }
   ],
   "source": [
    "help(TraceDict.__init__)"
   ]
  },
  {
   "cell_type": "code",
   "execution_count": 76,
   "metadata": {},
   "outputs": [
    {
     "name": "stdout",
     "output_type": "stream",
     "text": [
      "__init__(({'a': 'b'}, {'a': 'b'}), {}) -> None\n",
      "__setitem__(({'a': 'b', 'rahul': 'Beniwal'}, 'rahul', 'Beniwal'), {}) -> None\n",
      "__getitem__(({'a': 'b', 'rahul': 'Beniwal'}, 'hi'), {}) -> 'hi'\n"
     ]
    },
    {
     "ename": "KeyError",
     "evalue": "'hi'",
     "output_type": "error",
     "traceback": [
      "\u001b[0;31m---------------------------------------------------------------------------\u001b[0m",
      "\u001b[0;31mKeyError\u001b[0m                                  Traceback (most recent call last)",
      "\u001b[1;32m/home/rahulbeniwal/personal/jupyter-ipynbs/commons/metaclasses/last.ipynb Cell 9\u001b[0m in \u001b[0;36m<cell line: 3>\u001b[0;34m()\u001b[0m\n\u001b[1;32m      <a href='vscode-notebook-cell:/home/rahulbeniwal/personal/jupyter-ipynbs/commons/metaclasses/last.ipynb#X21sZmlsZQ%3D%3D?line=0'>1</a>\u001b[0m trace_dict \u001b[39m=\u001b[39m TraceDict({\u001b[39m'\u001b[39m\u001b[39ma\u001b[39m\u001b[39m'\u001b[39m: \u001b[39m'\u001b[39m\u001b[39mb\u001b[39m\u001b[39m'\u001b[39m})\n\u001b[1;32m      <a href='vscode-notebook-cell:/home/rahulbeniwal/personal/jupyter-ipynbs/commons/metaclasses/last.ipynb#X21sZmlsZQ%3D%3D?line=1'>2</a>\u001b[0m trace_dict[\u001b[39m'\u001b[39m\u001b[39mrahul\u001b[39m\u001b[39m'\u001b[39m] \u001b[39m=\u001b[39m \u001b[39m'\u001b[39m\u001b[39mBeniwal\u001b[39m\u001b[39m'\u001b[39m\n\u001b[0;32m----> <a href='vscode-notebook-cell:/home/rahulbeniwal/personal/jupyter-ipynbs/commons/metaclasses/last.ipynb#X21sZmlsZQ%3D%3D?line=2'>3</a>\u001b[0m trace_dict[\u001b[39m'\u001b[39;49m\u001b[39mhi\u001b[39;49m\u001b[39m'\u001b[39;49m]\n",
      "\u001b[1;32m/home/rahulbeniwal/personal/jupyter-ipynbs/commons/metaclasses/last.ipynb Cell 9\u001b[0m in \u001b[0;36mtrace_func.<locals>.wrapper\u001b[0;34m(*args, **kwargs)\u001b[0m\n\u001b[1;32m      <a href='vscode-notebook-cell:/home/rahulbeniwal/personal/jupyter-ipynbs/commons/metaclasses/last.ipynb#X21sZmlsZQ%3D%3D?line=8'>9</a>\u001b[0m result \u001b[39m=\u001b[39m \u001b[39mNone\u001b[39;00m\n\u001b[1;32m     <a href='vscode-notebook-cell:/home/rahulbeniwal/personal/jupyter-ipynbs/commons/metaclasses/last.ipynb#X21sZmlsZQ%3D%3D?line=9'>10</a>\u001b[0m \u001b[39mtry\u001b[39;00m:\n\u001b[0;32m---> <a href='vscode-notebook-cell:/home/rahulbeniwal/personal/jupyter-ipynbs/commons/metaclasses/last.ipynb#X21sZmlsZQ%3D%3D?line=10'>11</a>\u001b[0m     result \u001b[39m=\u001b[39m func(\u001b[39m*\u001b[39;49margs, \u001b[39m*\u001b[39;49m\u001b[39m*\u001b[39;49mkwargs)\n\u001b[1;32m     <a href='vscode-notebook-cell:/home/rahulbeniwal/personal/jupyter-ipynbs/commons/metaclasses/last.ipynb#X21sZmlsZQ%3D%3D?line=11'>12</a>\u001b[0m     \u001b[39mreturn\u001b[39;00m result\n\u001b[1;32m     <a href='vscode-notebook-cell:/home/rahulbeniwal/personal/jupyter-ipynbs/commons/metaclasses/last.ipynb#X21sZmlsZQ%3D%3D?line=12'>13</a>\u001b[0m \u001b[39mexcept\u001b[39;00m \u001b[39mException\u001b[39;00m \u001b[39mas\u001b[39;00m e:\n",
      "\u001b[1;32m/home/rahulbeniwal/personal/jupyter-ipynbs/commons/metaclasses/last.ipynb Cell 9\u001b[0m in \u001b[0;36mTraceDict.__getitem__\u001b[0;34m(self, *args, **kwargs)\u001b[0m\n\u001b[1;32m     <a href='vscode-notebook-cell:/home/rahulbeniwal/personal/jupyter-ipynbs/commons/metaclasses/last.ipynb#X21sZmlsZQ%3D%3D?line=9'>10</a>\u001b[0m \u001b[39m@trace_func\u001b[39m\n\u001b[1;32m     <a href='vscode-notebook-cell:/home/rahulbeniwal/personal/jupyter-ipynbs/commons/metaclasses/last.ipynb#X21sZmlsZQ%3D%3D?line=10'>11</a>\u001b[0m \u001b[39mdef\u001b[39;00m \u001b[39m__getitem__\u001b[39m(\u001b[39mself\u001b[39m, \u001b[39m*\u001b[39margs, \u001b[39m*\u001b[39m\u001b[39m*\u001b[39mkwargs):\n\u001b[0;32m---> <a href='vscode-notebook-cell:/home/rahulbeniwal/personal/jupyter-ipynbs/commons/metaclasses/last.ipynb#X21sZmlsZQ%3D%3D?line=11'>12</a>\u001b[0m     \u001b[39mreturn\u001b[39;00m \u001b[39msuper\u001b[39;49m()\u001b[39m.\u001b[39;49m\u001b[39m__getitem__\u001b[39;49m(\u001b[39m*\u001b[39;49margs, \u001b[39m*\u001b[39;49m\u001b[39m*\u001b[39;49mkwargs)\n",
      "\u001b[0;31mKeyError\u001b[0m: 'hi'"
     ]
    }
   ],
   "source": [
    "trace_dict = TraceDict({'a': 'b'})\n",
    "trace_dict['rahul'] = 'Beniwal'\n",
    "trace_dict['hi']"
   ]
  },
  {
   "cell_type": "code",
   "execution_count": 63,
   "metadata": {},
   "outputs": [],
   "source": [
    "def function(a, b):\n",
    "    c = 100\n",
    "    return a,b \n",
    "function.c = 1000"
   ]
  },
  {
   "cell_type": "code",
   "execution_count": null,
   "metadata": {},
   "outputs": [],
   "source": []
  },
  {
   "cell_type": "code",
   "execution_count": 64,
   "metadata": {},
   "outputs": [
    {
     "data": {
      "text/plain": [
       "{'c': 1000}"
      ]
     },
     "execution_count": 64,
     "metadata": {},
     "output_type": "execute_result"
    }
   ],
   "source": [
    "function.__dict__"
   ]
  },
  {
   "cell_type": "code",
   "execution_count": null,
   "metadata": {},
   "outputs": [],
   "source": []
  },
  {
   "cell_type": "code",
   "execution_count": null,
   "metadata": {},
   "outputs": [],
   "source": []
  }
 ],
 "metadata": {
  "kernelspec": {
   "display_name": "Python 3.10.6 64-bit",
   "language": "python",
   "name": "python3"
  },
  "language_info": {
   "codemirror_mode": {
    "name": "ipython",
    "version": 3
   },
   "file_extension": ".py",
   "mimetype": "text/x-python",
   "name": "python",
   "nbconvert_exporter": "python",
   "pygments_lexer": "ipython3",
   "version": "3.10.6"
  },
  "orig_nbformat": 4,
  "vscode": {
   "interpreter": {
    "hash": "916dbcbb3f70747c44a77c7bcd40155683ae19c65e1c03b4aa3499c5328201f1"
   }
  }
 },
 "nbformat": 4,
 "nbformat_minor": 2
}
