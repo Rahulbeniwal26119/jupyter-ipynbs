{
 "cells": [
  {
   "cell_type": "code",
   "execution_count": null,
   "metadata": {},
   "outputs": [],
   "source": [
    "def test(a, b=True, c=True, d=False, *e, **f):\n",
    "    pass\n",
    "import inspect\n",
    "args, _, _, defaults, *_ = inspect.getfullargspec(test)\n",
    "index = len(args) - len(defaults)\n",
    "dict(zip(args[index:], defaults))"
   ]
  },
  {
   "cell_type": "code",
   "execution_count": null,
   "metadata": {},
   "outputs": [],
   "source": [
    "class SubClassTracker(type):\n",
    "    def __init__(cls, name, bases, attrs):\n",
    "        print(\"cls\", cls)\n",
    "\n",
    "        try:\n",
    "            if TrackedClass not in bases:\n",
    "                return\n",
    "        except NameError:\n",
    "            return\n",
    "        TrackedClass._registry.append(cls)\n",
    "\n",
    "class TrackedClass(metaclass=SubClassTracker):\n",
    "    _registry = []\n",
    "\n",
    "class A(TrackedClass):\n",
    "    pass\n",
    "\n",
    "class B(TrackedClass):\n",
    "    pass\n",
    "\n",
    "TrackedClass._registry"
   ]
  },
  {
   "cell_type": "code",
   "execution_count": null,
   "metadata": {},
   "outputs": [],
   "source": [
    "class PluginMount(type):\n",
    "    def __init__(cls, name, bases, attrs):\n",
    "        if not hasattr(cls, 'plugins'):\n",
    "            cls.plugins = []\n",
    "        else:\n",
    "            cls.plugins.append(cls)\n",
    "\n",
    "\n",
    "class PasswordValidator(metaclass=PluginMount):\n",
    "    pass \n",
    "\n",
    "\n",
    "class MinLengthValidator(PasswordValidator):\n",
    "    def validate(self, password):\n",
    "        if len(password) < 6:\n",
    "            raise ValueError('Password must be at least 6 characters long')\n",
    "\n",
    "class SpecialCharacter(PasswordValidator):\n",
    "    def validate(self, password):\n",
    "        if password.isalnum():\n",
    "            raise ValueError('Password must contain at least one special character')\n",
    "\n",
    "def is_password_valid(password):\n",
    "    for plugin in PasswordValidator.plugins:\n",
    "        try:\n",
    "            plugin().validate(password)\n",
    "        except ValueError:\n",
    "            return False\n",
    "    return True\n",
    "\n",
    "def get_password_error(password):\n",
    "    errors = []\n",
    "    for plugin in PasswordValidator.plugins:\n",
    "        try:\n",
    "            plugin().validate(password)\n",
    "        except ValueError as e:\n",
    "            errors.append(str(e))\n",
    "    return errors \n",
    "\n",
    "for pwassword in (\"123456\", \"1234567\", \"1234567a\", \"1234567a@\"):\n",
    "    print(pwassword, is_password_valid(pwassword))\n",
    "    print(pwassword, get_password_error(pwassword))\n",
    "\n",
    "\n",
    "# def is_password_valid(password):\n",
    "#     for vali"
   ]
  }
 ],
 "metadata": {
  "kernelspec": {
   "display_name": "Python 3",
   "language": "python",
   "name": "python3"
  },
  "language_info": {
   "codemirror_mode": {
    "name": "ipython",
    "version": 3
   },
   "file_extension": ".py",
   "mimetype": "text/x-python",
   "name": "python",
   "nbconvert_exporter": "python",
   "pygments_lexer": "ipython3",
   "version": "3.11.1"
  },
  "orig_nbformat": 4,
  "vscode": {
   "interpreter": {
    "hash": "930379a8b39fc407f21aba7d78a18ad6c0dff7af07878b7bb9289a4858cd86cf"
   }
  }
 },
 "nbformat": 4,
 "nbformat_minor": 2
}
