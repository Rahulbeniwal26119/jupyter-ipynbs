{
 "cells": [
  {
   "cell_type": "code",
   "execution_count": 1,
   "metadata": {
    "collapsed": true
   },
   "outputs": [],
   "source": [
    "class RootError(Exception):\n",
    "    \"\"\"Base class for exceptions in this module.\"\"\"\n",
    "\n",
    "class WeightError(RootError):\n",
    "    \"\"\"Base class for weight calculation errors.\"\"\"\n",
    "\n",
    "class VolumeError(RootError):\n",
    "    \"\"\"Base class for volume calculation errors.\"\"\"\n",
    "\n",
    "class DensityError(RootError):\n",
    "    \"\"\"Base class for density calculation errors.\"\"\"\n"
   ]
  },
  {
   "cell_type": "markdown",
   "source": [
    "# Root Exception are helpful\n",
    "  1. when you want to catch all exceptions from a module to indicate a bug\n",
    "  in you code if caught by Base Exception\n",
    "   2. Indicate bug in library code if caught by python inbuilt exception\n",
    "  3. Help to keep module API consistent over time\n",
    "\n"
   ],
   "metadata": {
    "collapsed": false
   }
  },
  {
   "cell_type": "code",
   "execution_count": 3,
   "outputs": [
    {
     "name": "stderr",
     "output_type": "stream",
     "text": [
      "ERROR:root:Bug in library code\n",
      "Traceback (most recent call last):\n",
      "  File \"/tmp/ipykernel_32991/964833945.py\", line 5, in <module>\n",
      "    1/0\n",
      "ZeroDivisionError: division by zero\n"
     ]
    }
   ],
   "source": [
    "import logging\n",
    "\n",
    "\n",
    "try:\n",
    "    1/0\n",
    "except WeightError:\n",
    "    logging.exception(\"WeightError occurred\")\n",
    "except RootError:\n",
    "    logging.exception(\"Bug in calling code\")\n",
    "except Exception:\n",
    "    logging.exception(\"Bug in library code\")"
   ],
   "metadata": {
    "collapsed": false
   }
  }
 ],
 "metadata": {
  "kernelspec": {
   "display_name": "Python 3",
   "language": "python",
   "name": "python3"
  },
  "language_info": {
   "codemirror_mode": {
    "name": "ipython",
    "version": 2
   },
   "file_extension": ".py",
   "mimetype": "text/x-python",
   "name": "python",
   "nbconvert_exporter": "python",
   "pygments_lexer": "ipython2",
   "version": "2.7.6"
  }
 },
 "nbformat": 4,
 "nbformat_minor": 0
}
