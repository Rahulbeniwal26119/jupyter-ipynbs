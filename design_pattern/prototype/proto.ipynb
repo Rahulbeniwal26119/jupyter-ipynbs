{
 "cells": [
  {
   "attachments": {},
   "cell_type": "markdown",
   "metadata": {},
   "source": [
    "##### Instantiating new instance for every request is costly operation because may be while creating a instance file read only can be performed so instead of this we can create deepcopy of the existing instance and return on the object creation request"
   ]
  },
  {
   "cell_type": "code",
   "execution_count": 10,
   "metadata": {},
   "outputs": [
    {
     "name": "stdout",
     "output_type": "stream",
     "text": [
      "Knight(life=100, speed=10, attack_power=10, attack_range=1, weapon='sword', unit_type='Knight')\n",
      "Archer(life=200, speed=7, attack_power=1, attack_range=5, weapon='short bow', unit_type='Archer')\n"
     ]
    }
   ],
   "source": [
    "import dataclasses\n",
    "\n",
    "\n",
    "@dataclasses.dataclass\n",
    "class Knight:\n",
    "    life: int\n",
    "    speed: int\n",
    "    attack_power: int\n",
    "    attack_range: int\n",
    "    weapon: str\n",
    "    unit_type: str = 'Knight'\n",
    "\n",
    "\n",
    "@dataclasses.dataclass\n",
    "class Archer:\n",
    "    life: int\n",
    "    speed: int\n",
    "    attack_power: int\n",
    "    attack_range: int\n",
    "    weapon: str\n",
    "    unit_type: str = 'Archer'\n",
    "\n",
    "\n",
    "class Barracks:\n",
    "\n",
    "    def generate_knight(self):\n",
    "        return Knight(100, 10, 10, 1, 'sword')\n",
    "\n",
    "    def generate_archer(self):\n",
    "        return Archer(200, 7, 1, 5, \"short bow\")\n",
    "\n",
    "\n",
    "barrack = Barracks()\n",
    "knight = barrack.generate_knight()\n",
    "archer = barrack.generate_archer()\n",
    "\n",
    "print(knight)\n",
    "print(archer)"
   ]
  },
  {
   "cell_type": "code",
   "execution_count": 13,
   "metadata": {},
   "outputs": [
    {
     "name": "stdout",
     "output_type": "stream",
     "text": [
      "Knight: 400 5 3 1 short sword\n",
      "Archer: 200 7 3 10 long bow\n"
     ]
    }
   ],
   "source": [
    "# adding level in the unit\n",
    "class Knight:\n",
    "\n",
    "    def __init__(self, level):\n",
    "        self.unit_type = \"Knight\"\n",
    "\n",
    "        if level == 1:\n",
    "            self.life = 400\n",
    "            self.speed = 5\n",
    "            self.attack_power = 3\n",
    "            self.attack_rage = 1\n",
    "            self.weapon = \"short sword\"\n",
    "        elif level == 2:\n",
    "            self.life = 400\n",
    "            self.speed = 5\n",
    "            self.attack_power = 6\n",
    "            self.attack_rage = 1\n",
    "            self.weapon = \"long sword\"\n",
    "\n",
    "    def __str__(self):\n",
    "        return f\"Knight: {self.life} {self.speed} {self.attack_power} {self.attack_rage} {self.weapon}\"\n",
    "\n",
    "\n",
    "class Archer:\n",
    "\n",
    "    def __init__(self, level):\n",
    "        self.unit_type = \"Archer\"\n",
    "\n",
    "        if level == 1:\n",
    "            self.life = 200\n",
    "            self.speed = 7\n",
    "            self.attack_power = 1\n",
    "            self.attack_rage = 5\n",
    "            self.weapon = \"short bow\"\n",
    "        elif level == 2:\n",
    "            self.life = 200\n",
    "            self.speed = 7\n",
    "            self.attack_power = 3\n",
    "            self.attack_rage = 10\n",
    "            self.weapon = \"long bow\"\n",
    "\n",
    "    def __str__(self):\n",
    "        return f\"Archer: {self.life} {self.speed} {self.attack_power} {self.attack_rage} {self.weapon}\"\n",
    "    \n",
    "\n",
    "class Barracks:\n",
    "\n",
    "    def build_unit(self, unit_type, level):\n",
    "        if unit_type == \"Knight\":\n",
    "            return Knight(level)\n",
    "        elif unit_type == \"Archer\":\n",
    "            return Archer(level)\n",
    "\n",
    "barracks = Barracks()\n",
    "knight = barracks.build_unit(\"Knight\", 1)\n",
    "archer = barracks.build_unit(\"Archer\", 2)\n",
    "print(knight)\n",
    "print(archer)\n"
   ]
  },
  {
   "cell_type": "code",
   "execution_count": 32,
   "metadata": {},
   "outputs": [
    {
     "name": "stdout",
     "output_type": "stream",
     "text": [
      "Knight: 400 5 3 1 short_sword\n",
      "Archer: 200 7 3 10 long bow\n"
     ]
    }
   ],
   "source": [
    "# Making the code more generic\n",
    "# adding level in the unit\n",
    "# Restriction -> Till .dat files are in serialized will work other wise it will not work\n",
    "class Knight:\n",
    "\n",
    "    def __init__(self, level):\n",
    "        self.unit_type = \"Knight\"\n",
    "        self.file_name = f'data/{self.unit_type}_{level}.dat'\n",
    "\n",
    "        with open(self.file_name, 'r') as f:\n",
    "            self.life, self.speed, self.attack_power, self.attack_rage, self.weapon = f.read(\n",
    "            ).split('\\n')\n",
    "\n",
    "    def __str__(self):\n",
    "        return f\"Knight: {self.life} {self.speed} {self.attack_power} {self.attack_rage} {self.weapon}\"\n",
    "\n",
    "\n",
    "class Archer:\n",
    "\n",
    "    def __init__(self, level):\n",
    "        self.unit_type = \"Archer\"\n",
    "        self.file_name = f'data/{self.unit_type}_{level}.dat'\n",
    "\n",
    "        with open(self.file_name, 'r') as f:\n",
    "            self.life, self.speed, self.attack_power, self.attack_rage, self.weapon = f.read(\n",
    "            ).split('\\n')\n",
    "\n",
    "    def __str__(self):\n",
    "        return f\"Archer: {self.life} {self.speed} {self.attack_power} {self.attack_rage} {self.weapon}\"\n",
    "\n",
    "\n",
    "class Barracks:\n",
    "\n",
    "    def build_unit(self, unit_type, level):\n",
    "        if unit_type == \"Knight\":\n",
    "            return Knight(level)\n",
    "        elif unit_type == \"Archer\":\n",
    "            return Archer(level)\n",
    "\n",
    "\n",
    "barracks = Barracks()\n",
    "knight = barracks.build_unit(\"Knight\", 1)\n",
    "archer = barracks.build_unit(\"Archer\", 2)\n",
    "print(knight)\n",
    "print(archer)\n"
   ]
  },
  {
   "cell_type": "code",
   "execution_count": 14,
   "metadata": {},
   "outputs": [],
   "source": [
    "from abc import ABCMeta, abstractmethod\n",
    "from copy import deepcopy\n",
    "\n",
    "\n",
    "class Prototype(metaclass=ABCMeta):\n",
    "    @abstractmethod\n",
    "    def clone(self):\n",
    "        pass"
   ]
  },
  {
   "cell_type": "code",
   "execution_count": 15,
   "metadata": {},
   "outputs": [],
   "source": [
    "class Knight(Prototype):\n",
    "\n",
    "    def __init__(self, level):\n",
    "        self.unit_type = \"Knight\"\n",
    "        self.file_name = f'data/{self.unit_type}_{level}.dat'\n",
    "\n",
    "        with open(self.file_name, 'r') as f:\n",
    "            self.life, self.speed, self.attack_power, self.attack_rage, self.weapon = f.read(\n",
    "            ).split('\\n')\n",
    "\n",
    "    def __str__(self):\n",
    "        return f\"Knight: {self.life} {self.speed} {self.attack_power} {self.attack_rage} {self.weapon}\"\n",
    "\n",
    "    def clone(self):\n",
    "        return deepcopy(self)\n",
    "\n",
    "class Archer(Prototype):\n",
    "\n",
    "    def __init__(self, level):\n",
    "        self.unit_type = \"Archer\"\n",
    "        self.file_name = f'data/{self.unit_type}_{level}.dat'\n",
    "\n",
    "        with open(self.file_name, 'r') as f:\n",
    "            self.life, self.speed, self.attack_power, self.attack_rage, self.weapon = f.read(\n",
    "            ).split('\\n')\n",
    "\n",
    "    def __str__(self):\n",
    "        return f\"Archer: {self.life} {self.speed} {self.attack_power} {self.attack_rage} {self.weapon}\"\n",
    "\n",
    "    def clone(self):\n",
    "        return deepcopy(self)\n",
    "    \n"
   ]
  },
  {
   "cell_type": "code",
   "execution_count": 19,
   "metadata": {},
   "outputs": [],
   "source": [
    "class Barracks:\n",
    "    def __init__(self):\n",
    "        self.units = {\n",
    "            \"knight\": {\n",
    "                1: Knight(1),\n",
    "                2: Knight(2)\n",
    "            },\n",
    "            \"archer\": {\n",
    "                1: Archer(1),\n",
    "                2: Archer(2)\n",
    "            }\n",
    "        }\n",
    "    \n",
    "    def __new__(cls):\n",
    "        print(\"Barracks created\")\n",
    "        return super().__new__(cls)\n",
    "    \n",
    "    def build_unit(self, unit_type, level):\n",
    "        return self.units[unit_type][level].clone()\n",
    "    "
   ]
  },
  {
   "cell_type": "code",
   "execution_count": 20,
   "metadata": {},
   "outputs": [
    {
     "name": "stdout",
     "output_type": "stream",
     "text": [
      "Barracks created\n"
     ]
    },
    {
     "data": {
      "text/plain": [
       "(<__main__.Knight at 0x7fb85e6fb7d0>,\n",
       " <__main__.Archer at 0x7fb85e6f8150>,\n",
       " <__main__.Knight at 0x7fb87815ba10>)"
      ]
     },
     "execution_count": 20,
     "metadata": {},
     "output_type": "execute_result"
    }
   ],
   "source": [
    "b = Barracks()\n",
    "k1 = b.build_unit(\"knight\", 1)\n",
    "a2 = b.build_unit(\"archer\", 2)\n",
    "k2 = b.build_unit(\"knight\", 2)\n",
    "k1, a2, k2"
   ]
  }
 ],
 "metadata": {
  "kernelspec": {
   "display_name": "Python 3",
   "language": "python",
   "name": "python3"
  },
  "language_info": {
   "codemirror_mode": {
    "name": "ipython",
    "version": 3
   },
   "file_extension": ".py",
   "mimetype": "text/x-python",
   "name": "python",
   "nbconvert_exporter": "python",
   "pygments_lexer": "ipython3",
   "version": "3.11.1"
  },
  "orig_nbformat": 4,
  "vscode": {
   "interpreter": {
    "hash": "930379a8b39fc407f21aba7d78a18ad6c0dff7af07878b7bb9289a4858cd86cf"
   }
  }
 },
 "nbformat": 4,
 "nbformat_minor": 2
}
