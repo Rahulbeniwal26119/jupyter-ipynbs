{
 "cells": [
  {
   "cell_type": "markdown",
   "metadata": {},
   "source": [
    "### Lets create a simple html form"
   ]
  },
  {
   "cell_type": "code",
   "execution_count": 1,
   "metadata": {},
   "outputs": [],
   "source": [
    "def generate_webform(field_list):\n",
    "    generaeted_fields = \"\\n\".join(\n",
    "        map(lambda field: f'{field}:<br><input type=\"text\" name=\"{field}\"><br>', field_list)\n",
    "    )\n",
    "    return f\"<form>{generaeted_fields}</form>\"\n"
   ]
  },
  {
   "cell_type": "code",
   "execution_count": 2,
   "metadata": {},
   "outputs": [
    {
     "name": "stdout",
     "output_type": "stream",
     "text": [
      "<form>name:<br><input type=\"text\" name=\"name\"><br>\n",
      "age:<br><input type=\"text\" name=\"age\"><br>\n",
      "email:<br><input type=\"text\" name=\"email\"><br>\n",
      "telephone:<br><input type=\"text\" name=\"telephone\"><br></form>\n"
     ]
    }
   ],
   "source": [
    "if __name__ == \"__main__\":\n",
    "    fields = [\"name\", \"age\", \"email\", \"telephone\"]\n",
    "    print(generate_webform(fields))\n"
   ]
  },
  {
   "cell_type": "markdown",
   "metadata": {},
   "source": [
    "#### Lets also create checkbox field also"
   ]
  },
  {
   "cell_type": "code",
   "execution_count": 6,
   "metadata": {},
   "outputs": [
    {
     "name": "stdout",
     "output_type": "stream",
     "text": [
      "<form>name:<br><input type=\"text\" name=\"name\"><br>\n",
      "age:<br><input type=\"text\" name=\"age\"><br>\n",
      "email:<br><input type=\"text\" name=\"email\"><br>\n",
      "telephone:<br><input type=\"text\" name=\"telephone\"><br>\n",
      "awesome:<br><input type=\"checkbox\" name=\"awesome\"><br>\n",
      "bad:<br><input type=\"checkbox\" name=\"bad\"><br></form>\n"
     ]
    }
   ],
   "source": [
    "def generate_webform(text_field_list=[], checkbox_field_list=[]):\n",
    "    generated_fields = \"\\n\".join(\n",
    "        map(lambda field: f'{field}:<br><input type=\"text\" name=\"{field}\"><br>', text_field_list)\n",
    "    )\n",
    "    generated_fields += \"\\n\"\n",
    "    generated_fields += \"\\n\".join(\n",
    "        map(lambda field: f'{field}:<br><input type=\"checkbox\" name=\"{field}\"><br>',\n",
    "            checkbox_field_list)\n",
    "    )\n",
    "\n",
    "    return f\"<form>{generated_fields}</form>\"\n",
    "\n",
    "\n",
    "text_fields = [\"name\", \"age\", \"email\", \"telephone\"]\n",
    "checkbox_fields = [\"awesome\", \"bad\"]\n",
    "form = generate_webform(text_field_list=text_fields,\n",
    "                        checkbox_field_list=checkbox_fields)\n",
    "print(form)\n"
   ]
  },
  {
   "cell_type": "markdown",
   "metadata": {},
   "source": [
    "##### There are clear issues with this approach, the first of which is the fact that we cannot\n",
    "##### deal with fields that have different defaults or options or in fact any information beyond a\n",
    "##### simple label or field name. We cannot even cater for a difference between the field name\n",
    "##### and the label used in the form."
   ]
  },
  {
   "cell_type": "code",
   "execution_count": 12,
   "metadata": {},
   "outputs": [
    {
     "name": "stdout",
     "output_type": "stream",
     "text": [
      "<form>\n",
      "Best text you have ever written:<br><input type=\"text\" name=\"best_text\"><br>\n",
      "<label><input type=\"checkbox\" id=check_it value=1\">Check for one<br>\n",
      "Another Text field:<br><input type=\"text\" name=\"text_field2\"><br>\n",
      "</form>\n"
     ]
    }
   ],
   "source": [
    "def generate_webform(field_dict_list):\n",
    "    generated_field_list = []\n",
    "\n",
    "    for field_dict in field_dict_list:\n",
    "        field_type = field_dict[\"type\"]\n",
    "        if field_type == \"text\":\n",
    "            generated_field_list.append(\n",
    "                f'{field_dict[\"label\"]}:<br><input type=\"text\" name=\"{field_dict[\"name\"]}\"><br>'\n",
    "            )\n",
    "        elif field_type == \"checkbox\":\n",
    "            generated_field_list.append(\n",
    "                f'<label><input type=\"checkbox\" id={field_dict[\"id\"]} value={field_dict[\"value\"]}\">{field_dict[\"label\"]}<br>'\n",
    "            )\n",
    "    generated_fields = \"\\n\".join(generated_field_list)\n",
    "    generated_fields += \"\\n\"\n",
    "\n",
    "    return f\"<form>\\n{generated_fields}</form>\"\n",
    "\n",
    "\n",
    "field_list = [\n",
    "    {\n",
    "        \"type\": \"text\",\n",
    "        \"label\": \"Best text you have ever written\",\n",
    "        \"name\": \"best_text\"\n",
    "    },\n",
    "    {\n",
    "        \"type\": \"checkbox\",\n",
    "        \"id\": \"check_it\",\n",
    "        \"value\": \"1\",\n",
    "        \"label\": \"Check for one\",\n",
    "    },\n",
    "    {\n",
    "        \"type\": \"text\",\n",
    "        \"label\": \"Another Text field\",\n",
    "        \"name\": \"text_field2\"\n",
    "    }\n",
    "]\n",
    "form = generate_webform(field_list)\n",
    "print(form)\n"
   ]
  },
  {
   "cell_type": "markdown",
   "metadata": {},
   "source": [
    "##### Lets create seprate functions for each field type"
   ]
  },
  {
   "cell_type": "code",
   "execution_count": 15,
   "metadata": {},
   "outputs": [
    {
     "name": "stdout",
     "output_type": "stream",
     "text": [
      "<form>\n",
      "Best text you have ever written:<br><input type=\"text\" name=\"best_text\"><br>\n",
      "<label><input type=\"checkbox\" id=check_it value=1\">Check for one<br>\n",
      "Another Text field:<br><input type=\"text\" name=\"text_field2\"><br>\n",
      "</form>\n"
     ]
    }
   ],
   "source": [
    "def generate_text_field(text_field_spec:dict):\n",
    "    return f'{text_field_spec[\"label\"]}:<br>' \\\n",
    "           f'<input type=\"text\" name=\"{text_field_spec[\"name\"]}\"><br>'\n",
    "\n",
    "def generate_checkbox_field(checkbox_field_spec:dict):\n",
    "    return f'<label><input type=\"checkbox\" '\\\n",
    "           f'id={checkbox_field_spec[\"id\"]} '\\\n",
    "           f'value={checkbox_field_spec[\"value\"]}\">'\\\n",
    "           f'{checkbox_field_spec[\"label\"]}<br>'\n",
    "\n",
    "def generate_webform(field_dict_list):\n",
    "    generated_field_list = []\n",
    "\n",
    "    for field_dict in field_dict_list:\n",
    "        field_type = field_dict[\"type\"]\n",
    "        if field_type == \"text\":\n",
    "            field_type = generate_text_field(field_dict)\n",
    "        elif field_type == \"checkbox\":\n",
    "            field_type = generate_checkbox_field(field_dict)\n",
    "        generated_field_list.append(field_type)\n",
    "\n",
    "    generated_fields = \"\\n\".join(generated_field_list)\n",
    "    generated_fields += \"\\n\"\n",
    "\n",
    "    return f\"<form>\\n{generated_fields}</form>\"\n",
    "\n",
    "\n",
    "field_list = [\n",
    "    {\n",
    "        \"type\": \"text\",\n",
    "        \"label\": \"Best text you have ever written\",\n",
    "        \"name\": \"best_text\"\n",
    "    },\n",
    "    {\n",
    "        \"type\": \"checkbox\",\n",
    "        \"id\": \"check_it\",\n",
    "        \"value\": \"1\",\n",
    "        \"label\": \"Check for one\",\n",
    "    },\n",
    "    {\n",
    "        \"type\": \"text\",\n",
    "        \"label\": \"Another Text field\",\n",
    "        \"name\": \"text_field2\"\n",
    "    }\n",
    "]\n",
    "form = generate_webform(field_list)\n",
    "print(form)\n"
   ]
  },
  {
   "cell_type": "markdown",
   "metadata": {},
   "source": [
    "##### If statements are still here but code is more readable \n",
    "##### Lets convert this to class based"
   ]
  },
  {
   "cell_type": "code",
   "execution_count": 16,
   "metadata": {},
   "outputs": [
    {
     "name": "stdout",
     "output_type": "stream",
     "text": [
      "<form>\n",
      "Best text you have ever written:<br><input type=\"text\" name=\"best_text\"><br>\n",
      "<label><input type=\"checkbox\" id=check_it value=1\">Check for one<br>\n",
      "Another Text field:<br><input type=\"text\" name=\"text_field2\"><br>\n",
      "</form>\n"
     ]
    }
   ],
   "source": [
    "class HTMLField:\n",
    "    def __init__(self, **kwargs):\n",
    "        self.html = \"\"\n",
    "\n",
    "        if kwargs[\"type\"] == \"text\":\n",
    "            self.html = self.construct_text(kwargs[\"label\"], kwargs[\"name\"])\n",
    "        \n",
    "        elif kwargs[\"type\"] == \"checkbox\":\n",
    "            self.html = self.construct_checkbox(kwargs[\"label\"], kwargs[\"id\"], kwargs[\"value\"])\n",
    "    \n",
    "    def construct_text(self, label, name):\n",
    "        return f'{label}:<br><input type=\"text\" name=\"{name}\"><br>'\n",
    "\n",
    "    def construct_checkbox(self, label, id, value):\n",
    "        return f'<label><input type=\"checkbox\" id={id} value={value}\">{label}<br>'\n",
    "\n",
    "    def __str__(self):\n",
    "        return self.html\n",
    "\n",
    "def generate_webform(field_dict_list):\n",
    "    generated_field_list = []\n",
    "\n",
    "    for field_dict in field_dict_list:\n",
    "        try:\n",
    "            generated_field_list.append(HTMLField(**field_dict))\n",
    "        except KeyError as err:\n",
    "            print(f\"Encountered an error {err} when processing {field_dict}\")\n",
    "            continue\n",
    "    \n",
    "    generated_fields = \"\\n\".join([str(field) for field in generated_field_list]) + \"\\n\"\n",
    "\n",
    "    return f\"<form>\\n{generated_fields}</form>\"\n",
    "\n",
    "\n",
    "\n",
    "field_list = [\n",
    "    {\n",
    "        \"type\": \"text\",\n",
    "        \"label\": \"Best text you have ever written\",\n",
    "        \"name\": \"best_text\"\n",
    "    },\n",
    "    {\n",
    "        \"type\": \"checkbox\",\n",
    "        \"id\": \"check_it\",\n",
    "        \"value\": \"1\",\n",
    "        \"label\": \"Check for one\",\n",
    "    },\n",
    "    {\n",
    "        \"type\": \"text\",\n",
    "        \"label\": \"Another Text field\",\n",
    "        \"name\": \"text_field2\"\n",
    "    }\n",
    "]\n",
    "form = generate_webform(field_list)\n",
    "print(form)\n"
   ]
  },
  {
   "cell_type": "markdown",
   "metadata": {},
   "source": [
    "#### Here in above code construct_text and construct_check_box act as constructor and For every alternative set of parameters, \n",
    "#### we need another constructor, so our code\n",
    "#### very quickly breaks down and becomes a mess of constructors, which is commonly\n",
    "#### known as the telescoping constructor anti-pattern."
   ]
  },
  {
   "cell_type": "markdown",
   "metadata": {},
   "source": [
    "#### The builder pattern does not use numerous constructors; it uses a builder object\n",
    "#### instead. This builder object receives each initialization parameter step by step and then\n",
    "#### returns the resulting constructed object as a single result. In the webform example, we\n",
    "#### want to add the different fields and get the generated webform as a result. An added\n",
    "#### benefit of the builder pattern is that it separates the construction of an object from\n",
    "#### the way the object is represented, so we could change the representation of the object\n",
    "#### without changing the process by which it is constructed."
   ]
  },
  {
   "cell_type": "markdown",
   "metadata": {},
   "source": [
    "#### In the builder pattern, the two main players are the Builder and the Director.\n",
    "#### The Builder is an abstract class that knows how to build all the components of the\n",
    "#### final object. In our case, the Builder class will know how to build each of the field types.\n",
    "#### It can assemble the various parts into a complete form object.\n",
    "#### The Director controls the process of building. There is an instance (or instances)\n",
    "#### of Builder that the Director uses to build the webform. The output from the Director\n",
    "#### is a fully initialized object—the webform, in our example. The Director implements\n",
    "#### the set of instructions for setting up a webform from the fields it contains. This set of\n",
    "#### instructions is independent of the types of the individual fields passed to the director."
   ]
  },
  {
   "cell_type": "code",
   "execution_count": 27,
   "metadata": {},
   "outputs": [],
   "source": [
    "from abc import ABCMeta, abstractmethod\n",
    "\n",
    "class Director(metaclass=ABCMeta):\n",
    "    def __init__(self):\n",
    "        self._builder = None\n",
    "    \n",
    "    def set_builder(self, builder):\n",
    "        self._builder = builder\n",
    "    \n",
    "    @abstractmethod\n",
    "    def construct(self):\n",
    "        pass\n",
    "\n",
    "    def get_constructed_object(self):\n",
    "        return self._builder.constructed_object\n",
    "\n",
    "\n",
    "class AbstractFormBuilder(metaclass=ABCMeta):\n",
    "    def __init__(self):\n",
    "        self.constructed_object = None\n",
    "    \n",
    "    @abstractmethod\n",
    "    def add_text_field(self, field_dict):\n",
    "        pass\n",
    "\n",
    "    @abstractmethod\n",
    "    def add_checkbox_field(self, field_dict):\n",
    "        pass\n",
    "\n",
    "    @abstractmethod\n",
    "    def add_button(self):\n",
    "        pass\n",
    "\n",
    "\n",
    "class HtmlForm:\n",
    "    def __init__(self):\n",
    "        self.field_list = []\n",
    "    \n",
    "    def __repr__(self) -> str:\n",
    "        return f\"<form>{''.join(self.field_list)}</form>\"\n",
    "\n",
    "\n",
    "class HtmlFormBuilder(AbstractFormBuilder):\n",
    "    def __init__(self):\n",
    "        self.constructed_object = HtmlForm()\n",
    "    \n",
    "    def add_text_field(self, field_dict):\n",
    "        self.constructed_object.field_list.append(\n",
    "            f'{field_dict[\"label\"]}:<br><input type=\"text\" name=\"{field_dict[\"name\"]}\"><br>'\n",
    "        )\n",
    "        return self\n",
    "    \n",
    "    def add_checkbox_field(self, field_dict):\n",
    "        self.constructed_object.field_list.append(\n",
    "            f'<label><input type=\"checkbox\" id={field_dict[\"id\"]} value={field_dict[\"value\"]}\">{field_dict[\"label\"]}<br>'\n",
    "        )\n",
    "        return self\n",
    "    \n",
    "    def add_button(self, button_dict):\n",
    "        self.constructed_object.field_list.append(\n",
    "            f'<button type=\"button\">{button_dict[\"text\"]}</button>'\n",
    "        )\n",
    "        return self\n",
    "    \n",
    "\n",
    "### Director (This is the same as the function generate_webform) It can be optional if you don't want to use it\n",
    "\n",
    "class FormDirector(Director):\n",
    "    def construct(self, field_list):\n",
    "        for field in field_list:\n",
    "            if field[\"type\"] == \"text\":\n",
    "                self._builder.add_text_field(field)\n",
    "            elif field[\"type\"] == \"checkbox\":\n",
    "                self._builder.add_checkbox_field(field)\n",
    "            elif field[\"type\"] == \"button\":\n",
    "                self._builder.add_button(field)\n"
   ]
  },
  {
   "cell_type": "code",
   "execution_count": 28,
   "metadata": {},
   "outputs": [
    {
     "data": {
      "text/plain": [
       "<form>Best text you have ever written:<br><input type=\"text\" name=\"best_text\"><br><label><input type=\"checkbox\" id=check_it value=1\">Check for one<br>Another Text field:<br><input type=\"text\" name=\"text_field2\"><br></form>"
      ]
     },
     "execution_count": 28,
     "metadata": {},
     "output_type": "execute_result"
    }
   ],
   "source": [
    "form_director = FormDirector()\n",
    "\n",
    "form_builder = HtmlFormBuilder()\n",
    "\n",
    "form_director.set_builder(form_builder)\n",
    "\n",
    "form_director.construct(field_list)\n",
    "\n",
    "form_director.get_constructed_object()"
   ]
  },
  {
   "cell_type": "code",
   "execution_count": 32,
   "metadata": {},
   "outputs": [
    {
     "name": "stdout",
     "output_type": "stream",
     "text": [
      "<form>Best text you have ever written:<br><input type=\"text\" name=\"best_text\"><br><label><input type=\"checkbox\" id=check_it value=1\">Check for one<br><button type=\"button\">Submit</button></form>\n"
     ]
    }
   ],
   "source": [
    "form_director = FormDirector()\n",
    "\n",
    "form_builder = HtmlFormBuilder()\n",
    "\n",
    "form_builder\\\n",
    "    .add_text_field({\"label\": \"Best text you have ever written\", \"name\": \"best_text\"})\\\n",
    "    .add_checkbox_field({\"label\": \"Check for one\", \"id\": \"check_it\", \"value\": \"1\"})\\\n",
    "    .add_button({\"text\": \"Submit\"})\n",
    "\n",
    "form_director.set_builder(form_builder)\n",
    "\n",
    "print(form_director.get_constructed_object())\n"
   ]
  },
  {
   "cell_type": "code",
   "execution_count": null,
   "metadata": {},
   "outputs": [],
   "source": []
  }
 ],
 "metadata": {
  "kernelspec": {
   "display_name": "venv_3.11",
   "language": "python",
   "name": "python3"
  },
  "language_info": {
   "codemirror_mode": {
    "name": "ipython",
    "version": 3
   },
   "file_extension": ".py",
   "mimetype": "text/x-python",
   "name": "python",
   "nbconvert_exporter": "python",
   "pygments_lexer": "ipython3",
   "version": "3.10.12"
  },
  "orig_nbformat": 4
 },
 "nbformat": 4,
 "nbformat_minor": 2
}
