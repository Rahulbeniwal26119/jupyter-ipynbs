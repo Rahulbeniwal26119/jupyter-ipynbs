{
 "cells": [
  {
   "attachments": {},
   "cell_type": "markdown",
   "metadata": {},
   "source": [
    "### Creating a single object for one use case everywhere we need a object "
   ]
  },
  {
   "cell_type": "code",
   "execution_count": 1,
   "metadata": {},
   "outputs": [],
   "source": [
    "import pathlib\n",
    "\n",
    "\n",
    "def log_message(msg):\n",
    "    # Create a directory if it does not exist\n",
    "    pathlib.Path(\"./log\").mkdir(parents=True, exist_ok=True)\n",
    "    with open(\"./log/filename.log\", \"a\") as log_file:\n",
    "        log_file.write(msg + \"\\n\")"
   ]
  },
  {
   "cell_type": "code",
   "execution_count": 14,
   "metadata": {},
   "outputs": [],
   "source": [
    "log_message(\"Hello\")\n",
    "log_message(\"World\")"
   ]
  },
  {
   "cell_type": "code",
   "execution_count": 16,
   "metadata": {},
   "outputs": [],
   "source": [
    "pathlib.Path(\"./log\").mkdir(parents=True, exist_ok=True)\n",
    "\n",
    "\n",
    "def critical(msg):\n",
    "    with open(\"./log/filename.log\", \"a\") as log_file:\n",
    "        log_file.write(\"[CRITICAL] {} \\n\".format(msg))\n",
    "\n",
    "\n",
    "def error(msg):\n",
    "    with open(\"./log/filename.log\", \"a\") as log_file:\n",
    "        log_file.write(\"[ERROR] {}\".format(msg) + \"\\n\")\n",
    "\n",
    "\n",
    "def warning(msg):\n",
    "    with open(\"./log/filename.log\", \"a\") as log_file:\n",
    "        log_file.write(\"[WARNING] {}\".format(msg) + \"\\n\")\n",
    "\n",
    "\n",
    "def info(msg):\n",
    "    with open(\"./log/filename.log\", \"a\") as log_file:\n",
    "        log_file.write(\"[INFO] {}\".format(msg) + \"\\n\")\n",
    "\n",
    "\n",
    "def debug(msg):\n",
    "    with open(\"./log/filename.log\", \"a\") as log_file:\n",
    "        log_file.write(\"[DEBUG] {}\".format(msg) + \"\\n\")"
   ]
  },
  {
   "cell_type": "code",
   "execution_count": 18,
   "metadata": {},
   "outputs": [],
   "source": [
    "# converting above cell code more compact \n",
    "\n",
    "def write_log(level, msg):\n",
    "    with open(\"./log/filename.log\", \"a\") as log_file:\n",
    "        log_file.write(\"[{}] {}\".format(level, msg) + \"\\n\")\n",
    "\n",
    "def critical(msg):\n",
    "    write_log(\"CRITICAL\", msg)\n",
    "\n",
    "def error(msg):\n",
    "    write_log(\"ERROR\", msg)\n",
    "\n",
    "def warning(msg):\n",
    "    write_log(\"WARNING\", msg)\n",
    "\n",
    "def info(msg):\n",
    "    write_log(\"INFO\", msg)\n",
    "\n",
    "def debug(msg):\n",
    "    write_log(\"DEBUG\", msg)"
   ]
  },
  {
   "cell_type": "code",
   "execution_count": 21,
   "metadata": {},
   "outputs": [],
   "source": [
    "# Adding file to write the logging\n",
    "class Logger:\n",
    "    def __init__(self, filename):\n",
    "        self.filename = filename\n",
    "    \n",
    "    def _write_log(self, level, msg):\n",
    "        with open(self.filename, \"a\") as log_file:\n",
    "            log_file.write(\"[{}] {}\".format(level, msg) + \"\\n\")\n",
    "\n",
    "    def critical(self, msg):\n",
    "        self._write_log(\"CRITICAL\", msg)\n",
    "\n",
    "    def error(self, msg):\n",
    "        self._write_log(\"ERROR\", msg)\n",
    "    \n",
    "    def warning(self, msg):\n",
    "        self._write_log(\"WARNING\", msg)\n",
    "    \n",
    "    def info(self, msg):\n",
    "        self._write_log(\"INFO\", msg)\n",
    "    \n",
    "    def debug(self, msg):\n",
    "        self._write_log(\"DEBUG\", msg)"
   ]
  },
  {
   "cell_type": "code",
   "execution_count": 25,
   "metadata": {},
   "outputs": [],
   "source": [
    "c = Logger(\"./log/filename.log\")\n",
    "c.error(\"Hello\")"
   ]
  },
  {
   "attachments": {},
   "cell_type": "markdown",
   "metadata": {},
   "source": [
    "#### Now we want to you different logger on the basis of log file. Above code will always return a new logger instance even if we pass same file name.But there is no need of creating new instance because we can return the old instance linked with filename. That will save memory and time"
   ]
  },
  {
   "cell_type": "code",
   "execution_count": 2,
   "metadata": {},
   "outputs": [],
   "source": [
    "class Logger:\n",
    "\n",
    "    class _Logger:\n",
    "        \n",
    "        def __init__(self, filename):\n",
    "            self.filename = filename\n",
    "    \n",
    "        def _write_log(self, level, msg):\n",
    "            with open(self.filename, \"a\") as log_file:\n",
    "                log_file.write(\"[{}] {}\".format(level, msg) + \"\\n\")\n",
    "\n",
    "        def critical(self, msg):\n",
    "            self._write_log(\"CRITICAL\", msg)\n",
    "\n",
    "        def error(self, msg):\n",
    "            self._write_log(\"ERROR\", msg)\n",
    "        \n",
    "        def warning(self, msg):\n",
    "            self._write_log(\"WARNING\", msg)\n",
    "        \n",
    "        def info(self, msg):\n",
    "            self._write_log(\"INFO\", msg)\n",
    "        \n",
    "        def debug(self, msg):\n",
    "            self._write_log(\"DEBUG\", msg)\n",
    "    \n",
    "    instance = {}\n",
    "\n",
    "    def __new__(cls, filename):\n",
    "        if filename not in cls.instance:\n",
    "            cls.instance[filename] = cls._Logger(filename)\n",
    "        return cls.instance[filename]\n",
    "       "
   ]
  },
  {
   "cell_type": "code",
   "execution_count": 3,
   "metadata": {},
   "outputs": [
    {
     "name": "stdout",
     "output_type": "stream",
     "text": [
      "True\n",
      "False\n"
     ]
    }
   ],
   "source": [
    "c = Logger(\"./log/filename.log\")\n",
    "e = Logger(\"./log/filename2.log\")\n",
    "d = Logger(\"./log/filename.log\")\n",
    "print(id(c) == id(d))\n",
    "print(id(c) == id(e))"
   ]
  },
  {
   "attachments": {},
   "cell_type": "markdown",
   "metadata": {},
   "source": [
    "##### Decorator for converting class into SingleTon"
   ]
  },
  {
   "cell_type": "code",
   "execution_count": 5,
   "metadata": {},
   "outputs": [],
   "source": [
    "def decorator(func):\n",
    "    instance_dict = {}\n",
    "    def wrapper(*args, **kwargs):\n",
    "        key = func.__name__ + str(args) + str(kwargs)\n",
    "        if key not in instance_dict:\n",
    "            instance_dict[key] = func(*args, **kwargs)\n",
    "        return instance_dict[key]\n",
    "    return wrapper\n"
   ]
  },
  {
   "cell_type": "code",
   "execution_count": 8,
   "metadata": {},
   "outputs": [],
   "source": [
    "@decorator\n",
    "class A:\n",
    "    def __init__(self, x):\n",
    "        self.x = x\n",
    "\n",
    "@decorator\n",
    "class B:\n",
    "    def __init__(self, x):\n",
    "        self.x = x\n",
    "        \n"
   ]
  },
  {
   "cell_type": "code",
   "execution_count": 11,
   "metadata": {},
   "outputs": [
    {
     "name": "stdout",
     "output_type": "stream",
     "text": [
      "False\n",
      "True\n",
      "False\n",
      "True\n"
     ]
    }
   ],
   "source": [
    "a = A(19)\n",
    "b = A(19)\n",
    "c = A(20)\n",
    "\n",
    "d = B(19)\n",
    "e = B(19)\n",
    "f = B(20)\n",
    "\n",
    "print(id(a) == id(d))\n",
    "print(id(a) == id(b))\n",
    "print(id(a) == id(c))\n",
    "print(id(d) == id(e))"
   ]
  }
 ],
 "metadata": {
  "kernelspec": {
   "display_name": "Python 3",
   "language": "python",
   "name": "python3"
  },
  "language_info": {
   "codemirror_mode": {
    "name": "ipython",
    "version": 3
   },
   "file_extension": ".py",
   "mimetype": "text/x-python",
   "name": "python",
   "nbconvert_exporter": "python",
   "pygments_lexer": "ipython3",
   "version": "3.11.1"
  },
  "orig_nbformat": 4,
  "vscode": {
   "interpreter": {
    "hash": "930379a8b39fc407f21aba7d78a18ad6c0dff7af07878b7bb9289a4858cd86cf"
   }
  }
 },
 "nbformat": 4,
 "nbformat_minor": 2
}
