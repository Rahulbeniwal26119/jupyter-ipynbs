{
 "cells": [
  {
   "cell_type": "markdown",
   "source": [
    "# Subclassing, Composition and You\n",
    "\n",
    "## attrs need to cover"
   ],
   "metadata": {
    "collapsed": false
   },
   "id": "e51eb76a732aaeda"
  },
  {
   "cell_type": "code",
   "execution_count": 5,
   "outputs": [
    {
     "name": "stdout",
     "output_type": "stream",
     "text": [
      "Class A\n",
      "(<class '__main__.Subclass'>, <class '__main__.A'>, <class '__main__.B'>, <class '__main__.C'>, <class 'object'>)\n"
     ]
    }
   ],
   "source": [
    "class A:\n",
    "    def method(self):\n",
    "        print(\"Class A\")\n",
    "\n",
    "class B:\n",
    "    def method(self):\n",
    "        print(\"Class B\")\n",
    "\n",
    "class C:\n",
    "    def method(self):\n",
    "        print(\"Class C\")\n",
    "\n",
    "class Subclass(A, B, C):\n",
    "    def foo(self):\n",
    "        self.method()\n",
    "        \n",
    "c = Subclass()\n",
    "c.foo()\n",
    "print(Subclass.__mro__)\n",
    "\n",
    "# Class A\n",
    "# (<class '__main__.Subclass'>, <class '__main__.A'>, \n",
    "#   <class '__main__.B'>, <class '__main__.C'>, <class 'object'>)"
   ],
   "metadata": {
    "collapsed": false,
    "ExecuteTime": {
     "end_time": "2023-10-08T02:23:18.142290883Z",
     "start_time": "2023-10-08T02:23:18.134900563Z"
    }
   },
   "id": "68b8c49d36f38694"
  },
  {
   "cell_type": "code",
   "execution_count": 2,
   "outputs": [
    {
     "name": "stdout",
     "output_type": "stream",
     "text": [
      "Class A\n"
     ]
    }
   ],
   "source": [],
   "metadata": {
    "collapsed": false,
    "ExecuteTime": {
     "end_time": "2023-10-07T15:14:42.174919301Z",
     "start_time": "2023-10-07T15:14:42.155846196Z"
    }
   },
   "id": "a042985114eeba12"
  },
  {
   "cell_type": "code",
   "execution_count": 8,
   "outputs": [],
   "source": [
    "from abc import ABC, abstractmethod\n",
    "class AbstractTrackingRepository(ABC):\n",
    "    def __init__(self):\n",
    "        self.seen = set()\n",
    "    \n",
    "    @abstractmethod\n",
    "    def _add(self, product):\n",
    "        raise NotImplementedError\n",
    "    \n",
    "    @abstractmethod\n",
    "    def _get(self, sku):\n",
    "        raise NotImplementedError\n",
    "    \n",
    "    def add_product(self, product):\n",
    "        self._add(product)\n",
    "        self.seen.add(product)\n",
    "    \n",
    "    def get_by_sku(self, sku):\n",
    "        if product := self._get(sku):\n",
    "            self.seen.add(product)\n",
    "\n",
    "class FakeTrackingRepository(AbstractTrackingRepository):\n",
    "    def __init__(self, products):\n",
    "        super().__init__()\n",
    "        self._product = set(products)\n",
    "    \n",
    "    def _add(self, product):\n",
    "        self._product.add(product)\n",
    "    \n",
    "    def _get(self, sku):\n",
    "        return next((\n",
    "            p for p in self._product\n",
    "            if p.sku == sku\n",
    "        ))\n"
   ],
   "metadata": {
    "collapsed": false,
    "ExecuteTime": {
     "end_time": "2023-10-08T03:49:47.030348888Z",
     "start_time": "2023-10-08T03:49:46.995101348Z"
    }
   },
   "id": "c47edff1707de1c8"
  },
  {
   "cell_type": "code",
   "execution_count": 15,
   "outputs": [],
   "source": [
    "import typing\n",
    "\n",
    "class Repository(typing.Protocol):\n",
    "    __products = []\n",
    "    \n",
    "    def add(self, product: str) -> None:\n",
    "       raise NotImplementedError\n",
    "    \n",
    "    def get(self, sku: str) -> str:\n",
    "        raise NotImplementedError\n",
    "    \n",
    "@typing.runtime_checkable\n",
    "class Repository(typing.Protocol):\n",
    "    def __init__(self, products):\n",
    "        self.products = set(products)\n",
    "\n",
    "    def add(self, product: str) -> None:\n",
    "        self.products.append(product)\n",
    "    \n",
    "    def get(self, sku: str) -> str:\n",
    "        return next((\n",
    "            product for product in self.products\n",
    "            if product == sku\n",
    "        ))\n",
    "\n",
    " "
   ],
   "metadata": {
    "collapsed": false,
    "ExecuteTime": {
     "end_time": "2023-10-08T04:16:33.103584098Z",
     "start_time": "2023-10-08T04:16:33.097807660Z"
    }
   },
   "id": "4bde68042efa385b"
  },
  {
   "cell_type": "code",
   "execution_count": 33,
   "outputs": [],
   "source": [
    "from dataclasses import dataclass, field\n",
    "\n",
    "@dataclass\n",
    "class Tracking:\n",
    "    _repo: Repository\n",
    "    seen: set[str] = field(default_factory=str)\n",
    "    \n",
    "    def add_product(self, product):\n",
    "        print(self._repo)\n",
    "        print(type(self.seen))\n",
    "        self._repo.add(product)\n",
    "    \n",
    "    def get_by_sku(self, sku):\n",
    "        if product := self._repo.get(sku):\n",
    "            self.seen.add(sku)\n",
    "        \n",
    "        return product\n"
   ],
   "metadata": {
    "collapsed": false,
    "ExecuteTime": {
     "end_time": "2023-10-08T04:23:36.644050440Z",
     "start_time": "2023-10-08T04:23:36.629759363Z"
    }
   },
   "id": "b6540e2f8c200406"
  },
  {
   "cell_type": "code",
   "execution_count": null,
   "outputs": [],
   "source": [
    "c = Tracking(Repository)\n",
    "c.add_product(\"hello\") "
   ],
   "metadata": {
    "collapsed": false
   },
   "id": "f3d9f45f796a9124"
  },
  {
   "cell_type": "code",
   "execution_count": 1,
   "outputs": [
    {
     "data": {
      "text/plain": "[1, 2]"
     },
     "execution_count": 1,
     "metadata": {},
     "output_type": "execute_result"
    }
   ],
   "source": [
    "list(filter(None, [1, 0, 2, '', [], ()]))"
   ],
   "metadata": {
    "collapsed": false,
    "ExecuteTime": {
     "end_time": "2023-10-10T02:48:14.298869040Z",
     "start_time": "2023-10-10T02:48:14.278554697Z"
    }
   },
   "id": "7c0b0a0fd02e4c09"
  },
  {
   "cell_type": "code",
   "execution_count": 2,
   "outputs": [
    {
     "data": {
      "text/plain": "[99, 98]"
     },
     "execution_count": 2,
     "metadata": {},
     "output_type": "execute_result"
    }
   ],
   "source": [
    "# Least known Python filter usage\n",
    "\n",
    "# filter as circuit breaker\n",
    "\n",
    "# find first less than 100 value\n",
    "\n",
    "def check_less_than_100(x):\n",
    "    return x < 100\n",
    "\n",
    "l = [100, 101, 99, 98, 102]\n",
    "list(filter(check_less_than_100, l))"
   ],
   "metadata": {
    "collapsed": false,
    "ExecuteTime": {
     "end_time": "2023-10-10T02:55:22.790506463Z",
     "start_time": "2023-10-10T02:55:22.765250893Z"
    }
   },
   "id": "1bf2287053b3122a"
  },
  {
   "cell_type": "code",
   "execution_count": 3,
   "outputs": [
    {
     "name": "stdout",
     "output_type": "stream",
     "text": [
      "[1, 2, 'a']\n",
      "[0, [], '']\n"
     ]
    }
   ],
   "source": [
    "from itertools import filterfalse\n",
    "\n",
    "l = [1, 0, 2, [], '', 'a']\n",
    "filter_gen = filter(None, l)\n",
    "filter_false_gen = filterfalse(None, l)\n",
    "\n",
    "print(list(filter_gen))\n",
    "print(list(filter_false_gen))\n",
    "\n",
    "# [1, 2, 'a']\n",
    "# [0, [], '']"
   ],
   "metadata": {
    "collapsed": false,
    "ExecuteTime": {
     "end_time": "2023-10-10T03:00:07.273260886Z",
     "start_time": "2023-10-10T03:00:07.226710840Z"
    }
   },
   "id": "97e00cd05aae8a1"
  }
 ],
 "metadata": {
  "kernelspec": {
   "display_name": "Python 3",
   "language": "python",
   "name": "python3"
  },
  "language_info": {
   "codemirror_mode": {
    "name": "ipython",
    "version": 2
   },
   "file_extension": ".py",
   "mimetype": "text/x-python",
   "name": "python",
   "nbconvert_exporter": "python",
   "pygments_lexer": "ipython2",
   "version": "2.7.6"
  }
 },
 "nbformat": 4,
 "nbformat_minor": 5
}
