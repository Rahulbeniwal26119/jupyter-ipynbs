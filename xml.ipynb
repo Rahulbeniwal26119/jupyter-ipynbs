{
 "cells": [
  {
   "cell_type": "code",
   "execution_count": null,
   "metadata": {},
   "outputs": [],
   "source": [
    "from urllib.request import urlopen\n",
    "from xml.etree.ElementTree import parse\n",
    "\n",
    "u = open('./planet_python.xml')"
   ]
  },
  {
   "cell_type": "code",
   "execution_count": null,
   "metadata": {},
   "outputs": [],
   "source": [
    "doc = parse(u)"
   ]
  },
  {
   "cell_type": "code",
   "execution_count": null,
   "metadata": {},
   "outputs": [],
   "source": [
    "for item in doc.iterfind('channel/item'):\n",
    "    title = item.findtext('title')\n",
    "    date = item.findtext(\"pubDate\")\n",
    "    link = item.findtext('link')\n",
    "\n",
    "    print(\"*\" * 10)\n",
    "    print(title)\n",
    "    print(date)\n",
    "    print(link)\n",
    "    print(\"*\" * 10)"
   ]
  },
  {
   "cell_type": "code",
   "execution_count": null,
   "metadata": {},
   "outputs": [],
   "source": [
    "for element in doc.iterfind('channel/item'):\n",
    "    print(element.findtext(\"title\"))"
   ]
  },
  {
   "cell_type": "code",
   "execution_count": 48,
   "metadata": {},
   "outputs": [
    {
     "data": {
      "text/plain": [
       "(('start-ns', ('dc', 'http://purl.org/dc/elements/1.1/')), ('end-ns', None))"
      ]
     },
     "execution_count": 48,
     "metadata": {},
     "output_type": "execute_result"
    }
   ],
   "source": [
    "from xml.etree.ElementTree import iterparse\n",
    "\n",
    "data = iterparse('./planet_python.xml', ('start-ns', 'end-ns'))\n",
    "next(data), next(data)"
   ]
  },
  {
   "cell_type": "code",
   "execution_count": null,
   "metadata": {},
   "outputs": [
    {
     "ename": "",
     "evalue": "",
     "output_type": "error",
     "traceback": [
      "\u001b[1;31mRunning cells with 'django-dev' requires the ipykernel package.\n",
      "\u001b[1;31mRun the following command to install 'ipykernel' into the Python environment. \n",
      "\u001b[1;31mCommand: 'conda install -n django-dev ipykernel --update-deps --force-reinstall'"
     ]
    }
   ],
   "source": [
    "# import urlparser from standard library\n",
    "from xml.etree.ElementTree import iterparse\n",
    "\n",
    "def parse_and_remove(filename, path):\n",
    "    path_parts = path.split('/')\n",
    "\n",
    "    doc = iterparse(filename, ('start', 'end'))\n",
    "\n",
    "    # skip the root element\n",
    "    next(doc)\n",
    "\n",
    "    tag_stack = []\n",
    "    elem_stack = []\n",
    "\n",
    "    for event, elem in doc:\n",
    "        if event == 'start':\n",
    "            tag_stack.append(elem.tag)\n",
    "            elem_stack.append(elem)\n",
    "        elif event == 'end':\n",
    "            if tag_stack == path_parts:\n",
    "                yield elem\n",
    "                elem_stack[-2].remove(elem)\n",
    "            try:\n",
    "                tag_stack.pop()\n",
    "                elem_stack.pop()\n",
    "            except IndexError:\n",
    "                pass\n",
    "        "
   ]
  },
  {
   "cell_type": "code",
   "execution_count": 4,
   "metadata": {},
   "outputs": [
    {
     "data": {
      "text/plain": [
       "b'<stock _id=\"1234\"><name>Google</name><shares>100</shares><price>490.1</price></stock>'"
      ]
     },
     "execution_count": 4,
     "metadata": {},
     "output_type": "execute_result"
    }
   ],
   "source": [
    "from xml.etree.ElementTree import Element, tostring\n",
    "\n",
    "def dict_to_xml(tag, d):\n",
    "    elem = Element(tag)\n",
    "    for key, value in d.items():\n",
    "        child = Element(key)\n",
    "        child.text = value\n",
    "        elem.append(child)\n",
    "    return elem\n",
    "\n",
    "s = {\"name\": \"Google\", \"shares\": '100', \"price\": '490.1'}\n",
    "e = dict_to_xml('stock', s)\n",
    "e.set('_id', '1234')\n",
    "tostring(e)"
   ]
  },
  {
   "cell_type": "code",
   "execution_count": 10,
   "metadata": {},
   "outputs": [
    {
     "data": {
      "text/plain": [
       "b'<stock><name>&lt;spam&gt;</name></stock>'"
      ]
     },
     "execution_count": 10,
     "metadata": {},
     "output_type": "execute_result"
    }
   ],
   "source": [
    "def dict_to_xml_v2(tag, d):\n",
    "    parts = ['<{}>'.format(tag)]\n",
    "\n",
    "    for key, val in d.items():\n",
    "        parts.append(f\"<{key}>{val}</{key}>\")\n",
    "    parts.append(f\"</{tag}>\")\n",
    "    return ''.join(parts)\n",
    "s = { 'name' : '<spam>' }\n",
    "tostring(dict_to_xml('stock', s))\n"
   ]
  },
  {
   "cell_type": "code",
   "execution_count": 12,
   "metadata": {},
   "outputs": [
    {
     "data": {
      "text/plain": [
       "'&lt;spam&gt;'"
      ]
     },
     "execution_count": 12,
     "metadata": {},
     "output_type": "execute_result"
    }
   ],
   "source": [
    "from xml.sax.saxutils import escape, unescape\n",
    "\n",
    "escape('<spam>')"
   ]
  },
  {
   "cell_type": "code",
   "execution_count": 55,
   "metadata": {},
   "outputs": [],
   "source": [
    "from xml.etree.ElementTree import parse, Element\n",
    "\n",
    "doc = parse('./test.xml')\n",
    "\n",
    "root = doc.getroot()\n",
    "for pre_element in root.findall('pre'):\n",
    "    pt_element = pre_element.find('pt')\n",
    "    childrens = list(pre_element)\n",
    "    # element.get_children is not more availiable\n",
    "    if pt_element is not None:\n",
    "        new_element = Element('new_element')\n",
    "        new_element.text = 'This is a new element'\n",
    "        pre_element.insert(childrens.index(pt_element) + 1, new_element)\n",
    "\n",
    "doc.write('./test2.xml', xml_declaration=True)"
   ]
  },
  {
   "cell_type": "code",
   "execution_count": 29,
   "metadata": {},
   "outputs": [
    {
     "name": "stdout",
     "output_type": "stream",
     "text": [
      "b'<stop>\\n    <id>14791</id>\\n    <nm>Clark &amp; Balmoral</nm>\\n    <sri>\\n        <rt>22</rt>\\n        <d>North Bound</d>\\n        <dd>North Bound</dd>\\n    </sri>\\n    <cr>22</cr>\\n    <pre>\\n        <pt>5 MIN</pt>\\n        <fd>Howard</fd>\\n        <v>1378</v>\\n        <rn>22</rn>\\n    </pre>\\n    <pre>\\n        <pt>15 MIN</pt>\\n        <fd>Howard</fd>\\n        <v>1867</v>\\n        <rn>22</rn>\\n    </pre>\\n</stop>'\n"
     ]
    }
   ],
   "source": [
    "print(tostring(root))"
   ]
  },
  {
   "cell_type": "code",
   "execution_count": null,
   "metadata": {},
   "outputs": [
    {
     "data": {
      "text/plain": [
       "<Element 'pt' at 0x7f8680c71ee0>"
      ]
     },
     "execution_count": 31,
     "metadata": {},
     "output_type": "execute_result"
    }
   ],
   "source": [
    "root.find('pre').find('pt')"
   ]
  },
  {
   "cell_type": "code",
   "execution_count": 2,
   "metadata": {},
   "outputs": [
    {
     "data": {
      "text/plain": [
       "'David Beazley'"
      ]
     },
     "execution_count": 2,
     "metadata": {},
     "output_type": "execute_result"
    }
   ],
   "source": [
    "from xml.etree.ElementTree import parse, Element\n",
    "\n",
    "doc = parse('./test_xml2.xml')\n",
    "doc.findtext('author')\n"
   ]
  },
  {
   "cell_type": "code",
   "execution_count": 15,
   "metadata": {},
   "outputs": [
    {
     "data": {
      "text/plain": [
       "'Hello World'"
      ]
     },
     "execution_count": 15,
     "metadata": {},
     "output_type": "execute_result"
    }
   ],
   "source": [
    "doc.findtext('content/html')\n",
    "# willnot work because of the namespace\n",
    "\n",
    "element = doc.findtext('content/{http://www.w3.org/1999/xhtml}html/{http://www.w3.org/1999/xhtml}head/{http://www.w3.org/1999/xhtml}title')\n",
    "element"
   ]
  },
  {
   "cell_type": "code",
   "execution_count": 17,
   "metadata": {},
   "outputs": [
    {
     "data": {
      "text/plain": [
       "<Element '{http://www.w3.org/1999/xhtml}html' at 0x7f04045868e0>"
      ]
     },
     "execution_count": 17,
     "metadata": {},
     "output_type": "execute_result"
    }
   ],
   "source": [
    "class XMLNamespaces:\n",
    "    def __init__(self, **kwargs):\n",
    "        self.namespaces = {}\n",
    "        for name, uri in kwargs.items():\n",
    "            self.register(name, uri)\n",
    "        \n",
    "    def register(self, name, uri):\n",
    "        self.namespaces[name] = \"{%s}\" % uri\n",
    "    \n",
    "    def __call__(self, path):\n",
    "        return path.format_map(self.namespaces)\n",
    "\n",
    "ns = XMLNamespaces(html='http://www.w3.org/1999/xhtml')\n",
    "doc.find(ns('content/{html}html'))"
   ]
  },
  {
   "cell_type": "code",
   "execution_count": 19,
   "metadata": {},
   "outputs": [
    {
     "data": {
      "text/plain": [
       "'Hello Earth'"
      ]
     },
     "execution_count": 19,
     "metadata": {},
     "output_type": "execute_result"
    }
   ],
   "source": [
    "string = 'Hello {world}'\n",
    "string.format_map({'world': 'Earth'})"
   ]
  },
  {
   "cell_type": "code",
   "execution_count": 23,
   "metadata": {},
   "outputs": [
    {
     "ename": "OperationalError",
     "evalue": "table portfolio already exists",
     "output_type": "error",
     "traceback": [
      "\u001b[0;31m---------------------------------------------------------------------------\u001b[0m",
      "\u001b[0;31mOperationalError\u001b[0m                          Traceback (most recent call last)",
      "\u001b[1;32m/home/rahul/python/jupyter-ipynbs/xml.ipynb Cell 17\u001b[0m line \u001b[0;36m1\n\u001b[1;32m     <a href='vscode-notebook-cell:/home/rahul/python/jupyter-ipynbs/xml.ipynb#X22sZmlsZQ%3D%3D?line=11'>12</a>\u001b[0m db \u001b[39m=\u001b[39m sqlite3\u001b[39m.\u001b[39mconnect(\u001b[39m'\u001b[39m\u001b[39mdatabase.db\u001b[39m\u001b[39m'\u001b[39m)\n\u001b[1;32m     <a href='vscode-notebook-cell:/home/rahul/python/jupyter-ipynbs/xml.ipynb#X22sZmlsZQ%3D%3D?line=13'>14</a>\u001b[0m c \u001b[39m=\u001b[39m db\u001b[39m.\u001b[39mcursor()\n\u001b[0;32m---> <a href='vscode-notebook-cell:/home/rahul/python/jupyter-ipynbs/xml.ipynb#X22sZmlsZQ%3D%3D?line=14'>15</a>\u001b[0m c\u001b[39m.\u001b[39mexecute(\n\u001b[1;32m     <a href='vscode-notebook-cell:/home/rahul/python/jupyter-ipynbs/xml.ipynb#X22sZmlsZQ%3D%3D?line=15'>16</a>\u001b[0m \u001b[39m    \u001b[39m\u001b[39m\"\"\"\u001b[39;00m\n\u001b[1;32m     <a href='vscode-notebook-cell:/home/rahul/python/jupyter-ipynbs/xml.ipynb#X22sZmlsZQ%3D%3D?line=16'>17</a>\u001b[0m \u001b[39m        create table portfolio (symbol text, shares integer, price real)\u001b[39;00m\n\u001b[1;32m     <a href='vscode-notebook-cell:/home/rahul/python/jupyter-ipynbs/xml.ipynb#X22sZmlsZQ%3D%3D?line=17'>18</a>\u001b[0m \u001b[39m    \"\"\"\u001b[39;00m\n\u001b[1;32m     <a href='vscode-notebook-cell:/home/rahul/python/jupyter-ipynbs/xml.ipynb#X22sZmlsZQ%3D%3D?line=18'>19</a>\u001b[0m )\n\u001b[1;32m     <a href='vscode-notebook-cell:/home/rahul/python/jupyter-ipynbs/xml.ipynb#X22sZmlsZQ%3D%3D?line=19'>20</a>\u001b[0m db\u001b[39m.\u001b[39mcommit()\n\u001b[1;32m     <a href='vscode-notebook-cell:/home/rahul/python/jupyter-ipynbs/xml.ipynb#X22sZmlsZQ%3D%3D?line=21'>22</a>\u001b[0m c\u001b[39m.\u001b[39mexecutemany(\n\u001b[1;32m     <a href='vscode-notebook-cell:/home/rahul/python/jupyter-ipynbs/xml.ipynb#X22sZmlsZQ%3D%3D?line=22'>23</a>\u001b[0m \u001b[39m    \u001b[39m\u001b[39m\"\"\"\u001b[39;00m\n\u001b[1;32m     <a href='vscode-notebook-cell:/home/rahul/python/jupyter-ipynbs/xml.ipynb#X22sZmlsZQ%3D%3D?line=23'>24</a>\u001b[0m \u001b[39m        insert into portfolio values (?, ?, ?)\u001b[39;00m\n\u001b[1;32m     <a href='vscode-notebook-cell:/home/rahul/python/jupyter-ipynbs/xml.ipynb#X22sZmlsZQ%3D%3D?line=24'>25</a>\u001b[0m \u001b[39m    \"\"\"\u001b[39;00m, stocks\n\u001b[1;32m     <a href='vscode-notebook-cell:/home/rahul/python/jupyter-ipynbs/xml.ipynb#X22sZmlsZQ%3D%3D?line=25'>26</a>\u001b[0m )\n",
      "\u001b[0;31mOperationalError\u001b[0m: table portfolio already exists"
     ]
    }
   ],
   "source": [
    "import sqlite3\n",
    "\n",
    "\n",
    "stocks = [\n",
    "    ('GOOG', 100, 490.1),\n",
    "    ('AAPL', 50, 545.75),\n",
    "    ('FB', 150, 7.45),\n",
    "    ('HPQ', 75, 33.2)\n",
    "]\n",
    "\n",
    "\n",
    "db = sqlite3.connect('database.db')\n",
    "\n",
    "c = db.cursor()\n",
    "c.execute(\n",
    "    \"\"\"\n",
    "        create table portfolio (symbol text, shares integer, price real)\n",
    "    \"\"\"\n",
    ")\n",
    "db.commit()\n",
    "\n",
    "c.executemany(\n",
    "    \"\"\"\n",
    "        insert into portfolio values (?, ?, ?)\n",
    "    \"\"\", stocks\n",
    ")\n",
    "db.commit()\n",
    "\n",
    "for symbol, shares, price in db.execute('select * from portfolio'):\n",
    "    print(symbol, shares, price)\n",
    "\n",
    "# GOOG 100 490.1\n",
    "# AAPL 50 545.75\n",
    "# FB 150 7.45\n",
    "# HPQ 75 33.2\n"
   ]
  },
  {
   "cell_type": "code",
   "execution_count": 30,
   "metadata": {},
   "outputs": [
    {
     "name": "stdout",
     "output_type": "stream",
     "text": [
      "b'68656c6c6f' b'68656C6C6F'\n",
      "b'hello'\n"
     ]
    }
   ],
   "source": [
    "from binascii import b2a_hex, a2b_hex\n",
    "import base64\n",
    "\n",
    "\n",
    "s = b'hello'\n",
    "print(b2a_hex(s), base64.b16encode(s))\n",
    "print(base64.b64decode(base64.b64encode(s).decode('ascii')))"
   ]
  },
  {
   "cell_type": "code",
   "execution_count": 4,
   "metadata": {},
   "outputs": [
    {
     "name": "stdout",
     "output_type": "stream",
     "text": [
      "String to Emoji: H e l l o ,   W o r l d !   🌍 \n",
      "Emoji to String: Hello,World!🌍\n"
     ]
    }
   ],
   "source": [
    "import emoji\n",
    "\n",
    "# Function to convert a string to emojis\n",
    "def string_to_emoji(input_str):\n",
    "    emoji_str = ''\n",
    "    for char in input_str:\n",
    "        emoji_char = emoji.emojize(char)\n",
    "        if emoji_char:\n",
    "            emoji_str += emoji_char + ' '\n",
    "        else:\n",
    "            emoji_str += char\n",
    "    return emoji_str\n",
    "\n",
    "# Function to convert emojis back to a string\n",
    "def emoji_to_string(emoji_str):\n",
    "    parts = emoji_str.split()\n",
    "    text = ''\n",
    "    for part in parts:\n",
    "            text += part\n",
    "    return text\n",
    "\n",
    "# Example usage\n",
    "input_string = \"Hello, World! 🌍\"\n",
    "emoji_string = string_to_emoji(input_string)\n",
    "print(f\"String to Emoji: {emoji_string}\")\n",
    "decoded_string = emoji_to_string(emoji_string)\n",
    "print(f\"Emoji to String: {decoded_string}\")"
   ]
  },
  {
   "cell_type": "code",
   "execution_count": 29,
   "metadata": {},
   "outputs": [
    {
     "name": "stdout",
     "output_type": "stream",
     "text": [
      "String to Emoji: 🙈🙥🙬🙬🙯😬😠🙗🙯🙲🙬🙤😡😠😀ԍ\n",
      "Emoji to String: Hello, World! \u0000🌍\n"
     ]
    }
   ],
   "source": [
    "# Function to convert a string to emojis based on ASCII or UTF values\n",
    "start_offset = 0x1F600  # Start of Emojis in Unicode table\n",
    "end_offset = 0x1F64F  # End of Emojis in Unicode table\n",
    "\n",
    "# Function to convert a string to emojis based on Unicode code points\n",
    "def string_to_emoji(input_str):\n",
    "    emoji_str = ''\n",
    "    \n",
    "    for char in input_str:\n",
    "        # if character is already an emoji, then convert it to another emoji\n",
    "        if start_offset <= ord(char) <= end_offset:\n",
    "            # need to handle situation to identity if character is already an emoji\n",
    "            # if so, then convert it to another emoji and to convert it back to a string\n",
    "\n",
    "\n",
    "            ord_value = ord(char) - start_offset\n",
    "            emoji_str += chr(ord_value + start_offset)\n",
    "        else:\n",
    "            emoji_str += chr(ord(char) + start_offset)\n",
    "\n",
    "    return emoji_str\n",
    "\n",
    "# Function to convert emojis back to a string\n",
    "def emoji_to_string(emoji_str):\n",
    "    text = ''\n",
    "    \n",
    "    for char in emoji_str:\n",
    "        # if character is an emoji, then convert it to another character\n",
    "        if start_offset <= ord(char) <= end_offset:\n",
    "            ord_value = ord(char) - start_offset\n",
    "            text += chr(ord_value + start_offset)\n",
    "        else:\n",
    "            text += chr(ord(char) - start_offset)\n",
    "\n",
    "    return text\n",
    "\n",
    "# Offset for converting emojis\n",
    "offset = 128512\n",
    "\n",
    "# Function to convert a string to emojis based on Unicode code points\n",
    "def string_to_emoji(input_str):\n",
    "    emoji_str = ''\n",
    "\n",
    "    for char in input_str:\n",
    "        if ord(char) >= offset:\n",
    "            # Character is an emoji, convert it to another emoji\n",
    "            encoded_char = ord(char) ^ offset\n",
    "            emoji_str += chr(encoded_char)\n",
    "        else:\n",
    "            encoded_char = ord(char) ^ offset\n",
    "            emoji_str += chr(encoded_char)\n",
    "\n",
    "    return emoji_str\n",
    "\n",
    "# Function to convert emojis back to a string\n",
    "def emoji_to_string(emoji_str):\n",
    "    text = ''\n",
    "\n",
    "    for char in emoji_str:\n",
    "        decoded_char = ord(char) ^ offset\n",
    "        text += chr(decoded_char)\n",
    "\n",
    "    return text\n",
    "\n",
    "# Example usage\n",
    "input_string = \"Hello, World! 😂🌍\"\n",
    "emoji_string = string_to_emoji(input_string)\n",
    "print(f\"String to Emoji: {emoji_string}\")\n",
    "decoded_string = emoji_to_string(emoji_string)\n",
    "print(f\"Emoji to String: {decoded_string}\")"
   ]
  },
  {
   "cell_type": "code",
   "execution_count": 20,
   "metadata": {},
   "outputs": [
    {
     "data": {
      "text/plain": [
       "'😐'"
      ]
     },
     "execution_count": 20,
     "metadata": {},
     "output_type": "execute_result"
    }
   ],
   "source": []
  }
 ],
 "metadata": {
  "kernelspec": {
   "display_name": "base",
   "language": "python",
   "name": "python3"
  },
  "language_info": {
   "codemirror_mode": {
    "name": "ipython",
    "version": 3
   },
   "file_extension": ".py",
   "mimetype": "text/x-python",
   "name": "python",
   "nbconvert_exporter": "python",
   "pygments_lexer": "ipython3",
   "version": "3.11.5"
  }
 },
 "nbformat": 4,
 "nbformat_minor": 2
}
