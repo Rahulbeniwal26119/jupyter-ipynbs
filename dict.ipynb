{
 "cells": [
  {
   "cell_type": "markdown",
   "metadata": {},
   "source": [
    "#### Keys size in dict is decreasing 200+ to 104 bytes in python3.10"
   ]
  },
  {
   "cell_type": "code",
   "execution_count": 2,
   "metadata": {},
   "outputs": [
    {
     "name": "stdout",
     "output_type": "stream",
     "text": [
      "{'guido': 'blue', 'sarah': 'orange', 'barry': 'green', 'rachel': 'yellow', 'tim': 'red'}\n",
      "{'guido': 'austin', 'sarah': 'dallas', 'barry': 'tuscon', 'rachel': 'reno', 'tim': 'portland'}\n",
      "{'guido': 'apple', 'sarah': 'Banana', 'barry': 'orange', 'rachel': 'pear', 'tim': 'peach'}\n",
      "[104, 104, 104]\n"
     ]
    }
   ],
   "source": [
    "import sys\n",
    "class UserProperty:\n",
    "    def __init__(self, v0, v1, v2, v3, v4):\n",
    "        self.guido = v0\n",
    "        self.sarah = v1\n",
    "        self.barry = v2\n",
    "        self.rachel = v3\n",
    "        self.tim = v4\n",
    "    def __repr__(self):\n",
    "        return f\"{self.guido} {self.sarah} {self.barry} {self.rachel} {self.tim}\"\n",
    "color = UserProperty(\"blue\", \"orange\", \"green\", \"yellow\", \"red\")\n",
    "cities = UserProperty(\"austin\", \"dallas\", \"tuscon\", \"reno\", \"portland\")\n",
    "fruits = UserProperty(\"apple\", \"Banana\", \"orange\", \"pear\", \"peach\")\n",
    "for u in [color, cities, fruits]:\n",
    "    print(vars(u))\n",
    "print(list(map(sys.getsizeof, map(vars, [color, cities, fruits]))))\n"
   ]
  },
  {
   "cell_type": "code",
   "execution_count": 6,
   "metadata": {},
   "outputs": [
    {
     "name": "stdout",
     "output_type": "stream",
     "text": [
      "[4651562274113872838,\n",
      " 6861404814714116746,\n",
      " 8558717711205192683,\n",
      " 5460385272338913308,\n",
      " 3286371974472864450]\n",
      "[(4651562274113872838, 'guido', 'blue'),\n",
      " (6861404814714116746, 'sarah', 'orange'),\n",
      " (8558717711205192683, 'green', 'green'),\n",
      " (5460385272338913308, 'yellow', 'yellow'),\n",
      " (3286371974472864450, 'red', 'red')]\n",
      "[('guido', 'blue', 'austin', 'apple'),\n",
      " ('sarah', 'orange', 'dallas', 'banana'),\n",
      " ('green', 'green', 'tuscon', 'orange'),\n",
      " ('yellow', 'yellow', 'reno', 'pear'),\n",
      " ('red', 'red', 'portland', 'peach')]\n"
     ]
    }
   ],
   "source": [
    "from pprint import pprint as print\n",
    "\n",
    "\n",
    "keys = 'guido sarah green yellow red'.split()\n",
    "values1 = 'blue orange green yellow red'.split()\n",
    "values2 = 'austin dallas tuscon reno portland'.split()\n",
    "values3 = 'apple banana orange pear peach'.split()\n",
    "hashes = list(map(abs, map(hash, keys)))\n",
    "print(hashes)\n",
    "entries = list(zip(hashes, keys, values1))\n",
    "print(entries)\n",
    "comb_entries = list(zip(keys, values1, values2, values3))\n",
    "print(comb_entries)"
   ]
  },
  {
   "cell_type": "code",
   "execution_count": null,
   "metadata": {},
   "outputs": [],
   "source": []
  }
 ],
 "metadata": {
  "kernelspec": {
   "display_name": "Python 3.10.6 64-bit",
   "language": "python",
   "name": "python3"
  },
  "language_info": {
   "codemirror_mode": {
    "name": "ipython",
    "version": 3
   },
   "file_extension": ".py",
   "mimetype": "text/x-python",
   "name": "python",
   "nbconvert_exporter": "python",
   "pygments_lexer": "ipython3",
   "version": "3.10.6"
  },
  "orig_nbformat": 4,
  "vscode": {
   "interpreter": {
    "hash": "31f2aee4e71d21fbe5cf8b01ff0e069b9275f58929596ceb00d14d90e3e16cd6"
   }
  }
 },
 "nbformat": 4,
 "nbformat_minor": 2
}
