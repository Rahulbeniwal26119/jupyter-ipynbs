{
 "cells": [
  {
   "cell_type": "markdown",
   "metadata": {},
   "source": [
    "#### Class "
   ]
  },
  {
   "cell_type": "code",
   "execution_count": null,
   "metadata": {},
   "outputs": [],
   "source": [
    "class Human:\n",
    "    def __init__(self, id, name, addresss=[], maps={}):\n",
    "        self.id = id\n",
    "        self.name = name \n",
    "        self.addresss = addresss\n",
    "        self.maps = maps\n",
    "\n",
    "    def __delattr__(self, item):\n",
    "        print(\"Deleting attr\", item)\n",
    "        return super().__delattr__(item)\n",
    "\n",
    "    # __getattr__ is called when an attribute is not found\n",
    "    def __getattr__(self, item):\n",
    "        print(\"Getting attr\", item)\n",
    "        return 'item not found'\n",
    "    \n",
    "    def __setattr__(self, key, value):\n",
    "        print(\"Setting attr\", key, value)\n",
    "        return super().__setattr__(key, value)\n",
    "    \n",
    "    def __getattribute__(self, __name: str):\n",
    "        print(\"Getting attribute\", __name)\n",
    "        return super().__getattribute__(__name)\n",
    "    \n",
    "    def __dir__(self):\n",
    "        print(\"Getting dir\")\n",
    "        original_dir_response = super().__dir__()\n",
    "        return list(filter(lambda x : not x.startswith('_'), original_dir_response))\n",
    "    \n",
    "    def __eq__(self, other):\n",
    "        print(\"Comparing equality\")\n",
    "        return self.name == other.name and self.id == other.id\n",
    "    \n",
    "    def __hash__(self):\n",
    "        return self.id\n",
    "\n",
    "    def __format__(self) -> str:\n",
    "        return f\"Human: {self.name} {self.id}\"\n",
    "    \n",
    "    # __new__ is use to create a new instance of the class\n",
    "    def __new__(cls, *args, **kwargs):\n",
    "        print(\"Human Creating...\")\n",
    "        return object.__new__(cls)\n",
    "    \n",
    "    def __ge__(self, other):\n",
    "        print(\"Greater than or equal\")\n",
    "        return self.id >= other.id\n",
    "    \n",
    "    def __le__(self, other):\n",
    "        print(\"Less than or equal\")\n",
    "        return self.id <= other.id\n",
    "    \n",
    "    def __gt__(self, other):\n",
    "        print(\"Greater than\")\n",
    "        return self.id > other.id\n",
    "    \n",
    "    def __str__(self):\n",
    "        return f\"Human {self.id}\"\n",
    "    \n",
    "\n",
    "    # def __dict__(self):\n",
    "        # print(\"Getting dict\")\n",
    "        # return a dict with all the attributes and their value as values \n",
    "        \n",
    "    \n",
    "human = Human(1, 'John', ['London', 'New York'], {'London': 'UK', 'New York': 'USA'})\n",
    "print()\n",
    "human2 = Human(1, 'John', ['London', 'New York'], {'London': 'UK', 'New York': 'USA'})"
   ]
  },
  {
   "cell_type": "code",
   "execution_count": null,
   "metadata": {},
   "outputs": [],
   "source": [
    "d = {\n",
    "    human: \"human\",\n",
    "    human2: \"human2\"\n",
    "}\n",
    "print(d)\n",
    "print(d.__sizeof__())\n",
    "h1 = human\n",
    "h2 = human\n",
    "print(human.__weakref__)"
   ]
  },
  {
   "cell_type": "code",
   "execution_count": null,
   "metadata": {},
   "outputs": [],
   "source": [
    "hash(human), hash(human2)"
   ]
  },
  {
   "cell_type": "code",
   "execution_count": null,
   "metadata": {},
   "outputs": [],
   "source": [
    "# del \n",
    "# del human.id\n",
    "# human.id\n",
    "# human.addresss\n",
    "human == human "
   ]
  },
  {
   "cell_type": "code",
   "execution_count": null,
   "metadata": {},
   "outputs": [],
   "source": [
    "set([human, human2])"
   ]
  },
  {
   "cell_type": "code",
   "execution_count": null,
   "metadata": {},
   "outputs": [],
   "source": [
    "dir(human) # dir list the attributes of the object"
   ]
  },
  {
   "cell_type": "code",
   "execution_count": null,
   "metadata": {},
   "outputs": [],
   "source": [
    "class SuperClass:\n",
    "    def __init_subclass__(cls, **kwargs):\n",
    "        print(\"Called by Sub Class\")\n",
    "        cls.default_class = 'Inherited Class'\n",
    "\n",
    "class SubClass(SuperClass):\n",
    "    default_name = \"SubClass\"\n",
    "    print(default_name)\n",
    "\n",
    "subclass = SubClass()\n",
    "print(subclass.default_name)"
   ]
  },
  {
   "cell_type": "code",
   "execution_count": null,
   "metadata": {},
   "outputs": [],
   "source": [
    "math = __import__(\"math\") # import math"
   ]
  },
  {
   "cell_type": "code",
   "execution_count": null,
   "metadata": {},
   "outputs": [],
   "source": [
    "class SuperClass:\n",
    "    # cls is the class that is being inherited\n",
    "    # __init_subclass__ is called when a class is inherited \n",
    "    # cls is the class that is being inherited\n",
    "    def __init_subclass__(cls, default_name, **kwargs):\n",
    "        print(\"In Super Class\")\n",
    "        print(dir(cls))\n",
    "        cls.default_name = default_name\n",
    "\n",
    "class SubClass1(SuperClass, default_name=\"SubClass1\"):\n",
    "    pass \n",
    "\n",
    "class SubClass2(SuperClass, default_name=\"SubClass2\"):\n",
    "    default_name = \"Inherited SubClass2\"\n",
    "    \n",
    "subclass1 = SubClass1()\n",
    "subclass2 = SubClass2()\n",
    "\n",
    "print(subclass1.default_name)\n",
    "print(subclass2.default_name)\n",
    "        "
   ]
  },
  {
   "cell_type": "markdown",
   "metadata": {},
   "source": [
    "#### Integer"
   ]
  },
  {
   "cell_type": "code",
   "execution_count": 1,
   "metadata": {},
   "outputs": [],
   "source": [
    "class PrivateInt:\n",
    "    def __init__(self, num):\n",
    "        self.num = num \n",
    "    \n",
    "    def __add__(self, obj):\n",
    "        print(\"adding\")\n",
    "        return PrivateInt(self.num + obj.num)\n",
    "    \n",
    "    def __mul__(self, obj):\n",
    "        print(\"multiplying\")\n",
    "        return self.num * obj.num\n",
    "    \n",
    "    def __and__(self, obj):\n",
    "        print(\"and\")\n",
    "        return self.num & obj.num\n",
    "    \n",
    "    def __or__(self, obj):\n",
    "        print(\"or\")\n",
    "        return self.num | obj.num\n",
    "    \n",
    "    def __bool__(self):\n",
    "        print(\"bool\")\n",
    "        return self.num > 0\n",
    "    \n",
    "    def __floordiv__(self, num):\n",
    "        print(\"floordiv\")\n",
    "        return self.num // num\n",
    "    \n",
    "    def __getnewargs__(self):\n",
    "        # helps in pickling\n",
    "        # print(\"getnewargs\")\n",
    "        return (self.num,)"
   ]
  },
  {
   "cell_type": "code",
   "execution_count": null,
   "metadata": {},
   "outputs": [],
   "source": [
    "obj1 = PrivateInt(10)\n",
    "print(obj1)\n",
    "obj2 = PrivateInt(20)\n",
    "print((obj1 + obj2).num)\n",
    "print(obj1 * obj2)\n",
    "print(obj1 & obj2)\n",
    "print(obj1 // 5)"
   ]
  },
  {
   "cell_type": "code",
   "execution_count": null,
   "metadata": {},
   "outputs": [],
   "source": [
    "import pickle \n",
    "y = pickle.dumps(obj1)\n",
    "x = pickle.loads(y)\n",
    "x.num"
   ]
  },
  {
   "cell_type": "code",
   "execution_count": null,
   "metadata": {},
   "outputs": [],
   "source": []
  }
 ],
 "metadata": {
  "kernelspec": {
   "display_name": "Python 3.10.4 64-bit",
   "language": "python",
   "name": "python3"
  },
  "language_info": {
   "codemirror_mode": {
    "name": "ipython",
    "version": 3
   },
   "file_extension": ".py",
   "mimetype": "text/x-python",
   "name": "python",
   "nbconvert_exporter": "python",
   "pygments_lexer": "ipython3",
   "version": "3.10.6"
  },
  "orig_nbformat": 4,
  "vscode": {
   "interpreter": {
    "hash": "916dbcbb3f70747c44a77c7bcd40155683ae19c65e1c03b4aa3499c5328201f1"
   }
  }
 },
 "nbformat": 4,
 "nbformat_minor": 2
}
