{
 "cells": [
  {
   "cell_type": "code",
   "execution_count": 1,
   "metadata": {},
   "outputs": [
    {
     "name": "stdout",
     "output_type": "stream",
     "text": [
      "[104, 101, 108, 108, 111]\n",
      "b'hello'\n"
     ]
    }
   ],
   "source": [
    "bstring = b'h\\x65llo'\n",
    "print(list(bstring))\n",
    "print(bstring)\n"
   ]
  },
  {
   "cell_type": "code",
   "execution_count": 5,
   "metadata": {},
   "outputs": [
    {
     "name": "stdout",
     "output_type": "stream",
     "text": [
      "à propos\n",
      "こんにちは\n"
     ]
    }
   ],
   "source": [
    "a = 'a\\u0300 propos'\n",
    "b = 'こんにちは'\n",
    "print(a)\n",
    "print(b)"
   ]
  },
  {
   "cell_type": "code",
   "execution_count": 16,
   "metadata": {},
   "outputs": [
    {
     "name": "stdout",
     "output_type": "stream",
     "text": [
      "b'\\xe3\\x81\\x93\\xe3\\x82\\x93\\xe3\\x81\\xab\\xe3\\x81\\xa1\\xe3\\x81\\xaf'\n",
      "こんにちは\n",
      "ããã«ã¡ã¯\n"
     ]
    }
   ],
   "source": [
    "import locale\n",
    "\n",
    "# get os default encoding\n",
    "os_default_encoding = locale.getpreferredencoding()\n",
    "\n",
    "\n",
    "def to_str(string, encoding=os_default_encoding):\n",
    "    if isinstance(string, bytes):\n",
    "        return string.decode(encoding)\n",
    "    return string\n",
    "\n",
    "\n",
    "def to_bytes(string, encoding=os_default_encoding):\n",
    "    if isinstance(string, str):\n",
    "        return string.encode(encoding)\n",
    "    return string\n",
    "\n",
    "\n",
    "string = \"こんにちは\"\n",
    "encoded_string = to_bytes(string)\n",
    "decoded_string = to_str(encoded_string)\n",
    "wrong_decoded_string = to_str(encoded_string, \"latin-1\")\n",
    "\n",
    "print(encoded_string)\n",
    "print(decoded_string)\n",
    "print(wrong_decoded_string)\n"
   ]
  },
  {
   "cell_type": "code",
   "execution_count": 14,
   "metadata": {},
   "outputs": [
    {
     "name": "stdout",
     "output_type": "stream",
     "text": [
      "b'\\xe3\\x81\\x93\\xe3\\x82\\x93\\xe3\\x81\\xab\\xe3\\x81\\xa1\\xe3\\x81\\xaf'\n",
      "こんにちは\n"
     ]
    }
   ],
   "source": [
    "string = \"こんにちは\"\n",
    "encoded_string = to_bytes(string)\n",
    "print(encoded_string)\n",
    "decoded_string = to_str(encoded_string)\n",
    "print(decoded_string)"
   ]
  },
  {
   "cell_type": "code",
   "execution_count": 18,
   "metadata": {},
   "outputs": [
    {
     "name": "stdout",
     "output_type": "stream",
     "text": [
      "[83, 116, 114, 105, 110, 103]\n",
      "['S', 't', 'r', 'i', 'n', 'g']\n"
     ]
    }
   ],
   "source": [
    "String1 = b\"String\"\n",
    "String2 = \"String\"\n",
    "print(list(String1))\n",
    "print(list(String2))"
   ]
  },
  {
   "cell_type": "code",
   "execution_count": 23,
   "metadata": {},
   "outputs": [
    {
     "ename": "TypeError",
     "evalue": "unsupported operand type(s) for -: 'bytes' and 'int'",
     "output_type": "error",
     "traceback": [
      "\u001b[0;31m---------------------------------------------------------------------------\u001b[0m",
      "\u001b[0;31mTypeError\u001b[0m                                 Traceback (most recent call last)",
      "Cell \u001b[0;32mIn[23], line 2\u001b[0m\n\u001b[1;32m      1\u001b[0m c \u001b[39m=\u001b[39m \u001b[39mb\u001b[39m\u001b[39m'\u001b[39m\u001b[39ma\u001b[39m\u001b[39m'\u001b[39m\n\u001b[0;32m----> 2\u001b[0m c \u001b[39m-\u001b[39;49m \u001b[39m10\u001b[39;49m\n",
      "\u001b[0;31mTypeError\u001b[0m: unsupported operand type(s) for -: 'bytes' and 'int'"
     ]
    }
   ],
   "source": [
    "c = b'a'\n",
    "c - 10"
   ]
  },
  {
   "cell_type": "code",
   "execution_count": 24,
   "metadata": {},
   "outputs": [
    {
     "ename": "SyntaxError",
     "evalue": "bytes can only contain ASCII literal characters (3903567435.py, line 1)",
     "output_type": "error",
     "traceback": [
      "\u001b[0;36m  Cell \u001b[0;32mIn[24], line 1\u001b[0;36m\u001b[0m\n\u001b[0;31m    string = b\"こんにちは\"\u001b[0m\n\u001b[0m                     ^\u001b[0m\n\u001b[0;31mSyntaxError\u001b[0m\u001b[0;31m:\u001b[0m bytes can only contain ASCII literal characters\n"
     ]
    }
   ],
   "source": [
    "string = b\"こんにちは\"\n",
    "print(string)\n"
   ]
  },
  {
   "cell_type": "code",
   "execution_count": 29,
   "metadata": {},
   "outputs": [
    {
     "ename": "TypeError",
     "evalue": "'>' not supported between instances of 'bytes' and 'str'",
     "output_type": "error",
     "traceback": [
      "\u001b[0;31m---------------------------------------------------------------------------\u001b[0m",
      "\u001b[0;31mTypeError\u001b[0m                                 Traceback (most recent call last)",
      "Cell \u001b[0;32mIn[29], line 1\u001b[0m\n\u001b[0;32m----> 1\u001b[0m \u001b[39massert\u001b[39;00m \u001b[39mb\u001b[39;49m\u001b[39m'\u001b[39;49m\u001b[39mhello\u001b[39;49m\u001b[39m'\u001b[39;49m \u001b[39m>\u001b[39;49m \u001b[39m'\u001b[39;49m\u001b[39mHello\u001b[39;49m\u001b[39m'\u001b[39;49m\n\u001b[1;32m      2\u001b[0m \u001b[39massert\u001b[39;00m \u001b[39m'\u001b[39m\u001b[39mhello\u001b[39m\u001b[39m'\u001b[39m \u001b[39m>\u001b[39m \u001b[39m'\u001b[39m\u001b[39mHello\u001b[39m\u001b[39m'\u001b[39m \n",
      "\u001b[0;31mTypeError\u001b[0m: '>' not supported between instances of 'bytes' and 'str'"
     ]
    }
   ],
   "source": [
    "assert b'hello' > 'Hello'\n",
    "assert 'hello' > 'Hello' "
   ]
  },
  {
   "cell_type": "code",
   "execution_count": 41,
   "metadata": {},
   "outputs": [
    {
     "name": "stdout",
     "output_type": "stream",
     "text": [
      "color b'red'\n"
     ]
    }
   ],
   "source": [
    "print('color %s' % b'red')"
   ]
  },
  {
   "cell_type": "code",
   "execution_count": null,
   "metadata": {},
   "outputs": [],
   "source": []
  },
  {
   "cell_type": "code",
   "execution_count": 43,
   "metadata": {},
   "outputs": [
    {
     "data": {
      "text/plain": [
       "False"
      ]
     },
     "execution_count": 43,
     "metadata": {},
     "output_type": "execute_result"
    }
   ],
   "source": [
    "issubclass(bytes, str)"
   ]
  }
 ],
 "metadata": {
  "kernelspec": {
   "display_name": "venv",
   "language": "python",
   "name": "python3"
  },
  "language_info": {
   "codemirror_mode": {
    "name": "ipython",
    "version": 3
   },
   "file_extension": ".py",
   "mimetype": "text/x-python",
   "name": "python",
   "nbconvert_exporter": "python",
   "pygments_lexer": "ipython3",
   "version": "3.11.1"
  },
  "orig_nbformat": 4,
  "vscode": {
   "interpreter": {
    "hash": "c1ab6dbd3f8354c34413c2896499fab8687475820e704f17935566551d553a23"
   }
  }
 },
 "nbformat": 4,
 "nbformat_minor": 2
}
