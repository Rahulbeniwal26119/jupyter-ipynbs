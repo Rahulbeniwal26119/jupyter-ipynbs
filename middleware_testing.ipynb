{
 "cells": [
  {
   "cell_type": "code",
   "execution_count": 7,
   "metadata": {},
   "outputs": [],
   "source": [
    "url1 = f\"http://localhost:8000/pp/v1/loans/documents/confirm/\"\n",
    "url2 = f\"http://localhost:8000/pp/v1/loans/documents/\"\n",
    "import requests"
   ]
  },
  {
   "cell_type": "code",
   "execution_count": null,
   "metadata": {},
   "outputs": [],
   "source": []
  },
  {
   "cell_type": "code",
   "execution_count": 14,
   "metadata": {},
   "outputs": [],
   "source": [
    "url1_data = {\n",
    "    \"user_ip\": \"0.0.0.0\",\n",
    "    \"device_id\": \"123456789\",\n",
    "    \"document_types\": [\"KFS\"],\n",
    "    \"loan_id\": \"123456789\"\n",
    "}\n",
    "\n",
    "url2_data ={\n",
    "    \"loan_id\": \"123456789\",\n",
    "    \"type\": \"KFS\"\n",
    "}"
   ]
  },
  {
   "cell_type": "code",
   "execution_count": 1,
   "metadata": {},
   "outputs": [],
   "source": [
    "from uuid import uuid4\n",
    "import threading\n",
    "\n",
    "def f():\n",
    "    thread_list = []\n",
    "    for i in range(1):\n",
    "        print(\"Here 1\")\n",
    "        thread_list.append(\n",
    "            threading.Thread(target=request, kwargs={\"url\": url1, \"data\": url1_data})\n",
    "        )\n",
    "    \n",
    "    for c in thread_list:\n",
    "        c.start()\n",
    "        c.join()\n",
    "        \n",
    "    # for d in thread_list:\n",
    "        # d.join()\n",
    "\n",
    "\n",
    "def request(url, data):\n",
    "    data['loan_id'] = uuid4().hex\n",
    "    data[\"device_id\"] = uuid4().hex\n",
    "    requests.post(url, json=data)\n",
    "    \n",
    "\n",
    "def f2():\n",
    "    thread_list = []\n",
    "    for i in range(100):\n",
    "        print('Here 2')\n",
    "        thread_list.append(\n",
    "            threading.Thread(\n",
    "                target=request, kwargs={\"url\": url2, \"data\": url2_data})\n",
    "        )\n",
    "    for c in thread_list:\n",
    "        c.start()\n",
    "        c.join()\n",
    "    \n",
    "    # for d in thread_list:\n",
    "        # d.join()\n",
    "    \n",
    "    "
   ]
  },
  {
   "cell_type": "code",
   "execution_count": 18,
   "metadata": {},
   "outputs": [],
   "source": [
    "import multiprocessing\n",
    "proc1 = multiprocessing.Process(target=f)\n",
    "proc2 = multiprocessing.Process(target=f2)\n",
    "\n",
    "proc1.start()\n",
    "proc2.start()\n",
    "\n",
    "proc2.join()\n",
    "proc1.join()\n"
   ]
  },
  {
   "cell_type": "code",
   "execution_count": null,
   "metadata": {},
   "outputs": [],
   "source": []
  }
 ],
 "metadata": {
  "kernelspec": {
   "display_name": "Python 3.11.0 64-bit",
   "language": "python",
   "name": "python3"
  },
  "language_info": {
   "codemirror_mode": {
    "name": "ipython",
    "version": 3
   },
   "file_extension": ".py",
   "mimetype": "text/x-python",
   "name": "python",
   "nbconvert_exporter": "python",
   "pygments_lexer": "ipython3",
   "version": "3.11.0"
  },
  "orig_nbformat": 4,
  "vscode": {
   "interpreter": {
    "hash": "ead1b95f633dc9c51826328e1846203f51a198c6fb5f2884a80417ba131d4e82"
   }
  }
 },
 "nbformat": 4,
 "nbformat_minor": 2
}
