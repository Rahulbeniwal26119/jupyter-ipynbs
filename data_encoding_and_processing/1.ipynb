{
 "cells": [
  {
   "cell_type": "markdown",
   "metadata": {},
   "source": [
    "##### Reading a csv file "
   ]
  },
  {
   "cell_type": "code",
   "execution_count": 12,
   "metadata": {},
   "outputs": [
    {
     "name": "stdout",
     "output_type": "stream",
     "text": [
      "3230000000001272\n",
      "3230000000001273\n"
     ]
    }
   ],
   "source": [
    "import csv \n",
    "from collections import namedtuple\n",
    "\n",
    "with open('./test.csv') as f:\n",
    "    f_csv = csv.reader(f) \n",
    "    f_csv_dict = csv.DictReader(f) # dict reader is not efficient \n",
    "    # print(f_csv_dict)\n",
    "    headers = next(f_csv) # skipping headers \n",
    "    Row = namedtuple('Row', headers)\n",
    "    for r in f_csv:\n",
    "        row = Row(*r)\n",
    "        print(row.LocId)\n",
    "    # print(\"* * * * * * * * * *\")\n",
    "    # for r in f_csv_dict:\n",
    "    #     print(\"DICT\", r)"
   ]
  },
  {
   "cell_type": "markdown",
   "metadata": {},
   "source": [
    "##### Dumping a csv file"
   ]
  },
  {
   "cell_type": "code",
   "execution_count": 16,
   "metadata": {},
   "outputs": [],
   "source": [
    "headers = ['Symbol', 'Price', 'Date', 'Time', \"Change\", 'Volume']\n",
    "rows = [\n",
    "    ('AA', 38.98, '6/11/2002', '9:36am', -0.19, 181800),\n",
    "    ('BB', 71.38, '6/11/2007', '9:37am', -0.15, 195500),\n",
    "    ('CC', 62.58, '6/11/2007', '9:37am', -0.19, 19000)\n",
    "]\n",
    "with open('write_test.csv', 'w') as f:\n",
    "    f_csv = csv.writer(f)\n",
    "    f_csv.writerow(headers)\n",
    "    f_csv.writerows(rows)"
   ]
  },
  {
   "cell_type": "code",
   "execution_count": 17,
   "metadata": {},
   "outputs": [],
   "source": [
    "\n",
    "rows = [\n",
    "    {'Symbol' : 'AA', 'Price' : 38.98, 'Date' : '6/11/2002', 'Time' : '9:36am', 'Change' : -0.19, 'Volume' : 181800},\n",
    "    {'Symbol' :  'BB', 'Price': 71.38, 'Date' : '6/11/2007', 'Time' : '9:37am', 'Change' : -0.15, 'Volume' : 195500},\n",
    "    {'Symbol': 'CC', 'Price': 62.58, 'Date' :  '6/11/2007', 'Time' : '9:37am', 'Change' : -0.19, 'Volume' : 19000}\n",
    "]\n",
    "\n",
    "with open('write_test.csv', 'w') as f:\n",
    "    f_csv = csv.DictWriter(f, headers)\n",
    "    f_csv.writeheader()\n",
    "    f_csv.writerows(rows)\n",
    "    "
   ]
  },
  {
   "cell_type": "markdown",
   "metadata": {},
   "source": [
    "##### Creating a csv with diff limiter"
   ]
  },
  {
   "cell_type": "code",
   "execution_count": 19,
   "metadata": {},
   "outputs": [],
   "source": [
    "with open('test_csv_tab.tsv', 'w') as f:\n",
    "    f_csv = csv.DictWriter(f, headers, delimiter='\\t')\n",
    "    f_csv.writeheader()\n",
    "    f_csv.writerows(rows)"
   ]
  },
  {
   "cell_type": "markdown",
   "metadata": {},
   "source": [
    "##### Reading a csv file with different delimiters"
   ]
  },
  {
   "cell_type": "code",
   "execution_count": 22,
   "metadata": {},
   "outputs": [
    {
     "name": "stdout",
     "output_type": "stream",
     "text": [
      "['Symbol', 'Price', 'Date', 'Time', 'Change', 'Volume']\n",
      "['AA', '38.98', '6/11/2002', '9:36am', '-0.19', '181800']\n",
      "['BB', '71.38', '6/11/2007', '9:37am', '-0.15', '195500']\n",
      "['CC', '62.58', '6/11/2007', '9:37am', '-0.19', '19000']\n"
     ]
    }
   ],
   "source": [
    "with open('./test_csv_tab.tsv') as f:\n",
    "    t_csv = csv.reader(f, delimiter='\\t')\n",
    "    headers = next(t_csv)\n",
    "    print(headers)\n",
    "    for row in t_csv:\n",
    "        print(row)"
   ]
  },
  {
   "cell_type": "code",
   "execution_count": 24,
   "metadata": {},
   "outputs": [],
   "source": [
    "headers = ['Street Address','Num-Premises','Latitude','Longitude']\n",
    "rows = [\n",
    "    ('A', 4, 10.10, 55.44),\n",
    "    ('B', 5, 10.10, 44.44)\n",
    "]\n",
    "\n",
    "with open('uncommon.csv', 'w') as f:\n",
    "    f_csv = csv.writer(f)\n",
    "    f_csv.writerow(headers)\n",
    "    f_csv.writerows(rows)"
   ]
  },
  {
   "cell_type": "code",
   "execution_count": 13,
   "metadata": {},
   "outputs": [
    {
     "name": "stdout",
     "output_type": "stream",
     "text": [
      "Row(Street_Address='A', Num_Premises=4, Latitude=10.1, Longitude=55.44)\n",
      "Row(Street_Address='B', Num_Premises=5, Latitude=10.1, Longitude=44.44)\n"
     ]
    }
   ],
   "source": [
    "from lib2to3.pytree import convert\n",
    "import re, csv\n",
    "from collections import namedtuple\n",
    "col_type = [str, int, float, float]\n",
    "\n",
    "# converting data to datatype \n",
    "with open('./uncommon.csv', 'r') as f:\n",
    "    f_csv = csv.reader(f)\n",
    "    headers = next(f_csv)\n",
    "    headers = [re.sub('[^a-zA-Z_]', '_', h) for h in headers]\n",
    "    tup = namedtuple('Row', headers)\n",
    "    for r in f_csv:\n",
    "        row = tuple(convert(value) for convert, value in zip(col_type, r))\n",
    "        row = tup(*row)\n",
    "        print(row)\n",
    "        "
   ]
  },
  {
   "cell_type": "code",
   "execution_count": 14,
   "metadata": {},
   "outputs": [],
   "source": [
    "\n",
    "# for function related to Data Science pandas.read_csv() is preferred "
   ]
  }
 ],
 "metadata": {
  "kernelspec": {
   "display_name": "Python 3.10.4 64-bit",
   "language": "python",
   "name": "python3"
  },
  "language_info": {
   "codemirror_mode": {
    "name": "ipython",
    "version": 3
   },
   "file_extension": ".py",
   "mimetype": "text/x-python",
   "name": "python",
   "nbconvert_exporter": "python",
   "pygments_lexer": "ipython3",
   "version": "3.10.4"
  },
  "orig_nbformat": 4,
  "vscode": {
   "interpreter": {
    "hash": "916dbcbb3f70747c44a77c7bcd40155683ae19c65e1c03b4aa3499c5328201f1"
   }
  }
 },
 "nbformat": 4,
 "nbformat_minor": 2
}
