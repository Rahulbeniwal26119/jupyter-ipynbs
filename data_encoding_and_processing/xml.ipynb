{
 "cells": [
  {
   "cell_type": "code",
   "execution_count": 1,
   "metadata": {},
   "outputs": [],
   "source": [
    "from urllib.request import urlopen\n",
    "from xml.etree.ElementTree import parse \n",
    "\n",
    "# Download the RSS Feed \n",
    "u = urlopen('http://planet.python.org/rss20.xml')\n",
    "doc = parse(u)"
   ]
  },
  {
   "cell_type": "code",
   "execution_count": 15,
   "metadata": {},
   "outputs": [
    {
     "data": {
      "text/plain": [
       "'https://planetpython.org/rss20.xml'"
      ]
     },
     "execution_count": 15,
     "metadata": {},
     "output_type": "execute_result"
    }
   ],
   "source": [
    "u.url"
   ]
  },
  {
   "cell_type": "code",
   "execution_count": 16,
   "metadata": {},
   "outputs": [
    {
     "name": "stdout",
     "output_type": "stream",
     "text": [
      "Python for Beginners: How to Use Python Split Function\n",
      "Mon, 29 Aug 2022 13:00:00 +0000\n",
      "https://www.pythonforbeginners.com/strings/how-to-use-python-split-function\n",
      "\n",
      "IslandT: The upgrade version of my music player\n",
      "Mon, 29 Aug 2022 09:17:24 +0000\n",
      "https://islandtropicaman.com/wp/2022/08/29/the-upgrade-version-of-my-music-player/\n",
      "\n",
      "Podcast.__init__: Ship With Confidence By Automating Quality Assurance\n",
      "Sun, 28 Aug 2022 20:23:35 +0000\n",
      "https://www.pythonpodcast.com/keysight-quality-assurance-automation-episode-375/\n",
      "\n",
      "Marc Richter: Heroku’s attempt to scare away users and its impact on my Heroku-Fanboy position\n",
      "Sun, 28 Aug 2022 19:23:30 +0000\n",
      "https://www.marc-richter.info/herokus-attempt-to-scare-away-users-and-its-impact-on-my-heroku-fanboy-position/\n",
      "\n",
      "Matthew Wright: Don’t append rows to a pandas DataFrame\n",
      "Sun, 28 Aug 2022 19:00:25 +0000\n",
      "https://www.wrighters.io/dont-append-rows-to-a-pandas-dataframe/\n",
      "\n"
     ]
    }
   ],
   "source": [
    "res = 0\n",
    "for item in doc.iterfind('channel/item'):\n",
    "    title = item.findtext('title')\n",
    "    date = item.findtext('pubDate')\n",
    "    link = item.findtext(\"link\")\n",
    "    \n",
    "    print(title)\n",
    "    print(date)\n",
    "    print(link)\n",
    "    print()\n",
    "    res += 1\n",
    "    if res >= 5:\n",
    "        break\n",
    "    "
   ]
  },
  {
   "cell_type": "code",
   "execution_count": 19,
   "metadata": {},
   "outputs": [],
   "source": [
    "e = doc.find('channel/title')"
   ]
  },
  {
   "cell_type": "code",
   "execution_count": 23,
   "metadata": {},
   "outputs": [
    {
     "data": {
      "text/plain": [
       "('title', 'Planet Python', {})"
      ]
     },
     "execution_count": 23,
     "metadata": {},
     "output_type": "execute_result"
    }
   ],
   "source": [
    "e.tag, e.text, e.attrib"
   ]
  },
  {
   "cell_type": "markdown",
   "metadata": {},
   "source": [
    "##### Parsing Huge XML"
   ]
  },
  {
   "cell_type": "code",
   "execution_count": 24,
   "metadata": {},
   "outputs": [],
   "source": [
    "from xml.etree.ElementTree import iterparse\n",
    "\n",
    "# recipie for reading child from a parent element\n",
    "# tag/tag\n",
    "def parse_and_remove(filename, path):\n",
    "    path_parts = path.split('/')\n",
    "    doc = iterparse(filename, ('start', 'end'))\n",
    "    \n",
    "    # skip the root element \n",
    "    root_element = next(doc)\n",
    "    print(root_element)\n",
    "    \n",
    "    tag_stack = []\n",
    "    element_stack = []\n",
    "    \n",
    "    for event, elem in doc:\n",
    "        if event == 'start':\n",
    "            tag_stack.append(elem.tag)\n",
    "            element_stack.append(elem)\n",
    "        elif event == 'end':\n",
    "            if tag_stack == path_parts:\n",
    "                yield elem\n",
    "                element_stack[-2].remove(elem) # remove the previously added element from the parent element\n",
    "            try:\n",
    "                tag_stack.pop()\n",
    "                element_stack.pop()\n",
    "            except Exception as e:\n",
    "                pass\n",
    "                \n",
    "    "
   ]
  },
  {
   "cell_type": "markdown",
   "metadata": {},
   "source": [
    "##### Turing a dict to XML "
   ]
  },
  {
   "cell_type": "code",
   "execution_count": 28,
   "metadata": {},
   "outputs": [],
   "source": [
    "from xml.etree.ElementTree import Element\n",
    "\n",
    "def dict_to_xml(tag, d):\n",
    "    element = Element(tag)\n",
    "    for key, val in d.items():\n",
    "        child = Element(key)\n",
    "        child.text = str(val)\n",
    "        element.append(child)\n",
    "    return element"
   ]
  },
  {
   "cell_type": "code",
   "execution_count": 35,
   "metadata": {},
   "outputs": [
    {
     "data": {
      "text/plain": [
       "b'<stock><name>GOOG</name><shares>100</shares><price>490.1</price></stock>'"
      ]
     },
     "execution_count": 35,
     "metadata": {},
     "output_type": "execute_result"
    }
   ],
   "source": [
    "from xml.etree.ElementTree import tostring \n",
    "from collections import OrderedDict\n",
    "# use OrderedDict to preserve the order of the keys\n",
    "s = {'name': \"GOOG\", \"shares\": 100, \"price\": 490.1}\n",
    "s = OrderedDict(s)\n",
    "e = dict_to_xml('stock', s)\n",
    "tostring(e)"
   ]
  },
  {
   "cell_type": "code",
   "execution_count": 36,
   "metadata": {},
   "outputs": [
    {
     "data": {
      "text/plain": [
       "b'<stock _id=\"1234\"><name>GOOG</name><shares>100</shares><price>490.1</price></stock>'"
      ]
     },
     "execution_count": 36,
     "metadata": {},
     "output_type": "execute_result"
    }
   ],
   "source": [
    "# set attribute \n",
    "e.set('_id', '1234')\n",
    "tostring(e)"
   ]
  },
  {
   "cell_type": "code",
   "execution_count": 38,
   "metadata": {},
   "outputs": [
    {
     "name": "stdout",
     "output_type": "stream",
     "text": [
      "&lt;tab&gt;\n"
     ]
    },
    {
     "ename": "TypeError",
     "evalue": "a bytes-like object is required, not 'str'",
     "output_type": "error",
     "traceback": [
      "\u001b[0;31m---------------------------------------------------------------------------\u001b[0m",
      "\u001b[0;31mTypeError\u001b[0m                                 Traceback (most recent call last)",
      "\u001b[1;32m/home/rahulbeniwal/personal/jupyter-ipynbs/data_encoding_and_processing/xml.ipynb Cell 12\u001b[0m in \u001b[0;36m<cell line: 3>\u001b[0;34m()\u001b[0m\n\u001b[1;32m      <a href='vscode-notebook-cell:/home/rahulbeniwal/personal/jupyter-ipynbs/data_encoding_and_processing/xml.ipynb#X21sZmlsZQ%3D%3D?line=0'>1</a>\u001b[0m \u001b[39mfrom\u001b[39;00m \u001b[39mxml\u001b[39;00m\u001b[39m.\u001b[39;00m\u001b[39msax\u001b[39;00m\u001b[39m.\u001b[39;00m\u001b[39msaxutils\u001b[39;00m \u001b[39mimport\u001b[39;00m escape, unescape\n\u001b[1;32m      <a href='vscode-notebook-cell:/home/rahulbeniwal/personal/jupyter-ipynbs/data_encoding_and_processing/xml.ipynb#X21sZmlsZQ%3D%3D?line=1'>2</a>\u001b[0m \u001b[39mprint\u001b[39m(escape(\u001b[39m'\u001b[39m\u001b[39m<tab>\u001b[39m\u001b[39m'\u001b[39m))\n\u001b[0;32m----> <a href='vscode-notebook-cell:/home/rahulbeniwal/personal/jupyter-ipynbs/data_encoding_and_processing/xml.ipynb#X21sZmlsZQ%3D%3D?line=2'>3</a>\u001b[0m \u001b[39mprint\u001b[39m(unescape(_))\n",
      "File \u001b[0;32m/usr/lib/python3.10/xml/sax/saxutils.py:41\u001b[0m, in \u001b[0;36munescape\u001b[0;34m(data, entities)\u001b[0m\n\u001b[1;32m     34\u001b[0m \u001b[39mdef\u001b[39;00m \u001b[39munescape\u001b[39m(data, entities\u001b[39m=\u001b[39m{}):\n\u001b[1;32m     35\u001b[0m     \u001b[39m\"\"\"Unescape &amp;, &lt;, and &gt; in a string of data.\u001b[39;00m\n\u001b[1;32m     36\u001b[0m \n\u001b[1;32m     37\u001b[0m \u001b[39m    You can unescape other strings of data by passing a dictionary as\u001b[39;00m\n\u001b[1;32m     38\u001b[0m \u001b[39m    the optional entities parameter.  The keys and values must all be\u001b[39;00m\n\u001b[1;32m     39\u001b[0m \u001b[39m    strings; each key will be replaced with its corresponding value.\u001b[39;00m\n\u001b[1;32m     40\u001b[0m \u001b[39m    \"\"\"\u001b[39;00m\n\u001b[0;32m---> 41\u001b[0m     data \u001b[39m=\u001b[39m data\u001b[39m.\u001b[39;49mreplace(\u001b[39m\"\u001b[39;49m\u001b[39m&lt;\u001b[39;49m\u001b[39m\"\u001b[39;49m, \u001b[39m\"\u001b[39;49m\u001b[39m<\u001b[39;49m\u001b[39m\"\u001b[39;49m)\n\u001b[1;32m     42\u001b[0m     data \u001b[39m=\u001b[39m data\u001b[39m.\u001b[39mreplace(\u001b[39m\"\u001b[39m\u001b[39m&gt;\u001b[39m\u001b[39m\"\u001b[39m, \u001b[39m\"\u001b[39m\u001b[39m>\u001b[39m\u001b[39m\"\u001b[39m)\n\u001b[1;32m     43\u001b[0m     \u001b[39mif\u001b[39;00m entities:\n",
      "\u001b[0;31mTypeError\u001b[0m: a bytes-like object is required, not 'str'"
     ]
    }
   ],
   "source": [
    "from xml.sax.saxutils import escape, unescape\n",
    "print(escape('<tab>'))\n",
    "print(unescape(_))"
   ]
  }
 ],
 "metadata": {
  "kernelspec": {
   "display_name": "Python 3.10.4 64-bit",
   "language": "python",
   "name": "python3"
  },
  "language_info": {
   "codemirror_mode": {
    "name": "ipython",
    "version": 3
   },
   "file_extension": ".py",
   "mimetype": "text/x-python",
   "name": "python",
   "nbconvert_exporter": "python",
   "pygments_lexer": "ipython3",
   "version": "3.10.4"
  },
  "orig_nbformat": 4,
  "vscode": {
   "interpreter": {
    "hash": "916dbcbb3f70747c44a77c7bcd40155683ae19c65e1c03b4aa3499c5328201f1"
   }
  }
 },
 "nbformat": 4,
 "nbformat_minor": 2
}
