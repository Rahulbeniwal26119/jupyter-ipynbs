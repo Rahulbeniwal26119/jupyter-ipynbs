{
 "cells": [
  {
   "cell_type": "code",
   "execution_count": null,
   "metadata": {},
   "outputs": [],
   "source": [
    "import json \n",
    "\n",
    "data = {\n",
    "    'name' : 'ACME',\n",
    "    'shares' : 100,\n",
    "    'price': 542.3\n",
    "}\n",
    "\n",
    "json_str = json.dumps(data)\n",
    "json.loads(json_str)"
   ]
  },
  {
   "cell_type": "code",
   "execution_count": null,
   "metadata": {},
   "outputs": [],
   "source": [
    "with open(\"data.json\", 'w') as f:\n",
    "    json.dump(data, f)"
   ]
  },
  {
   "cell_type": "code",
   "execution_count": null,
   "metadata": {},
   "outputs": [],
   "source": [
    "with open('data.json', 'r') as f:\n",
    "    print(json.load(f))"
   ]
  },
  {
   "cell_type": "code",
   "execution_count": null,
   "metadata": {},
   "outputs": [],
   "source": [
    "json.dumps(False), json.dumps(True), json.dumps(None)"
   ]
  },
  {
   "cell_type": "code",
   "execution_count": null,
   "metadata": {},
   "outputs": [],
   "source": [
    "from http.client import ResponseNotReady\n",
    "from pprint import pprint\n",
    "\n",
    "\n",
    "response = {'completed_in': 0.074,\n",
    "'max_id': 264043230692245504,\n",
    "'max_id_str': '264043230692245504',\n",
    "'next_page': '?page=2&max_id=264043230692245504&q=python&rpp=5',\n",
    "'page': 1,\n",
    "'query': 'python',\n",
    "'refresh_url': '?since_id=264043230692245504&q=python',\n",
    "'results': [\n",
    "{'created_at': 'Thu, 01 Nov 2012 16:36:26 +0000'},\n",
    "{'created_at': 'Thu, 01 Nov 2012 16:36:14 +0000'},\n",
    "{'created_at': 'Thu, 01 Nov 2012 16:36:13 +0000'},\n",
    "{'created_at': 'Thu, 01 Nov 2012 16:36:07 +0000'},\n",
    "{'created_at': 'Thu, 01 Nov 2012 16:36:04 +0000'}\n",
    "]\n",
    "}\n",
    "pprint(response) # beautify the response "
   ]
  },
  {
   "cell_type": "code",
   "execution_count": null,
   "metadata": {},
   "outputs": [],
   "source": [
    "from collections import OrderedDict\n",
    "class JSONObject:\n",
    "    def __init__(self, d):\n",
    "        self.__dict__ = d \n",
    "        \n",
    "dumpped = json.dumps(response)\n",
    "data_ordered = json.loads(dumpped, object_hook=OrderedDict)\n",
    "data_obj = json.loads(dumpped, object_hook=JSONObject)\n",
    "print(data_ordered)\n",
    "print(data_obj.page)"
   ]
  },
  {
   "cell_type": "code",
   "execution_count": null,
   "metadata": {},
   "outputs": [],
   "source": [
    "print(json.dumps(response))\n",
    "print(json.dumps(response, indent=4)) # indent compell to show beaurify result "
   ]
  },
  {
   "cell_type": "code",
   "execution_count": null,
   "metadata": {},
   "outputs": [],
   "source": [
    "print(json.dumps(response, indent=4, sort_keys=True))"
   ]
  },
  {
   "cell_type": "code",
   "execution_count": 68,
   "metadata": {},
   "outputs": [
    {
     "data": {
      "text/plain": [
       "<__main__.Point at 0x7feb2c7ebf40>"
      ]
     },
     "execution_count": 68,
     "metadata": {},
     "output_type": "execute_result"
    }
   ],
   "source": [
    "class Point:\n",
    "    def __init__(self, x, y):\n",
    "        self.x = x \n",
    "        self.y = y \n",
    "    \n",
    "    # def __repr__(self) -> str:\n",
    "    #     return f\"x : {self.x}, y : {self.y}\"\n",
    "p = Point(2,3)\n",
    "p "
   ]
  },
  {
   "cell_type": "code",
   "execution_count": 77,
   "metadata": {},
   "outputs": [],
   "source": [
    "p = Point.__new__(Point)\n",
    "\n",
    "# new is called before init "
   ]
  },
  {
   "cell_type": "code",
   "execution_count": 64,
   "metadata": {},
   "outputs": [
    {
     "data": {
      "text/plain": [
       "{'__classname__': 'Point', 'x': 2, 'y': 3}"
      ]
     },
     "execution_count": 64,
     "metadata": {},
     "output_type": "execute_result"
    }
   ],
   "source": [
    "def serialize_instance(obj):\n",
    "    d = {'__classname__' : type(obj).__name__}\n",
    "    d.update(vars(obj))\n",
    "    return d \n",
    "\n",
    "serialize_instance(p)"
   ]
  },
  {
   "cell_type": "code",
   "execution_count": 73,
   "metadata": {},
   "outputs": [],
   "source": [
    "classes = {\n",
    "    'Point': Point\n",
    "}\n",
    "\n",
    "def unserialize_obj(d):\n",
    "    clsname = d.pop('__classname__', None)\n",
    "    if clsname:\n",
    "        cls = classes[clsname]\n",
    "        obj = cls.__new__(cls)\n",
    "        for key, value in d.items():\n",
    "            setattr(obj, key, value)\n",
    "            return obj \n",
    "    else:\n",
    "        return d \n",
    "        "
   ]
  },
  {
   "cell_type": "code",
   "execution_count": 76,
   "metadata": {},
   "outputs": [
    {
     "name": "stdout",
     "output_type": "stream",
     "text": [
      "{\"__classname__\": \"Point\", \"x\": 2, \"y\": 3}\n",
      "2\n"
     ]
    }
   ],
   "source": [
    "p = Point(2, 3)\n",
    "s = json.dumps(p, default=serialize_instance)\n",
    "print(s)\n",
    "new_p = json.loads(s, object_hook=unserialize_obj)\n",
    "print(new_p.x)"
   ]
  },
  {
   "cell_type": "code",
   "execution_count": null,
   "metadata": {},
   "outputs": [],
   "source": []
  }
 ],
 "metadata": {
  "kernelspec": {
   "display_name": "Python 3.10.4 64-bit",
   "language": "python",
   "name": "python3"
  },
  "language_info": {
   "codemirror_mode": {
    "name": "ipython",
    "version": 3
   },
   "file_extension": ".py",
   "mimetype": "text/x-python",
   "name": "python",
   "nbconvert_exporter": "python",
   "pygments_lexer": "ipython3",
   "version": "3.10.4"
  },
  "orig_nbformat": 4,
  "vscode": {
   "interpreter": {
    "hash": "916dbcbb3f70747c44a77c7bcd40155683ae19c65e1c03b4aa3499c5328201f1"
   }
  }
 },
 "nbformat": 4,
 "nbformat_minor": 2
}
