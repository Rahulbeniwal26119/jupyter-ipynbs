{
 "cells": [
  {
   "cell_type": "code",
   "execution_count": 4,
   "metadata": {},
   "outputs": [
    {
     "name": "stdout",
     "output_type": "stream",
     "text": [
      "Loading Normal Class\n",
      "Done Loading \n",
      "eggs\n"
     ]
    }
   ],
   "source": [
    "class NormalClass:\n",
    "    print(\"Loading Normal Class\")\n",
    "    spam = \"eggs\"\n",
    "    print(\"Done Loading \")\n",
    "\n",
    "\n",
    "nco = NormalClass()\n",
    "print(nco.spam)"
   ]
  },
  {
   "cell_type": "code",
   "execution_count": 8,
   "metadata": {},
   "outputs": [
    {
     "name": "stdout",
     "output_type": "stream",
     "text": [
      "eggs\n"
     ]
    }
   ],
   "source": [
    "DynamicClass = type(\"DyanmicClass\", (object,), {\"spam\": \"eggs\"})\n",
    "dco = DynamicClass()\n",
    "print(dco.spam)"
   ]
  },
  {
   "cell_type": "code",
   "execution_count": 4,
   "metadata": {
    "ExecuteTime": {
     "end_time": "2023-10-12T02:04:52.054735770Z",
     "start_time": "2023-10-12T02:04:52.041038750Z"
    }
   },
   "outputs": [
    {
     "name": "stdout",
     "output_type": "stream",
     "text": [
      "Loading Real Class\n",
      "10\n",
      "Done Loading \n",
      "Defining <class '__main__.RealClass'>\n",
      "Name: RealClass\n",
      "Attrs: {'__module__': '__main__', '__qualname__': 'RealClass', 'spam': 'eggs', '__init__': <function RealClass.__init__ at 0x7fd38c5c5940>, 'fn': <function RealClass.fn at 0x7fd38c5c6160>, 'f': <function RealClass.<lambda> at 0x7fd38c5c5a80>}\n",
      "Name: __module__ Value: __main__\n",
      "Name: __qualname__ Value: RealClass\n",
      "Name: spam Value: eggs\n",
      "Name: __init__ Value: <function RealClass.__init__ at 0x7fd38c5c5940>\n",
      "Name: fn Value: <function RealClass.fn at 0x7fd38c5c6160>\n",
      "Name: f Value: <function RealClass.<lambda> at 0x7fd38c5c5a80>\n"
     ]
    }
   ],
   "source": [
    "class Metaclass(type):\n",
    "    def __init__(cls, name, bases, attrs):\n",
    "        print(\"Defining %s\" % cls)\n",
    "        print(\"Name: %s\" % name)\n",
    "        # print(f\"Base: {bases}\")\n",
    "        print(\"Attrs: %s\" % attrs)\n",
    "        for (name, value) in attrs.items():\n",
    "            # if name.startswith(\"__\"):\n",
    "            #     continue\n",
    "            print(\"Name: %s\" % name, \"Value: %s\" % value)\n",
    "        super(Metaclass, cls).__init__(name, bases, attrs)\n",
    "    \n",
    "class RealClass(metaclass=Metaclass):\n",
    "    print(\"Loading Real Class\")\n",
    "    spam = \"eggs\"\n",
    "    \n",
    "    def fn(self):\n",
    "        print(self.spam)\n",
    "    \n",
    "    print(\"Done Loading \")\n",
    "\n",
    "\n",
    "# class SubClass(RealClass):\n",
    "#     print(\"Loading Sub Class\")\n",
    "#     spam = \"ham\"\n",
    "#     print(\"Done Loading \")\n",
    "# \n",
    "# sc = SubClass()\n",
    "# sc.fn()"
   ]
  },
  {
   "cell_type": "code",
   "execution_count": 12,
   "metadata": {},
   "outputs": [],
   "source": [
    "class BaseAttribute:\n",
    "    creation_counter = 1\n",
    "\n",
    "    def __init__(self):\n",
    "        self.creation_counter = BaseAttribute.creation_counter\n",
    "        BaseAttribute.creation_counter += 1"
   ]
  },
  {
   "cell_type": "code",
   "execution_count": 14,
   "metadata": {},
   "outputs": [
    {
     "name": "stdout",
     "output_type": "stream",
     "text": [
      "3 4 5\n"
     ]
    }
   ],
   "source": [
    "c = BaseAttribute()\n",
    "d = BaseAttribute()\n",
    "\n",
    "print(c.creation_counter, d.creation_counter, BaseAttribute.creation_counter)"
   ]
  },
  {
   "cell_type": "code",
   "execution_count": 16,
   "metadata": {},
   "outputs": [
    {
     "data": {
      "text/plain": [
       "True"
      ]
     },
     "execution_count": 16,
     "metadata": {},
     "output_type": "execute_result"
    }
   ],
   "source": [
    "class Multiplyer(object):\n",
    "    def __init__(self, factor):\n",
    "        self.factor = factor\n",
    "    \n",
    "    def __call__(self, value):\n",
    "        return value * self.factor\n",
    "\n",
    "times2 = Multiplyer(2)\n",
    "times2(5)\n",
    "callable(times2)"
   ]
  },
  {
   "cell_type": "code",
   "execution_count": 1,
   "metadata": {},
   "outputs": [
    {
     "name": "stdout",
     "output_type": "stream",
     "text": [
      "World\n",
      "World\n",
      "World\n"
     ]
    }
   ],
   "source": [
    "class MyDict(dict):\n",
    "    def __init__(self, **kwargs):\n",
    "        for key, value in kwargs.items():\n",
    "            self[key.lower()] = value\n",
    "    \n",
    "    def __contains__(self, key):\n",
    "        return super(MyDict, self).__contains__(key.lower())\n",
    "    \n",
    "    def __getitem__(self, __key):\n",
    "        return super().__getitem__(__key.lower())\n",
    "    \n",
    "    def __setitem__(self, __key, __value):\n",
    "        super().__setitem__(__key.lower(), __value)\n",
    "\n",
    "d = MyDict(Hello=\"World\", Foo=\"Bar\")\n",
    "print(d[\"hello\"])\n",
    "print(d[\"Hello\"])\n",
    "print(d[\"HEllo\"])"
   ]
  },
  {
   "cell_type": "code",
   "execution_count": 32,
   "metadata": {},
   "outputs": [
    {
     "name": "stdout",
     "output_type": "stream",
     "text": [
      "0\n",
      "1\n",
      "1\n",
      "2\n",
      "3\n",
      "5\n",
      "8\n",
      "13\n",
      "21\n",
      "34\n"
     ]
    }
   ],
   "source": [
    "class Fibonacci:\n",
    "    def __init__(self, count):\n",
    "        self.count = count\n",
    "    \n",
    "    def __iter__(self):\n",
    "        a, b = 0, 1\n",
    "        for x in range(self.count):\n",
    "            if x in [0, 1]:\n",
    "                yield x\n",
    "            else:\n",
    "                c = a + b\n",
    "                a = b\n",
    "                b = c\n",
    "                yield c\n",
    "\n",
    "for x in Fibonacci(10):\n",
    "    print(x)"
   ]
  },
  {
   "cell_type": "code",
   "execution_count": 40,
   "metadata": {},
   "outputs": [
    {
     "name": "stdout",
     "output_type": "stream",
     "text": [
      "0\n",
      "1\n",
      "1\n",
      "2\n",
      "3\n",
      "5\n",
      "8\n",
      "13\n",
      "21\n",
      "34\n",
      "55\n"
     ]
    }
   ],
   "source": [
    "class FibIterator:\n",
    "    def __init__(self, count):\n",
    "        self.a = 0 \n",
    "        self.b = 1 \n",
    "        self.count = count\n",
    "        self.current = -1\n",
    "    \n",
    "    def __next__(self):\n",
    "        self.current += 1\n",
    "        if self.current > self.count:\n",
    "            raise StopIteration\n",
    "        if self.current in [0, 1]:\n",
    "            return self.current\n",
    "        else:\n",
    "            c = self.a + self.b\n",
    "            self.a = self.b\n",
    "            self.b = c\n",
    "            return c\n",
    "\n",
    "    next = __next__\n",
    "\n",
    "class Fibonacci:\n",
    "    def __init__(self, count):\n",
    "        self.count = count\n",
    "    \n",
    "    def __iter__(self):\n",
    "        return FibIterator(self.count)\n",
    "\n",
    "for x in Fibonacci(10):\n",
    "    print(x)"
   ]
  },
  {
   "cell_type": "code",
   "execution_count": 46,
   "metadata": {},
   "outputs": [
    {
     "name": "stdout",
     "output_type": "stream",
     "text": [
      "0\n",
      "4\n",
      "16\n",
      "36\n",
      "64\n"
     ]
    }
   ],
   "source": [
    "class MySeq:\n",
    "    def __getitem__(self, index):\n",
    "        if isinstance(index, int):\n",
    "            return index ** 2\n",
    "        elif isinstance(index, slice):\n",
    "            start = index.start or 0\n",
    "            stop = index.stop\n",
    "            step = index.step or 1\n",
    "            return [x ** 2 for x in range(start, stop, step)]\n",
    "\n",
    "s = MySeq()\n",
    "for c in range(10):\n",
    "    print(s[c])"
   ]
  },
  {
   "cell_type": "code",
   "execution_count": 34,
   "metadata": {},
   "outputs": [
    {
     "name": "stdout",
     "output_type": "stream",
     "text": [
      "func inside None None\n",
      "func <function test at 0x7fdfdc6ef4c0>\n",
      "Decorated 3\n"
     ]
    }
   ],
   "source": [
    "def decorate(func=None, prefix=\"Decorated\"):\n",
    "    def decorated(func):\n",
    "        print(\"func\", func)\n",
    "\n",
    "        def wrapper(*args, **kwargs):\n",
    "            print(prefix, func(*args, **kwargs))\n",
    "        return wrapper\n",
    "    if func is None:\n",
    "        print(\"func inside None\", func)\n",
    "        def decorator(func):\n",
    "            return decorated(func)\n",
    "        return decorator\n",
    "    print(func)\n",
    "    return decorated(func)\n",
    "\n",
    "@decorate()\n",
    "def test(a, b):\n",
    "    return a+b\n",
    "\n",
    "# test = decorate(test)\n",
    "\n",
    "test(1, 2)"
   ]
  },
  {
   "cell_type": "code",
   "execution_count": 18,
   "metadata": {},
   "outputs": [
    {
     "name": "stdout",
     "output_type": "stream",
     "text": [
      "ValueValue 30\n",
      "ValueValueValueValue 410\n"
     ]
    }
   ],
   "source": [
    "import functools\n",
    "test = functools.partial(test, 10)\n",
    "test(20)\n",
    "test(400)"
   ]
  },
  {
   "cell_type": "code",
   "execution_count": 68,
   "metadata": {},
   "outputs": [
    {
     "data": {
      "text/plain": [
       "'ArithmeticError'"
      ]
     },
     "execution_count": 68,
     "metadata": {},
     "output_type": "execute_result"
    }
   ],
   "source": [
    "import datetime\n",
    "\n",
    "class CurrentDateField:\n",
    "    def __get__(self, instance, owner):\n",
    "        if not instance:\n",
    "            raise AttributeError(\"Cannot access the current date from the class\")\n",
    "        return datetime.datetime.today()\n",
    "    def __set__(self, instance, value):\n",
    "        raise NotImplementedError(\"Cannot change the current date\")\n",
    "\n",
    "\n",
    "class IntegetField:\n",
    "    def __init__(self, default=None):\n",
    "        self.default = default\n",
    "    \n",
    "    def __get__(self, instance, owner):\n",
    "        # get all the instance of the object\n",
    "        print(instance.__dict__)\n",
    "        return self.default\n",
    "    \n",
    "    def __set__(self, instance, value):\n",
    "        self.default = value\n",
    "\n",
    "\n",
    "class Person:\n",
    "    current_date = CurrentDateField()\n",
    "    age = IntegetField(default=100)\n",
    "\n",
    "p = Person()\n",
    "Person.module = \"ArithmeticError\"\n",
    "p.__class__.module"
   ]
  },
  {
   "cell_type": "code",
   "execution_count": 69,
   "metadata": {},
   "outputs": [
    {
     "name": "stdout",
     "output_type": "stream",
     "text": [
      "<class '__main__.AClass'>\n",
      "<class 'str'>\n"
     ]
    }
   ],
   "source": [
    "AC = type('AClass', (object,), {'spam': 'eggs'})\n",
    "print(AC)\n",
    "print(type(\"String\"))"
   ]
  },
  {
   "cell_type": "code",
   "execution_count": 83,
   "metadata": {},
   "outputs": [
    {
     "data": {
      "text/plain": [
       "False"
      ]
     },
     "execution_count": 83,
     "metadata": {},
     "output_type": "execute_result"
    }
   ],
   "source": [
    "import inspect\n",
    "\n",
    "def get_defaults(func):\n",
    "    args, varargs, varkw, default, *_ = inspect.getfullargspec(func)\n",
    "    index = len(args) - len(default)\n",
    "    return dict(zip(args[index:], default))\n",
    "\n",
    "\n",
    "def test(a, b, c=10, d=20, *args, **kwargs):\n",
    "    \"\"\"\n",
    "    Useless function\n",
    "    arg\n",
    "        The argument to be processed\n",
    "    \"\"\"\n",
    "    pass\n",
    "\n",
    "get_defaults(test)\n",
    "test.__doc__ == inspect.getdoc(test)"
   ]
  },
  {
   "cell_type": "code",
   "execution_count": 85,
   "metadata": {},
   "outputs": [
    {
     "name": "stdout",
     "output_type": "stream",
     "text": [
      "<class '__main__.TrackedClass'> TrackedClass () {'__module__': '__main__', '__qualname__': 'TrackedClass', '_registry': []}\n",
      "<class '__main__.ClassOne'> ClassOne (<class '__main__.TrackedClass'>,) {'__module__': '__main__', '__qualname__': 'ClassOne'}\n"
     ]
    },
    {
     "data": {
      "text/plain": [
       "[__main__.ClassOne]"
      ]
     },
     "execution_count": 85,
     "metadata": {},
     "output_type": "execute_result"
    }
   ],
   "source": [
    "class SubClassTracker(type):\n",
    "    def __init__(cls, name, bases, attrs):\n",
    "        print(cls, name, bases, attrs)\n",
    "        try:\n",
    "            if TrackedClass not in bases:\n",
    "                return\n",
    "        except NameError:\n",
    "            return \n",
    "        TrackedClass._registry.append(cls)\n",
    "\n",
    "class TrackedClass(metaclass=SubClassTracker):\n",
    "    _registry = []\n",
    "\n",
    "class ClassOne(TrackedClass):\n",
    "    pass \n",
    "\n",
    "TrackedClass._registry\n"
   ]
  },
  {
   "cell_type": "code",
   "execution_count": 8,
   "metadata": {
    "ExecuteTime": {
     "end_time": "2023-10-12T02:10:48.968666137Z",
     "start_time": "2023-10-12T02:10:48.961811206Z"
    }
   },
   "outputs": [
    {
     "name": "stdout",
     "output_type": "stream",
     "text": [
      "[1, 2, 4, 20]\n",
      "[100, 50, 32, 20]\n"
     ]
    }
   ],
   "source": [
    "import heapq\n",
    "\n",
    "numbers = [1, 4, 2, 100, 20, 50, 32]\n",
    "four_smallest_nums = heapq.nsmallest(4, numbers)\n",
    "print(four_smallest_nums)\n",
    "\n",
    "four_largest = heapq.nlargest(4, numbers)\n",
    "print(four_largest)\n",
    "\n",
    "# [1, 2, 4, 20]\n",
    "# [100, 50, 32, 20]"
   ]
  },
  {
   "cell_type": "code",
   "execution_count": null,
   "metadata": {},
   "outputs": [],
   "source": []
  }
 ],
 "metadata": {
  "kernelspec": {
   "display_name": "Python 3",
   "language": "python",
   "name": "python3"
  },
  "language_info": {
   "codemirror_mode": {
    "name": "ipython",
    "version": 3
   },
   "file_extension": ".py",
   "mimetype": "text/x-python",
   "name": "python",
   "nbconvert_exporter": "python",
   "pygments_lexer": "ipython3",
   "version": "3.10.12"
  },
  "orig_nbformat": 4,
  "vscode": {
   "interpreter": {
    "hash": "930379a8b39fc407f21aba7d78a18ad6c0dff7af07878b7bb9289a4858cd86cf"
   }
  }
 },
 "nbformat": 4,
 "nbformat_minor": 2
}
