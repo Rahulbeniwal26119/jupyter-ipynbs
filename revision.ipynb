{
 "cells": [
  {
   "cell_type": "code",
   "execution_count": 2,
   "metadata": {},
   "outputs": [
    {
     "name": "stdout",
     "output_type": "stream",
     "text": [
      "11\n",
      "True\n"
     ]
    }
   ],
   "source": [
    "class ToDictMixin:\n",
    "    def to_dict(self):\n",
    "        return self._traverse_dict(self.__dict__)\n",
    "\n",
    "    def _traverse_dict(self, instance_dict:dict):\n",
    "        response = {}\n",
    "        for key, value in instance_dict.items():\n",
    "            response[key] = self._traverse(key, value)\n",
    "        return response\n",
    "\n",
    "    def _traverse(self, key, value):\n",
    "        if isinstance(value, ToDictMixin):\n",
    "            return value.to_dict()\n",
    "        elif isinstance(value, dict):\n",
    "            return self._traverse_dict(value)\n",
    "        elif hasattr(value, '__dict__'):\n",
    "            return self._traverse_dict(value.__dict__)\n",
    "        elif isinstance(value, list):\n",
    "            return [self._traverse(key, i) for i in value]\n",
    "        else:\n",
    "            return value\n",
    "\n",
    "from dataclasses import dataclass\n",
    "\n",
    "@dataclass\n",
    "class BinaryTree(ToDictMixin):\n",
    "    value: object\n",
    "    left: 'BinaryTree' = None\n",
    "    right: 'BinaryTree' = None\n",
    "\n",
    "class IndexableNode(BinaryTree):\n",
    "    def _traverse(self):\n",
    "        if self.left:\n",
    "            yield from self.left._traverse()\n",
    "        yield self\n",
    "        if self.right:\n",
    "            yield from self.right._traverse()\n",
    "\n",
    "    def __getitem__(self, index):\n",
    "        for i, item in enumerate(self._traverse()):\n",
    "            if index == i:\n",
    "                return item.value\n",
    "        raise Exception(\"Index Error Tree has less elements\")\n",
    "\n",
    "class SequenceNode(IndexableNode):\n",
    "    def __len__(self):\n",
    "        for count, _ in enumerate(self._traverse(), 1):\n",
    "            pass \n",
    "        return count\n",
    "\n",
    " \n",
    "tree = IndexableNode(10, IndexableNode(7, right=IndexableNode(9)), IndexableNode(13, left=IndexableNode(11)))\n",
    "print(tree[3])\n",
    "print(11 in tree)"
   ]
  },
  {
   "cell_type": "code",
   "execution_count": null,
   "metadata": {},
   "outputs": [],
   "source": []
  },
  {
   "cell_type": "code",
   "execution_count": 2,
   "metadata": {},
   "outputs": [
    {
     "name": "stdout",
     "output_type": "stream",
     "text": [
      "{ 'left': { 'left': None,\n",
      "            'parent': 10,\n",
      "            'right': { 'left': None,\n",
      "                       'parent': 7,\n",
      "                       'right': None,\n",
      "                       'value': 9},\n",
      "            'value': 7},\n",
      "  'parent': None,\n",
      "  'right': { 'left': { 'left': None,\n",
      "                       'parent': 13,\n",
      "                       'right': None,\n",
      "                       'value': 11},\n",
      "             'parent': 10,\n",
      "             'right': None,\n",
      "             'value': 13},\n",
      "  'value': 10}\n"
     ]
    }
   ],
   "source": [
    "from pprint import pprint\n",
    "\n",
    "\n",
    "class BinaryTreeWithParent(BinaryTree):\n",
    "    def __init__(self, value, left=None, right=None, parent=None):\n",
    "        super().__init__(value, left, right)\n",
    "        self.parent = parent\n",
    "\n",
    "    def _traverse(self, key, value):\n",
    "        if isinstance(value, BinaryTreeWithParent) and key == \"parent\":\n",
    "            return value.value\n",
    "        else:\n",
    "            return super()._traverse(key, value)\n",
    "\n",
    "\n",
    "root = BinaryTreeWithParent(10)\n",
    "root.left = BinaryTreeWithParent(7, parent=root)\n",
    "root.left.right = BinaryTreeWithParent(9, parent=root.left)\n",
    "root.right = BinaryTreeWithParent(13, parent=root)\n",
    "root.right.left = BinaryTreeWithParent(11, parent=root.right)\n",
    "pprint(root.to_dict(), indent=2, width=20)\n"
   ]
  },
  {
   "cell_type": "code",
   "execution_count": 3,
   "metadata": {},
   "outputs": [
    {
     "name": "stdout",
     "output_type": "stream",
     "text": [
      "    def _traverse(self, key, value):\n",
      "        if isinstance(value, ToDictMixin):\n",
      "            return value.to_dict()\n",
      "        elif isinstance(value, dict):\n",
      "            return self._traverse_dict(value)\n",
      "        elif hasattr(value, '__dict__'):\n",
      "            return self._traverse_dict(value.__dict__)\n",
      "        elif isinstance(value, list):\n",
      "            return [self._traverse(key, i) for i in value]\n",
      "        else:\n",
      "            return value\n",
      "\n"
     ]
    }
   ],
   "source": [
    "class NamedSubTree(ToDictMixin):\n",
    "    def __init__(self, name, tree_with_parent):\n",
    "        self.name = name\n",
    "        self.tree_with_parent = tree_with_parent\n",
    "\n",
    "\n",
    "import inspect\n",
    "\n",
    "my_tree = NamedSubTree(\"foobar\", root.left.right)\n",
    "my_tree.to_dict()\n",
    "print(inspect.getsource(my_tree._traverse))\n"
   ]
  },
  {
   "cell_type": "code",
   "execution_count": 4,
   "metadata": {},
   "outputs": [
    {
     "name": "stdout",
     "output_type": "stream",
     "text": [
      "<__main__.DCRack object at 0x7ff26e7487d0>\n"
     ]
    }
   ],
   "source": [
    "import json\n",
    "\n",
    "\n",
    "class JSONMixin:\n",
    "    @classmethod\n",
    "    def from_json(cls, data):\n",
    "        kwargs = json.loads(data)\n",
    "        return cls(**kwargs)\n",
    "\n",
    "    def to_json(self):\n",
    "        return json.dumps(self.to_dict())\n",
    "\n",
    "\n",
    "class Switch(ToDictMixin, JSONMixin):\n",
    "    def __init__(self, name, state):\n",
    "        self.name = name\n",
    "        self.state = state\n",
    "\n",
    "\n",
    "class Machine(ToDictMixin, JSONMixin):\n",
    "    def __init__(self, cores=None, ram=None, disk=None):\n",
    "        self.cores = cores\n",
    "        self.ram = ram\n",
    "        self.disk = disk or []\n",
    "\n",
    "\n",
    "class DCRack(ToDictMixin, JSONMixin):\n",
    "    def __init__(self, switches=None, machines=None):\n",
    "        self.switches = switches or []\n",
    "        self.machines = [Machine(**kwargs) for kwargs in machines]\n",
    "\n",
    "\n",
    "serialized = \"\"\"{\n",
    "\"switches\": {\"ports\": 5, \"speed\": 1e9},\n",
    "\"machines\": [\n",
    "{\"cores\": 8, \"ram\": 32e9, \"disk\": 5e12},\n",
    "{\"cores\": 4, \"ram\": 16e9, \"disk\": 1e12},\n",
    "{\"cores\": 2, \"ram\": 4e9, \"disk\": 500e9}\n",
    "]\n",
    "}\"\"\"\n",
    "\n",
    "deserialized = DCRack.from_json(serialized)\n",
    "print(deserialized)"
   ]
  },
  {
   "cell_type": "code",
   "execution_count": 5,
   "metadata": {},
   "outputs": [],
   "source": [
    "class MyObject:\n",
    "    def __init__(self):\n",
    "        self.public_field = 5\n",
    "        self.__private_field = 10\n",
    "\n",
    "    @classmethod\n",
    "    def get_private_field_of_instance(cls, instance):\n",
    "        return instance.__private_field\n",
    "    \n",
    "    \n",
    "    def get_private_field(self):\n",
    "        return self.__private_field"
   ]
  },
  {
   "cell_type": "code",
   "execution_count": 6,
   "metadata": {},
   "outputs": [
    {
     "data": {
      "text/plain": [
       "10"
      ]
     },
     "execution_count": 6,
     "metadata": {},
     "output_type": "execute_result"
    }
   ],
   "source": [
    "c = MyObject()\n",
    "MyObject.get_private_field_of_instance(c)\n",
    "# c.__private_field"
   ]
  },
  {
   "cell_type": "code",
   "execution_count": 7,
   "metadata": {},
   "outputs": [
    {
     "data": {
      "text/plain": [
       "10"
      ]
     },
     "execution_count": 7,
     "metadata": {},
     "output_type": "execute_result"
    }
   ],
   "source": [
    "class ChildPrivateClass(MyObject):\n",
    "    def get_private_field(self):\n",
    "        return self._MyObject__private_field\n",
    "\n",
    "c = ChildPrivateClass()\n",
    "c.get_private_field()"
   ]
  },
  {
   "cell_type": "code",
   "execution_count": 8,
   "metadata": {},
   "outputs": [
    {
     "data": {
      "text/plain": [
       "1"
      ]
     },
     "execution_count": 8,
     "metadata": {},
     "output_type": "execute_result"
    }
   ],
   "source": [
    "def coroutine():\n",
    "    for i in range(1, 10):\n",
    "        print(\"From generator {}\".format((yield i)))\n",
    "c = coroutine()\n",
    "c.send(None)\n",
    "# c.send(None)"
   ]
  },
  {
   "cell_type": "code",
   "execution_count": 9,
   "metadata": {},
   "outputs": [
    {
     "name": "stdout",
     "output_type": "stream",
     "text": [
      "From generator 0\n",
      "2\n",
      "From generator 1\n",
      "3\n",
      "From generator 2\n",
      "4\n"
     ]
    }
   ],
   "source": [
    "# c.send(None)\n",
    "for i in range(3):\n",
    "    print(c.send(i))"
   ]
  },
  {
   "cell_type": "code",
   "execution_count": 10,
   "metadata": {},
   "outputs": [],
   "source": [
    "from collections.abc import Sequence\n",
    "\n",
    "class BadType(Sequence):\n",
    "    pass\n",
    "\n",
    "class BetterNode(SequenceNode, Sequence):\n",
    "    pass"
   ]
  },
  {
   "cell_type": "code",
   "execution_count": 11,
   "metadata": {},
   "outputs": [
    {
     "name": "stdout",
     "output_type": "stream",
     "text": [
      "90\n",
      "89\n",
      "defaultdict(<class 'int'>, {1: 89})\n"
     ]
    }
   ],
   "source": [
    "from collections import defaultdict\n",
    "\n",
    "class StudentRecord:\n",
    "    __percentage_dict = defaultdict(int)\n",
    "\n",
    "    def __init__(self, name, number):\n",
    "        self.name = name\n",
    "        self.number = number\n",
    "    \n",
    "    def get_percentage(self):\n",
    "        return self.__percentage_dict[self.number]\n",
    "\n",
    "    def set_percentage(self, percentage):\n",
    "        if not isinstance(percentage, (int, float)):\n",
    "            raise ValueError(\"Percentage should be an real postive number\")\n",
    "        if percentage < 0 or percentage > 100:\n",
    "            raise ValueError(\"Percentage should be between 0 and 100\")\n",
    "        self.__percentage_dict[self.number] = percentage\n",
    "\n",
    "\n",
    "s1 = StudentRecord(\"Student1\", 1)\n",
    "s1.set_percentage(90)\n",
    "print(s1.get_percentage())\n",
    "\n",
    "s1.set_percentage(s1.get_percentage() - 1)\n",
    "print(s1.get_percentage())\n",
    "print(s1._StudentRecord__percentage_dict)"
   ]
  },
  {
   "cell_type": "code",
   "execution_count": 12,
   "metadata": {},
   "outputs": [],
   "source": [
    "class A:\n",
    "    @property\n",
    "    def a(self):\n",
    "        return 1\n",
    "    \n",
    "    @a.setter\n",
    "    def a(self, value):\n",
    "        print(\"Setting value to {}\".format(value))\n",
    "\n",
    "\n",
    "class B(A):\n",
    "    pass"
   ]
  },
  {
   "cell_type": "code",
   "execution_count": 13,
   "metadata": {},
   "outputs": [
    {
     "name": "stdout",
     "output_type": "stream",
     "text": [
      "Setting value to 10\n"
     ]
    },
    {
     "data": {
      "text/plain": [
       "1"
      ]
     },
     "execution_count": 13,
     "metadata": {},
     "output_type": "execute_result"
    }
   ],
   "source": [
    "c = B()\n",
    "c.a = 10\n",
    "c.a"
   ]
  },
  {
   "cell_type": "code",
   "execution_count": 14,
   "metadata": {},
   "outputs": [
    {
     "name": "stdout",
     "output_type": "stream",
     "text": [
      "98 98\n"
     ]
    }
   ],
   "source": [
    "from weakref import WeakKeyDictionary\n",
    "\n",
    "class PercentageValidator:\n",
    "\n",
    "    def __init__(self):\n",
    "        self.__value = 0 \n",
    "\n",
    "    def __get__(self, instance, instance_klass):\n",
    "        return self.__value\n",
    "    \n",
    "    def __set__(self, instance, value):\n",
    "        if not isinstance(value, (int, float)):\n",
    "            raise ValueError(\"Percentage should be an real postive number\")\n",
    "        if value < 0 or value > 100:\n",
    "            raise ValueError(\"Percentage should be between 0 and 100\")\n",
    "        self.__value = value\n",
    "\n",
    "\n",
    "class Constant:\n",
    "    def __init__(self):\n",
    "        self.__value = None\n",
    "\n",
    "    \n",
    "    def __get__(self, instance, instance_klass):\n",
    "        return self.__value\n",
    "\n",
    "    def __set__(self, instance, value):\n",
    "        if self.__value is None:\n",
    "            self.__value = value\n",
    "            return \n",
    "        raise AttributeError(\"Can't set attribute\")\n",
    "\n",
    "\n",
    "class StudentRecord:\n",
    "    english = PercentageValidator()\n",
    "    math = PercentageValidator()\n",
    "    physics = PercentageValidator()\n",
    "    number = Constant()\n",
    "    \n",
    "\n",
    "    def __init__(self, name, number):\n",
    "        self.name = name\n",
    "\n",
    "s1 = StudentRecord(\"Student1\", 10)\n",
    "s2 = StudentRecord(\"Student2\", 20)\n",
    "s1.physics = 100\n",
    "s2.physics = 99\n",
    "s1.math = 100\n",
    "s2.math = 98\n",
    "print(s1.math, s2.math)"
   ]
  },
  {
   "cell_type": "code",
   "execution_count": 15,
   "metadata": {},
   "outputs": [],
   "source": [
    "# creating a constant validator using Descriptor\n",
    "class Constant:\n",
    "    def __init__(self):\n",
    "        self.__value = None\n",
    "    \n",
    "    def __get__(self, instance, instance_klass):\n",
    "        if instance is None:\n",
    "            return self\n",
    "        return self.value\n",
    "\n",
    "    def __set__(self, instance, value):\n",
    "        if self.__value is None:\n",
    "            self.__value = value\n",
    "\n",
    "        raise AttributeError(\"Can't set attribute\")"
   ]
  },
  {
   "cell_type": "code",
   "execution_count": 16,
   "metadata": {},
   "outputs": [
    {
     "name": "stdout",
     "output_type": "stream",
     "text": [
      "Get attribute _PercentageValidator__value\n",
      "Get attribute _PercentageValidator__value\n",
      "Get attribute _PercentageValidator__value\n",
      "Get attribute _PercentageValidator__value\n",
      "Get attribute math\n",
      "Get attribute _PercentageValidator__value\n",
      "Get attribute _PercentageValidator__value\n",
      "Get attribute math\n",
      "Get attribute _PercentageValidator__value\n",
      "Get attribute math\n",
      "Get attribute _PercentageValidator__value\n",
      "90 98\n"
     ]
    }
   ],
   "source": [
    "from collections import defaultdict\n",
    "from weakref import WeakKeyDictionary\n",
    "\n",
    "class PercentageValidator:\n",
    "\n",
    "    def __init__(self):\n",
    "        self.__value = WeakKeyDictionary()\n",
    "\n",
    "    def __get__(self, instance, instance_klass):\n",
    "        return self.__value.get(instance, 0)\n",
    "    \n",
    "    def __set__(self, instance, value):\n",
    "        if not isinstance(value, (int, float)):\n",
    "            raise ValueError(\"Percentage should be an real postive number\")\n",
    "        if value < 0 or value > 100:\n",
    "            raise ValueError(\"Percentage should be between 0 and 100\")\n",
    "        self.__value[instance] = value\n",
    "\n",
    "    def __getattr__(self, name):\n",
    "        print(\"Get attribute\", name)\n",
    "        return self.__value.get(name, None)\n",
    "\n",
    "    def __getattribute__(self, __name: str):\n",
    "        print(\"Get attribute\", __name)\n",
    "        return super().__getattribute__(__name)\n",
    "\n",
    "class Constant:\n",
    "    def __init__(self):\n",
    "        self.__value = {}\n",
    "    \n",
    "    def __get__(self, instance, instance_klass):\n",
    "        print(\"Get attribute get \", instance)\n",
    "        return self.__value.get(instance, None)\n",
    "\n",
    "    def __set__(self, instance, value):\n",
    "        current_value = self.__value.get(instance, None)\n",
    "        if current_value is None:\n",
    "            self.__value[instance] = value\n",
    "            return \n",
    "        raise AttributeError(\"Can't set attribute\")\n",
    "\n",
    "    def __getattr__(self, name):\n",
    "        print(\"Get attribute\", name)\n",
    "        return self.__value.get(name, None)\n",
    "\n",
    "    def __getattribute__(self, __name: str):\n",
    "        print(\"Get attribute\", __name)\n",
    "        return super().__getattribute__(__name)\n",
    "\n",
    "class StudentRecord:\n",
    "    english = PercentageValidator()\n",
    "    math = PercentageValidator()\n",
    "    physics = PercentageValidator()\n",
    "    number = Constant()\n",
    "\n",
    "    def __init__(self, name, number):\n",
    "        self.name = name\n",
    "    \n",
    "    def __getattr__(self, name):\n",
    "        print(\"Get attribute\", name)\n",
    "\n",
    "        return self.__value.get(name, None)\n",
    "\n",
    "    def __getattribute__(self, __name: str):\n",
    "        print(\"Get attribute\", __name)\n",
    "        return super().__getattribute__(__name)\n",
    "\n",
    "s1 = StudentRecord(\"Student1\", 10)\n",
    "s2 = StudentRecord(\"Student2\", 20)\n",
    "s1.physics = 100\n",
    "s2.physics = 99\n",
    "s1.math = 100\n",
    "s2.math = 98\n",
    "s1.math = s1.math - 10\n",
    "print(s1.math, s2.math)"
   ]
  },
  {
   "cell_type": "code",
   "execution_count": 17,
   "metadata": {},
   "outputs": [
    {
     "name": "stdout",
     "output_type": "stream",
     "text": [
      "Get attribute __set__\n",
      "Get attribute _PercentageValidator__value\n"
     ]
    }
   ],
   "source": [
    "StudentRecord.__dict__['english'].__set__(s1, 80)"
   ]
  },
  {
   "cell_type": "code",
   "execution_count": 18,
   "metadata": {},
   "outputs": [
    {
     "name": "stdout",
     "output_type": "stream",
     "text": [
      "Get attribute name\n"
     ]
    },
    {
     "data": {
      "text/plain": [
       "'Student1'"
      ]
     },
     "execution_count": 18,
     "metadata": {},
     "output_type": "execute_result"
    }
   ],
   "source": [
    "s1.name"
   ]
  },
  {
   "cell_type": "code",
   "execution_count": 19,
   "metadata": {},
   "outputs": [],
   "source": [
    "class LazyRecord:\n",
    "    def __init__(self):\n",
    "        self.exists = 5\n",
    "\n",
    "    def __getattr__(self, name):\n",
    "        value = \"Value for {}\".format(name)\n",
    "        setattr(self, name, value)\n",
    "        print(\"Will not called\")\n",
    "        return value \n",
    "    \n",
    "    def __getattribute__(self, __name: str):\n",
    "        print(\"Called __getattribute__\")\n",
    "        try:\n",
    "            value = super().__getattribute__(__name)\n",
    "            print(\"Value found\", value)\n",
    "            return value\n",
    "        except AttributeError:\n",
    "            response = self.__getattr__(__name)\n",
    "            print(\"Called once\")\n",
    "            return response\n",
    "\n",
    "class LoggingLazyRecord(LazyRecord):\n",
    "    def __getattr__(self, name):\n",
    "        print(\"Called __getattr__({})\".format(name))\n",
    "        return super().__getattr__(name)"
   ]
  },
  {
   "cell_type": "code",
   "execution_count": 20,
   "metadata": {},
   "outputs": [
    {
     "name": "stdout",
     "output_type": "stream",
     "text": [
      "Called __getattribute__\n",
      "Called __getattribute__\n",
      "Value found <bound method LoggingLazyRecord.__getattr__ of <__main__.LoggingLazyRecord object at 0x7ff26e72acd0>>\n",
      "Called __getattr__(name)\n",
      "Will not called\n",
      "Called once\n",
      "Called __getattribute__\n",
      "Value found {'exists': 5, 'name': 'Value for name'}\n",
      "Before:  {'exists': 5, 'name': 'Value for name'}\n"
     ]
    }
   ],
   "source": [
    "c = LoggingLazyRecord()\n",
    "c.name\n",
    "print(\"Before: \", c.__dict__)"
   ]
  },
  {
   "cell_type": "code",
   "execution_count": 21,
   "metadata": {},
   "outputs": [
    {
     "name": "stdout",
     "output_type": "stream",
     "text": [
      "Called __getattribute__\n",
      "Value found Value for name\n"
     ]
    },
    {
     "data": {
      "text/plain": [
       "'Value for name'"
      ]
     },
     "execution_count": 21,
     "metadata": {},
     "output_type": "execute_result"
    }
   ],
   "source": []
  },
  {
   "cell_type": "code",
   "execution_count": 1,
   "metadata": {},
   "outputs": [
    {
     "name": "stdout",
     "output_type": "stream",
     "text": [
      "<class '__main__.Customer'> first_name <__main__.Field object at 0x7f9a1e771dd0>\n",
      "<class '__main__.Customer'> last_name <__main__.Field object at 0x7f9a1e7715d0>\n",
      "<class '__main__.Customer'> prefix <__main__.Field object at 0x7f9a1e772090>\n",
      "<class '__main__.Customer'> suffix <__main__.Field object at 0x7f9a1e772190>\n",
      "Inside get <__main__.Customer object at 0x7f9a1e772390> <class '__main__.Customer'>\n",
      "<class 'str'>\n",
      "INSTANCE <__main__.Customer object at 0x7f9a1e772390>\n",
      "INSTANCE <__main__.Customer object at 0x7f9a1e772390>\n",
      "{'_first_name': 'Eduardo', '_last_name': 'Perez'}\n",
      "__format__(({}, ''), {}) -> {}\n",
      "__new__((<class '__main__.TraceDict'>, [('a', 1), ('b', 2)]), {}) -> {}\n",
      "__getitem__(({'a': 1, 'b': 2, 'c': 3}, 'a'), {}) -> 1\n"
     ]
    },
    {
     "data": {
      "text/plain": [
       "1"
      ]
     },
     "execution_count": 1,
     "metadata": {},
     "output_type": "execute_result"
    }
   ],
   "source": [
    "class Field:\n",
    "    def __init__(self):\n",
    "        self.name = None\n",
    "        self.internal_name = None\n",
    "\n",
    "    def __get__(self, instance, instance_type):\n",
    "        print(\"Inside get\", instance, instance_type)\n",
    "\n",
    "        if instance is None:\n",
    "            return None\n",
    "        return getattr(instance, self.internal_name, \"\")\n",
    "\n",
    "    def __set_name__(self, owner, name):\n",
    "        print(owner, name, self)\n",
    "        self.name = name\n",
    "        self.internal_name = \"_\" + name\n",
    "\n",
    "    def __set__(self, instance, value):\n",
    "        print(\"INSTANCE\", instance)\n",
    "        setattr(instance, self.internal_name, value)\n",
    "\n",
    "\n",
    "class Meta(type):\n",
    "    def __new__(meta, name, bases, klass_dict: dict):\n",
    "        # print(meta, bases, klass_dict)\n",
    "        for key, value in klass_dict.items():\n",
    "            if isinstance(value, Field):\n",
    "                value.name = key\n",
    "                value.internal_name = \"_\" + key\n",
    "        cls = type.__new__(meta, name, bases, klass_dict)\n",
    "        return cls\n",
    "\n",
    "\n",
    "class DatabaseRow(metaclass=Meta):\n",
    "    def __init_subclass__(cls) -> None:\n",
    "        # print(\"super cls\", cls)\n",
    "        return super().__init_subclass__()\n",
    "\n",
    "\n",
    "class Customer:\n",
    "    first_name = Field()\n",
    "    last_name = Field()\n",
    "    prefix = Field()\n",
    "    suffix = Field()\n",
    "\n",
    "\n",
    "cust = Customer()\n",
    "print(type(cust.first_name))\n",
    "cust.first_name = \"Eduardo\"\n",
    "cust.last_name = \"Perez\"\n",
    "print(cust.__dict__)\n",
    "\n",
    "from functools import wraps\n",
    "\n",
    "\n",
    "def trace_func(func):\n",
    "    @wraps(func)\n",
    "    def wrapper(*args, **kwargs):\n",
    "        if hasattr(func, \"tracing\"):\n",
    "            return func\n",
    "\n",
    "        result = None\n",
    "        try:\n",
    "            result = func(*args, **kwargs)\n",
    "            return result\n",
    "        except Exception as e:\n",
    "            result = e\n",
    "            raise\n",
    "        finally:\n",
    "            print(f\"{func.__name__}({args}, {kwargs}) -> {result}\")\n",
    "\n",
    "    wrapper.tracing = True\n",
    "    return wrapper\n",
    "\n",
    "\n",
    "class TraceDict(dict):\n",
    "    @trace_func\n",
    "    def __init__(self, *args, **kwargs):\n",
    "        super().__init__(*args, **kwargs)\n",
    "\n",
    "\n",
    "    @trace_func\n",
    "    def __setitem__(self, *args, **kwargs):\n",
    "        super().__setitem__(*args, **kwargs)\n",
    "\n",
    "    @trace_func\n",
    "    def __getitem__(self, *args, **kwargs):\n",
    "        return super().__getitem__(*args, **kwargs)\n",
    "\n",
    "\n",
    "import types\n",
    "\n",
    "trace_types = (\n",
    "    types.MethodType,\n",
    "    types.FunctionType,\n",
    "    types.BuiltinMethodType,\n",
    "    types.BuiltinFunctionType,\n",
    "    types.MethodDescriptorType,\n",
    "    types.ClassMethodDescriptorType,\n",
    ")\n",
    "dir\n",
    "\n",
    "\n",
    "class TraceMeta(type):\n",
    "    def __new__(meta, name, bases, klass_dict: dict):\n",
    "        klass = type.__new__(meta, name, bases, klass_dict)\n",
    "\n",
    "        for key in dir(klass):\n",
    "            value = getattr(klass, key)\n",
    "            if isinstance(value, trace_types):\n",
    "                setattr(klass, key, trace_func(value))\n",
    "        return klass\n",
    "\n",
    "\n",
    "class TraceDict(dict, metaclass=TraceMeta):\n",
    "    pass\n",
    "\n",
    "\n",
    "def trace(klass):\n",
    "    for key in dir(klass):\n",
    "        value = getattr(klass, key)\n",
    "        if isinstance(value, trace_types):\n",
    "            setattr(klass, key, trace_func(value))\n",
    "    return klass\n",
    "\n",
    "\n",
    "@trace\n",
    "class TraceDict(dict):\n",
    "    pass\n",
    "\n",
    "\n",
    "class OtherMeta(type):\n",
    "    pass\n",
    "\n",
    "\n",
    "@trace\n",
    "class Trace(dict, metaclass=OtherMeta):\n",
    "    pass\n",
    "\n",
    "\n",
    "trace_dict = TraceDict([(\"a\", 1), (\"b\", 2)])\n",
    "trace_dict[\"c\"] = 3\n",
    "trace_dict[\"a\"]\n"
   ]
  },
  {
   "cell_type": "code",
   "execution_count": 38,
   "metadata": {},
   "outputs": [
    {
     "name": "stdout",
     "output_type": "stream",
     "text": [
      "<class 'int'> False\n",
      "<class '__main__.BinaryTreeWithParent'> False\n",
      "<class 'int'> False\n",
      "<class 'NoneType'> False\n",
      "<class '__main__.BinaryTreeWithParent'> False\n",
      "<class 'int'> False\n",
      "<class 'NoneType'> False\n",
      "<class 'NoneType'> False\n",
      "<class 'NoneType'> True\n",
      "<class 'NoneType'> True\n",
      "<class '__main__.BinaryTreeWithParent'> False\n",
      "<class 'int'> False\n",
      "<class '__main__.BinaryTreeWithParent'> False\n",
      "<class 'int'> False\n",
      "<class 'NoneType'> False\n",
      "<class 'NoneType'> False\n",
      "<class 'NoneType'> True\n",
      "<class 'NoneType'> False\n",
      "<class 'NoneType'> True\n",
      "<class 'NoneType'> True\n",
      "{'left': {'left': None,\n",
      "          'parent': None,\n",
      "          'right': {'left': None,\n",
      "                    'parent': None,\n",
      "                    'right': None,\n",
      "                    'value': 9},\n",
      "          'value': 7},\n",
      " 'parent': None,\n",
      " 'right': {'left': {'left': None,\n",
      "                    'parent': None,\n",
      "                    'right': None,\n",
      "                    'value': 11},\n",
      "           'parent': None,\n",
      "           'right': None,\n",
      "           'value': 13},\n",
      " 'value': 10}\n"
     ]
    }
   ],
   "source": [
    "from dataclasses import dataclass\n",
    "\n",
    "\n",
    "class ToDictMixin:\n",
    "    def to_dict(self):\n",
    "        return self._traverse_dict(self.__dict__)\n",
    "    \n",
    "    def _traverse_dict(self, instance_dict):\n",
    "        response = {}\n",
    "        for key, value in instance_dict.items():\n",
    "            response[key] = self._traverse(key, value)\n",
    "        return response\n",
    "    \n",
    "    def _traverse(self, key, value):\n",
    "        if isinstance(value, ToDictMixin):\n",
    "            return value.to_dict()\n",
    "        elif isinstance(value, dict):\n",
    "            return self._traverse_dict(value)\n",
    "        elif isinstance(value, list):\n",
    "            return [self._traverse(key, i) for i in value]\n",
    "        elif hasattr(value, \"__dict__\"):\n",
    "            return self._traverse_dict(value.__dict__)\n",
    "        else:\n",
    "            return value\n",
    "\n",
    "\n",
    "@dataclass\n",
    "class BinaryTree(ToDictMixin):\n",
    "    value: object\n",
    "    left: 'BinaryTree' = None\n",
    "    right: 'BinaryTree' = None\n",
    "\n",
    "\n",
    "class BinaryTreeWithParent(BinaryTree):\n",
    "    def __init__(self, value, left=None, right=None, parent=None):\n",
    "        super().__init__(value, left, right)\n",
    "        self.parent = parent\n",
    "    \n",
    "    def _traverse(self, key, value):\n",
    "        if isinstance(value, self.__class__) and key == \"parent\":\n",
    "            return value.value\n",
    "        return super()._traverse(key, value)\n",
    "\n",
    "# class IndexableTree(BinaryTree):\n",
    "#     def _intraverse(self):\n",
    "#         if self.left:\n",
    "#             yield from self.left._traverse()\n",
    "#         yield self\n",
    "#         if self.right:\n",
    "#             yield from self.right._traverse()\n",
    "\n",
    "#     def __getitem__(self, index):\n",
    "#         for i, item in enumerate(self._traverse(self.value)):\n",
    "#             if i == index:\n",
    "#                 return item\n",
    "#         raise IndexError(\"Index out of range\")\n",
    "\n",
    "# # tree = BinaryTree(10, left=BinaryTree(7, right=BinaryTree(9)), right=BinaryTree(13, left=BinaryTree(11)))\n",
    "# from pprint import pprint\n",
    "\n",
    "# tree = IndexableTree(10, IndexableTree(7, right=IndexableTree(9)), IndexableTree(13, left=IndexableTree(11)))\n",
    "# # pprint(tree.to_dict())\n",
    "# # print(list(tree.)\n",
    "# # how to access private variable of a class\n",
    "# print(tree._IndexableTree__dict__)\n",
    "root = BinaryTreeWithParent(10)\n",
    "root.left = BinaryTreeWithParent(7, parent=root)\n",
    "root.left.right = BinaryTreeWithParent(9, parent=root.left)\n",
    "root.right = BinaryTreeWithParent(13, parent=root)\n",
    "root.right.left = BinaryTreeWithParent(11, parent=root.right)\n",
    "pprint(tree.to_dict(), width=20)\n"
   ]
  },
  {
   "cell_type": "code",
   "execution_count": 40,
   "metadata": {},
   "outputs": [
    {
     "name": "stdout",
     "output_type": "stream",
     "text": [
      "{'left': {'left': None,\n",
      "          'parent': 10,\n",
      "          'right': {'left': None,\n",
      "                    'parent': 7,\n",
      "                    'right': None,\n",
      "                    'value': 9},\n",
      "          'value': 7},\n",
      " 'parent': None,\n",
      " 'right': {'left': {'left': None,\n",
      "                    'parent': 13,\n",
      "                    'right': None,\n",
      "                    'value': 11},\n",
      "           'parent': 10,\n",
      "           'right': None,\n",
      "           'value': 13},\n",
      " 'value': 10}\n"
     ]
    }
   ],
   "source": [
    "from dataclasses import dataclass\n",
    "\n",
    "\n",
    "class ToDictMixin:\n",
    "    def to_dict(self):\n",
    "        return self._traverse_dict(self.__dict__)\n",
    "    \n",
    "    def _traverse_dict(self, instance_dict):\n",
    "        response = {}\n",
    "        for key, value in instance_dict.items():\n",
    "            response[key] = self._traverse(key, value)\n",
    "        return response\n",
    "    \n",
    "    def _traverse(self, key, value):\n",
    "        if isinstance(value, ToDictMixin):\n",
    "            return value.to_dict()\n",
    "        elif isinstance(value, dict):\n",
    "            return self._traverse_dict(value)\n",
    "        elif isinstance(value, list):\n",
    "            return [self._traverse(key, i) for i in value]\n",
    "        elif hasattr(value, \"__dict__\"):\n",
    "            return self._traverse_dict(value.__dict__)\n",
    "        else:\n",
    "            return value\n",
    "\n",
    "\n",
    "@dataclass\n",
    "class BinaryTree(ToDictMixin):\n",
    "    value: object\n",
    "    left: 'BinaryTree' = None\n",
    "    right: 'BinaryTree' = None\n",
    "\n",
    "\n",
    "class BinaryTreeWithParent(BinaryTree):\n",
    "    def __init__(self, value, left=None, right=None, parent=None):\n",
    "        super().__init__(value, left, right)\n",
    "        self.parent = parent\n",
    "    \n",
    "    def _traverse(self, key, value):\n",
    "        if isinstance(value, self.__class__) and key == \"parent\":\n",
    "            return value.value\n",
    "        return super()._traverse(key, value)\n",
    "\n",
    "root = BinaryTreeWithParent(10)\n",
    "root.left = BinaryTreeWithParent(7, parent=root)\n",
    "root.left.right = BinaryTreeWithParent(9, parent=root.left)\n",
    "root.right = BinaryTreeWithParent(13, parent=root)\n",
    "root.right.left = BinaryTreeWithParent(11, parent=root.right)\n",
    "pprint(root.to_dict(), width=20)\n"
   ]
  },
  {
   "cell_type": "code",
   "execution_count": null,
   "metadata": {},
   "outputs": [],
   "source": []
  }
 ],
 "metadata": {
  "kernelspec": {
   "display_name": "venv",
   "language": "python",
   "name": "python3"
  },
  "language_info": {
   "codemirror_mode": {
    "name": "ipython",
    "version": 3
   },
   "file_extension": ".py",
   "mimetype": "text/x-python",
   "name": "python",
   "nbconvert_exporter": "python",
   "pygments_lexer": "ipython3",
   "version": "3.11.1"
  },
  "orig_nbformat": 4
 },
 "nbformat": 4,
 "nbformat_minor": 2
}
