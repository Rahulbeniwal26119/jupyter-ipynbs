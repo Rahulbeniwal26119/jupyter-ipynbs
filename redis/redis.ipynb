{
 "cells": [
  {
   "cell_type": "code",
   "execution_count": 1,
   "metadata": {},
   "outputs": [],
   "source": [
    "import redis"
   ]
  },
  {
   "cell_type": "code",
   "execution_count": 34,
   "metadata": {},
   "outputs": [
    {
     "data": {
      "text/plain": [
       "b'bar'"
      ]
     },
     "execution_count": 34,
     "metadata": {},
     "output_type": "execute_result"
    }
   ],
   "source": [
    "r = redis.Redis(host=\"localhost\", port=6379, db=0)\n",
    "r.mset({\"foo\": \"bar\", \"baz\": \"qux\"})\n",
    "r.get(\"foo\")"
   ]
  },
  {
   "cell_type": "code",
   "execution_count": 33,
   "metadata": {},
   "outputs": [
    {
     "data": {
      "text/plain": [
       "2"
      ]
     },
     "execution_count": 33,
     "metadata": {},
     "output_type": "execute_result"
    }
   ],
   "source": [
    "import datetime\n",
    "stoday = datetime.date.today().isoformat()\n",
    "r.sadd(stoday, \"foo\", \"baz\")"
   ]
  },
  {
   "cell_type": "code",
   "execution_count": 9,
   "metadata": {},
   "outputs": [
    {
     "data": {
      "text/plain": [
       "{b'baz', b'foo'}"
      ]
     },
     "execution_count": 9,
     "metadata": {},
     "output_type": "execute_result"
    }
   ],
   "source": [
    "r.smembers(stoday)"
   ]
  },
  {
   "cell_type": "code",
   "execution_count": 35,
   "metadata": {},
   "outputs": [],
   "source": [
    "import random\n",
    "random.seed(444)\n",
    "\n",
    "hats = {f\"hat: {random.getrandbits(32)}\": i for i in (\n",
    "    {\n",
    "        \"color\": \"black\",\n",
    "        \"price\": 49.99,\n",
    "        \"style\": \"fitted\",\n",
    "        \"quantity\": 1000,\n",
    "        \"npurchased\": 0\n",
    "    },\n",
    "    {\n",
    "\n",
    "        \"color\": \"maroon\",\n",
    "        \"price\": 59.99,\n",
    "        \"style\": \"hipster\",\n",
    "        \"quantity\": 500,\n",
    "        \"npurchased\": 0,\n",
    "    },\n",
    "    {\n",
    "        \"color\": \"green\",\n",
    "        \"price\": 99.99,\n",
    "        \"style\": \"baseball\",\n",
    "        \"quantity\": 200,\n",
    "        \"npurchased\": 0\n",
    "    }\n",
    ")}"
   ]
  },
  {
   "cell_type": "code",
   "execution_count": 36,
   "metadata": {},
   "outputs": [
    {
     "data": {
      "text/plain": [
       "{'hat: 1326692461': {'color': 'black',\n",
       "  'price': 49.99,\n",
       "  'style': 'fitted',\n",
       "  'quantity': 1000,\n",
       "  'npurchased': 0},\n",
       " 'hat: 1236154736': {'color': 'maroon',\n",
       "  'price': 59.99,\n",
       "  'style': 'hipster',\n",
       "  'quantity': 500,\n",
       "  'npurchased': 0},\n",
       " 'hat: 56854717': {'color': 'green',\n",
       "  'price': 99.99,\n",
       "  'style': 'baseball',\n",
       "  'quantity': 200,\n",
       "  'npurchased': 0}}"
      ]
     },
     "execution_count": 36,
     "metadata": {},
     "output_type": "execute_result"
    }
   ],
   "source": [
    "hats"
   ]
  },
  {
   "cell_type": "code",
   "execution_count": 19,
   "metadata": {},
   "outputs": [],
   "source": [
    "r = redis.Redis(db=1)\n",
    "import json"
   ]
  },
  {
   "cell_type": "code",
   "execution_count": 39,
   "metadata": {},
   "outputs": [
    {
     "name": "stdout",
     "output_type": "stream",
     "text": [
      "hat: 1326692461\n",
      "Pipeline<ConnectionPool<Connection<host=localhost,port=6379,db=0>>>\n",
      "hat: 1236154736\n",
      "Pipeline<ConnectionPool<Connection<host=localhost,port=6379,db=0>>>\n",
      "hat: 56854717\n",
      "Pipeline<ConnectionPool<Connection<host=localhost,port=6379,db=0>>>\n"
     ]
    }
   ],
   "source": [
    "with r.pipeline() as pipe:\n",
    "    for h_id, hat in hats.items():\n",
    "        print(h_id)\n",
    "        pipe.hset(h_id, mapping=hat)\n",
    "        print(pipe)\n",
    "    pipe.execute()"
   ]
  },
  {
   "cell_type": "code",
   "execution_count": 44,
   "metadata": {},
   "outputs": [
    {
     "data": {
      "text/plain": [
       "3"
      ]
     },
     "execution_count": 44,
     "metadata": {},
     "output_type": "execute_result"
    }
   ],
   "source": [
    "r.hincrby(\"hat: 123456789\", \"npurchased\", 1)"
   ]
  },
  {
   "cell_type": "code",
   "execution_count": 40,
   "metadata": {},
   "outputs": [
    {
     "data": {
      "text/plain": [
       "[b'hat: 56854717', b'hat: 1236154736', b'hat: 1326692461']"
      ]
     },
     "execution_count": 40,
     "metadata": {},
     "output_type": "execute_result"
    }
   ],
   "source": [
    "r.keys()"
   ]
  },
  {
   "cell_type": "code",
   "execution_count": 41,
   "metadata": {},
   "outputs": [
    {
     "data": {
      "text/plain": [
       "[b'hat: 56854717', b'hat: 1236154736', b'a', b'hat: 1326692461']"
      ]
     },
     "execution_count": 41,
     "metadata": {},
     "output_type": "execute_result"
    }
   ],
   "source": [
    "r.set(\"a\", \"b\")\n",
    "r.keys()"
   ]
  },
  {
   "cell_type": "code",
   "execution_count": 47,
   "metadata": {},
   "outputs": [],
   "source": [
    "import logging\n",
    "\n",
    "logging.basicConfig()\n",
    "\n",
    "class OutOfStockError(Exception):\n",
    "    \"\"\"Raised when a hat is out of stock\"\"\"\n",
    "\n",
    "from time import sleep \n",
    "\n",
    "def buyitem(rd, itemid):\n",
    "    with r.pipeline() as pipe:\n",
    "        error_count = 0\n",
    "        while True:\n",
    "            try:\n",
    "                pipe.watch(itemid) # raise watch if exception raised \n",
    "                nleft = r.hget(itemid, \"quantity\")\n",
    "                if int(nleft) > 0:\n",
    "                    pipe.multi() # Take the look \n",
    "                    pipe.hincrby(itemid, \"quantity\", -1)\n",
    "                    pipe.hincrby(itemid, \"npurchased\", 1)\n",
    "                    sleep(50)\n",
    "                    pipe.execute()\n",
    "                    break\n",
    "                else:\n",
    "                    pipe.unwatch()\n",
    "                    raise OutOfStockError()\n",
    "            except redis.WatchError:\n",
    "                error_count += 1\n",
    "                logging.warning(\"WatchError #%d: %s\", error_count, itemid)\n",
    "                    "
   ]
  },
  {
   "cell_type": "code",
   "execution_count": 48,
   "metadata": {},
   "outputs": [
    {
     "name": "stderr",
     "output_type": "stream",
     "text": [
      "WARNING:root:WatchError #1: hat: 56854717\n"
     ]
    }
   ],
   "source": [
    "buyitem(r, 'hat: 56854717')"
   ]
  },
  {
   "cell_type": "code",
   "execution_count": 49,
   "metadata": {},
   "outputs": [
    {
     "data": {
      "text/plain": [
       "[b'2999', b'1']"
      ]
     },
     "execution_count": 49,
     "metadata": {},
     "output_type": "execute_result"
    }
   ],
   "source": [
    "r.hmget(\"hat: 56854717\", \"quantity\", \"npurchased\")"
   ]
  },
  {
   "cell_type": "code",
   "execution_count": 50,
   "metadata": {},
   "outputs": [
    {
     "data": {
      "text/plain": [
       "True"
      ]
     },
     "execution_count": 50,
     "metadata": {},
     "output_type": "execute_result"
    }
   ],
   "source": [
    "# Key value expiration\n",
    "from datetime import timedelta\n",
    "\n",
    "r.setex(\n",
    "    \"runner\",\n",
    "    timedelta(seconds=30),\n",
    "    value=\"I'm running out of time\"\n",
    ")"
   ]
  },
  {
   "cell_type": "code",
   "execution_count": 89,
   "metadata": {},
   "outputs": [
    {
     "data": {
      "text/plain": [
       "True"
      ]
     },
     "execution_count": 89,
     "metadata": {},
     "output_type": "execute_result"
    }
   ],
   "source": [
    "r.setex(\"a\", timedelta(seconds=3000), value=\"b\")\n"
   ]
  },
  {
   "cell_type": "code",
   "execution_count": 90,
   "metadata": {},
   "outputs": [
    {
     "data": {
      "text/plain": [
       "True"
      ]
     },
     "execution_count": 90,
     "metadata": {},
     "output_type": "execute_result"
    }
   ],
   "source": [
    "r.expire(\"a\", timedelta(seconds=3))\n",
    "r.persist(\"a\")"
   ]
  },
  {
   "cell_type": "code",
   "execution_count": 91,
   "metadata": {},
   "outputs": [
    {
     "data": {
      "text/plain": [
       "-1"
      ]
     },
     "execution_count": 91,
     "metadata": {},
     "output_type": "execute_result"
    }
   ],
   "source": [
    "r.ttl(\"a\")"
   ]
  },
  {
   "cell_type": "code",
   "execution_count": null,
   "metadata": {},
   "outputs": [],
   "source": []
  }
 ],
 "metadata": {
  "kernelspec": {
   "display_name": "Python 3.8.15 64-bit",
   "language": "python",
   "name": "python3"
  },
  "language_info": {
   "codemirror_mode": {
    "name": "ipython",
    "version": 3
   },
   "file_extension": ".py",
   "mimetype": "text/x-python",
   "name": "python",
   "nbconvert_exporter": "python",
   "pygments_lexer": "ipython3",
   "version": "3.8.15"
  },
  "orig_nbformat": 4,
  "vscode": {
   "interpreter": {
    "hash": "5b3ded1ccb95c1d9bd405e7b823d9e85424cde40fbb5985eb47e999ef50e15b4"
   }
  }
 },
 "nbformat": 4,
 "nbformat_minor": 2
}
