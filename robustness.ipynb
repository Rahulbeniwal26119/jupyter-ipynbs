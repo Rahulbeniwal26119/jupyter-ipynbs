{
 "cells": [
  {
   "cell_type": "code",
   "execution_count": null,
   "metadata": {
    "collapsed": true
   },
   "outputs": [],
   "source": [
    "def try_finally_example(filename):\n",
    "    print(\"* Opening File\")\n",
    "\n",
    "    handle = open(filename, encoding='utf-8')\n",
    "    try:\n",
    "        print('* Reading File')\n",
    "        return handle.read()\n",
    "    finally:\n",
    "        print(\"* Calling Close\")\n",
    "        handle.close()"
   ]
  },
  {
   "cell_type": "code",
   "execution_count": null,
   "outputs": [],
   "source": [
    "filename = 'random_data.txt'\n",
    "with open(filename, 'wb') as f:\n",
    "    f.write(b'\\xf1\\xf2\\xf3')\n",
    "\n",
    "data = try_finally_example(filename)\n"
   ],
   "metadata": {
    "collapsed": false
   }
  },
  {
   "cell_type": "code",
   "execution_count": null,
   "outputs": [],
   "source": [
    "import json\n",
    "\n",
    "\n",
    "def load_json_key(data, key):\n",
    "    try:\n",
    "        print(\"* Loading Json Data\")\n",
    "        result_dict = json.loads(data)\n",
    "    except (ValueError, TypeError) as e:\n",
    "        print(\"* Handling ValueError\")\n",
    "        raise KeyError(key) from e\n",
    "    else:\n",
    "        print(\"* Looking up key\")\n",
    "        return result_dict[key]"
   ],
   "metadata": {
    "collapsed": false
   }
  },
  {
   "cell_type": "code",
   "execution_count": null,
   "outputs": [],
   "source": [
    "load_json_key(True or '{\"foo\": \"bar\"}', 'does not exist')"
   ],
   "metadata": {
    "collapsed": false
   }
  },
  {
   "cell_type": "code",
   "execution_count": null,
   "outputs": [],
   "source": [
    "try:\n",
    "    10/0\n",
    "except ZeroDivisionError as e:\n",
    "    raise ValueError(\"Cannot div by 0\") from e"
   ],
   "metadata": {
    "collapsed": false
   }
  },
  {
   "cell_type": "code",
   "execution_count": null,
   "outputs": [],
   "source": [
    "UNDEFINED = object()\n",
    "import json\n",
    "\n",
    "def divide_json(path):\n",
    "    print(\"* Opening file\")\n",
    "    handle = open(path, 'r+')\n",
    "    try:\n",
    "        print(\"Reading File\")\n",
    "        data = handle.read()\n",
    "        print(\"* Loading JSON Data\")\n",
    "        op = json.loads(data)\n",
    "        print(\"* Performing Calculation\")\n",
    "        value= (\n",
    "            op['numerator'] / op['denominator']\n",
    "        )\n",
    "    except ZeroDivisionError as e:\n",
    "        print(\"* Handling ZeroDivisionError\")\n",
    "        return UNDEFINED\n",
    "    else:\n",
    "        print(\"Writing Calculation\")\n",
    "        op['result'] = value\n",
    "        result = json.dumps(op)\n",
    "        handle.seek(0)\n",
    "        handle.write(result)\n",
    "        return value\n",
    "    finally:\n",
    "        print(\"* Calling close()\")\n",
    "        handle.close()\n",
    "\n",
    "temp = 'random_data.txt'\n",
    "\n",
    "with open(temp, 'w') as f:\n",
    "    f.write('{\"numerator\": 1b}')\n",
    "\n",
    "assert divide_json(temp) == 0.1"
   ],
   "metadata": {
    "collapsed": false
   }
  },
  {
   "cell_type": "code",
   "execution_count": null,
   "outputs": [],
   "source": [
    "import logging\n",
    "from contextlib import contextmanager\n",
    "\n",
    "def my_function():\n",
    "    logging.debug('Some debug data')\n",
    "    logging.error('Error log here')\n",
    "    logging.debug('More debug data')\n",
    "\n",
    "@contextmanager\n",
    "def log_level(level, name):\n",
    "    logger = logging.getLogger(name)\n",
    "    old_level = logger.getEffectiveLevel()\n",
    "    logger.setLevel(level)\n",
    "\n",
    "    try:\n",
    "        print(\"Inside Yield\")\n",
    "        yield logger\n",
    "        print(\"Outside Yield\")\n",
    "    finally:\n",
    "        print(\"Inside finally \", old_level)\n",
    "        logger.setLevel(old_level)\n",
    "\n",
    "with log_level(logging.DEBUG, 'test-logger') as logger:\n",
    "    logger.debug(f'This is my message! {logger.name}!')\n",
    "    logging.debug(\"This will not print\")\n",
    "    my_function()"
   ],
   "metadata": {
    "collapsed": false
   }
  },
  {
   "cell_type": "code",
   "execution_count": null,
   "outputs": [],
   "source": [
    "import time\n",
    "\n",
    "time.strftime(\"%Y-%m-%d %H:%M:%S\", time.localtime())\n",
    "time.gmtime(time.time())"
   ],
   "metadata": {
    "collapsed": false
   }
  },
  {
   "cell_type": "code",
   "execution_count": null,
   "outputs": [],
   "source": [
    "time_tuple = time.strptime('2023-04-21 10:07:29', \"%Y-%m-%d %H:%M:%S\")\n",
    "time.mktime(time_tuple)"
   ],
   "metadata": {
    "collapsed": false
   }
  },
  {
   "cell_type": "code",
   "execution_count": null,
   "outputs": [],
   "source": [
    "parse_format = '%Y-%m-%d %H:%M:%S %Z'\n",
    "depart_sfo = '2014-05-01 15:45:16 IST'\n",
    "\n",
    "time_tuple = time.strptime(depart_sfo, parse_format)\n",
    "time.strftime(parse_format, time_tuple)"
   ],
   "metadata": {
    "collapsed": false
   }
  },
  {
   "cell_type": "code",
   "execution_count": null,
   "outputs": [],
   "source": [
    "from datetime import datetime, timezone\n",
    "\n",
    "\n",
    "now = datetime.now()\n",
    "print(now)\n",
    "now_utc = now.replace(tzinfo=timezone.utc)\n",
    "now_local = now_utc.astimezone()\n",
    "print(now_local)"
   ],
   "metadata": {
    "collapsed": false
   }
  },
  {
   "cell_type": "code",
   "execution_count": null,
   "outputs": [],
   "source": [
    "now = datetime.now()\n",
    "time_tuple = now.timetuple()\n",
    "utc_now = time.mktime(time_tuple)\n",
    "print(utc_now)"
   ],
   "metadata": {
    "collapsed": false
   }
  },
  {
   "cell_type": "code",
   "execution_count": null,
   "outputs": [],
   "source": [
    "import pytz\n",
    "arrival_time = '2014-05-01 08:00:00'\n",
    "\n",
    "nyc_dt_nvaive = datetime.strptime(arrival_time, '%Y-%m-%d %H:%M:%S')\n",
    "est_time = pytz.timezone('US/Eastern')\n",
    "tz_aware_est_time = est_time.localize(nyc_dt_nvaive) # 2014-05-01\n",
    "utc_time = pytz.utc.normalize(tz_aware_est_time.astimezone(pytz.utc))\n",
    "\n",
    "ist = pytz.timezone('Asia/Kolkata')\n",
    "ist_time = ist.normalize(utc_time.astimezone(ist))\n",
    "print(arrival_time, ist_time)"
   ],
   "metadata": {
    "collapsed": false
   }
  },
  {
   "cell_type": "code",
   "execution_count": null,
   "outputs": [],
   "source": [
    "class GameStat:\n",
    "    def __init__(self):\n",
    "        self.level = 0\n",
    "        self.lives = 4\n",
    "\n",
    "state = GameStat()\n",
    "state.level += 1\n",
    "state.lives -= 1\n",
    "\n",
    "print(state.__dict__)"
   ],
   "metadata": {
    "collapsed": false
   }
  },
  {
   "cell_type": "code",
   "execution_count": null,
   "outputs": [],
   "source": [
    "import pickle\n",
    "state_path = 'game_state.bin'\n",
    "\n",
    "with open(state_path, 'wb') as f:\n",
    "    pickle.dump(state, f)\n",
    "with open(state_path, 'rb') as f:\n",
    "    state_after = pickle.load(f)\n",
    "print(state_after.__dict__)"
   ],
   "metadata": {
    "collapsed": false
   }
  },
  {
   "cell_type": "code",
   "execution_count": null,
   "outputs": [],
   "source": [
    "class GameState:\n",
    "    def __init__(self, level=0, lives=4, points=0, magic=5, no_magic=False):\n",
    "        self.level = level\n",
    "        self.lives = lives\n",
    "        self.points = points\n",
    "        self.magic = magic\n",
    "        self.nomagic = no_magic\n",
    "\n",
    "def unpickle_game_state(kwargs):\n",
    "    return GameState(**kwargs)\n",
    "\n",
    "def pickle_game_state(game_state):\n",
    "    kwargs = game_state.__dict__\n",
    "    return unpickle_game_state, (kwargs, )\n",
    "\n",
    "\n",
    "import copyreg\n",
    "\n",
    "copyreg.pickle(GameState, pickle_game_state)\n",
    "#\n",
    "# state = GameState()\n",
    "# state.points += 100\n",
    "serialized = pickle.dumps(state)\n",
    "state_after = pickle.loads(serialized)\n",
    "\n",
    "print(state_after.__dict__)"
   ],
   "metadata": {
    "collapsed": false
   }
  },
  {
   "cell_type": "code",
   "execution_count": null,
   "outputs": [],
   "source": [
    "state_after.magic"
   ],
   "metadata": {
    "collapsed": false
   }
  },
  {
   "cell_type": "code",
   "execution_count": null,
   "outputs": [],
   "source": [
    "class GameState:\n",
    "    def __init__(self, level=0, points=0, magic=5, no_magic=False):\n",
    "        self.level = level\n",
    "        self.points = points\n",
    "        self.magic = magic\n",
    "        self.nomagic = no_magic"
   ],
   "metadata": {
    "collapsed": false
   }
  },
  {
   "cell_type": "code",
   "execution_count": null,
   "outputs": [],
   "source": [
    "def unpickle_game_state(kwargs):\n",
    "    version = kwargs.pop('version', 1)\n",
    "    if version == 1:\n",
    "        del kwargs['lives']\n",
    "    return GameState(**kwargs)\n",
    "\n",
    "def pickle_game_state(game_state):\n",
    "    kwargs = game_state.__dict__\n",
    "    kwargs['version'] = 2\n",
    "    return None, (kwargs)\n",
    "\n",
    "copyreg.pickle(GameState, pickle_game_state)\n",
    "\n",
    "state = GameState()\n",
    "print(state.__dict__)\n",
    "pickle.loads(serialized).__dict__"
   ],
   "metadata": {
    "collapsed": false
   }
  },
  {
   "cell_type": "code",
   "execution_count": null,
   "outputs": [],
   "source": [
    "from decimal import Decimal\n",
    "\n",
    "rate = Decimal('1.45')\n",
    "seconds = Decimal(3*60 + 42)\n",
    "\n",
    "cost = rate * seconds / Decimal(60)\n",
    "print(cost)"
   ],
   "metadata": {
    "collapsed": false
   }
  },
  {
   "cell_type": "code",
   "execution_count": null,
   "outputs": [],
   "source": [
    "from decimal import ROUND_UP, Decimal\n",
    "\n",
    "rate = Decimal('0.05')\n",
    "seconds = Decimal(\"5\")\n",
    "small_cost = rate * seconds / Decimal(60)\n",
    "small_cost = small_cost.quantize(Decimal('.0000'))\n",
    "print(small_cost)"
   ],
   "metadata": {
    "collapsed": false
   }
  },
  {
   "cell_type": "code",
   "execution_count": null,
   "outputs": [],
   "source": [
    "decimla_number = Decimal('3.14159')\n",
    "rounded_number = decimla_number.quantize(Decimal('0.000'))\n",
    "print(rounded_number)"
   ],
   "metadata": {
    "collapsed": false
   }
  },
  {
   "cell_type": "code",
   "execution_count": null,
   "outputs": [],
   "source": [
    "Decimal(1/3).__round__(18)"
   ],
   "metadata": {
    "collapsed": false
   }
  },
  {
   "cell_type": "markdown",
   "source": [
    "# Profiling"
   ],
   "metadata": {
    "collapsed": false
   }
  },
  {
   "cell_type": "code",
   "execution_count": 11,
   "outputs": [],
   "source": [
    "def insertion_sort(data):\n",
    "    result = []\n",
    "    for value in data:\n",
    "        insert_val2(result, value)\n",
    "    return result\n",
    "\n",
    "def insert_value(array, value):\n",
    "    for i, existing in enumerate(array):\n",
    "        if existing > value:\n",
    "            array.insert(i, value)\n",
    "            return\n",
    "    array.append(value)\n",
    "\n",
    "def insert_val2(array, value):\n",
    "    from bisect import bisect_left\n",
    "    i = bisect_left(array, value)\n",
    "    array.insert(i, value)\n"
   ],
   "metadata": {
    "collapsed": false
   }
  },
  {
   "cell_type": "code",
   "execution_count": 12,
   "outputs": [],
   "source": [
    "from random import randint\n",
    "\n",
    "max_size = 10 ** 4\n",
    "\n",
    "data = [randint(0, max_size) for num in range(max_size)]\n",
    "test = lambda : insertion_sort(data)\n"
   ],
   "metadata": {
    "collapsed": false
   }
  },
  {
   "cell_type": "code",
   "execution_count": 13,
   "outputs": [
    {
     "data": {
      "text/plain": "[1,\n 3,\n 3,\n 4,\n 5,\n 6,\n 7,\n 7,\n 7,\n 8,\n 11,\n 12,\n 13,\n 14,\n 16,\n 17,\n 20,\n 21,\n 21,\n 21,\n 24,\n 26,\n 26,\n 27,\n 28,\n 28,\n 29,\n 30,\n 31,\n 32,\n 33,\n 37,\n 38,\n 38,\n 39,\n 39,\n 41,\n 42,\n 42,\n 42,\n 44,\n 47,\n 49,\n 50,\n 51,\n 52,\n 54,\n 54,\n 55,\n 56,\n 56,\n 57,\n 57,\n 57,\n 57,\n 58,\n 59,\n 62,\n 65,\n 65,\n 66,\n 66,\n 67,\n 68,\n 70,\n 70,\n 71,\n 71,\n 72,\n 72,\n 72,\n 72,\n 74,\n 74,\n 75,\n 77,\n 77,\n 80,\n 80,\n 80,\n 82,\n 82,\n 84,\n 85,\n 85,\n 85,\n 87,\n 88,\n 89,\n 89,\n 89,\n 90,\n 94,\n 94,\n 94,\n 95,\n 95,\n 96,\n 96,\n 96,\n 99,\n 100,\n 101,\n 102,\n 103,\n 103,\n 104,\n 104,\n 107,\n 109,\n 109,\n 111,\n 111,\n 113,\n 114,\n 115,\n 116,\n 117,\n 117,\n 117,\n 119,\n 119,\n 122,\n 125,\n 125,\n 125,\n 126,\n 127,\n 127,\n 129,\n 129,\n 129,\n 130,\n 130,\n 131,\n 131,\n 132,\n 133,\n 133,\n 133,\n 134,\n 136,\n 137,\n 139,\n 139,\n 140,\n 140,\n 141,\n 141,\n 144,\n 144,\n 145,\n 145,\n 147,\n 147,\n 148,\n 149,\n 149,\n 152,\n 153,\n 154,\n 157,\n 157,\n 159,\n 159,\n 159,\n 161,\n 162,\n 163,\n 164,\n 164,\n 165,\n 167,\n 168,\n 168,\n 168,\n 168,\n 169,\n 169,\n 169,\n 170,\n 171,\n 171,\n 172,\n 173,\n 173,\n 174,\n 176,\n 176,\n 177,\n 179,\n 180,\n 181,\n 181,\n 182,\n 184,\n 184,\n 185,\n 185,\n 186,\n 187,\n 187,\n 188,\n 188,\n 189,\n 189,\n 191,\n 192,\n 193,\n 194,\n 194,\n 194,\n 195,\n 196,\n 196,\n 200,\n 200,\n 200,\n 201,\n 203,\n 204,\n 204,\n 204,\n 204,\n 207,\n 208,\n 210,\n 211,\n 212,\n 213,\n 213,\n 213,\n 215,\n 216,\n 217,\n 217,\n 218,\n 218,\n 218,\n 219,\n 219,\n 221,\n 222,\n 222,\n 224,\n 226,\n 227,\n 228,\n 228,\n 230,\n 230,\n 231,\n 233,\n 233,\n 233,\n 234,\n 235,\n 235,\n 236,\n 238,\n 239,\n 240,\n 240,\n 240,\n 243,\n 244,\n 246,\n 247,\n 249,\n 249,\n 251,\n 254,\n 254,\n 254,\n 254,\n 255,\n 255,\n 255,\n 256,\n 260,\n 260,\n 260,\n 261,\n 261,\n 263,\n 264,\n 265,\n 265,\n 266,\n 267,\n 269,\n 269,\n 271,\n 271,\n 273,\n 274,\n 276,\n 277,\n 277,\n 278,\n 278,\n 278,\n 279,\n 281,\n 282,\n 283,\n 284,\n 286,\n 288,\n 290,\n 292,\n 293,\n 293,\n 294,\n 298,\n 298,\n 299,\n 300,\n 301,\n 301,\n 303,\n 304,\n 305,\n 305,\n 305,\n 306,\n 306,\n 307,\n 309,\n 309,\n 309,\n 310,\n 310,\n 310,\n 311,\n 311,\n 311,\n 312,\n 312,\n 313,\n 314,\n 315,\n 315,\n 315,\n 316,\n 321,\n 321,\n 322,\n 325,\n 325,\n 327,\n 327,\n 328,\n 328,\n 329,\n 329,\n 329,\n 330,\n 330,\n 331,\n 332,\n 335,\n 335,\n 337,\n 338,\n 339,\n 339,\n 343,\n 343,\n 344,\n 344,\n 344,\n 346,\n 346,\n 347,\n 348,\n 350,\n 356,\n 356,\n 357,\n 357,\n 357,\n 358,\n 361,\n 362,\n 362,\n 367,\n 368,\n 369,\n 370,\n 370,\n 371,\n 371,\n 372,\n 375,\n 375,\n 377,\n 378,\n 380,\n 380,\n 380,\n 384,\n 384,\n 385,\n 386,\n 386,\n 387,\n 387,\n 388,\n 388,\n 389,\n 390,\n 391,\n 391,\n 391,\n 392,\n 394,\n 394,\n 395,\n 396,\n 396,\n 396,\n 397,\n 397,\n 398,\n 398,\n 398,\n 400,\n 400,\n 401,\n 403,\n 403,\n 404,\n 404,\n 404,\n 405,\n 407,\n 408,\n 409,\n 409,\n 410,\n 411,\n 411,\n 412,\n 412,\n 412,\n 413,\n 415,\n 415,\n 416,\n 418,\n 419,\n 419,\n 420,\n 421,\n 421,\n 422,\n 422,\n 423,\n 425,\n 425,\n 425,\n 425,\n 426,\n 427,\n 428,\n 429,\n 431,\n 431,\n 431,\n 433,\n 439,\n 442,\n 442,\n 442,\n 443,\n 444,\n 444,\n 445,\n 445,\n 446,\n 448,\n 448,\n 448,\n 449,\n 450,\n 450,\n 450,\n 451,\n 451,\n 457,\n 459,\n 459,\n 459,\n 462,\n 463,\n 464,\n 465,\n 465,\n 467,\n 470,\n 472,\n 474,\n 474,\n 476,\n 476,\n 477,\n 482,\n 482,\n 484,\n 485,\n 485,\n 485,\n 485,\n 486,\n 488,\n 490,\n 491,\n 491,\n 492,\n 494,\n 494,\n 495,\n 495,\n 498,\n 498,\n 500,\n 501,\n 502,\n 503,\n 504,\n 506,\n 506,\n 506,\n 509,\n 509,\n 509,\n 511,\n 511,\n 513,\n 515,\n 517,\n 517,\n 518,\n 518,\n 520,\n 521,\n 521,\n 522,\n 523,\n 524,\n 526,\n 527,\n 529,\n 530,\n 530,\n 530,\n 533,\n 535,\n 535,\n 538,\n 539,\n 539,\n 539,\n 539,\n 540,\n 540,\n 542,\n 543,\n 546,\n 546,\n 546,\n 547,\n 547,\n 549,\n 549,\n 551,\n 552,\n 553,\n 553,\n 554,\n 556,\n 557,\n 557,\n 558,\n 559,\n 559,\n 560,\n 561,\n 562,\n 562,\n 564,\n 564,\n 566,\n 566,\n 567,\n 567,\n 567,\n 568,\n 569,\n 571,\n 571,\n 572,\n 572,\n 573,\n 573,\n 573,\n 574,\n 578,\n 580,\n 581,\n 583,\n 584,\n 584,\n 585,\n 585,\n 585,\n 587,\n 588,\n 588,\n 590,\n 590,\n 592,\n 593,\n 594,\n 595,\n 595,\n 595,\n 596,\n 596,\n 597,\n 599,\n 599,\n 599,\n 599,\n 601,\n 601,\n 605,\n 606,\n 608,\n 608,\n 611,\n 613,\n 616,\n 616,\n 618,\n 619,\n 620,\n 621,\n 621,\n 626,\n 627,\n 627,\n 627,\n 629,\n 629,\n 629,\n 629,\n 629,\n 630,\n 630,\n 631,\n 632,\n 632,\n 635,\n 638,\n 640,\n 641,\n 641,\n 641,\n 643,\n 643,\n 646,\n 648,\n 648,\n 650,\n 653,\n 654,\n 656,\n 658,\n 659,\n 659,\n 659,\n 660,\n 661,\n 663,\n 665,\n 665,\n 666,\n 666,\n 668,\n 668,\n 671,\n 672,\n 673,\n 676,\n 678,\n 680,\n 681,\n 681,\n 682,\n 683,\n 683,\n 687,\n 687,\n 689,\n 690,\n 690,\n 690,\n 690,\n 692,\n 693,\n 694,\n 696,\n 697,\n 698,\n 698,\n 699,\n 701,\n 706,\n 706,\n 706,\n 706,\n 706,\n 707,\n 708,\n 709,\n 710,\n 713,\n 713,\n 714,\n 715,\n 717,\n 717,\n 717,\n 718,\n 718,\n 721,\n 722,\n 722,\n 723,\n 723,\n 724,\n 725,\n 726,\n 728,\n 730,\n 730,\n 732,\n 732,\n 732,\n 733,\n 738,\n 739,\n 740,\n 740,\n 741,\n 743,\n 746,\n 748,\n 750,\n 750,\n 751,\n 751,\n 752,\n 753,\n 754,\n 755,\n 756,\n 760,\n 761,\n 762,\n 763,\n 764,\n 765,\n 767,\n 768,\n 770,\n 771,\n 771,\n 771,\n 772,\n 772,\n 772,\n 774,\n 776,\n 776,\n 777,\n 778,\n 778,\n 779,\n 779,\n 781,\n 781,\n 782,\n 782,\n 783,\n 784,\n 784,\n 785,\n 785,\n 787,\n 788,\n 789,\n 790,\n 790,\n 792,\n 796,\n 796,\n 797,\n 797,\n 798,\n 802,\n 802,\n 802,\n 802,\n 803,\n 803,\n 803,\n 805,\n 806,\n 807,\n 808,\n 808,\n 808,\n 810,\n 810,\n 811,\n 811,\n 812,\n 812,\n 814,\n 815,\n 816,\n 817,\n 818,\n 818,\n 820,\n 820,\n 821,\n 824,\n 824,\n 824,\n 825,\n 825,\n 825,\n 825,\n 826,\n 827,\n 831,\n 832,\n 832,\n 834,\n 836,\n 837,\n 837,\n 839,\n 839,\n 840,\n 840,\n 842,\n 843,\n 844,\n 845,\n 846,\n 847,\n 847,\n 848,\n 848,\n 848,\n 850,\n 851,\n 851,\n 852,\n 852,\n 854,\n 855,\n 856,\n 856,\n 856,\n 856,\n 857,\n 858,\n 859,\n 860,\n 860,\n 860,\n 861,\n 861,\n 863,\n 865,\n 865,\n 866,\n 867,\n 868,\n 868,\n 870,\n 870,\n 870,\n 871,\n 872,\n 874,\n 875,\n 875,\n 877,\n 877,\n 878,\n 879,\n 880,\n 880,\n 882,\n 884,\n 887,\n 892,\n 893,\n 893,\n 894,\n 902,\n 902,\n 904,\n 905,\n 906,\n 906,\n 907,\n 907,\n 909,\n 912,\n 914,\n 915,\n 915,\n 916,\n 917,\n 918,\n 918,\n 919,\n 921,\n 923,\n 924,\n 924,\n 925,\n 925,\n 927,\n 927,\n 927,\n 929,\n 929,\n 931,\n 931,\n 932,\n 932,\n 933,\n 933,\n 934,\n 936,\n 936,\n 936,\n 936,\n 936,\n 936,\n 939,\n 940,\n 942,\n 942,\n 944,\n 944,\n 944,\n 945,\n 945,\n 945,\n 946,\n 948,\n 950,\n 951,\n 952,\n 953,\n 954,\n 958,\n 959,\n 959,\n 959,\n 959,\n 960,\n 960,\n 960,\n 960,\n 961,\n 962,\n 963,\n 965,\n 967,\n 967,\n 968,\n 973,\n 974,\n 974,\n 975,\n 976,\n 976,\n 977,\n 977,\n ...]"
     },
     "execution_count": 13,
     "metadata": {},
     "output_type": "execute_result"
    }
   ],
   "source": [
    "from cProfile import Profile\n",
    "\n",
    "profiler = Profile()\n",
    "\n",
    "profiler.runcall(test)"
   ],
   "metadata": {
    "collapsed": false
   }
  },
  {
   "cell_type": "code",
   "execution_count": 14,
   "outputs": [
    {
     "name": "stdout",
     "output_type": "stream",
     "text": [
      "         30003 function calls in 0.032 seconds\n",
      "\n",
      "   Ordered by: cumulative time\n",
      "\n",
      "   ncalls  tottime  percall  cumtime  percall filename:lineno(function)\n",
      "        1    0.000    0.000    0.032    0.032 4048639553.py:6(<lambda>)\n",
      "        1    0.003    0.003    0.032    0.032 362380873.py:1(insertion_sort)\n",
      "    10000    0.020    0.000    0.029    0.000 362380873.py:14(insert_val2)\n",
      "    10000    0.005    0.000    0.005    0.000 {method 'insert' of 'list' objects}\n",
      "    10000    0.005    0.000    0.005    0.000 {built-in method _bisect.bisect_left}\n",
      "        1    0.000    0.000    0.000    0.000 {method 'disable' of '_lsprof.Profiler' objects}\n",
      "\n",
      "\n"
     ]
    },
    {
     "data": {
      "text/plain": "<pstats.Stats at 0x7f8b3c045350>"
     },
     "execution_count": 14,
     "metadata": {},
     "output_type": "execute_result"
    }
   ],
   "source": [
    "from pstats import Stats\n",
    "\n",
    "stats = Stats(profiler)\n",
    "stats.strip_dirs()\n",
    "stats.sort_stats('cumulative')\n",
    "stats.print_stats()"
   ],
   "metadata": {
    "collapsed": false
   }
  },
  {
   "cell_type": "code",
   "execution_count": 1,
   "outputs": [],
   "source": [
    "def my_utitility(a, b):\n",
    "    c = 1\n",
    "    for i in range(100):\n",
    "        c += a * b\n",
    "\n",
    "def first_func():\n",
    "    for _ in range(1000):\n",
    "        my_utitility(4, 5 )\n",
    "\n",
    "def second_fund():\n",
    "    for _ in range(100):\n",
    "        my_utitility(1, 3)\n",
    "\n",
    "def my_program():\n",
    "    for _ in range(20):\n",
    "        first_func()\n",
    "        second_fund()\n",
    "\n",
    "test = lambda  : my_program()\n",
    "from cProfile import Profile\n",
    "prf = Profile()\n",
    "prf.runcall(test)\n"
   ],
   "metadata": {
    "collapsed": false
   }
  },
  {
   "cell_type": "code",
   "execution_count": 2,
   "outputs": [
    {
     "name": "stdout",
     "output_type": "stream",
     "text": [
      "   Ordered by: cumulative time\n",
      "\n",
      "Function                                            was called by...\n",
      "                                                        ncalls  tottime  cumtime\n",
      "/tmp/ipykernel_46952/1666601326.py:19(<lambda>)     <- \n",
      "/tmp/ipykernel_46952/1666601326.py:14(my_program)   <-       1    0.000    0.106  /tmp/ipykernel_46952/1666601326.py:19(<lambda>)\n",
      "/tmp/ipykernel_46952/1666601326.py:1(my_utitility)  <-   20000    0.093    0.093  /tmp/ipykernel_46952/1666601326.py:6(first_func)\n",
      "                                                          2000    0.008    0.008  /tmp/ipykernel_46952/1666601326.py:10(second_fund)\n",
      "/tmp/ipykernel_46952/1666601326.py:6(first_func)    <-      20    0.004    0.097  /tmp/ipykernel_46952/1666601326.py:14(my_program)\n",
      "/tmp/ipykernel_46952/1666601326.py:10(second_fund)  <-      20    0.000    0.008  /tmp/ipykernel_46952/1666601326.py:14(my_program)\n",
      "{method 'disable' of '_lsprof.Profiler' objects}    <- \n",
      "\n",
      "\n"
     ]
    },
    {
     "data": {
      "text/plain": "<pstats.Stats at 0x7f8b3c035d10>"
     },
     "execution_count": 2,
     "metadata": {},
     "output_type": "execute_result"
    }
   ],
   "source": [
    "from pstats import Stats\n",
    "prfs = Stats(prf)\n",
    "prfs.sort_stats('cumulative')\n",
    "prfs.print_callers()"
   ],
   "metadata": {
    "collapsed": false
   }
  },
  {
   "cell_type": "code",
   "execution_count": 5,
   "outputs": [
    {
     "name": "stdout",
     "output_type": "stream",
     "text": [
      "Count  1000 takes 0.000023s\n",
      "Count  1000 takes 0.000015s\n",
      "1.00x growth, 0.65x slowdown\n",
      "Count  2000 takes 0.000024s\n",
      "2.00x growth, 1.05x slowdown\n",
      "Count  3000 takes 0.000037s\n",
      "3.00x growth, 1.59x slowdown\n"
     ]
    }
   ],
   "source": [
    "import timeit\n",
    "\n",
    "def print_result(count, tests):\n",
    "    avg_it = sum(tests)/ len(tests)\n",
    "    print(f\"Count {count:>5} takes {avg_it:.6f}s\")\n",
    "    return count, avg_it\n",
    "\n",
    "def list_append_benchmark(count):\n",
    "    def run(queue):\n",
    "        for _ in range(count):\n",
    "            queue.append(_)\n",
    "\n",
    "    tests = timeit.repeat(\n",
    "        setup=\"queue = []\",\n",
    "        stmt='run(queue)',\n",
    "        globals=locals(),\n",
    "        repeat=1000,\n",
    "        number=1\n",
    "    )\n",
    "    return print_result(count, tests)\n",
    "\n",
    "def print_delta(before, after):\n",
    "    before_count, before_time = before\n",
    "    after_count, after_time = after\n",
    "\n",
    "    growth = 1 + (after_count - before_count) / before_count\n",
    "    slowdown = 1 + (after_time - before_time) / before_time\n",
    "\n",
    "    print(f\"{growth:.2f}x growth, {slowdown:.2f}x slowdown\")\n",
    "\n",
    "baseline = list_append_benchmark(1000)\n",
    "for count in (1_000, 2_000, 3_000):\n",
    "    comparision = list_append_benchmark(count)\n",
    "    print_delta(baseline, comparision)\n",
    "# for count in"
   ],
   "metadata": {
    "collapsed": false
   }
  },
  {
   "cell_type": "code",
   "execution_count": 11,
   "outputs": [
    {
     "name": "stdout",
     "output_type": "stream",
     "text": [
      "Count   500 takes 0.000008s\n",
      "Count  1000 takes 0.000013s\n",
      "2.00x growth, 1.52x slowdown\n",
      "Count  2000 takes 0.000025s\n",
      "4.00x growth, 3.00x slowdown\n",
      "Count  3000 takes 0.000040s\n",
      "6.00x growth, 4.73x slowdown\n",
      "Count  4000 takes 0.000052s\n",
      "8.00x growth, 6.22x slowdown\n",
      "Count  5000 takes 0.000075s\n",
      "10.00x growth, 8.92x slowdown\n"
     ]
    }
   ],
   "source": [
    "import collections\n",
    "\n",
    "\n",
    "def list_pop_benchmark(count):\n",
    "    def prepare():\n",
    "        return collections.deque(range(count))\n",
    "\n",
    "    def run(queue):\n",
    "        while queue:\n",
    "            queue.popleft()\n",
    "\n",
    "    tests = timeit.repeat(\n",
    "    setup='queue = prepare()',\n",
    "    stmt='run(queue)',\n",
    "    globals=locals(),\n",
    "    repeat=1000,\n",
    "    number=1)\n",
    "    return print_result(count, tests)\n",
    "\n",
    "baseline = list_pop_benchmark(500)\n",
    "for count in (1_000, 2_000, 3_000, 4_000, 5_000):\n",
    "    comparison = list_pop_benchmark(count)\n",
    "    print_delta(baseline, comparison)"
   ],
   "metadata": {
    "collapsed": false
   }
  },
  {
   "cell_type": "code",
   "execution_count": 20,
   "outputs": [
    {
     "data": {
      "text/plain": "3"
     },
     "execution_count": 20,
     "metadata": {},
     "output_type": "execute_result"
    }
   ],
   "source": [
    "from bisect import bisect_left\n",
    "l = [10, 20, 30]\n",
    "index = bisect_left([100, 1001, 10, 20, 30], 20)\n",
    "index"
   ],
   "metadata": {
    "collapsed": false
   }
  },
  {
   "cell_type": "code",
   "execution_count": 2,
   "outputs": [
    {
     "name": "stdout",
     "output_type": "stream",
     "text": [
      "[Book(C, 2019-05-03), Book(B, 2019-06-02), Book(A, 2019-06-01), Book(D, 2019-06-04)]\n"
     ]
    }
   ],
   "source": [
    "import functools\n",
    "import heapq\n",
    "\n",
    "\n",
    "@functools.total_ordering\n",
    "class Book:\n",
    "    def __init__(self, title, date):\n",
    "        self.title = title\n",
    "        self.date = date\n",
    "\n",
    "    def __lt__(self, other):\n",
    "        return self.date < other.date\n",
    "\n",
    "    def __repr__(self):\n",
    "        return f\"Book({self.title}, {self.date})\"\n",
    "\n",
    "queue = []\n",
    "\n",
    "heapq.heappush(queue, Book('A', '2019-06-01'))\n",
    "heapq.heappush(queue, Book('B', '2019-06-02'))\n",
    "heapq.heappush(queue, Book('C', '2019-05-03'))\n",
    "heapq.heappush(queue, Book('D', '2019-06-04'))\n",
    "\n",
    "print(queue)"
   ],
   "metadata": {
    "collapsed": false
   }
  },
  {
   "cell_type": "code",
   "execution_count": 4,
   "outputs": [
    {
     "name": "stdout",
     "output_type": "stream",
     "text": [
      "[Book(The Time Machine, 2019-05-30), Book(Pride and Prejudice, 2019-06-01), Book(Crime and Punishment, 2019-06-06), Book(Wuthering Heights, 2019-06-12)]\n"
     ]
    }
   ],
   "source": [
    "from heapq import heapify\n",
    "queue = [\n",
    "Book('Pride and Prejudice', '2019-06-01'),\n",
    "Book('The Time Machine', '2019-05-30'),\n",
    "Book('Crime and Punishment', '2019-06-06'),\n",
    "Book('Wuthering Heights', '2019-06-12'),\n",
    "]\n",
    "heapify(queue)\n",
    "print(queue)"
   ],
   "metadata": {
    "collapsed": false
   }
  },
  {
   "cell_type": "code",
   "execution_count": 17,
   "outputs": [
    {
     "name": "stdout",
     "output_type": "stream",
     "text": [
      "5\n",
      "b'Shave'\n",
      "b'Shave and a haircut, two bits'\n"
     ]
    }
   ],
   "source": [
    "data = b'Shave and a haircut, two bits'\n",
    "\n",
    "view = memoryview(data)\n",
    "chunk = view[0:5]\n",
    "print(chunk.nbytes)\n",
    "print(chunk.tobytes())\n",
    "print(chunk.obj)"
   ],
   "metadata": {
    "collapsed": false
   }
  },
  {
   "cell_type": "code",
   "execution_count": 19,
   "outputs": [
    {
     "name": "stdout",
     "output_type": "stream",
     "text": [
      "bytearray(b'Hello')\n"
     ]
    }
   ],
   "source": [
    "my_bytes = bytearray(b'hello')\n",
    "my_bytes[0] = 72\n",
    "\n",
    "print(my_bytes)"
   ],
   "metadata": {
    "collapsed": false
   }
  },
  {
   "cell_type": "code",
   "execution_count": 22,
   "outputs": [
    {
     "ename": "TypeError",
     "evalue": "cannot modify read-only memory",
     "output_type": "error",
     "traceback": [
      "\u001B[0;31m---------------------------------------------------------------------------\u001B[0m",
      "\u001B[0;31mTypeError\u001B[0m                                 Traceback (most recent call last)",
      "Cell \u001B[0;32mIn[22], line 2\u001B[0m\n\u001B[1;32m      1\u001B[0m mm \u001B[38;5;241m=\u001B[39m \u001B[38;5;28mmemoryview\u001B[39m(\u001B[38;5;124mb\u001B[39m\u001B[38;5;124m'\u001B[39m\u001B[38;5;124mHello World\u001B[39m\u001B[38;5;124m'\u001B[39m)\n\u001B[0;32m----> 2\u001B[0m \u001B[43mmm\u001B[49m\u001B[43m[\u001B[49m\u001B[43m:\u001B[49m\u001B[38;5;241;43m2\u001B[39;49m\u001B[43m]\u001B[49m \u001B[38;5;241m=\u001B[39m \u001B[38;5;124mb\u001B[39m\u001B[38;5;124m'\u001B[39m\u001B[38;5;124mJ\u001B[39m\u001B[38;5;124m'\u001B[39m\n\u001B[1;32m      3\u001B[0m \u001B[38;5;28mprint\u001B[39m(mm)\n",
      "\u001B[0;31mTypeError\u001B[0m: cannot modify read-only memory"
     ]
    }
   ],
   "source": [
    "mm = memoryview(b'Hello World')\n",
    "mm[:2] = b'J'\n",
    "print(mm)"
   ],
   "metadata": {
    "collapsed": false
   }
  },
  {
   "cell_type": "code",
   "execution_count": 23,
   "outputs": [
    {
     "name": "stdout",
     "output_type": "stream",
     "text": [
      "bytearray(b'Jallo world')\n"
     ]
    }
   ],
   "source": [
    "my_array = bytearray(b'hello world')\n",
    "mm = memoryview(my_array)\n",
    "mm[:2] = b'Ja'\n",
    "print(my_array)"
   ],
   "metadata": {
    "collapsed": false
   }
  }
 ],
 "metadata": {
  "kernelspec": {
   "display_name": "Python 3",
   "language": "python",
   "name": "python3"
  },
  "language_info": {
   "codemirror_mode": {
    "name": "ipython",
    "version": 2
   },
   "file_extension": ".py",
   "mimetype": "text/x-python",
   "name": "python",
   "nbconvert_exporter": "python",
   "pygments_lexer": "ipython2",
   "version": "2.7.6"
  }
 },
 "nbformat": 4,
 "nbformat_minor": 0
}
