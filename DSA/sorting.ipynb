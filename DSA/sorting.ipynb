{
 "cells": [
  {
   "cell_type": "code",
   "execution_count": 19,
   "metadata": {},
   "outputs": [
    {
     "data": {
      "text/plain": [
       "[1, 2, 3, 4, 5, 6, 7, 8, 9, 10]"
      ]
     },
     "execution_count": 19,
     "metadata": {},
     "output_type": "execute_result"
    }
   ],
   "source": [
    "##### Selection Sort \n",
    "\n",
    "def find_smallest(numbers:list):\n",
    "    smallest = numbers[0]\n",
    "    for value in numbers:\n",
    "        if value < smallest:\n",
    "            smallest = value\n",
    "    return smallest\n",
    "\n",
    "def selection_sort(numbers:list):\n",
    "    new_arr = []\n",
    "    for _ in range(len(numbers)):\n",
    "        smallest = find_smallest(numbers)\n",
    "        numbers.remove(smallest)\n",
    "        new_arr.append(smallest)\n",
    "    return new_arr\n",
    "\n",
    "num = list(range(10, 0, -1))\n",
    "selection_sort(num)"
   ]
  },
  {
   "cell_type": "code",
   "execution_count": null,
   "metadata": {},
   "outputs": [],
   "source": []
  },
  {
   "cell_type": "code",
   "execution_count": null,
   "metadata": {},
   "outputs": [],
   "source": []
  },
  {
   "cell_type": "code",
   "execution_count": null,
   "metadata": {},
   "outputs": [],
   "source": []
  }
 ],
 "metadata": {
  "kernelspec": {
   "display_name": "Python 3",
   "language": "python",
   "name": "python3"
  },
  "language_info": {
   "codemirror_mode": {
    "name": "ipython",
    "version": 3
   },
   "file_extension": ".py",
   "mimetype": "text/x-python",
   "name": "python",
   "nbconvert_exporter": "python",
   "pygments_lexer": "ipython3",
   "version": "3.11.1"
  },
  "orig_nbformat": 4
 },
 "nbformat": 4,
 "nbformat_minor": 2
}
