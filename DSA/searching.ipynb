{
 "cells": [
  {
   "cell_type": "code",
   "execution_count": 1,
   "metadata": {},
   "outputs": [
    {
     "name": "stdout",
     "output_type": "stream",
     "text": [
      "52\n",
      "28\n",
      "40\n",
      "34\n",
      "31\n",
      "7\n"
     ]
    }
   ],
   "source": [
    "# Iterative Binary Search\n",
    "\n",
    "numbers = range(10, 100, 3)\n",
    "element_to_find = 31\n",
    "\n",
    "low = 0\n",
    "high = len(numbers) - 1\n",
    "mid = (low + high) // 2\n",
    "index = None\n",
    "\n",
    "while low <= high:\n",
    "    print(numbers[mid])\n",
    "    if numbers[mid] == element_to_find:\n",
    "        index = mid\n",
    "        break\n",
    "    elif element_to_find > numbers[mid]:\n",
    "        low = mid + 1\n",
    "    else:\n",
    "        high = mid - 1\n",
    "    mid = (low + high) // 2\n",
    "\n",
    "print(index)\n"
   ]
  },
  {
   "cell_type": "code",
   "execution_count": 13,
   "metadata": {},
   "outputs": [
    {
     "data": {
      "text/plain": [
       "7"
      ]
     },
     "execution_count": 13,
     "metadata": {},
     "output_type": "execute_result"
    }
   ],
   "source": [
    "# Recursive Binary Search\n",
    "\n",
    "def bin_search(arr, low, high, value):\n",
    "    mid = (low + high) // 2\n",
    "\n",
    "    if low > high:\n",
    "        return None \n",
    "    if arr[mid] == value:\n",
    "        return mid\n",
    "    elif value > arr[mid]:\n",
    "        return bin_search(arr, mid+1, high, value)\n",
    "    else:\n",
    "        return bin_search(arr, low, mid-1, value)\n",
    "\n",
    "bin_search(range(10, 100, 3), 0, len(range(10, 100, 3))-1, 31)"
   ]
  },
  {
   "cell_type": "code",
   "execution_count": null,
   "metadata": {},
   "outputs": [],
   "source": [
    "return          user.is_active and (\n",
    "                user.is_superuser or\n",
    "                user.client_type == User.USER_TYPE_CSR or\n",
    "                user.client_type == User.USER_TYPE_CSRM or\n",
    "                user.client_type == User.USER_TYPE_APPOINTMENT_SETTER or\n",
    "                user.client_type == User.USER_TYPE_HOME_SECURITY_EXPERT or\n",
    "                user.client_type == User.USER_TYPE_CSR_SUPPORT or\n",
    "                user.client_type == User.USER_TYPE_HOME_SECURITY_CSR or\n",
    "                user.client_type == User.USER_TYPE_MOVEEASY_ACCOUNT_MANAGER or\n",
    "                user.client_type == User.USER_TYPE_MOVEEASY_ACCOUNT_MANAGER_ADMIN or\n",
    "                user.client_type == User.USER_TYPE_MOVEEASY_ACCOUNT_MANAGER_TRAINEE\n",
    "            )\n",
    "        )"
   ]
  }
 ],
 "metadata": {
  "kernelspec": {
   "display_name": "Python 3",
   "language": "python",
   "name": "python3"
  },
  "language_info": {
   "codemirror_mode": {
    "name": "ipython",
    "version": 3
   },
   "file_extension": ".py",
   "mimetype": "text/x-python",
   "name": "python",
   "nbconvert_exporter": "python",
   "pygments_lexer": "ipython3",
   "version": "3.11.1"
  },
  "orig_nbformat": 4
 },
 "nbformat": 4,
 "nbformat_minor": 2
}
