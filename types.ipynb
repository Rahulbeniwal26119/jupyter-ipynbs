{
 "cells": [
  {
   "cell_type": "code",
   "execution_count": null,
   "metadata": {},
   "outputs": [],
   "source": [
    "class _C:\n",
    "    def _m(self,a,b): pass \n",
    "\n",
    "MethodType = _C()._m.__class__\n",
    "fn = _C()._m.__func__\n",
    "print(MethodType)\n",
    "print(fn)"
   ]
  },
  {
   "cell_type": "code",
   "execution_count": null,
   "metadata": {},
   "outputs": [],
   "source": [
    "print(object.__init__.__class__)\n",
    "print(object().__str__.__class__)\n",
    "print(type([].append))"
   ]
  },
  {
   "cell_type": "code",
   "execution_count": null,
   "metadata": {},
   "outputs": [],
   "source": [
    "# get function params list \n",
    "\n",
    "import inspect\n",
    "# inspect.Signature([fn])\n",
    "c = object()\n",
    "inspect.getsourcefile(_C) # get source file name\n",
    "inspect.getfile(_C) # get source file name\n",
    "inspect.getmodule(_C) # get module name"
   ]
  },
  {
   "cell_type": "code",
   "execution_count": 19,
   "metadata": {},
   "outputs": [
    {
     "name": "stdout",
     "output_type": "stream",
     "text": [
      "[]\n"
     ]
    }
   ],
   "source": [
    "import ast \n",
    "ast_module = compile('print(\"Hello\")', '<string>', 'exec', flags=ast.PyCF_ONLY_AST) # generate ast)\n",
    "# ast.PyCF_ONLY_AST"
   ]
  },
  {
   "cell_type": "code",
   "execution_count": null,
   "metadata": {},
   "outputs": [],
   "source": []
  }
 ],
 "metadata": {
  "interpreter": {
   "hash": "916dbcbb3f70747c44a77c7bcd40155683ae19c65e1c03b4aa3499c5328201f1"
  },
  "kernelspec": {
   "display_name": "Python 3.10.4 64-bit",
   "language": "python",
   "name": "python3"
  },
  "language_info": {
   "codemirror_mode": {
    "name": "ipython",
    "version": 3
   },
   "file_extension": ".py",
   "mimetype": "text/x-python",
   "name": "python",
   "nbconvert_exporter": "python",
   "pygments_lexer": "ipython3",
   "version": "3.10.4"
  },
  "orig_nbformat": 4
 },
 "nbformat": 4,
 "nbformat_minor": 2
}
