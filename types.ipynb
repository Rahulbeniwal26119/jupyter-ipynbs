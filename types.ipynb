{
 "cells": [
  {
   "cell_type": "code",
   "execution_count": 3,
   "metadata": {},
   "outputs": [
    {
     "name": "stdout",
     "output_type": "stream",
     "text": [
      "<class 'method'>\n",
      "<function _C._m at 0x7f7fd182be20>\n"
     ]
    }
   ],
   "source": [
    "class _C:\n",
    "    def _m(self,a,b): pass \n",
    "\n",
    "MethodType = _C()._m.__class__\n",
    "fn = _C()._m.__func__\n",
    "print(MethodType)\n",
    "print(fn)"
   ]
  },
  {
   "cell_type": "code",
   "execution_count": 4,
   "metadata": {},
   "outputs": [
    {
     "name": "stdout",
     "output_type": "stream",
     "text": [
      "<class 'wrapper_descriptor'>\n",
      "<class 'method-wrapper'>\n",
      "<class 'builtin_function_or_method'>\n"
     ]
    }
   ],
   "source": [
    "print(object.__init__.__class__)\n",
    "print(object().__str__.__class__)\n",
    "print(type([].append))"
   ]
  },
  {
   "cell_type": "code",
   "execution_count": null,
   "metadata": {},
   "outputs": [],
   "source": [
    "# get function params list \n",
    "\n",
    "import inspect\n",
    "# inspect.Signature([fn])\n",
    "c = object()\n",
    "inspect.getsourcefile(_C) # get source file name\n",
    "inspect.getfile(_C) # get source file name\n",
    "inspect.getmodule(_C) # get module name"
   ]
  },
  {
   "cell_type": "code",
   "execution_count": 1,
   "metadata": {},
   "outputs": [],
   "source": [
    "import ast \n",
    "ast_module = compile('print(\"Hello\")', '<string>', 'exec', flags=ast.PyCF_ONLY_AST) # generate ast)\n",
    "# ast.PyCF_ONLY_AST"
   ]
  },
  {
   "cell_type": "code",
   "execution_count": 2,
   "metadata": {},
   "outputs": [
    {
     "data": {
      "text/plain": [
       "<ast.Module at 0x7f7fd1839ed0>"
      ]
     },
     "execution_count": 2,
     "metadata": {},
     "output_type": "execute_result"
    }
   ],
   "source": [
    "ast_module"
   ]
  }
 ],
 "metadata": {
  "kernelspec": {
   "display_name": "Python 3",
   "language": "python",
   "name": "python3"
  },
  "language_info": {
   "codemirror_mode": {
    "name": "ipython",
    "version": 3
   },
   "file_extension": ".py",
   "mimetype": "text/x-python",
   "name": "python",
   "nbconvert_exporter": "python",
   "pygments_lexer": "ipython3",
   "version": "3.11.1"
  },
  "orig_nbformat": 4,
  "vscode": {
   "interpreter": {
    "hash": "930379a8b39fc407f21aba7d78a18ad6c0dff7af07878b7bb9289a4858cd86cf"
   }
  }
 },
 "nbformat": 4,
 "nbformat_minor": 2
}
