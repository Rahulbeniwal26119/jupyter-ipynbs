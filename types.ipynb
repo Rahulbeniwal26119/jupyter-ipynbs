{
 "cells": [
  {
   "cell_type": "code",
   "execution_count": 18,
   "metadata": {},
   "outputs": [
    {
     "name": "stdout",
     "output_type": "stream",
     "text": [
      "<class 'method'>\n",
      "<function _C._m at 0x7ff75d5bba30>\n"
     ]
    }
   ],
   "source": [
    "class _C:\n",
    "    def _m(self,a,b): pass \n",
    "\n",
    "MethodType = _C()._m.__class__\n",
    "fn = _C()._m.__func__\n",
    "print(MethodType)\n",
    "print(fn)"
   ]
  },
  {
   "cell_type": "code",
   "execution_count": 14,
   "metadata": {},
   "outputs": [
    {
     "name": "stdout",
     "output_type": "stream",
     "text": [
      "<class 'wrapper_descriptor'>\n",
      "<class 'method-wrapper'>\n",
      "<class 'builtin_function_or_method'>\n"
     ]
    }
   ],
   "source": [
    "print(object.__init__.__class__)\n",
    "print(object().__str__.__class__)\n",
    "print(type([].append))"
   ]
  },
  {
   "cell_type": "code",
   "execution_count": 19,
   "metadata": {},
   "outputs": [
    {
     "ename": "TypeError",
     "evalue": "'function' object is not iterable",
     "output_type": "error",
     "traceback": [
      "\u001b[0;31m---------------------------------------------------------------------------\u001b[0m",
      "\u001b[0;31mTypeError\u001b[0m                                 Traceback (most recent call last)",
      "\u001b[1;32m/home/rahul/project/rest/ipynbs/Concurrency/types.ipynb Cell 3'\u001b[0m in \u001b[0;36m<cell line: 4>\u001b[0;34m()\u001b[0m\n\u001b[1;32m      <a href='vscode-notebook-cell:/home/rahul/project/rest/ipynbs/Concurrency/types.ipynb#ch0000002?line=0'>1</a>\u001b[0m \u001b[39m# get function params list \u001b[39;00m\n\u001b[1;32m      <a href='vscode-notebook-cell:/home/rahul/project/rest/ipynbs/Concurrency/types.ipynb#ch0000002?line=2'>3</a>\u001b[0m \u001b[39mimport\u001b[39;00m \u001b[39minspect\u001b[39;00m\n\u001b[0;32m----> <a href='vscode-notebook-cell:/home/rahul/project/rest/ipynbs/Concurrency/types.ipynb#ch0000002?line=3'>4</a>\u001b[0m inspect\u001b[39m.\u001b[39;49mSignature(fn)\n",
      "File \u001b[0;32m/usr/lib/python3.10/inspect.py:2927\u001b[0m, in \u001b[0;36mSignature.__init__\u001b[0;34m(self, parameters, return_annotation, __validate_parameters__)\u001b[0m\n\u001b[1;32m   <a href='file:///usr/lib/python3.10/inspect.py?line=2923'>2924</a>\u001b[0m top_kind \u001b[39m=\u001b[39m _POSITIONAL_ONLY\n\u001b[1;32m   <a href='file:///usr/lib/python3.10/inspect.py?line=2924'>2925</a>\u001b[0m kind_defaults \u001b[39m=\u001b[39m \u001b[39mFalse\u001b[39;00m\n\u001b[0;32m-> <a href='file:///usr/lib/python3.10/inspect.py?line=2926'>2927</a>\u001b[0m \u001b[39mfor\u001b[39;00m param \u001b[39min\u001b[39;00m parameters:\n\u001b[1;32m   <a href='file:///usr/lib/python3.10/inspect.py?line=2927'>2928</a>\u001b[0m     kind \u001b[39m=\u001b[39m param\u001b[39m.\u001b[39mkind\n\u001b[1;32m   <a href='file:///usr/lib/python3.10/inspect.py?line=2928'>2929</a>\u001b[0m     name \u001b[39m=\u001b[39m param\u001b[39m.\u001b[39mname\n",
      "\u001b[0;31mTypeError\u001b[0m: 'function' object is not iterable"
     ]
    }
   ],
   "source": [
    "# get function params list \n",
    "\n",
    "import inspect\n",
    "inspect.Signature(fn)"
   ]
  }
 ],
 "metadata": {
  "interpreter": {
   "hash": "14d1a336a5d0a9f27c6e9ae878bd2adc48d29b1972f98f3643b654eb834e99e6"
  },
  "kernelspec": {
   "display_name": "Python 3.10.4 ('venv': venv)",
   "language": "python",
   "name": "python3"
  },
  "language_info": {
   "codemirror_mode": {
    "name": "ipython",
    "version": 3
   },
   "file_extension": ".py",
   "mimetype": "text/x-python",
   "name": "python",
   "nbconvert_exporter": "python",
   "pygments_lexer": "ipython3",
   "version": "3.10.4"
  },
  "orig_nbformat": 4
 },
 "nbformat": 4,
 "nbformat_minor": 2
}
