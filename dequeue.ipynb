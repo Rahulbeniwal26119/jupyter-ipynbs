{
 "cells": [
  {
   "cell_type": "code",
   "execution_count": 4,
   "metadata": {},
   "outputs": [
    {
     "name": "stdout",
     "output_type": "stream",
     "text": [
      "deque([10, 2, 3, 4])\n"
     ]
    }
   ],
   "source": [
    "from collections import deque\n",
    "\n",
    "d = deque([1,2,3,4])\n",
    "p = d.popleft()\n",
    "d.appendleft(10)\n",
    "print(d)"
   ]
  },
  {
   "cell_type": "code",
   "execution_count": 10,
   "metadata": {},
   "outputs": [
    {
     "name": "stdout",
     "output_type": "stream",
     "text": [
      "None\n",
      "deque([1, 1, 10, 2, 3, 10, 10, 4, 5, 6, 10, 4, 5, 6, 10, 4, 5, 6, 7])\n"
     ]
    }
   ],
   "source": [
    "d.pop()\n",
    "d.append(10)\n",
    "d.extend([4,5,6,7])\n",
    "d.appendleft(1)\n",
    "print(d.remove(4))\n",
    "print(d)"
   ]
  },
  {
   "cell_type": "code",
   "execution_count": 12,
   "metadata": {},
   "outputs": [
    {
     "name": "stdout",
     "output_type": "stream",
     "text": [
      "4\n",
      "deque([2, 3], maxlen=3)\n"
     ]
    }
   ],
   "source": [
    "d = deque(maxlen=3)\n",
    "d.append(1)\n",
    "d.append(2)\n",
    "d.append(3)\n",
    "d.append(4)\n",
    "print(d.pop())\n",
    "print(d)"
   ]
  },
  {
   "cell_type": "code",
   "execution_count": 14,
   "metadata": {},
   "outputs": [
    {
     "data": {
      "text/plain": [
       "{1: 0, 2: 1, 3: 1, 4: 2, 5: 2}"
      ]
     },
     "execution_count": 14,
     "metadata": {},
     "output_type": "execute_result"
    }
   ],
   "source": [
    "def bfs(graph, root):\n",
    "    distance = {}\n",
    "    distance[root] = 0\n",
    "    q = deque([root])\n",
    "\n",
    "    while q:\n",
    "        current = q.popleft()\n",
    "        for neibour in graph[current]:\n",
    "            if neibour not in distance:\n",
    "                distance[neibour] = distance[current] + 1\n",
    "                q.append(neibour)\n",
    "    return distance \n",
    "\n",
    "graph = {\n",
    "    1 : [2,3],\n",
    "    2 : [4],\n",
    "    3 : [4,5],\n",
    "    4 : [3,5],\n",
    "    5 : []\n",
    "}\n",
    "\n",
    "bfs(graph, 1)"
   ]
  },
  {
   "cell_type": "code",
   "execution_count": 17,
   "metadata": {},
   "outputs": [
    {
     "data": {
      "text/plain": [
       "120"
      ]
     },
     "execution_count": 17,
     "metadata": {},
     "output_type": "execute_result"
    }
   ],
   "source": [
    "from functools import reduce\n",
    "reduce(lambda a ,b : a * b, range(1, 5+1))"
   ]
  }
 ],
 "metadata": {
  "interpreter": {
   "hash": "916dbcbb3f70747c44a77c7bcd40155683ae19c65e1c03b4aa3499c5328201f1"
  },
  "kernelspec": {
   "display_name": "Python 3.10.4 64-bit",
   "language": "python",
   "name": "python3"
  },
  "language_info": {
   "codemirror_mode": {
    "name": "ipython",
    "version": 3
   },
   "file_extension": ".py",
   "mimetype": "text/x-python",
   "name": "python",
   "nbconvert_exporter": "python",
   "pygments_lexer": "ipython3",
   "version": "3.10.4"
  },
  "orig_nbformat": 4
 },
 "nbformat": 4,
 "nbformat_minor": 2
}
