{
 "cells": [
  {
   "cell_type": "code",
   "execution_count": null,
   "metadata": {},
   "outputs": [],
   "source": [
    "class Count:\n",
    "\n",
    "    def __init__(self, start=0):\n",
    "        self.num = start \n",
    "    \n",
    "\n",
    "    def __iter__(self):\n",
    "        return self\n",
    "    \n",
    "    def __next__(self):\n",
    "        num = self.num \n",
    "        self.num += 1\n",
    "        return num \n",
    "\n",
    "\n",
    "c = iter(Count())"
   ]
  },
  {
   "cell_type": "code",
   "execution_count": null,
   "metadata": {},
   "outputs": [],
   "source": [
    "for c in Count():\n",
    "    print(c)"
   ]
  },
  {
   "cell_type": "code",
   "execution_count": null,
   "metadata": {},
   "outputs": [],
   "source": [
    "def square_all(numbers):\n",
    "    for n in numbers:\n",
    "        yield n ** 2\n",
    "    \n",
    "squares = square_all([1,2,3,4,5])"
   ]
  },
  {
   "cell_type": "code",
   "execution_count": null,
   "metadata": {},
   "outputs": [],
   "source": [
    "squares2 = ( n **2 for n in [1,2,3,4,5])"
   ]
  },
  {
   "cell_type": "markdown",
   "metadata": {},
   "source": [
    "* When calling a generator function instead of execution it returns a generator object."
   ]
  },
  {
   "cell_type": "code",
   "execution_count": null,
   "metadata": {},
   "outputs": [],
   "source": [
    "def count(start=0):\n",
    "    num = start\n",
    "    while True:\n",
    "        yield num \n",
    "        num += 1 \n",
    "c = count()\n"
   ]
  },
  {
   "cell_type": "code",
   "execution_count": null,
   "metadata": {},
   "outputs": [],
   "source": [
    "class Node:\n",
    "    def __init__(self, value):\n",
    "        self._value = value\n",
    "        self._children = []\n",
    "    \n",
    "    def __repr__(self):\n",
    "        return f'Node({self._value})'\n",
    "    \n",
    "    def add_child(self, node):\n",
    "        self._children.append(node)\n",
    "    \n",
    "    def __iter__(self):\n",
    "        return iter(self._children)\n",
    "\n",
    "    def depth_first(self):\n",
    "        yield self\n",
    "        for child in self:\n",
    "            yield from child.depth_first()\n",
    "\n",
    "root = Node(0)\n",
    "child1 = Node(1)\n",
    "child2 = Node(2)\n",
    "root.add_child(child1)\n",
    "root.add_child(child2)\n",
    "child1.add_child(Node(3))\n",
    "child1.add_child(Node(4))\n",
    "child2.add_child(Node(5))\n",
    "\n",
    "for ch in root.depth_first():\n",
    "    print(ch)\n"
   ]
  },
  {
   "cell_type": "code",
   "execution_count": null,
   "metadata": {},
   "outputs": [],
   "source": []
  },
  {
   "cell_type": "code",
   "execution_count": null,
   "metadata": {},
   "outputs": [],
   "source": [
    "def frange(start, stop, increment):\n",
    "    x = start\n",
    "    while x < stop:\n",
    "        yield x \n",
    "        x += increment"
   ]
  },
  {
   "cell_type": "code",
   "execution_count": null,
   "metadata": {},
   "outputs": [],
   "source": [
    "list(frange(0, 4, 0.5))"
   ]
  },
  {
   "cell_type": "code",
   "execution_count": null,
   "metadata": {},
   "outputs": [],
   "source": [
    "# class DepthFirstIterator:\n",
    "#     def __init__(self, start_node):\n",
    "#         self._node = start_node\n",
    "#         self._children_iter = None\n",
    "#         self._child_iter = None\n",
    "    \n",
    "#     def __iter__(self):\n",
    "#         return self \n",
    "\n",
    "#     def __next__(self):\n",
    "#         if self._children_iter is None:\n",
    "#             self._children_iter = iter(self._node)\n",
    "#             return self._node \n",
    "        \n",
    "#         elif self._\n",
    "            \n",
    "    \n",
    "    \n",
    "    \n",
    "# class Node:\n",
    "#     def __init__(self, value):\n",
    "#         self._value = value\n",
    "#         self._children = []\n",
    "#     def __repr__(self):\n",
    "#         return 'Node({!r})'.format(self._value)\n",
    "#     def add_child(self, other_node):\n",
    "#         self._children.append(other_node)\n",
    "#     def __iter__(self):\n",
    "#         return iter(self._children)\n",
    "#     def depth_first(self):\n",
    "#         return DepthFirstIterator(self)"
   ]
  },
  {
   "cell_type": "code",
   "execution_count": null,
   "metadata": {},
   "outputs": [],
   "source": [
    "class CountDown:\n",
    "    def __init__(self, start):\n",
    "        self.start = start\n",
    "\n",
    "    def __iter__(self):\n",
    "        n = self.start\n",
    "        while n > 0:\n",
    "            yield n \n",
    "            n -= 1\n",
    "    \n",
    "    def __reversed__(self):\n",
    "        n = 1\n",
    "        while n <= self.start:\n",
    "            yield n\n",
    "            n += 1\n",
    "            "
   ]
  },
  {
   "cell_type": "code",
   "execution_count": null,
   "metadata": {},
   "outputs": [],
   "source": [
    "c = CountDown(10)\n",
    "list(reversed(c))"
   ]
  },
  {
   "cell_type": "code",
   "execution_count": null,
   "metadata": {},
   "outputs": [],
   "source": [
    "from collections import deque\n",
    "\n",
    "class linehistory:\n",
    "    def __init__(self, lines, histlen=1):\n",
    "        self.lines = lines\n",
    "        self.history = deque(maxlen=histlen)\n",
    "    \n",
    "    def __iter__(self):\n",
    "        for lineno, line in enumerate(self.lines):\n",
    "            self.history.append((lineno, line))\n",
    "            yield line \n",
    "    \n",
    "    def clear(self):\n",
    "        self.history.clear()\n",
    "\n",
    "\n",
    "with open('/home/rahulbeniwal/file.c', 'r') as f:\n",
    "    lines = linehistory(f, 2)\n",
    "    for line in lines:\n",
    "        # print(\"lines.history\", lines.history)\n",
    "        if 'int' in line:\n",
    "            print(line)\n",
    "            for lineno, hline in lines.history:\n",
    "                print(f'{lineno}: {hline}', end='')\n",
    "    print(lines.history)\n",
    "\n",
    "             "
   ]
  },
  {
   "cell_type": "code",
   "execution_count": null,
   "metadata": {},
   "outputs": [],
   "source": [
    "f = open('/home/rahulbeniwal/file.c', 'r')\n",
    "from itertools import islice\n",
    "list(islice(f, 1, 3))"
   ]
  },
  {
   "cell_type": "code",
   "execution_count": null,
   "metadata": {},
   "outputs": [],
   "source": [
    "def count(n):\n",
    "    while True:\n",
    "        yield n\n",
    "        n += 1         "
   ]
  },
  {
   "cell_type": "code",
   "execution_count": null,
   "metadata": {},
   "outputs": [],
   "source": [
    "list(islice(count(0), 10 , 20))"
   ]
  },
  {
   "cell_type": "code",
   "execution_count": null,
   "metadata": {},
   "outputs": [],
   "source": [
    "from itertools import dropwhile\n",
    "def remove_non_user_passwd(line):\n",
    "    return not line.startswith(\"rahul\")\n",
    "\n",
    "with open('/etc/passwd', 'r') as f:\n",
    "    for line in dropwhile(remove_non_user_passwd, f):\n",
    "        print(ascii(line))"
   ]
  },
  {
   "cell_type": "code",
   "execution_count": null,
   "metadata": {},
   "outputs": [],
   "source": [
    "items = ['a', 'b', 'c']\n",
    "from itertools import permutations, combinations, combinations_with_replacement\n",
    "list(combinations_with_replacement(items, 2))"
   ]
  },
  {
   "cell_type": "code",
   "execution_count": null,
   "metadata": {},
   "outputs": [],
   "source": [
    "from collections import defaultdict\n",
    "\n",
    "word_summary = defaultdict(list)\n",
    "\n",
    "with open('/home/rahulbeniwal/file.c', 'r') as f:\n",
    "    lines = f.readlines()\n",
    "    \n",
    "for idx, line in enumerate(lines):\n",
    "    words = [w.strip().lower() for w in line.split()]\n",
    "    for word in words:\n",
    "        word_summary[word].append(idx)"
   ]
  },
  {
   "cell_type": "code",
   "execution_count": null,
   "metadata": {},
   "outputs": [],
   "source": [
    "xpts = [1, 5, 4, 2, 10, 7]\n",
    "ypts = [101, 78, 37, 15, 62, 99]\n",
    "print(list(zip(xpts, ypts)))"
   ]
  },
  {
   "cell_type": "code",
   "execution_count": null,
   "metadata": {},
   "outputs": [],
   "source": [
    "from itertools import chain\n",
    "from collections import ChainMap\n",
    "\n",
    "for x in chain({'a' : 'b'}, {'c': 'd'}):\n",
    "    print(x)"
   ]
  },
  {
   "cell_type": "code",
   "execution_count": null,
   "metadata": {},
   "outputs": [],
   "source": [
    "import os, fnmatch, gzip, bz2, re\n",
    "\n",
    "def gen_find(filepat, top):\n",
    "    for path, dirlist, filelist in os.walk(top):\n",
    "        for name in fnmatch.filter(filelist, filepat):\n",
    "            yield os.path.join(path, name)\n",
    "\n",
    "\n",
    "def gen_opener(filenames):\n",
    "    for filename in filenames:\n",
    "        if filename.endswith('.gz'):\n",
    "            f = gzip.open(filename, 'rt')\n",
    "        elif filename.endswith('.bz2'):\n",
    "            f = bz2.open(filename, 'rt')\n",
    "        else:\n",
    "            f = open(filename, 'rt')\n",
    "        yield f\n",
    "        f.close()\n",
    "\n",
    "def gen_concatenate(iterators):\n",
    "    for it in iterators:\n",
    "        yield from it\n",
    "\n",
    "\n",
    "def gen_grep(pattern, lines):\n",
    "    pat = re.compile(pattern)\n",
    "    for line in lines:\n",
    "        if re.search(pattern, line):\n",
    "            yield line\n",
    "\n"
   ]
  },
  {
   "cell_type": "code",
   "execution_count": null,
   "metadata": {},
   "outputs": [],
   "source": [
    "lognames = gen_find(\"*.log\", \"/home/rahulbeniwal/ldc_payment_gateway/logs\")\n",
    "files = gen_opener(lognames)\n",
    "lines = gen_concatenate(files)\n",
    "pylines = gen_grep(\".py\", lines)\n",
    "for line in pylines:\n",
    "    print(line)"
   ]
  },
  {
   "cell_type": "code",
   "execution_count": null,
   "metadata": {},
   "outputs": [],
   "source": [
    "list(lognames)"
   ]
  },
  {
   "cell_type": "code",
   "execution_count": null,
   "metadata": {},
   "outputs": [],
   "source": [
    "from collections.abc import Iterable\n",
    "\n",
    "\n",
    "def flatten_list(li, ignore_types=(str, bytes)):\n",
    "    for x in li:\n",
    "        if isinstance(x, Iterable) and not isinstance(x, ignore_types):\n",
    "            yield from flatten_list(x)\n",
    "        else:\n",
    "            yield x "
   ]
  },
  {
   "cell_type": "code",
   "execution_count": null,
   "metadata": {},
   "outputs": [],
   "source": [
    "l = [1,2,3,3,[4,43,432,432,[54,545]]]\n",
    "list(flatten_list(l))"
   ]
  },
  {
   "cell_type": "code",
   "execution_count": null,
   "metadata": {},
   "outputs": [],
   "source": [
    "import heapq\n",
    "a = [3, 1, 4, 7, 10]\n",
    "b = [2, 5, 6, 11]\n",
    "\n",
    "list(heapq.merge(a, b))"
   ]
  },
  {
   "cell_type": "code",
   "execution_count": null,
   "metadata": {},
   "outputs": [],
   "source": [
    "import sys \n",
    "\n",
    "f = open(\"/home/rahulbeniwal/file.c\", 'r')\n",
    "\n",
    "for line in iter(lambda: f.read(10), ''):\n",
    "    print(line, end='')\n",
    "\n",
    "f.close()\n",
    "f = open(\"/home/rahulbeniwal/file.c\", 'r')\n",
    "while True:\n",
    "    line = f.readline()\n",
    "    if not line:\n",
    "        break\n",
    "    print(line, end='')"
   ]
  },
  {
   "cell_type": "code",
   "execution_count": null,
   "metadata": {},
   "outputs": [],
   "source": [
    "import re\n",
    "import reprlib\n",
    "\n",
    "RE_WORD = re.compile(r\"\\w+\")\n",
    "\n",
    "class Sentence:\n",
    "    def __init__(self, text):\n",
    "        self.text = text\n",
    "        self.words = RE_WORD.findall(text)\n",
    "        \n",
    "    def __getitem__(self, index):\n",
    "        if index == 8:\n",
    "            # stop the iteration by IndexError\n",
    "            raise IndexError()\n",
    "        return self.words[index]\n",
    "    \n",
    "    def __len__(self):\n",
    "        return len(self.words)\n",
    "\n",
    "    def __repr__(self):\n",
    "        return 'Sentence(%s)' % reprlib.repr(self.text)\n"
   ]
  },
  {
   "cell_type": "code",
   "execution_count": null,
   "metadata": {},
   "outputs": [],
   "source": [
    "s = Sentence('\"The time has come,\" the Walrus said,')\n",
    "list(s)"
   ]
  },
  {
   "cell_type": "code",
   "execution_count": null,
   "metadata": {},
   "outputs": [],
   "source": [
    "from collections.abc import Iterable\n",
    "isinstance([], Iterable)"
   ]
  },
  {
   "cell_type": "code",
   "execution_count": null,
   "metadata": {},
   "outputs": [],
   "source": [
    "# GET ITEM IS ITER COUNTERPART OLD STYLE\n",
    "\n",
    "import copy\n",
    "D = 0; M = 1; Y = -1\n",
    "\n",
    "class Person:\n",
    "    def __init__(self, name, age, dob):\n",
    "        self.name = name\n",
    "        self.age = age \n",
    "        self.dob = dob\n",
    "        \n",
    "    def __getitem__(self, index):\n",
    "        print(\"Calling __getitem__\")\n",
    "        p = copy.copy(self)\n",
    "        \n",
    "        p.name = p.name.split(\" \")[index]\n",
    "        p.dob = p.dob.__getitem__(index)\n",
    "        return p\n",
    "        "
   ]
  },
  {
   "cell_type": "code",
   "execution_count": null,
   "metadata": {},
   "outputs": [],
   "source": [
    "p = Person(name = 'Jonab Gutu', age = 20, dob=(1, 1, 1999))\n",
    "pp = p[0]"
   ]
  },
  {
   "cell_type": "code",
   "execution_count": null,
   "metadata": {},
   "outputs": [],
   "source": [
    "import random\n",
    "def d6():\n",
    "    return random.randint(1, 6)\n",
    "\n",
    "list(iter(d6, 1))"
   ]
  },
  {
   "cell_type": "code",
   "execution_count": null,
   "metadata": {},
   "outputs": [],
   "source": [
    "from functools import partial\n",
    "\n",
    "with open(\"/home/rahulbeniwal/1658937159865.pdf\", \"rb\") as f:\n",
    "    read64 = partial(f.read, 64)\n",
    "    for block in iter(read64, b''):\n",
    "        print(block)"
   ]
  },
  {
   "cell_type": "code",
   "execution_count": 1,
   "metadata": {},
   "outputs": [],
   "source": [
    "class SuperClass(type):\n",
    "    \n",
    "    def __subclasscheck__(cls, subclass):\n",
    "        print(cls, subclass)\n",
    "        return False \n",
    "\n",
    "\n",
    "class MyClass(metaclass=SuperClass):\n",
    "    pass\n",
    "\n",
    "class MySubClass(MyClass):\n",
    "    pass "
   ]
  },
  {
   "cell_type": "code",
   "execution_count": 2,
   "metadata": {},
   "outputs": [
    {
     "name": "stdout",
     "output_type": "stream",
     "text": [
      "<class '__main__.MyClass'> <class '__main__.MySubClass'>\n"
     ]
    },
    {
     "data": {
      "text/plain": [
       "False"
      ]
     },
     "execution_count": 2,
     "metadata": {},
     "output_type": "execute_result"
    }
   ],
   "source": [
    "issubclass(MySubClass, MyClass)"
   ]
  },
  {
   "cell_type": "code",
   "execution_count": 10,
   "metadata": {},
   "outputs": [],
   "source": [
    "from abc import ABCMeta, abstractmethod\n",
    "class A(ABCMeta):\n",
    "    \n",
    "    def __new__(__mcls, __name: str, __bases: tuple[type, ...], __namespace: dict[str], **kwargs):\n",
    "        return super().__new__(__name, __bases, __namespace, **kwargs)\n",
    "    @abstractmethod\n",
    "    def a(self):\n",
    "        print(\"a\")\n",
    "    "
   ]
  },
  {
   "cell_type": "code",
   "execution_count": 3,
   "metadata": {},
   "outputs": [
    {
     "name": "stdout",
     "output_type": "stream",
     "text": [
      "True\n",
      "True\n",
      "[1, 2, 3, 4]\n",
      "[]\n"
     ]
    }
   ],
   "source": [
    "l = [1,2,3,4]\n",
    "\n",
    "it = iter(l)\n",
    "print(hasattr(it, '__next__'))\n",
    "print(hasattr(it, '__iter__'))\n",
    "print(list(it))\n",
    "\n",
    "it = iter(it)\n",
    "print(list(it))"
   ]
  },
  {
   "cell_type": "code",
   "execution_count": 5,
   "metadata": {},
   "outputs": [],
   "source": [
    "import re, reprlib\n",
    "\n",
    "\n",
    "RE_WORDS = re.compile(\"\\w+\")\n",
    "\n",
    "class SentenceIterator:\n",
    "    def __init__(self, words):\n",
    "        self.words = words \n",
    "        self.index = 0\n",
    "        \n",
    "    def __next__(self):\n",
    "        try:\n",
    "            words = self.words[self.index]\n",
    "        except IndexError:\n",
    "            raise StopIteration()\n",
    "        self.index += 1\n",
    "        return word \n",
    "    \n",
    "    def __iter__(self):\n",
    "        return self\n",
    "    \n",
    "class Sentence:\n",
    "    def __init__(self, text):\n",
    "        self.text = text\n",
    "        self.words = RE_WORD.findall(text)\n",
    "    \n",
    "    \n",
    "    def __repr__(self):\n",
    "        return f'Sentence({reprlib.repr(self.text)})' \n",
    "\n",
    "    def __iter__(self):\n",
    "        return SentenceIterator(self.words)"
   ]
  },
  {
   "cell_type": "code",
   "execution_count": null,
   "metadata": {},
   "outputs": [],
   "source": []
  }
 ],
 "metadata": {
  "kernelspec": {
   "display_name": "Python 3",
   "language": "python",
   "name": "python3"
  },
  "language_info": {
   "codemirror_mode": {
    "name": "ipython",
    "version": 3
   },
   "file_extension": ".py",
   "mimetype": "text/x-python",
   "name": "python",
   "nbconvert_exporter": "python",
   "pygments_lexer": "ipython3",
   "version": "3.11.1 (main, Dec  7 2022, 01:11:34) [GCC 11.3.0]"
  },
  "orig_nbformat": 4,
  "vscode": {
   "interpreter": {
    "hash": "ead1b95f633dc9c51826328e1846203f51a198c6fb5f2884a80417ba131d4e82"
   }
  }
 },
 "nbformat": 4,
 "nbformat_minor": 2
}
