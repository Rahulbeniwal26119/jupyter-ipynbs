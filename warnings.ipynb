{
 "cells": [
  {
   "cell_type": "code",
   "execution_count": 2,
   "metadata": {
    "collapsed": true
   },
   "outputs": [
    {
     "name": "stderr",
     "output_type": "stream",
     "text": [
      "/tmp/ipykernel_16282/2944198083.py:9: UserWarning: x is None\n",
      "  warnings.warn(\"x is None\")\n"
     ]
    }
   ],
   "source": [
    "from unittest import TestCase\n",
    "\n",
    "import warnings\n",
    "\n",
    "\n",
    "def absolute_fn(x=None):\n",
    "    if not x:\n",
    "        x = 0\n",
    "        warnings.warn(\"x is None\")\n",
    "    if x <= 0:\n",
    "        return -x\n",
    "    else:\n",
    "        return x\n",
    "\n",
    "\n",
    "class TestWarning(TestCase):\n",
    "    assert absolute_fn(-1) == 1\n",
    "    assert absolute_fn(1) == 1\n",
    "    assert absolute_fn() == 0\n"
   ]
  },
  {
   "cell_type": "markdown",
   "source": [
    "#### This code will pass test case with warning but when ran with -W error flag it will fail\n",
    "#### python3 -W error testing/test_case.py TestWarning\n"
   ],
   "metadata": {
    "collapsed": false
   }
  },
  {
   "cell_type": "code",
   "execution_count": 9,
   "outputs": [
    {
     "ename": "UserWarning",
     "evalue": "x is None",
     "output_type": "error",
     "traceback": [
      "\u001B[0;31m---------------------------------------------------------------------------\u001B[0m",
      "\u001B[0;31mUserWarning\u001B[0m                               Traceback (most recent call last)",
      "Cell \u001B[0;32mIn[9], line 3\u001B[0m\n\u001B[1;32m      1\u001B[0m warnings\u001B[38;5;241m.\u001B[39msimplefilter(\u001B[38;5;124m\"\u001B[39m\u001B[38;5;124merror\u001B[39m\u001B[38;5;124m\"\u001B[39m) \u001B[38;5;66;03m# this will make warning as error\u001B[39;00m\n\u001B[0;32m----> 3\u001B[0m \u001B[43mabsolute_fn\u001B[49m\u001B[43m(\u001B[49m\u001B[43m)\u001B[49m\n",
      "Cell \u001B[0;32mIn[5], line 11\u001B[0m, in \u001B[0;36mabsolute_fn\u001B[0;34m(x)\u001B[0m\n\u001B[1;32m      9\u001B[0m \u001B[38;5;28;01mif\u001B[39;00m \u001B[38;5;129;01mnot\u001B[39;00m x:\n\u001B[1;32m     10\u001B[0m     x \u001B[38;5;241m=\u001B[39m \u001B[38;5;241m0\u001B[39m\n\u001B[0;32m---> 11\u001B[0m     \u001B[43mwarnings\u001B[49m\u001B[38;5;241;43m.\u001B[39;49m\u001B[43mwarn\u001B[49m\u001B[43m(\u001B[49m\u001B[38;5;124;43m\"\u001B[39;49m\u001B[38;5;124;43mx is None\u001B[39;49m\u001B[38;5;124;43m\"\u001B[39;49m\u001B[43m)\u001B[49m\n\u001B[1;32m     12\u001B[0m \u001B[38;5;28;01mif\u001B[39;00m x \u001B[38;5;241m<\u001B[39m\u001B[38;5;241m=\u001B[39m \u001B[38;5;241m0\u001B[39m:\n\u001B[1;32m     13\u001B[0m     \u001B[38;5;28;01mreturn\u001B[39;00m \u001B[38;5;241m-\u001B[39mx\n",
      "\u001B[0;31mUserWarning\u001B[0m: x is None"
     ]
    }
   ],
   "source": [
    "warnings.simplefilter(\"error\") # this will make warning as error\n",
    "\n",
    "absolute_fn()\n"
   ],
   "metadata": {
    "collapsed": false
   }
  },
  {
   "cell_type": "code",
   "execution_count": 4,
   "outputs": [
    {
     "name": "stdout",
     "output_type": "stream",
     "text": [
      "/tmp/ipykernel_16282/2944198083.py:9: UserWarning: x is None\n",
      "  warnings.warn(\"x is None\")\n",
      "\n"
     ]
    }
   ],
   "source": [
    "# verifying warning message\n",
    "import contextlib, io\n",
    "import warnings\n",
    "# warnings.simplefilter(\"error\")\n",
    "\n",
    "\n",
    "fake_stderr = io.StringIO()\n",
    "\n",
    "with contextlib.redirect_stderr(fake_stderr):\n",
    "    absolute_fn()\n",
    "\n",
    "print(fake_stderr.getvalue())"
   ],
   "metadata": {
    "collapsed": false
   }
  },
  {
   "cell_type": "code",
   "execution_count": 1,
   "outputs": [
    {
     "ename": "NameError",
     "evalue": "name 'io' is not defined",
     "output_type": "error",
     "traceback": [
      "\u001B[0;31m---------------------------------------------------------------------------\u001B[0m",
      "\u001B[0;31mNameError\u001B[0m                                 Traceback (most recent call last)",
      "Cell \u001B[0;32mIn[1], line 3\u001B[0m\n\u001B[1;32m      1\u001B[0m \u001B[38;5;28;01mimport\u001B[39;00m \u001B[38;5;21;01mlogging\u001B[39;00m\n\u001B[0;32m----> 3\u001B[0m fake_stderr \u001B[38;5;241m=\u001B[39m \u001B[43mio\u001B[49m\u001B[38;5;241m.\u001B[39mStringIO()\n\u001B[1;32m      4\u001B[0m handler \u001B[38;5;241m=\u001B[39m logging\u001B[38;5;241m.\u001B[39mStreamHandler(fake_stderr)\n\u001B[1;32m      5\u001B[0m formatter \u001B[38;5;241m=\u001B[39m logging\u001B[38;5;241m.\u001B[39mFormatter(\u001B[38;5;124m'\u001B[39m\u001B[38;5;132;01m%(asctime)-15s\u001B[39;00m\u001B[38;5;124m \u001B[39m\u001B[38;5;132;01m%(message)s\u001B[39;00m\u001B[38;5;124m'\u001B[39m)\n",
      "\u001B[0;31mNameError\u001B[0m: name 'io' is not defined"
     ]
    }
   ],
   "source": [
    "import logging\n",
    "\n",
    "fake_stderr = io.StringIO()\n",
    "handler = logging.StreamHandler(fake_stderr)\n",
    "formatter = logging.Formatter('%(asctime)-15s %(message)s')\n",
    "handler.setFormatter(formatter)\n",
    "\n",
    "logging.captureWarnings(True)\n",
    "logger = logging.getLogger('py.warnings')\n",
    "logger.addHandler(handler)\n",
    "logger.setLevel(logging.DEBUG)\n",
    "\n",
    "warnings.resetwarnings()\n",
    "warnings.simplefilter(\"default\")\n",
    "warnings.warn(\"This will go to logs output\")\n",
    "\n",
    "print(fake_stderr.getvalue())\n"
   ],
   "metadata": {
    "collapsed": false
   }
  },
  {
   "cell_type": "code",
   "execution_count": 3,
   "outputs": [],
   "source": [
    "def require(name, value, message):\n",
    "    if not value:\n",
    "        warnings.warn(message)"
   ],
   "metadata": {
    "collapsed": false
   }
  },
  {
   "cell_type": "code",
   "execution_count": 4,
   "outputs": [],
   "source": [
    "import warnings\n",
    "\n",
    "with warnings.catch_warnings(record=True) as found_warning:\n",
    "    found = require('my_args', None, 'fake args')\n",
    "    expected = 'fake args'\n",
    "    assert len(found_warning) == 1\n"
   ],
   "metadata": {
    "collapsed": false
   }
  },
  {
   "cell_type": "code",
   "execution_count": null,
   "outputs": [],
   "source": [],
   "metadata": {
    "collapsed": false
   }
  }
 ],
 "metadata": {
  "kernelspec": {
   "display_name": "Python 3",
   "language": "python",
   "name": "python3"
  },
  "language_info": {
   "codemirror_mode": {
    "name": "ipython",
    "version": 2
   },
   "file_extension": ".py",
   "mimetype": "text/x-python",
   "name": "python",
   "nbconvert_exporter": "python",
   "pygments_lexer": "ipython2",
   "version": "2.7.6"
  }
 },
 "nbformat": 4,
 "nbformat_minor": 0
}
