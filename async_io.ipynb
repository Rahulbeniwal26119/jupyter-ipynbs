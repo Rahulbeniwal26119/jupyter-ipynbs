{
 "cells": [
  {
   "cell_type": "code",
   "execution_count": null,
   "metadata": {},
   "outputs": [],
   "source": [
    "import asyncio\n",
    "\n",
    "async def a():\n",
    "    print('a')\n",
    "    asyncio.create_task(b())\n",
    "    print(\"b Here\")\n",
    "    await asyncio.sleep(0.5)\n",
    "    print('a again')\n",
    "\n",
    "async def b():\n",
    "    await asyncio.sleep(0.1)\n",
    "    print(\"b\")\n",
    "    await asyncio.sleep(1)\n",
    "    print(\"c\")\n",
    "\n",
    "# no need to run asyncio.run(a()) because jupyter notebook already use a event loop\n",
    "await a()\n",
    "\n",
    "# asyncio.sleep move the execution to the next line of the task queue "
   ]
  },
  {
   "cell_type": "code",
   "execution_count": null,
   "metadata": {},
   "outputs": [],
   "source": [
    "# await ensure that the execution of the current task is suspended until the awaited task is completed\n",
    "async def fetch():\n",
    "    print(\"Start Fetching\")\n",
    "    await asyncio.sleep(2)\n",
    "    print(\"Fetching Completed\")\n",
    "    return {\"data\": \"some data\"}\n",
    "\n",
    "\n",
    "async def print_numbers():\n",
    "    for i in range(10):\n",
    "        print(i)\n",
    "        await asyncio.sleep(0.5)\n",
    "\n",
    "\n",
    "async def  main():\n",
    "    task1 = asyncio.create_task(fetch())\n",
    "    task2 = asyncio.create_task(print_numbers())\n",
    "\n",
    "    # result in the jupyter notebook are not the same as running a normal \n",
    "    # python script because i think jupyter use event loop and may be on \n",
    "    # different threads\n",
    "    value = await task1 \n",
    "    print(value)\n",
    "    await task2 # keep program executable until task2 is completed\n",
    "await main()\n",
    "# use asyncio.run(main()) to run the main function if not in jupyter notebook\n"
   ]
  }
 ],
 "metadata": {
  "interpreter": {
   "hash": "916dbcbb3f70747c44a77c7bcd40155683ae19c65e1c03b4aa3499c5328201f1"
  },
  "kernelspec": {
   "display_name": "Python 3.9.7 64-bit",
   "language": "python",
   "name": "python3"
  },
  "language_info": {
   "codemirror_mode": {
    "name": "ipython",
    "version": 3
   },
   "file_extension": ".py",
   "mimetype": "text/x-python",
   "name": "python",
   "nbconvert_exporter": "python",
   "pygments_lexer": "ipython3",
   "version": "3.9.7"
  },
  "orig_nbformat": 4
 },
 "nbformat": 4,
 "nbformat_minor": 2
}
