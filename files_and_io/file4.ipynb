{
 "cells": [
  {
   "cell_type": "code",
   "execution_count": null,
   "metadata": {},
   "outputs": [],
   "source": [
    "# communication with serial ports \n",
    "import serial \n"
   ]
  },
  {
   "cell_type": "code",
   "execution_count": null,
   "metadata": {},
   "outputs": [],
   "source": [
    "serial.Serial('/dev/console', baudrate=9600,\n",
    "              bytesize=serial.EIGHTBITS, \n",
    "              parity='N',\n",
    "              stopbits=1)"
   ]
  },
  {
   "cell_type": "code",
   "execution_count": 8,
   "metadata": {},
   "outputs": [],
   "source": [
    "# Serialization \n",
    "import pickle\n",
    "f = open('data.pkl','wb')\n",
    "data = [1,2,3,4,5]\n",
    "pickle.dump(data,f)\n",
    "f.close()"
   ]
  },
  {
   "cell_type": "code",
   "execution_count": 15,
   "metadata": {},
   "outputs": [
    {
     "name": "stdout",
     "output_type": "stream",
     "text": [
      "<class 'list'>\n"
     ]
    }
   ],
   "source": [
    "with open('data.pkl','rb') as f:\n",
    "    data = pickle.load(f)\n",
    "    print(type(data))"
   ]
  },
  {
   "cell_type": "code",
   "execution_count": 17,
   "metadata": {},
   "outputs": [],
   "source": [
    "d = {\n",
    "    \"a\" : [1,2,3],\n",
    "    \"b\" : [4,5,6],\n",
    "    \"c\" : [7,8,9]\n",
    "}\n",
    "\n",
    "with open('data2.pkl', 'wb') as f:\n",
    "    data = pickle.dump(d,f)\n",
    "    "
   ]
  },
  {
   "cell_type": "code",
   "execution_count": 22,
   "metadata": {},
   "outputs": [
    {
     "data": {
      "text/plain": [
       "[1, 2, 3]"
      ]
     },
     "execution_count": 22,
     "metadata": {},
     "output_type": "execute_result"
    }
   ],
   "source": [
    "with open('data2.pkl', 'rb') as f:\n",
    "    data = pickle.load(f)\n",
    "\n",
    "data['a']"
   ]
  },
  {
   "cell_type": "code",
   "execution_count": 26,
   "metadata": {},
   "outputs": [
    {
     "name": "stdout",
     "output_type": "stream",
     "text": [
      "{'a': [1, 2, 3], 'b': [4, 5, 6], 'c': [7, 8, 9]}\n"
     ]
    }
   ],
   "source": [
    "import json \n",
    "s = json.loads('{ \"a\" : [1,2,3],  \"b\" : [4,5,6], \"c\" : [7,8,9]}')\n",
    "print(s)"
   ]
  },
  {
   "cell_type": "code",
   "execution_count": 30,
   "metadata": {},
   "outputs": [
    {
     "name": "stdout",
     "output_type": "stream",
     "text": [
      "[1, 2, 3, 4]\n",
      "help\n",
      "{'Apple', 'Pear', 'Banana'}\n"
     ]
    }
   ],
   "source": [
    "import pickle \n",
    "f = open('obj.pkl', 'wb')\n",
    "pickle.dump([1,2,3,4], f)\n",
    "pickle.dump('help', f)\n",
    "pickle.dump({'Apple', 'Pear', 'Banana'}, f)\n",
    "f.close()\n",
    "f = open('obj.pkl', 'rb')\n",
    "print(pickle.load(f))\n",
    "print(pickle.load(f))\n",
    "print(pickle.load(f))\n",
    "f.close()"
   ]
  },
  {
   "cell_type": "code",
   "execution_count": 31,
   "metadata": {},
   "outputs": [
    {
     "data": {
      "text/plain": [
       "b'\\x80\\x04\\x95\\x10\\x00\\x00\\x00\\x00\\x00\\x00\\x00\\x8c\\x04math\\x94\\x8c\\x03cos\\x94\\x93\\x94.'"
      ]
     },
     "execution_count": 31,
     "metadata": {},
     "output_type": "execute_result"
    }
   ],
   "source": [
    "import pickle \n",
    "import math \n",
    "pickle.dumps(math.cos)"
   ]
  },
  {
   "cell_type": "code",
   "execution_count": 33,
   "metadata": {},
   "outputs": [],
   "source": [
    "import time \n",
    "import threading \n",
    "\n",
    "class CountDown:\n",
    "    def __init__(self, n):\n",
    "        self.n = n \n",
    "        self.thr = threading.Thread(target=self.run)\n",
    "        self.thr.daemon = True \n",
    "        self.thr.start()\n",
    "    \n",
    "    \n",
    "    def run(self):\n",
    "        while self.n > 0 :\n",
    "            print('T-minus', self.n)\n",
    "            self.n -=1 \n",
    "            time.sleep(5)\n",
    "    \n",
    "    def __getstate__(self):\n",
    "        return self.n\n",
    "    \n",
    "    def __setstate__(self, n):\n",
    "        self.__init__(n) "
   ]
  },
  {
   "cell_type": "code",
   "execution_count": 34,
   "metadata": {},
   "outputs": [
    {
     "name": "stdout",
     "output_type": "stream",
     "text": [
      "T-minus 30\n"
     ]
    },
    {
     "name": "stdout",
     "output_type": "stream",
     "text": [
      "T-minus 29\n"
     ]
    }
   ],
   "source": [
    "c = CountDown(30)\n"
   ]
  },
  {
   "cell_type": "code",
   "execution_count": 37,
   "metadata": {},
   "outputs": [
    {
     "name": "stdout",
     "output_type": "stream",
     "text": [
      "T-minus 14\n",
      "T-minus 13\n",
      "T-minus 12\n"
     ]
    }
   ],
   "source": [
    "f = open('cstate.p', 'wb')\n",
    "pickle.dump(c, f)\n",
    "f.close()"
   ]
  },
  {
   "cell_type": "code",
   "execution_count": 40,
   "metadata": {},
   "outputs": [
    {
     "name": "stdout",
     "output_type": "stream",
     "text": [
      "T-minus"
     ]
    },
    {
     "data": {
      "text/plain": [
       "<__main__.CountDown at 0x7fa291620d30>"
      ]
     },
     "execution_count": 40,
     "metadata": {},
     "output_type": "execute_result"
    },
    {
     "name": "stdout",
     "output_type": "stream",
     "text": [
      " 14\n"
     ]
    },
    {
     "name": "stdout",
     "output_type": "stream",
     "text": [
      "T-minus 6\n",
      "T-minus 13\n",
      "T-minus 5\n",
      "T-minus 12\n",
      "T-minus 4\n"
     ]
    }
   ],
   "source": [
    "f = open('./cstate.p', 'rb')\n",
    "pickle.load(f)"
   ]
  },
  {
   "cell_type": "code",
   "execution_count": null,
   "metadata": {},
   "outputs": [],
   "source": []
  }
 ],
 "metadata": {
  "kernelspec": {
   "display_name": "Python 3.8.13 64-bit",
   "language": "python",
   "name": "python3"
  },
  "language_info": {
   "codemirror_mode": {
    "name": "ipython",
    "version": 3
   },
   "file_extension": ".py",
   "mimetype": "text/x-python",
   "name": "python",
   "nbconvert_exporter": "python",
   "pygments_lexer": "ipython3",
   "version": "3.8.14"
  },
  "orig_nbformat": 4,
  "vscode": {
   "interpreter": {
    "hash": "df0893f56f349688326838aaeea0de204df53a132722cbd565e54b24a8fec5f6"
   }
  }
 },
 "nbformat": 4,
 "nbformat_minor": 2
}
