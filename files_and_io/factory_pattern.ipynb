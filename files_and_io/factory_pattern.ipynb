{
 "cells": [
  {
   "cell_type": "code",
   "execution_count": 1,
   "metadata": {},
   "outputs": [],
   "source": [
    "class FrenchLocalizer:\n",
    "    def __init__(self) -> None:\n",
    "        self.translations = {\n",
    "            \"car\": \"voiture\",\n",
    "            \"bike\": \"bicycle\",\n",
    "            \"cycle\": \"cyclette\"\n",
    "        }\n",
    "    \n",
    "    def localizer(self, msg):\n",
    "        return self.translations.get(msg, msg)\n",
    "    \n",
    "\n",
    "class SpanishLocalizer:\n",
    "    def __init__(self) -> None:\n",
    "        self.translations = {\n",
    "            \"car\" :\"coche\",\n",
    "            \"bike\": \"bicicleta\",\n",
    "            \"cycle\": \"ciclo\"\n",
    "        }\n",
    "    \n",
    "    def localize(self, msg):\n",
    "        return self.translations.get(msg, msg)\n",
    "\n",
    "class EnglishLocalizer:\n",
    "    \n",
    "    def localize(self, msg):\n",
    "        return msg \n",
    "\n"
   ]
  },
  {
   "cell_type": "code",
   "execution_count": 7,
   "metadata": {},
   "outputs": [
    {
     "data": {
      "text/plain": [
       "100"
      ]
     },
     "execution_count": 7,
     "metadata": {},
     "output_type": "execute_result"
    }
   ],
   "source": [
    "def Factory(langage=\"English\"):\n",
    "    localizers = {\n",
    "        \"English\": EnglishLocalizer,\n",
    "        \"French\": FrenchLocalizer,\n",
    "        \"Spanish\": SpanishLocalizer\n",
    "    }\n",
    "\n",
    "    return localizers.get(langage)()"
   ]
  },
  {
   "cell_type": "markdown",
   "metadata": {},
   "source": []
  }
 ],
 "metadata": {
  "kernelspec": {
   "display_name": "Python 3.10.6 64-bit",
   "language": "python",
   "name": "python3"
  },
  "language_info": {
   "codemirror_mode": {
    "name": "ipython",
    "version": 3
   },
   "file_extension": ".py",
   "mimetype": "text/x-python",
   "name": "python",
   "nbconvert_exporter": "python",
   "pygments_lexer": "ipython3",
   "version": "3.10.6"
  },
  "orig_nbformat": 4,
  "vscode": {
   "interpreter": {
    "hash": "916dbcbb3f70747c44a77c7bcd40155683ae19c65e1c03b4aa3499c5328201f1"
   }
  }
 },
 "nbformat": 4,
 "nbformat_minor": 2
}
