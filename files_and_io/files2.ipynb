{
 "cells": [
  {
   "cell_type": "code",
   "execution_count": null,
   "metadata": {},
   "outputs": [],
   "source": [
    "import io \n",
    "strio = io.StringIO(\"beniwal\")\n",
    "bytesio = io.BytesIO(b'x066/x08/x0b/x0c/x0d/x0e/x0f/x10')\n",
    "bytesio.readlines()[0].decode(\"utf-8\")"
   ]
  },
  {
   "cell_type": "code",
   "execution_count": null,
   "metadata": {},
   "outputs": [],
   "source": [
    "from functools import partial \n",
    "\n",
    "record_size = 32 \n",
    "\n",
    "with open('./files1.ipynb', 'rt') as f:\n",
    "    records = iter(partial(f.read, record_size), '')\n",
    "    for i in records:\n",
    "        print(i)"
   ]
  },
  {
   "cell_type": "code",
   "execution_count": null,
   "metadata": {},
   "outputs": [],
   "source": []
  },
  {
   "cell_type": "code",
   "execution_count": null,
   "metadata": {},
   "outputs": [],
   "source": [
    "def read_into_buf(file):\n",
    "    import os \n",
    "    f = open(file, 'rb')\n",
    "    buf = bytearray(os.path.getsize(file))\n",
    "    f.readinto(buf)\n",
    "    f.close()\n",
    "    return buf "
   ]
  },
  {
   "cell_type": "code",
   "execution_count": null,
   "metadata": {},
   "outputs": [],
   "source": [
    "buf = read_into_buf('./no.ipynb')\n",
    "f = open('new_file', 'wb')\n",
    "f.write(buf)\n",
    "f.close()\n",
    "buf[0:5] = b'Hello'"
   ]
  },
  {
   "cell_type": "code",
   "execution_count": null,
   "metadata": {},
   "outputs": [],
   "source": [
    "mv = memoryview(buf)\n",
    "help(mv)"
   ]
  },
  {
   "cell_type": "code",
   "execution_count": null,
   "metadata": {},
   "outputs": [],
   "source": [
    "buf = bytearray(b'Hello')\n",
    "f = open(\"./text.txt\", 'br')\n",
    "op = f.readinto(buf)\n",
    "op"
   ]
  },
  {
   "cell_type": "code",
   "execution_count": null,
   "metadata": {},
   "outputs": [],
   "source": [
    "import os \n",
    "import mmap "
   ]
  },
  {
   "cell_type": "code",
   "execution_count": null,
   "metadata": {},
   "outputs": [],
   "source": [
    "size = 10000\n",
    "with open('./text.txt', 'wb') as f:\n",
    "    f.seek(size-1)\n",
    "    f.write(b'\\x80')"
   ]
  },
  {
   "cell_type": "code",
   "execution_count": null,
   "metadata": {},
   "outputs": [],
   "source": [
    "m = memory_map('./text.txt')\n",
    "len(m)\n",
    "m[0:11] = b'Hello World'\n",
    "m.close()"
   ]
  },
  {
   "cell_type": "code",
   "execution_count": null,
   "metadata": {},
   "outputs": [],
   "source": [
    "with open('./text.txt', 'rb') as f:\n",
    "    print(f.read(11))"
   ]
  },
  {
   "cell_type": "code",
   "execution_count": null,
   "metadata": {},
   "outputs": [],
   "source": [
    "with memory_map('./text.txt') as m:\n",
    "    print(m[0:11])"
   ]
  },
  {
   "cell_type": "code",
   "execution_count": null,
   "metadata": {},
   "outputs": [],
   "source": [
    "m.closed"
   ]
  },
  {
   "cell_type": "code",
   "execution_count": null,
   "metadata": {},
   "outputs": [],
   "source": [
    "mmap.ACCESS_COPY"
   ]
  },
  {
   "cell_type": "code",
   "execution_count": null,
   "metadata": {},
   "outputs": [],
   "source": [
    "def memory_map(filename, access=mmap.ACCESS_WRITE):\n",
    "    size = os.path.getsize(filename)\n",
    "    fd = os.open(filename, os.O_RDWR)\n",
    "    return mmap.mmap(fd, size, access=access)\n",
    "\n",
    "size = os.path.getsize('./text.txt')\n",
    "fd = os.open('./text.txt', os.O_RDWR)\n",
    "mm = mmap.mmap(fd, size, mmap.ACCESS_WRITE)\n",
    "mm[0:11]"
   ]
  },
  {
   "cell_type": "code",
   "execution_count": null,
   "metadata": {},
   "outputs": [],
   "source": [
    "mm[0:11] = b'beniwal rah'\n",
    "mm.close()"
   ]
  },
  {
   "cell_type": "code",
   "execution_count": null,
   "metadata": {},
   "outputs": [],
   "source": [
    "fp = open(\"./text.txt\", 'br')\n",
    "fp.readlines()"
   ]
  },
  {
   "cell_type": "code",
   "execution_count": null,
   "metadata": {},
   "outputs": [],
   "source": [
    "import os\n",
    "\n",
    "names= [\n",
    "    name for name in os.listdir('.')\n",
    "    if os.path.isfile(os.path.join('.', name))\n",
    "]\n",
    "\n",
    "dirs = [\n",
    "    name for name in os.listdir('.')\n",
    "    if os.path.isdir(os.path.join('.', name))\n",
    "]\n",
    "pyfiles = [\n",
    "    name for name in os.listdir('.')\n",
    "    if name.endswith('.py')\n",
    "]\n",
    "print(names)\n",
    "print(dirs)\n",
    "print(pyfiles)"
   ]
  },
  {
   "cell_type": "code",
   "execution_count": null,
   "metadata": {},
   "outputs": [],
   "source": [
    "import glob \n",
    "pyfiles = glob.glob('./*.py')\n",
    "print(pyfiles)"
   ]
  },
  {
   "cell_type": "code",
   "execution_count": null,
   "metadata": {},
   "outputs": [],
   "source": [
    "import os \n",
    "import os.path \n",
    "import glob \n",
    "import time\n",
    "\n",
    "name_sz_date = [(name, os.path.getsize(name),\n",
    "                 time.ctime(os.path.getmtime(name))) for name in os.listdir('.')]"
   ]
  },
  {
   "cell_type": "code",
   "execution_count": null,
   "metadata": {},
   "outputs": [],
   "source": [
    "for name, size, date in name_sz_date:\n",
    "    print(name, size, date, sep=\" - \")"
   ]
  },
  {
   "cell_type": "code",
   "execution_count": null,
   "metadata": {},
   "outputs": [],
   "source": [
    "file_metadata = [(name, os.stat(name)) for name in os.listdir('.')]"
   ]
  },
  {
   "cell_type": "code",
   "execution_count": null,
   "metadata": {},
   "outputs": [],
   "source": [
    "for name, meta_data in file_metadata:\n",
    "    print(name, meta_data.st_size, meta_data.st_mtime)"
   ]
  },
  {
   "cell_type": "code",
   "execution_count": 14,
   "metadata": {},
   "outputs": [
    {
     "data": {
      "text/plain": [
       "'utf-8'"
      ]
     },
     "execution_count": 14,
     "metadata": {},
     "output_type": "execute_result"
    }
   ],
   "source": [
    "import sys \n",
    "sys.getfilesystemencoding()"
   ]
  }
 ],
 "metadata": {
  "kernelspec": {
   "display_name": "Python 3.8.13 64-bit",
   "language": "python",
   "name": "python3"
  },
  "language_info": {
   "codemirror_mode": {
    "name": "ipython",
    "version": 3
   },
   "file_extension": ".py",
   "mimetype": "text/x-python",
   "name": "python",
   "nbconvert_exporter": "python",
   "pygments_lexer": "ipython3",
   "version": "3.8.13"
  },
  "orig_nbformat": 4,
  "vscode": {
   "interpreter": {
    "hash": "df0893f56f349688326838aaeea0de204df53a132722cbd565e54b24a8fec5f6"
   }
  }
 },
 "nbformat": 4,
 "nbformat_minor": 2
}
