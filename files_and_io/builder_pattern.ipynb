{
 "cells": [
  {
   "cell_type": "code",
   "execution_count": 3,
   "metadata": {},
   "outputs": [],
   "source": [
    "def generate_webform(field_list):\n",
    "    generated_fields = \"\\n\".join(\n",
    "        map(\n",
    "            lambda x: f'{x}: <br><input type=\"text\" name=\"{x}\"><br>',\n",
    "            field_list\n",
    "        )\n",
    "    )\n",
    "    return f'<form>{generated_fields}</form>'"
   ]
  },
  {
   "cell_type": "code",
   "execution_count": 4,
   "metadata": {},
   "outputs": [
    {
     "name": "stdout",
     "output_type": "stream",
     "text": [
      "<form>name: <br><input type=\"text\" name=\"name\"><br>\n",
      "age: <br><input type=\"text\" name=\"age\"><br>\n",
      "email: <br><input type=\"text\" name=\"email\"><br>\n",
      "telephone: <br><input type=\"text\" name=\"telephone\"><br></form>\n"
     ]
    }
   ],
   "source": [
    "fields = [\"name\", \"age\", \"email\", \"telephone\"]\n",
    "print(generate_webform(fields))"
   ]
  },
  {
   "cell_type": "code",
   "execution_count": null,
   "metadata": {},
   "outputs": [],
   "source": []
  }
 ],
 "metadata": {
  "kernelspec": {
   "display_name": "Python 3.10.6 64-bit",
   "language": "python",
   "name": "python3"
  },
  "language_info": {
   "codemirror_mode": {
    "name": "ipython",
    "version": 3
   },
   "file_extension": ".py",
   "mimetype": "text/x-python",
   "name": "python",
   "nbconvert_exporter": "python",
   "pygments_lexer": "ipython3",
   "version": "3.10.6"
  },
  "orig_nbformat": 4,
  "vscode": {
   "interpreter": {
    "hash": "916dbcbb3f70747c44a77c7bcd40155683ae19c65e1c03b4aa3499c5328201f1"
   }
  }
 },
 "nbformat": 4,
 "nbformat_minor": 2
}
