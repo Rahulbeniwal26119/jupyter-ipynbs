{
 "cells": [
  {
   "cell_type": "code",
   "execution_count": null,
   "metadata": {},
   "outputs": [],
   "source": [
    "import sys, os "
   ]
  },
  {
   "cell_type": "code",
   "execution_count": null,
   "metadata": {},
   "outputs": [],
   "source": [
    "sys.getfilesystemencoding()"
   ]
  },
  {
   "cell_type": "code",
   "execution_count": null,
   "metadata": {},
   "outputs": [],
   "source": [
    "with open('jalapeño.txt', 'w') as f:\n",
    "    f.write('jalapeño.txt')"
   ]
  },
  {
   "cell_type": "code",
   "execution_count": null,
   "metadata": {},
   "outputs": [],
   "source": [
    "with open(b'jalape\\xc3\\xb1o.txt', 'rt') as f:\n",
    "    print(f.readlines())"
   ]
  },
  {
   "cell_type": "code",
   "execution_count": null,
   "metadata": {},
   "outputs": [],
   "source": [
    "def bad_file_names(filename):\n",
    "    return repr(filename)[1:-1]\n",
    "\n",
    "# Important recipie if user_created some non system encode  file names \n",
    "for name in os.listdir('.'):\n",
    "    try:        \n",
    "        print(name)\n",
    "    except UnicodeDecodeError:\n",
    "        print(bad_file_names())"
   ]
  },
  {
   "cell_type": "code",
   "execution_count": null,
   "metadata": {},
   "outputs": [],
   "source": [
    "name = 'b\\udce4d.txt'\n",
    "temp = name.encode(sys.getfilesystemencoding(), errors='surrogateescape')\n",
    "print(temp)"
   ]
  },
  {
   "cell_type": "code",
   "execution_count": null,
   "metadata": {},
   "outputs": [],
   "source": [
    "import urllib.request\n",
    "from rich import console \n",
    "import io "
   ]
  },
  {
   "cell_type": "code",
   "execution_count": null,
   "metadata": {},
   "outputs": [],
   "source": [
    "u = urllib.request.urlopen('http://www.python.org')\n",
    "# console = console.Console()\n",
    "# console.print(str(u.read()))\n",
    "# if we have detach the buffer and no new stdout is not set \n",
    "# then print and other utils will raise Exception\n",
    "# detach work in pure python shell only  \n",
    "text = u.read()\n",
    "sys.stdout = io.TextIOWrapper(sys.stdout.detach(), encoding='latin-1')\n",
    "sys.stdout.encoding "
   ]
  },
  {
   "cell_type": "code",
   "execution_count": 22,
   "metadata": {},
   "outputs": [
    {
     "data": {
      "text/plain": [
       "<_io.FileIO name='jalapeño.txt' mode='rb' closefd=True>"
      ]
     },
     "execution_count": 22,
     "metadata": {},
     "output_type": "execute_result"
    }
   ],
   "source": [
    "f = open('jalapeño.txt', 'rt')\n",
    "f.buffer\n",
    "f.buffer.raw "
   ]
  },
  {
   "cell_type": "code",
   "execution_count": 28,
   "metadata": {},
   "outputs": [
    {
     "ename": "UnsupportedOperation",
     "evalue": "not writable",
     "output_type": "error",
     "traceback": [
      "\u001b[0;31m---------------------------------------------------------------------------\u001b[0m",
      "\u001b[0;31mUnsupportedOperation\u001b[0m                      Traceback (most recent call last)",
      "\u001b[1;32m/home/rahulbeniwal/personal/jupyter-ipynbs/files_and_io/files3.ipynb Cell 10\u001b[0m in \u001b[0;36m<cell line: 2>\u001b[0;34m()\u001b[0m\n\u001b[1;32m      <a href='vscode-notebook-cell:/home/rahulbeniwal/personal/jupyter-ipynbs/files_and_io/files3.ipynb#X12sZmlsZQ%3D%3D?line=0'>1</a>\u001b[0m f \u001b[39m=\u001b[39m io\u001b[39m.\u001b[39mTextIOWrapper(f\u001b[39m.\u001b[39mbuffer, encoding\u001b[39m=\u001b[39m\u001b[39m'\u001b[39m\u001b[39mlatin-1\u001b[39m\u001b[39m'\u001b[39m)\n\u001b[0;32m----> <a href='vscode-notebook-cell:/home/rahulbeniwal/personal/jupyter-ipynbs/files_and_io/files3.ipynb#X12sZmlsZQ%3D%3D?line=1'>2</a>\u001b[0m f\u001b[39m.\u001b[39;49mwrite(\u001b[39m\"\u001b[39;49m\u001b[39mhello\u001b[39;49m\u001b[39m\"\u001b[39;49m)\n",
      "\u001b[0;31mUnsupportedOperation\u001b[0m: not writable"
     ]
    }
   ],
   "source": [
    "f = io.TextIOWrapper(f.buffer, encoding='latin-1')\n",
    "f.write(\"hello\")"
   ]
  },
  {
   "cell_type": "markdown",
   "metadata": {},
   "source": [
    "# Level of Files handiling \n",
    "-  l = sys.stdout -> _io.TextIOWrapper -> Unicode or encoded layer\n",
    "    - on applying detach \n",
    "- l1 = sys.stdout.detach() -> _io.BufferedWriter\n",
    "    - on applying detach \n",
    "- l2 = sys.stdout.detach() -> _io.FileIO\n",
    "\n",
    "## Adding levels again \n",
    "- std.stdout -> _io.FileIO\n",
    "- l3 -> io.BufferedWriter(l2)\n",
    "- sys.stdout = io.TextIOWrapper(l3, encoding='utf-8')"
   ]
  },
  {
   "cell_type": "markdown",
   "metadata": {},
   "source": [
    "### Buffer keeps data in binary format for read and write"
   ]
  },
  {
   "cell_type": "code",
   "execution_count": 38,
   "metadata": {},
   "outputs": [],
   "source": [
    "# either if file is opened in binary mode or not\n",
    "file = open('./data.bin', 'a')\n",
    "file.buffer.write(b'Hello World')\n",
    "file.close()"
   ]
  },
  {
   "cell_type": "code",
   "execution_count": 42,
   "metadata": {},
   "outputs": [],
   "source": [
    "# Turning an existing fd into file object \n",
    "fd = os.open('./someflie.bin', os.O_WRONLY | os.O_CREAT)\n",
    "f = open(fd,  'r', closefd=False)\n",
    "f.close()"
   ]
  },
  {
   "cell_type": "code",
   "execution_count": 43,
   "metadata": {},
   "outputs": [],
   "source": [
    "from socket import socket, AF_INET, SOCK_STREAM\n",
    "\n",
    "def echo_client(client_sock, addr):\n",
    "    print(\"Got Connection from\", addr)\n",
    "    \n",
    "    client_in = open(client_sock.fileno(), 'rt', encoding='latin-1', \n",
    "                     closefd=False)\n",
    "    client_out = open(client_sock.fileno(), 'wt', \n",
    "                      encoding='latin-1')\n",
    "    for line in client_in:\n",
    "        client_out.write(line)\n",
    "        client_out.flush()\n",
    "    client_sock.close()\n",
    "\n",
    "def echo_server(address):\n",
    "    sock = socket(AF_INET, SOCK_STREAM)\n",
    "    sock.bind(address)\n",
    "    sock.listen(1)\n",
    "    while True:\n",
    "        client, addr = sock.accept()\n",
    "        echo_client(client, addr )"
   ]
  },
  {
   "cell_type": "code",
   "execution_count": 44,
   "metadata": {},
   "outputs": [],
   "source": [
    "bsdtout = open(sys.stdout.fileno(),'wb', closefd=False)\n",
    "bsdtout.write(b'Hello World')\n",
    "bsdtout.flush()"
   ]
  },
  {
   "cell_type": "code",
   "execution_count": 48,
   "metadata": {},
   "outputs": [
    {
     "name": "stdout",
     "output_type": "stream",
     "text": [
      "Hey Brother"
     ]
    },
    {
     "ename": "AttributeError",
     "evalue": "'OutStream' object has no attribute 'buffer'",
     "output_type": "error",
     "traceback": [
      "\u001b[0;31m---------------------------------------------------------------------------\u001b[0m",
      "\u001b[0;31mAttributeError\u001b[0m                            Traceback (most recent call last)",
      "\u001b[1;32m/home/rahulbeniwal/personal/jupyter-ipynbs/files_and_io/files3.ipynb Cell 17\u001b[0m in \u001b[0;36m<cell line: 2>\u001b[0;34m()\u001b[0m\n\u001b[1;32m      <a href='vscode-notebook-cell:/home/rahulbeniwal/personal/jupyter-ipynbs/files_and_io/files3.ipynb#X24sZmlsZQ%3D%3D?line=0'>1</a>\u001b[0m c \u001b[39m=\u001b[39m sys\u001b[39m.\u001b[39mstdout\u001b[39m.\u001b[39mwrite(\u001b[39m\"\u001b[39m\u001b[39mHey Brother\u001b[39m\u001b[39m\"\u001b[39m)\n\u001b[0;32m----> <a href='vscode-notebook-cell:/home/rahulbeniwal/personal/jupyter-ipynbs/files_and_io/files3.ipynb#X24sZmlsZQ%3D%3D?line=1'>2</a>\u001b[0m sys\u001b[39m.\u001b[39;49mstdout\u001b[39m.\u001b[39;49mbuffer\u001b[39m.\u001b[39mwrite(\u001b[39mb\u001b[39m\u001b[39m'\u001b[39m\u001b[39mHello World\u001b[39m\u001b[39m'\u001b[39m)\n",
      "\u001b[0;31mAttributeError\u001b[0m: 'OutStream' object has no attribute 'buffer'"
     ]
    }
   ],
   "source": [
    "c = sys.stdout.write(\"Hey Brother\")\n",
    "sys.stdout.buffer.write(b'Hello World')"
   ]
  },
  {
   "cell_type": "code",
   "execution_count": 65,
   "metadata": {},
   "outputs": [
    {
     "name": "stdout",
     "output_type": "stream",
     "text": [
      "146\n",
      "0 Hello World\n",
      "Testing \n",
      "\n"
     ]
    }
   ],
   "source": [
    "from tempfile import TemporaryFile\n",
    "\n",
    "with TemporaryFile('w+t') as f:\n",
    "    # w+ suppoer both read and write\n",
    "    f.write(\"Hello World\\n\")\n",
    "    f.write(\"Testing \\n\")\n",
    "    print(f.name)\n",
    "    print(f.seek(0), f.read())\n",
    "    "
   ]
  },
  {
   "cell_type": "code",
   "execution_count": 60,
   "metadata": {},
   "outputs": [
    {
     "name": "stdout",
     "output_type": "stream",
     "text": [
      "/tmp/tmpo5tuzpmf 0 Hello World\n",
      "Testing \n",
      "\n"
     ]
    }
   ],
   "source": [
    "from tempfile import NamedTemporaryFile \n",
    "# with NamedTemporaryFile('w+t') as f:\n",
    "f = NamedTemporaryFile('w+t', delete=False) # default is delete=True\n",
    "f.write(\"Hello World\\n\")\n",
    "f.write(\"Testing \\n\")\n",
    "print(f.name, f.seek(0), f.read())\n",
    "f.close()"
   ]
  },
  {
   "cell_type": "code",
   "execution_count": 62,
   "metadata": {},
   "outputs": [
    {
     "name": "stdout",
     "output_type": "stream",
     "text": [
      "Dirname is /tmp/tmp8vwgmx_6\n"
     ]
    }
   ],
   "source": [
    "from tempfile import TemporaryDirectory\n",
    "with TemporaryDirectory() as dirname:\n",
    "    print(\"Dirname is\", dirname)\n",
    "    "
   ]
  },
  {
   "cell_type": "code",
   "execution_count": 70,
   "metadata": {},
   "outputs": [
    {
     "data": {
      "text/plain": [
       "'/tmp/tmp_kjlt4q1'"
      ]
     },
     "execution_count": 70,
     "metadata": {},
     "output_type": "execute_result"
    }
   ],
   "source": [
    "from fileinput import close\n",
    "import tempfile\n",
    "\n",
    "\n",
    "tempfile.mkdtemp()"
   ]
  }
 ],
 "metadata": {
  "kernelspec": {
   "display_name": "Python 3.8.13 64-bit",
   "language": "python",
   "name": "python3"
  },
  "language_info": {
   "codemirror_mode": {
    "name": "ipython",
    "version": 3
   },
   "file_extension": ".py",
   "mimetype": "text/x-python",
   "name": "python",
   "nbconvert_exporter": "python",
   "pygments_lexer": "ipython3",
   "version": "3.8.13"
  },
  "orig_nbformat": 4,
  "vscode": {
   "interpreter": {
    "hash": "df0893f56f349688326838aaeea0de204df53a132722cbd565e54b24a8fec5f6"
   }
  }
 },
 "nbformat": 4,
 "nbformat_minor": 2
}
